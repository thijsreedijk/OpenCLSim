{
 "cells": [
  {
   "cell_type": "code",
   "execution_count": 1,
   "metadata": {},
   "outputs": [],
   "source": [
    "import dores\n",
    "import pandas as pd\n",
    "pd.set_option('max_colwidth', -1)\n",
    "pd.set_option('display.max_rows', 1000)"
   ]
  },
  {
   "cell_type": "code",
   "execution_count": 2,
   "metadata": {},
   "outputs": [
    {
     "output_type": "execute_result",
     "data": {
      "text/plain": [
       "7.978659217685186"
      ]
     },
     "metadata": {},
     "execution_count": 2
    }
   ],
   "source": [
    "st_brieuc = dores.DiscreteEventSimulation()\n",
    "entities = st_brieuc.create_entities()\n",
    "st_brieuc.start_simulation()\n",
    "st_brieuc.get_project_length()"
   ]
  },
  {
   "cell_type": "code",
   "execution_count": null,
   "metadata": {},
   "outputs": [],
   "source": []
  }
 ],
 "metadata": {
  "kernelspec": {
   "display_name": "VanOord",
   "language": "python",
   "name": "vanoord"
  },
  "language_info": {
   "codemirror_mode": {
    "name": "ipython",
    "version": 3
   },
   "file_extension": ".py",
   "mimetype": "text/x-python",
   "name": "python",
   "nbconvert_exporter": "python",
   "pygments_lexer": "ipython3",
   "version": "3.8.5-final"
  }
 },
 "nbformat": 4,
 "nbformat_minor": 4
}
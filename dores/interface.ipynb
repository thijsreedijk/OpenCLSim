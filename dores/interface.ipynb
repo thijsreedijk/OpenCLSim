{
 "cells": [
  {
   "cell_type": "code",
   "execution_count": 1,
   "metadata": {},
   "outputs": [],
   "source": [
    "import dores\n",
    "import pandas as pd\n",
    "pd.set_option('max_colwidth', -1)"
   ]
  },
  {
   "cell_type": "code",
   "execution_count": 2,
   "metadata": {},
   "outputs": [
    {
     "output_type": "execute_result",
     "data": {
      "text/plain": [
       "            Timestamp      ID  \\\n",
       "0 2021-01-01 00:00:00  AEOLUS   \n",
       "1 2021-01-01 01:00:00  AEOLUS   \n",
       "2 2021-01-01 01:00:00  AEOLUS   \n",
       "3 2021-01-01 01:00:00  AEOLUS   \n",
       "4 2021-01-01 01:00:00  AEOLUS   \n",
       "5 2021-01-01 02:00:00  AEOLUS   \n",
       "6 2021-01-01 02:00:00  AEOLUS   \n",
       "7 2021-01-01 03:00:00  AEOLUS   \n",
       "\n",
       "                                                    ActivityDescription  \\\n",
       "0  Navigate from SAINT BRIEUC OFFSHORE WIND FARM to CHERBOURG-OCTEVILLE   \n",
       "1  Navigate from SAINT BRIEUC OFFSHORE WIND FARM to CHERBOURG-OCTEVILLE   \n",
       "2  Request berth at CHERBOURG-OCTEVILLE                                   \n",
       "3  Request berth at CHERBOURG-OCTEVILLE                                   \n",
       "4  Load component from CHERBOURG-OCTEVILLE onto AEOLUS                    \n",
       "5  Load component from CHERBOURG-OCTEVILLE onto AEOLUS                    \n",
       "6  Navigate from CHERBOURG-OCTEVILLE to SAINT BRIEUC OFFSHORE WIND FARM   \n",
       "7  Navigate from CHERBOURG-OCTEVILLE to SAINT BRIEUC OFFSHORE WIND FARM   \n",
       "\n",
       "  ActivityState  ComponentsInStock  ComponentsOnboard  ComponentsInstalled  \n",
       "0  INITIATED     10                 0                  0                    \n",
       "1  COMPLETED     10                 0                  0                    \n",
       "2  REQUESTED     10                 0                  0                    \n",
       "3  GRANTED       10                 0                  0                    \n",
       "4  INITIATED     10                 0                  0                    \n",
       "5  COMPLETED     10                 0                  0                    \n",
       "6  INITIATED     10                 0                  0                    \n",
       "7  COMPLETED     10                 0                  0                    "
      ],
      "text/html": "<div>\n<style scoped>\n    .dataframe tbody tr th:only-of-type {\n        vertical-align: middle;\n    }\n\n    .dataframe tbody tr th {\n        vertical-align: top;\n    }\n\n    .dataframe thead th {\n        text-align: right;\n    }\n</style>\n<table border=\"1\" class=\"dataframe\">\n  <thead>\n    <tr style=\"text-align: right;\">\n      <th></th>\n      <th>Timestamp</th>\n      <th>ID</th>\n      <th>ActivityDescription</th>\n      <th>ActivityState</th>\n      <th>ComponentsInStock</th>\n      <th>ComponentsOnboard</th>\n      <th>ComponentsInstalled</th>\n    </tr>\n  </thead>\n  <tbody>\n    <tr>\n      <th>0</th>\n      <td>2021-01-01 00:00:00</td>\n      <td>AEOLUS</td>\n      <td>Navigate from SAINT BRIEUC OFFSHORE WIND FARM to CHERBOURG-OCTEVILLE</td>\n      <td>INITIATED</td>\n      <td>10</td>\n      <td>0</td>\n      <td>0</td>\n    </tr>\n    <tr>\n      <th>1</th>\n      <td>2021-01-01 01:00:00</td>\n      <td>AEOLUS</td>\n      <td>Navigate from SAINT BRIEUC OFFSHORE WIND FARM to CHERBOURG-OCTEVILLE</td>\n      <td>COMPLETED</td>\n      <td>10</td>\n      <td>0</td>\n      <td>0</td>\n    </tr>\n    <tr>\n      <th>2</th>\n      <td>2021-01-01 01:00:00</td>\n      <td>AEOLUS</td>\n      <td>Request berth at CHERBOURG-OCTEVILLE</td>\n      <td>REQUESTED</td>\n      <td>10</td>\n      <td>0</td>\n      <td>0</td>\n    </tr>\n    <tr>\n      <th>3</th>\n      <td>2021-01-01 01:00:00</td>\n      <td>AEOLUS</td>\n      <td>Request berth at CHERBOURG-OCTEVILLE</td>\n      <td>GRANTED</td>\n      <td>10</td>\n      <td>0</td>\n      <td>0</td>\n    </tr>\n    <tr>\n      <th>4</th>\n      <td>2021-01-01 01:00:00</td>\n      <td>AEOLUS</td>\n      <td>Load component from CHERBOURG-OCTEVILLE onto AEOLUS</td>\n      <td>INITIATED</td>\n      <td>10</td>\n      <td>0</td>\n      <td>0</td>\n    </tr>\n    <tr>\n      <th>5</th>\n      <td>2021-01-01 02:00:00</td>\n      <td>AEOLUS</td>\n      <td>Load component from CHERBOURG-OCTEVILLE onto AEOLUS</td>\n      <td>COMPLETED</td>\n      <td>10</td>\n      <td>0</td>\n      <td>0</td>\n    </tr>\n    <tr>\n      <th>6</th>\n      <td>2021-01-01 02:00:00</td>\n      <td>AEOLUS</td>\n      <td>Navigate from CHERBOURG-OCTEVILLE to SAINT BRIEUC OFFSHORE WIND FARM</td>\n      <td>INITIATED</td>\n      <td>10</td>\n      <td>0</td>\n      <td>0</td>\n    </tr>\n    <tr>\n      <th>7</th>\n      <td>2021-01-01 03:00:00</td>\n      <td>AEOLUS</td>\n      <td>Navigate from CHERBOURG-OCTEVILLE to SAINT BRIEUC OFFSHORE WIND FARM</td>\n      <td>COMPLETED</td>\n      <td>10</td>\n      <td>0</td>\n      <td>0</td>\n    </tr>\n  </tbody>\n</table>\n</div>"
     },
     "metadata": {},
     "execution_count": 2
    }
   ],
   "source": [
    "st_brieuc = dores.DiscreteEventSimulation()\n",
    "entities = st_brieuc.create_entities()\n",
    "st_brieuc.start_simulation()\n",
    "st_brieuc.get_event_log()"
   ]
  },
  {
   "cell_type": "code",
   "execution_count": null,
   "metadata": {},
   "outputs": [],
   "source": []
  }
 ],
 "metadata": {
  "kernelspec": {
   "display_name": "VanOord",
   "language": "python",
   "name": "vanoord"
  },
  "language_info": {
   "codemirror_mode": {
    "name": "ipython",
    "version": 3
   },
   "file_extension": ".py",
   "mimetype": "text/x-python",
   "name": "python",
   "nbconvert_exporter": "python",
   "pygments_lexer": "ipython3",
   "version": "3.8.5-final"
  }
 },
 "nbformat": 4,
 "nbformat_minor": 4
}
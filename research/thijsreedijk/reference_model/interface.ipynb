{
 "metadata": {
  "language_info": {
   "codemirror_mode": {
    "name": "ipython",
    "version": 3
   },
   "file_extension": ".py",
   "mimetype": "text/x-python",
   "name": "python",
   "nbconvert_exporter": "python",
   "pygments_lexer": "ipython3",
   "version": "3.8.5-final"
  },
  "orig_nbformat": 2,
  "kernelspec": {
   "name": "vanoord",
   "display_name": "VanOord",
   "language": "python"
  }
 },
 "nbformat": 4,
 "nbformat_minor": 2,
 "cells": [
  {
   "cell_type": "code",
   "execution_count": 40,
   "metadata": {},
   "outputs": [],
   "source": [
    "from reference_model import ReferenceModel\n",
    "import datetime\n",
    "import numpy as np"
   ]
  },
  {
   "cell_type": "code",
   "execution_count": 41,
   "metadata": {},
   "outputs": [],
   "source": [
    "sim = ReferenceModel(start_date=datetime.datetime(2010, 1, 1), size=10)"
   ]
  },
  {
   "cell_type": "code",
   "execution_count": 42,
   "metadata": {},
   "outputs": [
    {
     "output_type": "stream",
     "name": "stderr",
     "text": [
      "WARNING:root:openclsim.plugins.HasOperationalLimits: Operational Limits were not provided to: TRANSFER COMPONENT TO DECK.\n",
      "WARNING:root:openclsim.plugins.HasRequestWindowPluginActivity: The offshore environment was not defined for: TRANSFER COMPONENT TO DECK.\n"
     ]
    },
    {
     "output_type": "execute_result",
     "data": {
      "text/plain": [
       "'SUCCESSFUL.'"
      ]
     },
     "metadata": {},
     "execution_count": 42
    }
   ],
   "source": [
    "sim.restart_simulation()"
   ]
  },
  {
   "cell_type": "code",
   "execution_count": null,
   "metadata": {},
   "outputs": [],
   "source": []
  }
 ]
}
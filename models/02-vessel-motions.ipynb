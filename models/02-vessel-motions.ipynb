{
 "metadata": {
  "language_info": {
   "codemirror_mode": {
    "name": "ipython",
    "version": 3
   },
   "file_extension": ".py",
   "mimetype": "text/x-python",
   "name": "python",
   "nbconvert_exporter": "python",
   "pygments_lexer": "ipython3",
   "version": "3.9.2"
  },
  "orig_nbformat": 2,
  "kernelspec": {
   "name": "python392jvsc74a57bd0ff0b7ed713ddbd18bc38f061c86550abad537aaba25b9f837b6448d675497d76",
   "display_name": "Python 3.9.2 64-bit ('VanOord': conda)"
  }
 },
 "nbformat": 4,
 "nbformat_minor": 2,
 "cells": [
  {
   "cell_type": "code",
   "execution_count": 2,
   "metadata": {},
   "outputs": [],
   "source": [
    "from hydro_model import HydroModel\n",
    "import plotly.graph_objects as go\n",
    "import numpy as np\n",
    "# import logging\n",
    "# logging.basicConfig(level=\"DEBUG\")"
   ]
  },
  {
   "cell_type": "code",
   "execution_count": 3,
   "metadata": {},
   "outputs": [],
   "source": [
    "X = HydroModel(\n",
    "    parse_raos=\"./data/preprocessed/MPI_Adventure_RAO.csv\",\n",
    "    parse_waves=\"./data/raw/HKZ_3.970372E_52.014651N.csv\"\n",
    ")"
   ]
  },
  {
   "cell_type": "code",
   "execution_count": 29,
   "metadata": {},
   "outputs": [],
   "source": [
    "resp = X.response_motions(method=\"mean-wave-dir\", type=\"accelerations\")\n",
    "# resp = X.response_motions(method=\"smallest\", type=\"displacements\")"
   ]
  },
  {
   "cell_type": "code",
   "execution_count": 30,
   "metadata": {},
   "outputs": [
    {
     "output_type": "execute_result",
     "data": {
      "text/plain": [
       "                     RAOSurgeAmp  RAOSurgePhase  RAOSwayAmp  RAOSwayPhase  \\\n",
       "datetime                                                                    \n",
       "1990-01-01 00:00:00     0.036226       3.187929    0.022438     -3.130977   \n",
       "1990-01-01 01:00:00     0.034338       3.200346    0.029802     -3.141728   \n",
       "1990-01-01 02:00:00     0.026061       3.202911    0.044222     -3.137933   \n",
       "1990-01-01 03:00:00     0.013127       3.318343    0.054021     -3.213086   \n",
       "1990-01-01 04:00:00     0.009847       3.595907    0.055652     -3.254146   \n",
       "...                          ...            ...         ...           ...   \n",
       "2019-12-31 19:00:00     0.041016      42.760574    0.009588    -49.652967   \n",
       "2019-12-31 20:00:00     0.045944      -9.267145    0.014993   -465.091474   \n",
       "2019-12-31 21:00:00     0.048128      78.558006    0.014796   -244.604386   \n",
       "2019-12-31 22:00:00     0.048938    -184.347071    0.016729    129.544761   \n",
       "2019-12-31 23:00:00     0.048989     121.954329    0.018579   -363.580218   \n",
       "\n",
       "                     RAOHeaveAmp  RAOHeavePhase  RAORollAmp  RAORollPhase  \\\n",
       "datetime                                                                    \n",
       "1990-01-01 00:00:00     0.022127       0.106668    0.026757     -3.519724   \n",
       "1990-01-01 01:00:00     0.024825       0.095208    0.037805     -3.465262   \n",
       "1990-01-01 02:00:00     0.030703       0.079749    0.061211     -3.292431   \n",
       "1990-01-01 03:00:00     0.035320       0.075963    0.079112     -3.195474   \n",
       "1990-01-01 04:00:00     0.036374       0.077809    0.083919     -3.193777   \n",
       "...                          ...            ...         ...           ...   \n",
       "2019-12-31 19:00:00     0.093099     -47.897533    0.049479     26.648353   \n",
       "2019-12-31 20:00:00     0.095665     -76.073707    0.056693     11.661958   \n",
       "2019-12-31 21:00:00     0.095694     277.370667    0.053735    369.695724   \n",
       "2019-12-31 22:00:00     0.094416    -299.406974    0.051692   -215.649940   \n",
       "2019-12-31 23:00:00     0.092242      -9.208560    0.050873    111.452916   \n",
       "\n",
       "                     RAOPitchAmp  RAOPitchPhase  RAOYawAmp  RAOYawPhase  \n",
       "datetime                                                                 \n",
       "1990-01-01 00:00:00     0.041389      -3.369029   0.023612     0.073494  \n",
       "1990-01-01 01:00:00     0.038852      -3.357679   0.026914     0.069294  \n",
       "1990-01-01 02:00:00     0.028447      -3.298710   0.024641     0.051877  \n",
       "1990-01-01 03:00:00     0.014242      -3.367821   0.013175     0.027753  \n",
       "1990-01-01 04:00:00     0.010860      -3.615213   0.009984    -0.355455  \n",
       "...                          ...            ...        ...          ...  \n",
       "2019-12-31 19:00:00     0.178526      37.310157   0.020271    -6.513507  \n",
       "2019-12-31 20:00:00     0.174968      12.803206   0.019473  -229.268625  \n",
       "2019-12-31 21:00:00     0.175160     355.565614   0.018515   183.550956  \n",
       "2019-12-31 22:00:00     0.172649    -201.686688   0.013908  -316.082172  \n",
       "2019-12-31 23:00:00     0.171427      75.661170   0.012886   -17.838249  \n",
       "\n",
       "[262968 rows x 12 columns]"
      ],
      "text/html": "<div>\n<style scoped>\n    .dataframe tbody tr th:only-of-type {\n        vertical-align: middle;\n    }\n\n    .dataframe tbody tr th {\n        vertical-align: top;\n    }\n\n    .dataframe thead th {\n        text-align: right;\n    }\n</style>\n<table border=\"1\" class=\"dataframe\">\n  <thead>\n    <tr style=\"text-align: right;\">\n      <th></th>\n      <th>RAOSurgeAmp</th>\n      <th>RAOSurgePhase</th>\n      <th>RAOSwayAmp</th>\n      <th>RAOSwayPhase</th>\n      <th>RAOHeaveAmp</th>\n      <th>RAOHeavePhase</th>\n      <th>RAORollAmp</th>\n      <th>RAORollPhase</th>\n      <th>RAOPitchAmp</th>\n      <th>RAOPitchPhase</th>\n      <th>RAOYawAmp</th>\n      <th>RAOYawPhase</th>\n    </tr>\n    <tr>\n      <th>datetime</th>\n      <th></th>\n      <th></th>\n      <th></th>\n      <th></th>\n      <th></th>\n      <th></th>\n      <th></th>\n      <th></th>\n      <th></th>\n      <th></th>\n      <th></th>\n      <th></th>\n    </tr>\n  </thead>\n  <tbody>\n    <tr>\n      <th>1990-01-01 00:00:00</th>\n      <td>0.036226</td>\n      <td>3.187929</td>\n      <td>0.022438</td>\n      <td>-3.130977</td>\n      <td>0.022127</td>\n      <td>0.106668</td>\n      <td>0.026757</td>\n      <td>-3.519724</td>\n      <td>0.041389</td>\n      <td>-3.369029</td>\n      <td>0.023612</td>\n      <td>0.073494</td>\n    </tr>\n    <tr>\n      <th>1990-01-01 01:00:00</th>\n      <td>0.034338</td>\n      <td>3.200346</td>\n      <td>0.029802</td>\n      <td>-3.141728</td>\n      <td>0.024825</td>\n      <td>0.095208</td>\n      <td>0.037805</td>\n      <td>-3.465262</td>\n      <td>0.038852</td>\n      <td>-3.357679</td>\n      <td>0.026914</td>\n      <td>0.069294</td>\n    </tr>\n    <tr>\n      <th>1990-01-01 02:00:00</th>\n      <td>0.026061</td>\n      <td>3.202911</td>\n      <td>0.044222</td>\n      <td>-3.137933</td>\n      <td>0.030703</td>\n      <td>0.079749</td>\n      <td>0.061211</td>\n      <td>-3.292431</td>\n      <td>0.028447</td>\n      <td>-3.298710</td>\n      <td>0.024641</td>\n      <td>0.051877</td>\n    </tr>\n    <tr>\n      <th>1990-01-01 03:00:00</th>\n      <td>0.013127</td>\n      <td>3.318343</td>\n      <td>0.054021</td>\n      <td>-3.213086</td>\n      <td>0.035320</td>\n      <td>0.075963</td>\n      <td>0.079112</td>\n      <td>-3.195474</td>\n      <td>0.014242</td>\n      <td>-3.367821</td>\n      <td>0.013175</td>\n      <td>0.027753</td>\n    </tr>\n    <tr>\n      <th>1990-01-01 04:00:00</th>\n      <td>0.009847</td>\n      <td>3.595907</td>\n      <td>0.055652</td>\n      <td>-3.254146</td>\n      <td>0.036374</td>\n      <td>0.077809</td>\n      <td>0.083919</td>\n      <td>-3.193777</td>\n      <td>0.010860</td>\n      <td>-3.615213</td>\n      <td>0.009984</td>\n      <td>-0.355455</td>\n    </tr>\n    <tr>\n      <th>...</th>\n      <td>...</td>\n      <td>...</td>\n      <td>...</td>\n      <td>...</td>\n      <td>...</td>\n      <td>...</td>\n      <td>...</td>\n      <td>...</td>\n      <td>...</td>\n      <td>...</td>\n      <td>...</td>\n      <td>...</td>\n    </tr>\n    <tr>\n      <th>2019-12-31 19:00:00</th>\n      <td>0.041016</td>\n      <td>42.760574</td>\n      <td>0.009588</td>\n      <td>-49.652967</td>\n      <td>0.093099</td>\n      <td>-47.897533</td>\n      <td>0.049479</td>\n      <td>26.648353</td>\n      <td>0.178526</td>\n      <td>37.310157</td>\n      <td>0.020271</td>\n      <td>-6.513507</td>\n    </tr>\n    <tr>\n      <th>2019-12-31 20:00:00</th>\n      <td>0.045944</td>\n      <td>-9.267145</td>\n      <td>0.014993</td>\n      <td>-465.091474</td>\n      <td>0.095665</td>\n      <td>-76.073707</td>\n      <td>0.056693</td>\n      <td>11.661958</td>\n      <td>0.174968</td>\n      <td>12.803206</td>\n      <td>0.019473</td>\n      <td>-229.268625</td>\n    </tr>\n    <tr>\n      <th>2019-12-31 21:00:00</th>\n      <td>0.048128</td>\n      <td>78.558006</td>\n      <td>0.014796</td>\n      <td>-244.604386</td>\n      <td>0.095694</td>\n      <td>277.370667</td>\n      <td>0.053735</td>\n      <td>369.695724</td>\n      <td>0.175160</td>\n      <td>355.565614</td>\n      <td>0.018515</td>\n      <td>183.550956</td>\n    </tr>\n    <tr>\n      <th>2019-12-31 22:00:00</th>\n      <td>0.048938</td>\n      <td>-184.347071</td>\n      <td>0.016729</td>\n      <td>129.544761</td>\n      <td>0.094416</td>\n      <td>-299.406974</td>\n      <td>0.051692</td>\n      <td>-215.649940</td>\n      <td>0.172649</td>\n      <td>-201.686688</td>\n      <td>0.013908</td>\n      <td>-316.082172</td>\n    </tr>\n    <tr>\n      <th>2019-12-31 23:00:00</th>\n      <td>0.048989</td>\n      <td>121.954329</td>\n      <td>0.018579</td>\n      <td>-363.580218</td>\n      <td>0.092242</td>\n      <td>-9.208560</td>\n      <td>0.050873</td>\n      <td>111.452916</td>\n      <td>0.171427</td>\n      <td>75.661170</td>\n      <td>0.012886</td>\n      <td>-17.838249</td>\n    </tr>\n  </tbody>\n</table>\n<p>262968 rows × 12 columns</p>\n</div>"
     },
     "metadata": {},
     "execution_count": 30
    }
   ],
   "source": [
    "resp"
   ]
  },
  {
   "cell_type": "code",
   "execution_count": null,
   "metadata": {},
   "outputs": [],
   "source": []
  }
 ]
}
{
 "metadata": {
  "language_info": {
   "codemirror_mode": {
    "name": "ipython",
    "version": 3
   },
   "file_extension": ".py",
   "mimetype": "text/x-python",
   "name": "python",
   "nbconvert_exporter": "python",
   "pygments_lexer": "ipython3",
   "version": "3.9.2"
  },
  "orig_nbformat": 2,
  "kernelspec": {
   "name": "python392jvsc74a57bd0ff0b7ed713ddbd18bc38f061c86550abad537aaba25b9f837b6448d675497d76",
   "display_name": "Python 3.9.2 64-bit ('VanOord': conda)"
  }
 },
 "nbformat": 4,
 "nbformat_minor": 2,
 "cells": [
  {
   "cell_type": "code",
   "execution_count": 2,
   "metadata": {},
   "outputs": [],
   "source": [
    "import pandas as pd\n",
    "import xarray as xr\n",
    "import numpy as np\n",
    "import datetime as dt\n",
    "from itertools import product\n",
    "\n",
    "from multiprocessing import Pool, cpu_count\n",
    "from tqdm.notebook import tqdm\n",
    "\n",
    "from weather_resource import vector_magnitude"
   ]
  },
  {
   "cell_type": "code",
   "execution_count": 3,
   "metadata": {},
   "outputs": [],
   "source": [
    "# Define data clean-up functions.\n",
    "def reset_direction(dataframe):\n",
    "    dataframe[\"dir\"] = dataframe[\"dir\"] % 360\n",
    "    return dataframe\n",
    "\n",
    "\n",
    "def pandas_to_xarray(dataframe):\n",
    "\n",
    "    # Simplify variable name.\n",
    "    df = dataframe\n",
    "\n",
    "    # Define columns of interest.\n",
    "    DOFs = [\n",
    "        \"RAOSurgeAmp\",\n",
    "        \"RAOSurgePhase\",\n",
    "        \"RAOSwayAmp\",\n",
    "        \"RAOSwayPhase\",\n",
    "        \"RAOHeaveAmp\",\n",
    "        \"RAOHeavePhase\",\n",
    "        \"RAORollAmp\",\n",
    "        \"RAORollPhase\",\n",
    "        \"RAOPitchAmp\",\n",
    "        \"RAOPitchPhase\",\n",
    "        \"RAOYawAmp\",\n",
    "        \"RAOYawPhase\",\n",
    "    ]\n",
    "\n",
    "    # Separate dataframe by degree of freedom.\n",
    "    dfs = [df[DOF] for DOF in DOFs]\n",
    "\n",
    "    # Create xarray.DataArray\n",
    "    da = xr.DataArray(\n",
    "        data=dfs,\n",
    "        dims=[\"DOF\", \"freq\", \"dir\"],\n",
    "        coords={\n",
    "            \"DOF\": DOFs,\n",
    "            \"freq\": dfs[0].index.values,\n",
    "            \"dir\": dfs[0].columns.values\n",
    "        }\n",
    "    )\n",
    "\n",
    "    return da"
   ]
  },
  {
   "cell_type": "code",
   "execution_count": null,
   "metadata": {},
   "outputs": [],
   "source": []
  },
  {
   "cell_type": "code",
   "execution_count": 4,
   "metadata": {},
   "outputs": [],
   "source": [
    "# Apply clean-up and convert to xarray.DataArray.\n",
    "df = (\n",
    "    pd.read_csv(\"./data/preprocessed/MPI_Adventure_RAO.csv\")\n",
    "    .pipe(reset_direction)\n",
    "    .set_index([\"RAOPeriodOrFreq\", \"dir\"])\n",
    "    .unstack()\n",
    "    .pipe(pandas_to_xarray)\n",
    ")"
   ]
  },
  {
   "cell_type": "code",
   "execution_count": 5,
   "metadata": {},
   "outputs": [],
   "source": [
    "# Import wave data.\n",
    "waves = pd.read_csv(\n",
    "    \"./data/raw/HKZ_3.970372E_52.014651N.csv\",\n",
    "    skiprows=[0],\n",
    "    parse_dates={\"datetime\": [\"YYYY\", \"M\", \"D\", \"HH\", \"MM\", \"SS\"]},\n",
    "    date_parser=lambda x: dt.datetime.strptime(x, \"%Y %m %d %H %M %S\")\n",
    ").set_index(\"datetime\").loc[\"2019-01-01\": \"2019-01-04\"]"
   ]
  },
  {
   "cell_type": "code",
   "execution_count": 6,
   "metadata": {},
   "outputs": [
    {
     "output_type": "execute_result",
     "data": {
      "text/plain": [
       "<xarray.Dataset>\n",
       "Dimensions:         (DOF: 12, dir: 36, freq: 100, time: 96, wave_parameter: 21)\n",
       "Coordinates:\n",
       "  * DOF             (DOF) <U13 'RAOSurgeAmp' 'RAOSurgePhase' ... 'RAOYawPhase'\n",
       "  * freq            (freq) float64 2.374 2.387 2.4 2.413 ... 31.58 42.03 62.83\n",
       "  * dir             (dir) float64 0.0 10.0 20.0 30.0 ... 320.0 330.0 340.0 350.0\n",
       "  * time            (time) datetime64[ns] 2019-01-01 ... 2019-01-04T23:00:00\n",
       "  * wave_parameter  (wave_parameter) object 'Hm0' 'PWD' 'Tp' ... 'MWDS' 'DSDS'\n",
       "Data variables:\n",
       "    launch_rao      (DOF, freq, dir) float64 0.002 0.001 0.0 ... 0.422 0.451\n",
       "    wave_data       (time, wave_parameter) float64 1.343 281.0 ... 340.2 39.94"
      ],
      "text/html": "<div><svg style=\"position: absolute; width: 0; height: 0; overflow: hidden\">\n<defs>\n<symbol id=\"icon-database\" viewBox=\"0 0 32 32\">\n<path d=\"M16 0c-8.837 0-16 2.239-16 5v4c0 2.761 7.163 5 16 5s16-2.239 16-5v-4c0-2.761-7.163-5-16-5z\"></path>\n<path d=\"M16 17c-8.837 0-16-2.239-16-5v6c0 2.761 7.163 5 16 5s16-2.239 16-5v-6c0 2.761-7.163 5-16 5z\"></path>\n<path d=\"M16 26c-8.837 0-16-2.239-16-5v6c0 2.761 7.163 5 16 5s16-2.239 16-5v-6c0 2.761-7.163 5-16 5z\"></path>\n</symbol>\n<symbol id=\"icon-file-text2\" viewBox=\"0 0 32 32\">\n<path d=\"M28.681 7.159c-0.694-0.947-1.662-2.053-2.724-3.116s-2.169-2.030-3.116-2.724c-1.612-1.182-2.393-1.319-2.841-1.319h-15.5c-1.378 0-2.5 1.121-2.5 2.5v27c0 1.378 1.122 2.5 2.5 2.5h23c1.378 0 2.5-1.122 2.5-2.5v-19.5c0-0.448-0.137-1.23-1.319-2.841zM24.543 5.457c0.959 0.959 1.712 1.825 2.268 2.543h-4.811v-4.811c0.718 0.556 1.584 1.309 2.543 2.268zM28 29.5c0 0.271-0.229 0.5-0.5 0.5h-23c-0.271 0-0.5-0.229-0.5-0.5v-27c0-0.271 0.229-0.5 0.5-0.5 0 0 15.499-0 15.5 0v7c0 0.552 0.448 1 1 1h7v19.5z\"></path>\n<path d=\"M23 26h-14c-0.552 0-1-0.448-1-1s0.448-1 1-1h14c0.552 0 1 0.448 1 1s-0.448 1-1 1z\"></path>\n<path d=\"M23 22h-14c-0.552 0-1-0.448-1-1s0.448-1 1-1h14c0.552 0 1 0.448 1 1s-0.448 1-1 1z\"></path>\n<path d=\"M23 18h-14c-0.552 0-1-0.448-1-1s0.448-1 1-1h14c0.552 0 1 0.448 1 1s-0.448 1-1 1z\"></path>\n</symbol>\n</defs>\n</svg>\n<style>/* CSS stylesheet for displaying xarray objects in jupyterlab.\n *\n */\n\n:root {\n  --xr-font-color0: var(--jp-content-font-color0, rgba(0, 0, 0, 1));\n  --xr-font-color2: var(--jp-content-font-color2, rgba(0, 0, 0, 0.54));\n  --xr-font-color3: var(--jp-content-font-color3, rgba(0, 0, 0, 0.38));\n  --xr-border-color: var(--jp-border-color2, #e0e0e0);\n  --xr-disabled-color: var(--jp-layout-color3, #bdbdbd);\n  --xr-background-color: var(--jp-layout-color0, white);\n  --xr-background-color-row-even: var(--jp-layout-color1, white);\n  --xr-background-color-row-odd: var(--jp-layout-color2, #eeeeee);\n}\n\nhtml[theme=dark],\nbody.vscode-dark {\n  --xr-font-color0: rgba(255, 255, 255, 1);\n  --xr-font-color2: rgba(255, 255, 255, 0.54);\n  --xr-font-color3: rgba(255, 255, 255, 0.38);\n  --xr-border-color: #1F1F1F;\n  --xr-disabled-color: #515151;\n  --xr-background-color: #111111;\n  --xr-background-color-row-even: #111111;\n  --xr-background-color-row-odd: #313131;\n}\n\n.xr-wrap {\n  display: block;\n  min-width: 300px;\n  max-width: 700px;\n}\n\n.xr-text-repr-fallback {\n  /* fallback to plain text repr when CSS is not injected (untrusted notebook) */\n  display: none;\n}\n\n.xr-header {\n  padding-top: 6px;\n  padding-bottom: 6px;\n  margin-bottom: 4px;\n  border-bottom: solid 1px var(--xr-border-color);\n}\n\n.xr-header > div,\n.xr-header > ul {\n  display: inline;\n  margin-top: 0;\n  margin-bottom: 0;\n}\n\n.xr-obj-type,\n.xr-array-name {\n  margin-left: 2px;\n  margin-right: 10px;\n}\n\n.xr-obj-type {\n  color: var(--xr-font-color2);\n}\n\n.xr-sections {\n  padding-left: 0 !important;\n  display: grid;\n  grid-template-columns: 150px auto auto 1fr 20px 20px;\n}\n\n.xr-section-item {\n  display: contents;\n}\n\n.xr-section-item input {\n  display: none;\n}\n\n.xr-section-item input + label {\n  color: var(--xr-disabled-color);\n}\n\n.xr-section-item input:enabled + label {\n  cursor: pointer;\n  color: var(--xr-font-color2);\n}\n\n.xr-section-item input:enabled + label:hover {\n  color: var(--xr-font-color0);\n}\n\n.xr-section-summary {\n  grid-column: 1;\n  color: var(--xr-font-color2);\n  font-weight: 500;\n}\n\n.xr-section-summary > span {\n  display: inline-block;\n  padding-left: 0.5em;\n}\n\n.xr-section-summary-in:disabled + label {\n  color: var(--xr-font-color2);\n}\n\n.xr-section-summary-in + label:before {\n  display: inline-block;\n  content: '►';\n  font-size: 11px;\n  width: 15px;\n  text-align: center;\n}\n\n.xr-section-summary-in:disabled + label:before {\n  color: var(--xr-disabled-color);\n}\n\n.xr-section-summary-in:checked + label:before {\n  content: '▼';\n}\n\n.xr-section-summary-in:checked + label > span {\n  display: none;\n}\n\n.xr-section-summary,\n.xr-section-inline-details {\n  padding-top: 4px;\n  padding-bottom: 4px;\n}\n\n.xr-section-inline-details {\n  grid-column: 2 / -1;\n}\n\n.xr-section-details {\n  display: none;\n  grid-column: 1 / -1;\n  margin-bottom: 5px;\n}\n\n.xr-section-summary-in:checked ~ .xr-section-details {\n  display: contents;\n}\n\n.xr-array-wrap {\n  grid-column: 1 / -1;\n  display: grid;\n  grid-template-columns: 20px auto;\n}\n\n.xr-array-wrap > label {\n  grid-column: 1;\n  vertical-align: top;\n}\n\n.xr-preview {\n  color: var(--xr-font-color3);\n}\n\n.xr-array-preview,\n.xr-array-data {\n  padding: 0 5px !important;\n  grid-column: 2;\n}\n\n.xr-array-data,\n.xr-array-in:checked ~ .xr-array-preview {\n  display: none;\n}\n\n.xr-array-in:checked ~ .xr-array-data,\n.xr-array-preview {\n  display: inline-block;\n}\n\n.xr-dim-list {\n  display: inline-block !important;\n  list-style: none;\n  padding: 0 !important;\n  margin: 0;\n}\n\n.xr-dim-list li {\n  display: inline-block;\n  padding: 0;\n  margin: 0;\n}\n\n.xr-dim-list:before {\n  content: '(';\n}\n\n.xr-dim-list:after {\n  content: ')';\n}\n\n.xr-dim-list li:not(:last-child):after {\n  content: ',';\n  padding-right: 5px;\n}\n\n.xr-has-index {\n  font-weight: bold;\n}\n\n.xr-var-list,\n.xr-var-item {\n  display: contents;\n}\n\n.xr-var-item > div,\n.xr-var-item label,\n.xr-var-item > .xr-var-name span {\n  background-color: var(--xr-background-color-row-even);\n  margin-bottom: 0;\n}\n\n.xr-var-item > .xr-var-name:hover span {\n  padding-right: 5px;\n}\n\n.xr-var-list > li:nth-child(odd) > div,\n.xr-var-list > li:nth-child(odd) > label,\n.xr-var-list > li:nth-child(odd) > .xr-var-name span {\n  background-color: var(--xr-background-color-row-odd);\n}\n\n.xr-var-name {\n  grid-column: 1;\n}\n\n.xr-var-dims {\n  grid-column: 2;\n}\n\n.xr-var-dtype {\n  grid-column: 3;\n  text-align: right;\n  color: var(--xr-font-color2);\n}\n\n.xr-var-preview {\n  grid-column: 4;\n}\n\n.xr-var-name,\n.xr-var-dims,\n.xr-var-dtype,\n.xr-preview,\n.xr-attrs dt {\n  white-space: nowrap;\n  overflow: hidden;\n  text-overflow: ellipsis;\n  padding-right: 10px;\n}\n\n.xr-var-name:hover,\n.xr-var-dims:hover,\n.xr-var-dtype:hover,\n.xr-attrs dt:hover {\n  overflow: visible;\n  width: auto;\n  z-index: 1;\n}\n\n.xr-var-attrs,\n.xr-var-data {\n  display: none;\n  background-color: var(--xr-background-color) !important;\n  padding-bottom: 5px !important;\n}\n\n.xr-var-attrs-in:checked ~ .xr-var-attrs,\n.xr-var-data-in:checked ~ .xr-var-data {\n  display: block;\n}\n\n.xr-var-data > table {\n  float: right;\n}\n\n.xr-var-name span,\n.xr-var-data,\n.xr-attrs {\n  padding-left: 25px !important;\n}\n\n.xr-attrs,\n.xr-var-attrs,\n.xr-var-data {\n  grid-column: 1 / -1;\n}\n\ndl.xr-attrs {\n  padding: 0;\n  margin: 0;\n  display: grid;\n  grid-template-columns: 125px auto;\n}\n\n.xr-attrs dt,\n.xr-attrs dd {\n  padding: 0;\n  margin: 0;\n  float: left;\n  padding-right: 10px;\n  width: auto;\n}\n\n.xr-attrs dt {\n  font-weight: normal;\n  grid-column: 1;\n}\n\n.xr-attrs dt:hover span {\n  display: inline-block;\n  background: var(--xr-background-color);\n  padding-right: 10px;\n}\n\n.xr-attrs dd {\n  grid-column: 2;\n  white-space: pre-wrap;\n  word-break: break-all;\n}\n\n.xr-icon-database,\n.xr-icon-file-text2 {\n  display: inline-block;\n  vertical-align: middle;\n  width: 1em;\n  height: 1.5em !important;\n  stroke-width: 0;\n  stroke: currentColor;\n  fill: currentColor;\n}\n</style><pre class='xr-text-repr-fallback'>&lt;xarray.Dataset&gt;\nDimensions:         (DOF: 12, dir: 36, freq: 100, time: 96, wave_parameter: 21)\nCoordinates:\n  * DOF             (DOF) &lt;U13 &#x27;RAOSurgeAmp&#x27; &#x27;RAOSurgePhase&#x27; ... &#x27;RAOYawPhase&#x27;\n  * freq            (freq) float64 2.374 2.387 2.4 2.413 ... 31.58 42.03 62.83\n  * dir             (dir) float64 0.0 10.0 20.0 30.0 ... 320.0 330.0 340.0 350.0\n  * time            (time) datetime64[ns] 2019-01-01 ... 2019-01-04T23:00:00\n  * wave_parameter  (wave_parameter) object &#x27;Hm0&#x27; &#x27;PWD&#x27; &#x27;Tp&#x27; ... &#x27;MWDS&#x27; &#x27;DSDS&#x27;\nData variables:\n    launch_rao      (DOF, freq, dir) float64 0.002 0.001 0.0 ... 0.422 0.451\n    wave_data       (time, wave_parameter) float64 1.343 281.0 ... 340.2 39.94</pre><div class='xr-wrap' hidden><div class='xr-header'><div class='xr-obj-type'>xarray.Dataset</div></div><ul class='xr-sections'><li class='xr-section-item'><input id='section-e5881f33-dbf0-4ed8-8ced-b9aab3d014de' class='xr-section-summary-in' type='checkbox' disabled ><label for='section-e5881f33-dbf0-4ed8-8ced-b9aab3d014de' class='xr-section-summary'  title='Expand/collapse section'>Dimensions:</label><div class='xr-section-inline-details'><ul class='xr-dim-list'><li><span class='xr-has-index'>DOF</span>: 12</li><li><span class='xr-has-index'>dir</span>: 36</li><li><span class='xr-has-index'>freq</span>: 100</li><li><span class='xr-has-index'>time</span>: 96</li><li><span class='xr-has-index'>wave_parameter</span>: 21</li></ul></div><div class='xr-section-details'></div></li><li class='xr-section-item'><input id='section-8039bf85-6fb9-433b-9ea2-a9ede6e2a687' class='xr-section-summary-in' type='checkbox'  checked><label for='section-8039bf85-6fb9-433b-9ea2-a9ede6e2a687' class='xr-section-summary' >Coordinates: <span>(5)</span></label><div class='xr-section-inline-details'></div><div class='xr-section-details'><ul class='xr-var-list'><li class='xr-var-item'><div class='xr-var-name'><span class='xr-has-index'>DOF</span></div><div class='xr-var-dims'>(DOF)</div><div class='xr-var-dtype'>&lt;U13</div><div class='xr-var-preview xr-preview'>&#x27;RAOSurgeAmp&#x27; ... &#x27;RAOYawPhase&#x27;</div><input id='attrs-5f1b76f7-4796-455d-8456-1f134c8868d4' class='xr-var-attrs-in' type='checkbox' disabled><label for='attrs-5f1b76f7-4796-455d-8456-1f134c8868d4' title='Show/Hide attributes'><svg class='icon xr-icon-file-text2'><use xlink:href='#icon-file-text2'></use></svg></label><input id='data-14d6349e-8f2a-40d9-bf14-117d242d2a0e' class='xr-var-data-in' type='checkbox'><label for='data-14d6349e-8f2a-40d9-bf14-117d242d2a0e' title='Show/Hide data repr'><svg class='icon xr-icon-database'><use xlink:href='#icon-database'></use></svg></label><div class='xr-var-attrs'><dl class='xr-attrs'></dl></div><div class='xr-var-data'><pre>array([&#x27;RAOSurgeAmp&#x27;, &#x27;RAOSurgePhase&#x27;, &#x27;RAOSwayAmp&#x27;, &#x27;RAOSwayPhase&#x27;,\n       &#x27;RAOHeaveAmp&#x27;, &#x27;RAOHeavePhase&#x27;, &#x27;RAORollAmp&#x27;, &#x27;RAORollPhase&#x27;,\n       &#x27;RAOPitchAmp&#x27;, &#x27;RAOPitchPhase&#x27;, &#x27;RAOYawAmp&#x27;, &#x27;RAOYawPhase&#x27;],\n      dtype=&#x27;&lt;U13&#x27;)</pre></div></li><li class='xr-var-item'><div class='xr-var-name'><span class='xr-has-index'>freq</span></div><div class='xr-var-dims'>(freq)</div><div class='xr-var-dtype'>float64</div><div class='xr-var-preview xr-preview'>2.374 2.387 2.4 ... 42.03 62.83</div><input id='attrs-d4ff4417-ca67-469a-b0b0-e75eb41f0359' class='xr-var-attrs-in' type='checkbox' disabled><label for='attrs-d4ff4417-ca67-469a-b0b0-e75eb41f0359' title='Show/Hide attributes'><svg class='icon xr-icon-file-text2'><use xlink:href='#icon-file-text2'></use></svg></label><input id='data-9b40a848-11da-4724-b9a4-ce6aa23667f8' class='xr-var-data-in' type='checkbox'><label for='data-9b40a848-11da-4724-b9a4-ce6aa23667f8' title='Show/Hide data repr'><svg class='icon xr-icon-database'><use xlink:href='#icon-database'></use></svg></label><div class='xr-var-attrs'><dl class='xr-attrs'></dl></div><div class='xr-var-data'><pre>array([ 2.374,  2.387,  2.4  ,  2.413,  2.426,  2.44 ,  2.454,  2.468,  2.482,\n        2.496,  2.511,  2.526,  2.541,  2.557,  2.573,  2.589,  2.605,  2.622,\n        2.639,  2.657,  2.674,  2.693,  2.711,  2.73 ,  2.749,  2.769,  2.789,\n        2.81 ,  2.831,  2.852,  2.874,  2.897,  2.92 ,  2.944,  2.968,  2.993,\n        3.018,  3.045,  3.071,  3.099,  3.127,  3.156,  3.186,  3.217,  3.249,\n        3.282,  3.315,  3.35 ,  3.386,  3.423,  3.461,  3.501,  3.542,  3.584,\n        3.629,  3.674,  3.722,  3.771,  3.822,  3.876,  3.932,  3.99 ,  4.051,\n        4.115,  4.182,  4.253,  4.327,  4.405,  4.488,  4.575,  4.668,  4.767,\n        4.872,  4.985,  5.107,  5.238,  5.38 ,  5.535,  5.706,  5.894,  6.105,\n        6.342,  6.614,  6.931,  7.305,  7.759,  8.323,  9.049,  9.751, 10.562,\n       11.521, 12.671, 14.075, 15.83 , 18.085, 21.088, 25.289, 31.578, 42.032,\n       62.832])</pre></div></li><li class='xr-var-item'><div class='xr-var-name'><span class='xr-has-index'>dir</span></div><div class='xr-var-dims'>(dir)</div><div class='xr-var-dtype'>float64</div><div class='xr-var-preview xr-preview'>0.0 10.0 20.0 ... 330.0 340.0 350.0</div><input id='attrs-fdd0b18a-063a-4ce5-8da5-5ba2803d6c1b' class='xr-var-attrs-in' type='checkbox' disabled><label for='attrs-fdd0b18a-063a-4ce5-8da5-5ba2803d6c1b' title='Show/Hide attributes'><svg class='icon xr-icon-file-text2'><use xlink:href='#icon-file-text2'></use></svg></label><input id='data-8bb64beb-c14f-4819-b1f6-2afdf4226e27' class='xr-var-data-in' type='checkbox'><label for='data-8bb64beb-c14f-4819-b1f6-2afdf4226e27' title='Show/Hide data repr'><svg class='icon xr-icon-database'><use xlink:href='#icon-database'></use></svg></label><div class='xr-var-attrs'><dl class='xr-attrs'></dl></div><div class='xr-var-data'><pre>array([  0.,  10.,  20.,  30.,  40.,  50.,  60.,  70.,  80.,  90., 100., 110.,\n       120., 130., 140., 150., 160., 170., 180., 190., 200., 210., 220., 230.,\n       240., 250., 260., 270., 280., 290., 300., 310., 320., 330., 340., 350.])</pre></div></li><li class='xr-var-item'><div class='xr-var-name'><span class='xr-has-index'>time</span></div><div class='xr-var-dims'>(time)</div><div class='xr-var-dtype'>datetime64[ns]</div><div class='xr-var-preview xr-preview'>2019-01-01 ... 2019-01-04T23:00:00</div><input id='attrs-3575dd7d-3ef6-49ae-a631-76aa15798b9c' class='xr-var-attrs-in' type='checkbox' disabled><label for='attrs-3575dd7d-3ef6-49ae-a631-76aa15798b9c' title='Show/Hide attributes'><svg class='icon xr-icon-file-text2'><use xlink:href='#icon-file-text2'></use></svg></label><input id='data-a76c8eb9-ca50-4964-adbd-97ff4b8315a1' class='xr-var-data-in' type='checkbox'><label for='data-a76c8eb9-ca50-4964-adbd-97ff4b8315a1' title='Show/Hide data repr'><svg class='icon xr-icon-database'><use xlink:href='#icon-database'></use></svg></label><div class='xr-var-attrs'><dl class='xr-attrs'></dl></div><div class='xr-var-data'><pre>array([&#x27;2019-01-01T00:00:00.000000000&#x27;, &#x27;2019-01-01T01:00:00.000000000&#x27;,\n       &#x27;2019-01-01T02:00:00.000000000&#x27;, &#x27;2019-01-01T03:00:00.000000000&#x27;,\n       &#x27;2019-01-01T04:00:00.000000000&#x27;, &#x27;2019-01-01T05:00:00.000000000&#x27;,\n       &#x27;2019-01-01T06:00:00.000000000&#x27;, &#x27;2019-01-01T07:00:00.000000000&#x27;,\n       &#x27;2019-01-01T08:00:00.000000000&#x27;, &#x27;2019-01-01T09:00:00.000000000&#x27;,\n       &#x27;2019-01-01T10:00:00.000000000&#x27;, &#x27;2019-01-01T11:00:00.000000000&#x27;,\n       &#x27;2019-01-01T12:00:00.000000000&#x27;, &#x27;2019-01-01T13:00:00.000000000&#x27;,\n       &#x27;2019-01-01T14:00:00.000000000&#x27;, &#x27;2019-01-01T15:00:00.000000000&#x27;,\n       &#x27;2019-01-01T16:00:00.000000000&#x27;, &#x27;2019-01-01T17:00:00.000000000&#x27;,\n       &#x27;2019-01-01T18:00:00.000000000&#x27;, &#x27;2019-01-01T19:00:00.000000000&#x27;,\n       &#x27;2019-01-01T20:00:00.000000000&#x27;, &#x27;2019-01-01T21:00:00.000000000&#x27;,\n       &#x27;2019-01-01T22:00:00.000000000&#x27;, &#x27;2019-01-01T23:00:00.000000000&#x27;,\n       &#x27;2019-01-02T00:00:00.000000000&#x27;, &#x27;2019-01-02T01:00:00.000000000&#x27;,\n       &#x27;2019-01-02T02:00:00.000000000&#x27;, &#x27;2019-01-02T03:00:00.000000000&#x27;,\n       &#x27;2019-01-02T04:00:00.000000000&#x27;, &#x27;2019-01-02T05:00:00.000000000&#x27;,\n       &#x27;2019-01-02T06:00:00.000000000&#x27;, &#x27;2019-01-02T07:00:00.000000000&#x27;,\n       &#x27;2019-01-02T08:00:00.000000000&#x27;, &#x27;2019-01-02T09:00:00.000000000&#x27;,\n       &#x27;2019-01-02T10:00:00.000000000&#x27;, &#x27;2019-01-02T11:00:00.000000000&#x27;,\n       &#x27;2019-01-02T12:00:00.000000000&#x27;, &#x27;2019-01-02T13:00:00.000000000&#x27;,\n       &#x27;2019-01-02T14:00:00.000000000&#x27;, &#x27;2019-01-02T15:00:00.000000000&#x27;,\n       &#x27;2019-01-02T16:00:00.000000000&#x27;, &#x27;2019-01-02T17:00:00.000000000&#x27;,\n       &#x27;2019-01-02T18:00:00.000000000&#x27;, &#x27;2019-01-02T19:00:00.000000000&#x27;,\n       &#x27;2019-01-02T20:00:00.000000000&#x27;, &#x27;2019-01-02T21:00:00.000000000&#x27;,\n       &#x27;2019-01-02T22:00:00.000000000&#x27;, &#x27;2019-01-02T23:00:00.000000000&#x27;,\n       &#x27;2019-01-03T00:00:00.000000000&#x27;, &#x27;2019-01-03T01:00:00.000000000&#x27;,\n       &#x27;2019-01-03T02:00:00.000000000&#x27;, &#x27;2019-01-03T03:00:00.000000000&#x27;,\n       &#x27;2019-01-03T04:00:00.000000000&#x27;, &#x27;2019-01-03T05:00:00.000000000&#x27;,\n       &#x27;2019-01-03T06:00:00.000000000&#x27;, &#x27;2019-01-03T07:00:00.000000000&#x27;,\n       &#x27;2019-01-03T08:00:00.000000000&#x27;, &#x27;2019-01-03T09:00:00.000000000&#x27;,\n       &#x27;2019-01-03T10:00:00.000000000&#x27;, &#x27;2019-01-03T11:00:00.000000000&#x27;,\n       &#x27;2019-01-03T12:00:00.000000000&#x27;, &#x27;2019-01-03T13:00:00.000000000&#x27;,\n       &#x27;2019-01-03T14:00:00.000000000&#x27;, &#x27;2019-01-03T15:00:00.000000000&#x27;,\n       &#x27;2019-01-03T16:00:00.000000000&#x27;, &#x27;2019-01-03T17:00:00.000000000&#x27;,\n       &#x27;2019-01-03T18:00:00.000000000&#x27;, &#x27;2019-01-03T19:00:00.000000000&#x27;,\n       &#x27;2019-01-03T20:00:00.000000000&#x27;, &#x27;2019-01-03T21:00:00.000000000&#x27;,\n       &#x27;2019-01-03T22:00:00.000000000&#x27;, &#x27;2019-01-03T23:00:00.000000000&#x27;,\n       &#x27;2019-01-04T00:00:00.000000000&#x27;, &#x27;2019-01-04T01:00:00.000000000&#x27;,\n       &#x27;2019-01-04T02:00:00.000000000&#x27;, &#x27;2019-01-04T03:00:00.000000000&#x27;,\n       &#x27;2019-01-04T04:00:00.000000000&#x27;, &#x27;2019-01-04T05:00:00.000000000&#x27;,\n       &#x27;2019-01-04T06:00:00.000000000&#x27;, &#x27;2019-01-04T07:00:00.000000000&#x27;,\n       &#x27;2019-01-04T08:00:00.000000000&#x27;, &#x27;2019-01-04T09:00:00.000000000&#x27;,\n       &#x27;2019-01-04T10:00:00.000000000&#x27;, &#x27;2019-01-04T11:00:00.000000000&#x27;,\n       &#x27;2019-01-04T12:00:00.000000000&#x27;, &#x27;2019-01-04T13:00:00.000000000&#x27;,\n       &#x27;2019-01-04T14:00:00.000000000&#x27;, &#x27;2019-01-04T15:00:00.000000000&#x27;,\n       &#x27;2019-01-04T16:00:00.000000000&#x27;, &#x27;2019-01-04T17:00:00.000000000&#x27;,\n       &#x27;2019-01-04T18:00:00.000000000&#x27;, &#x27;2019-01-04T19:00:00.000000000&#x27;,\n       &#x27;2019-01-04T20:00:00.000000000&#x27;, &#x27;2019-01-04T21:00:00.000000000&#x27;,\n       &#x27;2019-01-04T22:00:00.000000000&#x27;, &#x27;2019-01-04T23:00:00.000000000&#x27;],\n      dtype=&#x27;datetime64[ns]&#x27;)</pre></div></li><li class='xr-var-item'><div class='xr-var-name'><span class='xr-has-index'>wave_parameter</span></div><div class='xr-var-dims'>(wave_parameter)</div><div class='xr-var-dtype'>object</div><div class='xr-var-preview xr-preview'>&#x27;Hm0&#x27; &#x27;PWD&#x27; &#x27;Tp&#x27; ... &#x27;MWDS&#x27; &#x27;DSDS&#x27;</div><input id='attrs-800bc4f4-8ccd-4fc3-b386-880dde73cdd1' class='xr-var-attrs-in' type='checkbox' disabled><label for='attrs-800bc4f4-8ccd-4fc3-b386-880dde73cdd1' title='Show/Hide attributes'><svg class='icon xr-icon-file-text2'><use xlink:href='#icon-file-text2'></use></svg></label><input id='data-78e1e0b0-977b-41bd-ab6d-accefb095fb3' class='xr-var-data-in' type='checkbox'><label for='data-78e1e0b0-977b-41bd-ab6d-accefb095fb3' title='Show/Hide data repr'><svg class='icon xr-icon-database'><use xlink:href='#icon-database'></use></svg></label><div class='xr-var-attrs'><dl class='xr-attrs'></dl></div><div class='xr-var-data'><pre>array([&#x27;Hm0&#x27;, &#x27;PWD&#x27;, &#x27;Tp&#x27;, &#x27;T01&#x27;, &#x27;T02&#x27;, &#x27;MWD&#x27;, &#x27;DSD&#x27;, &#x27;Hm0WS&#x27;, &#x27;TpWS&#x27;,\n       &#x27;T01WS&#x27;, &#x27;T02WS&#x27;, &#x27;PWDWS&#x27;, &#x27;MWDWS&#x27;, &#x27;DSDWS&#x27;, &#x27;Hm0S&#x27;, &#x27;TpS&#x27;, &#x27;T01S&#x27;,\n       &#x27;T02S&#x27;, &#x27;PWDS&#x27;, &#x27;MWDS&#x27;, &#x27;DSDS&#x27;], dtype=object)</pre></div></li></ul></div></li><li class='xr-section-item'><input id='section-206e6986-d8ab-4a98-90ec-4a8f377d62e0' class='xr-section-summary-in' type='checkbox'  checked><label for='section-206e6986-d8ab-4a98-90ec-4a8f377d62e0' class='xr-section-summary' >Data variables: <span>(2)</span></label><div class='xr-section-inline-details'></div><div class='xr-section-details'><ul class='xr-var-list'><li class='xr-var-item'><div class='xr-var-name'><span>launch_rao</span></div><div class='xr-var-dims'>(DOF, freq, dir)</div><div class='xr-var-dtype'>float64</div><div class='xr-var-preview xr-preview'>0.002 0.001 0.0 ... 0.422 0.451</div><input id='attrs-03879734-3600-496a-9886-6dc26545e9f7' class='xr-var-attrs-in' type='checkbox' disabled><label for='attrs-03879734-3600-496a-9886-6dc26545e9f7' title='Show/Hide attributes'><svg class='icon xr-icon-file-text2'><use xlink:href='#icon-file-text2'></use></svg></label><input id='data-53b41d50-d793-4933-998f-87ce388edfcc' class='xr-var-data-in' type='checkbox'><label for='data-53b41d50-d793-4933-998f-87ce388edfcc' title='Show/Hide data repr'><svg class='icon xr-icon-database'><use xlink:href='#icon-database'></use></svg></label><div class='xr-var-attrs'><dl class='xr-attrs'></dl></div><div class='xr-var-data'><pre>array([[[ 2.00000e-03,  1.00000e-03,  0.00000e+00, ...,  0.00000e+00,\n          0.00000e+00,  1.00000e-03],\n        [ 2.00000e-03,  1.00000e-03,  0.00000e+00, ...,  0.00000e+00,\n          0.00000e+00,  1.00000e-03],\n        [ 2.00000e-03,  1.00000e-03,  0.00000e+00, ...,  0.00000e+00,\n          0.00000e+00,  1.00000e-03],\n        ...,\n        [ 3.10500e+00,  3.06800e+00,  2.95800e+00, ...,  2.76900e+00,\n          2.95800e+00,  3.06800e+00],\n        [ 4.36900e+00,  4.31100e+00,  4.13700e+00, ...,  3.84500e+00,\n          4.13700e+00,  4.31100e+00],\n        [ 6.79000e+00,  6.69200e+00,  6.40200e+00, ...,  5.92200e+00,\n          6.40100e+00,  6.69200e+00]],\n\n       [[-1.51369e+02, -1.24423e+02, -1.48624e+02, ..., -9.82000e+00,\n         -1.48677e+02, -1.23402e+02],\n        [-1.20318e+02, -9.39490e+01, -1.15577e+02, ...,  2.23900e+00,\n         -1.17137e+02, -9.31600e+01],\n        [-9.07990e+01, -5.83840e+01, -9.09170e+01, ...,  1.74170e+01,\n         -9.27240e+01, -5.86830e+01],\n...\n        [ 0.00000e+00,  3.00000e-01,  5.66000e-01, ...,  7.69000e-01,\n          5.66000e-01,  3.00000e-01],\n        [ 0.00000e+00,  3.08000e-01,  5.80000e-01, ...,  7.85000e-01,\n          5.80000e-01,  3.08000e-01],\n        [ 0.00000e+00,  3.14000e-01,  5.90000e-01, ...,  7.97000e-01,\n          5.90000e-01,  3.14000e-01]],\n\n       [[ 1.42972e+02,  1.63126e+02,  1.14370e+01, ..., -8.50790e+01,\n         -1.67460e+02, -1.65210e+01],\n        [ 1.53060e+02,  1.78112e+02, -1.84600e+00, ..., -1.18985e+02,\n          1.79139e+02, -1.55500e+00],\n        [ 1.61444e+02, -1.69194e+02, -1.45040e+01, ..., -1.63810e+02,\n          1.66438e+02,  1.12210e+01],\n        ...,\n        [ 1.78670e+01, -1.79046e+02, -1.79079e+02, ...,  8.57000e-01,\n          9.24000e-01,  9.70000e-01],\n        [ 2.15650e+01, -1.79315e+02, -1.79343e+02, ...,  6.01000e-01,\n          6.57000e-01,  6.94000e-01],\n        [ 2.81080e+01, -1.79562e+02, -1.79584e+02, ...,  3.93000e-01,\n          4.22000e-01,  4.51000e-01]]])</pre></div></li><li class='xr-var-item'><div class='xr-var-name'><span>wave_data</span></div><div class='xr-var-dims'>(time, wave_parameter)</div><div class='xr-var-dtype'>float64</div><div class='xr-var-preview xr-preview'>1.343 281.0 5.05 ... 340.2 39.94</div><input id='attrs-8faa1a00-ae34-4fde-9a29-bfb43ea54eda' class='xr-var-attrs-in' type='checkbox' disabled><label for='attrs-8faa1a00-ae34-4fde-9a29-bfb43ea54eda' title='Show/Hide attributes'><svg class='icon xr-icon-file-text2'><use xlink:href='#icon-file-text2'></use></svg></label><input id='data-14ac0a4c-cf99-48a1-a1d2-c21a382721c6' class='xr-var-data-in' type='checkbox'><label for='data-14ac0a4c-cf99-48a1-a1d2-c21a382721c6' title='Show/Hide data repr'><svg class='icon xr-icon-database'><use xlink:href='#icon-database'></use></svg></label><div class='xr-var-attrs'><dl class='xr-attrs'></dl></div><div class='xr-var-data'><pre>array([[  1.343451, 280.975621,   5.04973 , ..., 324.878059, 319.24771 ,\n         38.884598],\n       [  1.38463 , 280.975621,   5.197792, ..., 324.878059, 316.92609 ,\n         32.892757],\n       [  1.444121, 280.975621,   5.266162, ..., 324.878059, 319.19476 ,\n         34.414284],\n       ...,\n       [  1.465909, 342.439021,   6.269293, ...,   0.      , 337.40146 ,\n         33.480289],\n       [  1.476162, 342.439021,   6.277018, ...,   0.      , 340.21167 ,\n         35.884945],\n       [  1.530426, 342.439021,   6.206981, ...,   0.      , 340.17096 ,\n         39.936367]])</pre></div></li></ul></div></li><li class='xr-section-item'><input id='section-f738bfaf-a135-445a-b332-aaf4e3d0a23a' class='xr-section-summary-in' type='checkbox' disabled ><label for='section-f738bfaf-a135-445a-b332-aaf4e3d0a23a' class='xr-section-summary'  title='Expand/collapse section'>Attributes: <span>(0)</span></label><div class='xr-section-inline-details'></div><div class='xr-section-details'><dl class='xr-attrs'></dl></div></li></ul></div></div>"
     },
     "metadata": {},
     "execution_count": 6
    }
   ],
   "source": [
    "# Create a dataset.\n",
    "ds = xr.Dataset(\n",
    "    data_vars=dict(\n",
    "        launch_rao=([\"DOF\", \"freq\", \"dir\"], df),\n",
    "        wave_data=([\"time\", \"wave_parameter\"], waves)\n",
    "    ),\n",
    "    coords=dict(\n",
    "        DOF=df[\"DOF\"],\n",
    "        freq=df[\"freq\"],\n",
    "        dir=df[\"dir\"],\n",
    "        time=waves.index.values,\n",
    "        wave_parameter=waves.columns\n",
    "    )\n",
    ")\n",
    "\n",
    "ds"
   ]
  },
  {
   "source": [
    "# Unimodal sea state"
   ],
   "cell_type": "markdown",
   "metadata": {}
  },
  {
   "cell_type": "code",
   "execution_count": 7,
   "metadata": {},
   "outputs": [
    {
     "output_type": "display_data",
     "data": {
      "text/plain": "  0%|          | 0/768 [00:00<?, ?it/s]",
      "application/vnd.jupyter.widget-view+json": {
       "version_major": 2,
       "version_minor": 0,
       "model_id": "db76e513c4b74e2b8ae0f41314606430"
      }
     },
     "metadata": {}
    },
    {
     "output_type": "display_data",
     "data": {
      "text/plain": "  0%|          | 0/768 [00:00<?, ?it/s]",
      "application/vnd.jupyter.widget-view+json": {
       "version_major": 2,
       "version_minor": 0,
       "model_id": "432d27c459174b3f9cfba17887cf3580"
      }
     },
     "metadata": {}
    }
   ],
   "source": [
    "# Read from the dataset the Response Amplitude Operator. \n",
    "# Then computes the most efficient/workable wave heading. Note:\n",
    "# - Instead of vector magnitude -> sum is much faster.\n",
    "# - Coarse grid of possible angles allows for less groups, hence, faster.\n",
    "\n",
    "# Define a parallelise function.\n",
    "def apply_parralelise(groups, func, column=\"launch_rao\"):\n",
    "    \n",
    "    series = [group[column] for name, group in tqdm(groups)]\n",
    "    results = []\n",
    "    \n",
    "    with Pool(processes=cpu_count()) as p:\n",
    "        with tqdm(total=len(series)) as pbar:\n",
    "            for i, res in enumerate(p.imap(func, series)):\n",
    "                pbar.update()\n",
    "                results.append(res)\n",
    "\n",
    "    results = pd.DataFrame(\n",
    "        index=pd.MultiIndex.from_tuples(groups.groups.keys()),\n",
    "        data=dict(values=results)\n",
    "    )\n",
    "\n",
    "    return results\n",
    "\n",
    "# Lets compute response motions.\n",
    "res = ds[\"launch_rao\"].sel(\n",
    "    indexers=dict(\n",
    "        freq=ds[\"wave_data\"].sel(dict(wave_parameter=\"Tp\")),\n",
    "        dir=np.arange(0, 360, 45)  # coarse grid speeds up computation.\n",
    "        # dir=ds[\"wave_data\"].sel(dict(wave_parameter=\"MWD\"))\n",
    "    ),\n",
    "    method=\"nearest\"\n",
    ")\n",
    "\n",
    "# Find the index with the smallest response amplitudes.\n",
    "index = (res.loc[[\"RAOSurgeAmp\", \"RAOSwayAmp\", \"RAOHeaveAmp\"]]\n",
    "    .to_dataframe()\n",
    "    .reset_index()\n",
    "    .groupby([\"time\", \"dir\"])\n",
    "    .pipe(lambda g: apply_parralelise(groups=g, func=vector_magnitude))\n",
    "    .unstack(level=0)\n",
    "    .idxmin()\n",
    "    .values\n",
    ")"
   ]
  },
  {
   "cell_type": "code",
   "execution_count": 68,
   "metadata": {},
   "outputs": [],
   "source": [
    "# Find practical responses.\n",
    "x_points = xr.DataArray(ds[\"wave_data\"].sel(dict(wave_parameter=\"Tp\")))\n",
    "y_points = xr.DataArray(index, dims=\"time\")\n",
    "# motions = ds[\"launch_rao\"].interp(freq=x_points, dir=y_points) * ds[\"wave_data\"].sel(dict(wave_parameter=\"Hm0\"))"
   ]
  },
  {
   "cell_type": "code",
   "execution_count": 207,
   "metadata": {},
   "outputs": [],
   "source": [
    "import plotly.graph_objects as go\n",
    "from plotly.subplots import make_subplots\n",
    "import plotly.express as px"
   ]
  },
  {
   "cell_type": "code",
   "execution_count": 347,
   "metadata": {},
   "outputs": [
    {
     "output_type": "display_data",
     "data": {
      "application/vnd.plotly.v1+json": {
       "config": {
        "plotlyServerURL": "https://plot.ly"
       },
       "data": [
        {
         "marker": {
          "color": "blue"
         },
         "showlegend": false,
         "type": "scatter",
         "x": [
          "2019-01-01T00:00:00",
          "2019-01-01T01:00:00",
          "2019-01-01T02:00:00",
          "2019-01-01T03:00:00",
          "2019-01-01T04:00:00",
          "2019-01-01T05:00:00",
          "2019-01-01T06:00:00",
          "2019-01-01T07:00:00",
          "2019-01-01T08:00:00",
          "2019-01-01T09:00:00",
          "2019-01-01T10:00:00",
          "2019-01-01T11:00:00",
          "2019-01-01T12:00:00",
          "2019-01-01T13:00:00",
          "2019-01-01T14:00:00",
          "2019-01-01T15:00:00",
          "2019-01-01T16:00:00",
          "2019-01-01T17:00:00",
          "2019-01-01T18:00:00",
          "2019-01-01T19:00:00",
          "2019-01-01T20:00:00",
          "2019-01-01T21:00:00",
          "2019-01-01T22:00:00",
          "2019-01-01T23:00:00",
          "2019-01-02T00:00:00",
          "2019-01-02T01:00:00",
          "2019-01-02T02:00:00",
          "2019-01-02T03:00:00",
          "2019-01-02T04:00:00",
          "2019-01-02T05:00:00",
          "2019-01-02T06:00:00",
          "2019-01-02T07:00:00",
          "2019-01-02T08:00:00",
          "2019-01-02T09:00:00",
          "2019-01-02T10:00:00",
          "2019-01-02T11:00:00",
          "2019-01-02T12:00:00",
          "2019-01-02T13:00:00",
          "2019-01-02T14:00:00",
          "2019-01-02T15:00:00",
          "2019-01-02T16:00:00",
          "2019-01-02T17:00:00",
          "2019-01-02T18:00:00",
          "2019-01-02T19:00:00",
          "2019-01-02T20:00:00",
          "2019-01-02T21:00:00",
          "2019-01-02T22:00:00",
          "2019-01-02T23:00:00",
          "2019-01-03T00:00:00",
          "2019-01-03T01:00:00",
          "2019-01-03T02:00:00",
          "2019-01-03T03:00:00",
          "2019-01-03T04:00:00",
          "2019-01-03T05:00:00",
          "2019-01-03T06:00:00",
          "2019-01-03T07:00:00",
          "2019-01-03T08:00:00",
          "2019-01-03T09:00:00",
          "2019-01-03T10:00:00",
          "2019-01-03T11:00:00",
          "2019-01-03T12:00:00",
          "2019-01-03T13:00:00",
          "2019-01-03T14:00:00",
          "2019-01-03T15:00:00",
          "2019-01-03T16:00:00",
          "2019-01-03T17:00:00",
          "2019-01-03T18:00:00",
          "2019-01-03T19:00:00",
          "2019-01-03T20:00:00",
          "2019-01-03T21:00:00",
          "2019-01-03T22:00:00",
          "2019-01-03T23:00:00",
          "2019-01-04T00:00:00",
          "2019-01-04T01:00:00",
          "2019-01-04T02:00:00",
          "2019-01-04T03:00:00",
          "2019-01-04T04:00:00",
          "2019-01-04T05:00:00",
          "2019-01-04T06:00:00",
          "2019-01-04T07:00:00",
          "2019-01-04T08:00:00",
          "2019-01-04T09:00:00",
          "2019-01-04T10:00:00",
          "2019-01-04T11:00:00",
          "2019-01-04T12:00:00",
          "2019-01-04T13:00:00",
          "2019-01-04T14:00:00",
          "2019-01-04T15:00:00",
          "2019-01-04T16:00:00",
          "2019-01-04T17:00:00",
          "2019-01-04T18:00:00",
          "2019-01-04T19:00:00",
          "2019-01-04T20:00:00",
          "2019-01-04T21:00:00",
          "2019-01-04T22:00:00",
          "2019-01-04T23:00:00"
         ],
         "xaxis": "x",
         "y": [
          1.343451,
          1.38463,
          1.444121,
          1.549905,
          1.643849,
          1.718152,
          1.766404,
          1.79589,
          1.829065,
          1.845449,
          1.840016,
          1.857318,
          1.885703,
          1.869839,
          1.902397,
          2.048512,
          2.291362,
          2.646024,
          3.00362,
          3.25496,
          3.423273,
          3.525583,
          3.54678,
          3.521945,
          3.529667,
          3.445131,
          3.307242,
          3.324079,
          3.361791,
          3.332847,
          3.250614,
          3.137789,
          3.045427,
          2.986116,
          2.914237,
          2.8092,
          2.66857,
          2.492282,
          2.330087,
          2.19429,
          2.086998,
          2.015386,
          1.969861,
          1.914724,
          1.862175,
          1.821945,
          1.780984,
          1.739662,
          1.696765,
          1.626346,
          1.554642,
          1.510705,
          1.48279,
          1.45661,
          1.429736,
          1.394553,
          1.360639,
          1.342766,
          1.337305,
          1.334277,
          1.330441,
          1.320132,
          1.313459,
          1.313425,
          1.308933,
          1.297282,
          1.28297,
          1.264763,
          1.261262,
          1.289217,
          1.316498,
          1.32011,
          1.286479,
          1.217702,
          1.152378,
          1.109721,
          1.084815,
          1.076312,
          1.082556,
          1.112986,
          1.150835,
          1.172234,
          1.181162,
          1.195276,
          1.222239,
          1.246328,
          1.289388,
          1.358334,
          1.439131,
          1.516606,
          1.582439,
          1.536353,
          1.487407,
          1.465909,
          1.476162,
          1.530426
         ],
         "yaxis": "y"
        },
        {
         "marker": {
          "color": "blue"
         },
         "showlegend": false,
         "type": "scatter",
         "x": [
          "2019-01-01T00:00:00",
          "2019-01-01T01:00:00",
          "2019-01-01T02:00:00",
          "2019-01-01T03:00:00",
          "2019-01-01T04:00:00",
          "2019-01-01T05:00:00",
          "2019-01-01T06:00:00",
          "2019-01-01T07:00:00",
          "2019-01-01T08:00:00",
          "2019-01-01T09:00:00",
          "2019-01-01T10:00:00",
          "2019-01-01T11:00:00",
          "2019-01-01T12:00:00",
          "2019-01-01T13:00:00",
          "2019-01-01T14:00:00",
          "2019-01-01T15:00:00",
          "2019-01-01T16:00:00",
          "2019-01-01T17:00:00",
          "2019-01-01T18:00:00",
          "2019-01-01T19:00:00",
          "2019-01-01T20:00:00",
          "2019-01-01T21:00:00",
          "2019-01-01T22:00:00",
          "2019-01-01T23:00:00",
          "2019-01-02T00:00:00",
          "2019-01-02T01:00:00",
          "2019-01-02T02:00:00",
          "2019-01-02T03:00:00",
          "2019-01-02T04:00:00",
          "2019-01-02T05:00:00",
          "2019-01-02T06:00:00",
          "2019-01-02T07:00:00",
          "2019-01-02T08:00:00",
          "2019-01-02T09:00:00",
          "2019-01-02T10:00:00",
          "2019-01-02T11:00:00",
          "2019-01-02T12:00:00",
          "2019-01-02T13:00:00",
          "2019-01-02T14:00:00",
          "2019-01-02T15:00:00",
          "2019-01-02T16:00:00",
          "2019-01-02T17:00:00",
          "2019-01-02T18:00:00",
          "2019-01-02T19:00:00",
          "2019-01-02T20:00:00",
          "2019-01-02T21:00:00",
          "2019-01-02T22:00:00",
          "2019-01-02T23:00:00",
          "2019-01-03T00:00:00",
          "2019-01-03T01:00:00",
          "2019-01-03T02:00:00",
          "2019-01-03T03:00:00",
          "2019-01-03T04:00:00",
          "2019-01-03T05:00:00",
          "2019-01-03T06:00:00",
          "2019-01-03T07:00:00",
          "2019-01-03T08:00:00",
          "2019-01-03T09:00:00",
          "2019-01-03T10:00:00",
          "2019-01-03T11:00:00",
          "2019-01-03T12:00:00",
          "2019-01-03T13:00:00",
          "2019-01-03T14:00:00",
          "2019-01-03T15:00:00",
          "2019-01-03T16:00:00",
          "2019-01-03T17:00:00",
          "2019-01-03T18:00:00",
          "2019-01-03T19:00:00",
          "2019-01-03T20:00:00",
          "2019-01-03T21:00:00",
          "2019-01-03T22:00:00",
          "2019-01-03T23:00:00",
          "2019-01-04T00:00:00",
          "2019-01-04T01:00:00",
          "2019-01-04T02:00:00",
          "2019-01-04T03:00:00",
          "2019-01-04T04:00:00",
          "2019-01-04T05:00:00",
          "2019-01-04T06:00:00",
          "2019-01-04T07:00:00",
          "2019-01-04T08:00:00",
          "2019-01-04T09:00:00",
          "2019-01-04T10:00:00",
          "2019-01-04T11:00:00",
          "2019-01-04T12:00:00",
          "2019-01-04T13:00:00",
          "2019-01-04T14:00:00",
          "2019-01-04T15:00:00",
          "2019-01-04T16:00:00",
          "2019-01-04T17:00:00",
          "2019-01-04T18:00:00",
          "2019-01-04T19:00:00",
          "2019-01-04T20:00:00",
          "2019-01-04T21:00:00",
          "2019-01-04T22:00:00",
          "2019-01-04T23:00:00"
         ],
         "xaxis": "x3",
         "y": [
          0.06211174821954625,
          0.07316862769046234,
          0.07920774656989384,
          0.08242061081558932,
          0.07871597001082327,
          0.06420275208572937,
          0.07658572326481118,
          0.06785451260074214,
          0.07073489593102449,
          0.09675439198074692,
          0.12631808542667952,
          0.14704643441264778,
          0.16522314727407192,
          0.17294528568133755,
          0.17031945565478568,
          0.17624666313998108,
          0.21148585358344218,
          0.3064624810544956,
          0.3948891084797864,
          0.4515185028325522,
          0.4231412578063411,
          0.3496295488278171,
          0.29998672642726043,
          0.27471314790217743,
          0.2695518718505321,
          0.25939530859935306,
          0.22829924439227653,
          0.22534330722214813,
          0.26632037502160516,
          0.30442694197549114,
          0.32704022325057724,
          0.3345139684230888,
          0.35648999279255295,
          0.38660733544103904,
          0.40832434770156406,
          0.41165044685981833,
          0.3962176079814878,
          0.36479559239652404,
          0.33009113991807765,
          0.29679559603167194,
          0.26045949930920564,
          0.22599929519830858,
          0.20775227227558304,
          0.19302180331207955,
          0.18571138944223894,
          0.1852112669888484,
          0.188359516126713,
          0.19884368017791648,
          0.20899121046542335,
          0.2061379803590268,
          0.19625297958280818,
          0.18861233516276404,
          0.1835412172714281,
          0.18588959420175596,
          0.19089746327792576,
          0.19320102402079756,
          0.19322000198735573,
          0.19646400556528423,
          0.19907959635697714,
          0.1960339862460875,
          0.19227717799930458,
          0.18687465530858646,
          0.18054701701964074,
          0.15717477396235843,
          0.08996124334604184,
          0.08255764389094906,
          0.08238457909283745,
          0.08490166983499478,
          0.08627051190514103,
          0.07721461442870588,
          0.05386413954932428,
          0.04985830015664408,
          0.051601936012377995,
          0.05606269755026972,
          0.0580645974570783,
          0.05818639472707769,
          0.05848003752796972,
          0.05886769245108681,
          0.05400770852819506,
          0.014323290129631235,
          0.013283227362475648,
          0.01637516114238537,
          0.018404891594614305,
          0.0196290273613462,
          0.021087856510182097,
          0.024150689314023397,
          0.02787459021605786,
          0.033554826794572765,
          0.042262826177008654,
          0.057361784512613784,
          0.06906315636248887,
          0.08167568853811899,
          0.08979498026766274,
          0.09299713050626282,
          0.09407175905327216,
          0.09288965611213222
         ],
         "yaxis": "y3"
        },
        {
         "line": {
          "color": "red",
          "dash": "dash"
         },
         "showlegend": false,
         "type": "scatter",
         "x": [
          "2019-01-01T00:00:00",
          "2019-01-01T01:00:00",
          "2019-01-01T02:00:00",
          "2019-01-01T03:00:00",
          "2019-01-01T04:00:00",
          "2019-01-01T05:00:00",
          "2019-01-01T06:00:00",
          "2019-01-01T07:00:00",
          "2019-01-01T08:00:00",
          "2019-01-01T09:00:00",
          "2019-01-01T10:00:00",
          "2019-01-01T11:00:00",
          "2019-01-01T12:00:00",
          "2019-01-01T13:00:00",
          "2019-01-01T14:00:00",
          "2019-01-01T15:00:00",
          "2019-01-01T16:00:00",
          "2019-01-01T17:00:00",
          "2019-01-01T18:00:00",
          "2019-01-01T19:00:00",
          "2019-01-01T20:00:00",
          "2019-01-01T21:00:00",
          "2019-01-01T22:00:00",
          "2019-01-01T23:00:00",
          "2019-01-02T00:00:00",
          "2019-01-02T01:00:00",
          "2019-01-02T02:00:00",
          "2019-01-02T03:00:00",
          "2019-01-02T04:00:00",
          "2019-01-02T05:00:00",
          "2019-01-02T06:00:00",
          "2019-01-02T07:00:00",
          "2019-01-02T08:00:00",
          "2019-01-02T09:00:00",
          "2019-01-02T10:00:00",
          "2019-01-02T11:00:00",
          "2019-01-02T12:00:00",
          "2019-01-02T13:00:00",
          "2019-01-02T14:00:00",
          "2019-01-02T15:00:00",
          "2019-01-02T16:00:00",
          "2019-01-02T17:00:00",
          "2019-01-02T18:00:00",
          "2019-01-02T19:00:00",
          "2019-01-02T20:00:00",
          "2019-01-02T21:00:00",
          "2019-01-02T22:00:00",
          "2019-01-02T23:00:00",
          "2019-01-03T00:00:00",
          "2019-01-03T01:00:00",
          "2019-01-03T02:00:00",
          "2019-01-03T03:00:00",
          "2019-01-03T04:00:00",
          "2019-01-03T05:00:00",
          "2019-01-03T06:00:00",
          "2019-01-03T07:00:00",
          "2019-01-03T08:00:00",
          "2019-01-03T09:00:00",
          "2019-01-03T10:00:00",
          "2019-01-03T11:00:00",
          "2019-01-03T12:00:00",
          "2019-01-03T13:00:00",
          "2019-01-03T14:00:00",
          "2019-01-03T15:00:00",
          "2019-01-03T16:00:00",
          "2019-01-03T17:00:00",
          "2019-01-03T18:00:00",
          "2019-01-03T19:00:00",
          "2019-01-03T20:00:00",
          "2019-01-03T21:00:00",
          "2019-01-03T22:00:00",
          "2019-01-03T23:00:00",
          "2019-01-04T00:00:00",
          "2019-01-04T01:00:00",
          "2019-01-04T02:00:00",
          "2019-01-04T03:00:00",
          "2019-01-04T04:00:00",
          "2019-01-04T05:00:00",
          "2019-01-04T06:00:00",
          "2019-01-04T07:00:00",
          "2019-01-04T08:00:00",
          "2019-01-04T09:00:00",
          "2019-01-04T10:00:00",
          "2019-01-04T11:00:00",
          "2019-01-04T12:00:00",
          "2019-01-04T13:00:00",
          "2019-01-04T14:00:00",
          "2019-01-04T15:00:00",
          "2019-01-04T16:00:00",
          "2019-01-04T17:00:00",
          "2019-01-04T18:00:00",
          "2019-01-04T19:00:00",
          "2019-01-04T20:00:00",
          "2019-01-04T21:00:00",
          "2019-01-04T22:00:00",
          "2019-01-04T23:00:00"
         ],
         "xaxis": "x",
         "y": [
          1.4875675,
          1.450552,
          1.4334595,
          1.41229125,
          1.3790574883415,
          1.4025144886179999,
          1.4421972993180003,
          1.3683591666666666,
          1.289193829725,
          1.1849818087655,
          1.1404512259431663,
          1.1485836941833334,
          1.204895779498334,
          1.265419195431,
          1.3222684156943332,
          1.3709159330296667,
          1.4414509150440005,
          1.423433156266,
          1.3301798600799994,
          0,
          0,
          0,
          0,
          0,
          0,
          0,
          0,
          0,
          0,
          0,
          0,
          0,
          0,
          0,
          0,
          0,
          0,
          0,
          0,
          0,
          0,
          0,
          0,
          0,
          0,
          0,
          0,
          0,
          0,
          0,
          0,
          0,
          0,
          0,
          0,
          0,
          0,
          0,
          0,
          0,
          0,
          0,
          0,
          0,
          0,
          0,
          0,
          0,
          0,
          0,
          0,
          0,
          0,
          0,
          1.4999999999999998,
          1.5,
          1.5,
          1.5,
          1.5,
          1.3790312499999997,
          1.387057,
          1.42883075,
          1.458673,
          1.475171,
          1.485589,
          1.5,
          1.5,
          1.5,
          1.5,
          1.5,
          1.5,
          1.5,
          1.4999999999999996,
          1.5,
          1.5000000000000002,
          1.5000000000000002
         ],
         "yaxis": "y"
        },
        {
         "line": {
          "color": "green",
          "width": 5
         },
         "marker": {
          "line": {
           "width": 1
          },
          "size": 8,
          "symbol": "line-ns"
         },
         "showlegend": false,
         "type": "scatter",
         "x": [
          "2019-01-01T00:00:00",
          "2019-01-01T02:00:00"
         ],
         "xaxis": "x2",
         "y": [
          4,
          4
         ],
         "yaxis": "y2"
        },
        {
         "line": {
          "color": "red",
          "width": 5
         },
         "marker": {
          "line": {
           "width": 1
          },
          "size": 8,
          "symbol": "line-ns"
         },
         "showlegend": false,
         "type": "scatter",
         "x": [
          "2019-01-01T02:00:00",
          "2019-01-04T02:00:00"
         ],
         "xaxis": "x2",
         "y": [
          4,
          4
         ],
         "yaxis": "y2"
        },
        {
         "line": {
          "color": "green",
          "width": 5
         },
         "marker": {
          "line": {
           "width": 1
          },
          "size": 8,
          "symbol": "line-ns"
         },
         "showlegend": false,
         "type": "scatter",
         "x": [
          "2019-01-04T02:00:00",
          "2019-01-04T17:00:00"
         ],
         "xaxis": "x2",
         "y": [
          4,
          4
         ],
         "yaxis": "y2"
        },
        {
         "line": {
          "color": "red",
          "width": 5
         },
         "marker": {
          "line": {
           "width": 1
          },
          "size": 8,
          "symbol": "line-ns"
         },
         "showlegend": false,
         "type": "scatter",
         "x": [
          "2019-01-04T17:00:00",
          "2019-01-04T20:00:00"
         ],
         "xaxis": "x2",
         "y": [
          4,
          4
         ],
         "yaxis": "y2"
        },
        {
         "line": {
          "color": "green",
          "width": 5
         },
         "marker": {
          "line": {
           "width": 1
          },
          "size": 8,
          "symbol": "line-ns"
         },
         "showlegend": false,
         "type": "scatter",
         "x": [
          "2019-01-04T20:00:00",
          "2019-01-04T23:00:00"
         ],
         "xaxis": "x2",
         "y": [
          4,
          4
         ],
         "yaxis": "y2"
        },
        {
         "line": {
          "color": "red",
          "width": 5
         },
         "marker": {
          "line": {
           "width": 1
          },
          "size": 8,
          "symbol": "line-ns"
         },
         "showlegend": false,
         "type": "scatter",
         "x": [
          "2019-01-04T23:00:00",
          "2019-01-04T23:00:00"
         ],
         "xaxis": "x2",
         "y": [
          4,
          4
         ],
         "yaxis": "y2"
        },
        {
         "line": {
          "color": "green",
          "width": 5
         },
         "marker": {
          "line": {
           "width": 1
          },
          "size": 8,
          "symbol": "line-ns"
         },
         "showlegend": false,
         "type": "scatter",
         "x": [
          "2019-01-01T00:00:00",
          "2019-01-01T16:00:00"
         ],
         "xaxis": "x4",
         "y": [
          0.5,
          0.5
         ],
         "yaxis": "y4"
        },
        {
         "line": {
          "color": "red",
          "width": 5
         },
         "marker": {
          "line": {
           "width": 1
          },
          "size": 8,
          "symbol": "line-ns"
         },
         "showlegend": false,
         "type": "scatter",
         "x": [
          "2019-01-01T16:00:00",
          "2019-01-02T19:00:00"
         ],
         "xaxis": "x4",
         "y": [
          0.5,
          0.5
         ],
         "yaxis": "y4"
        },
        {
         "line": {
          "color": "green",
          "width": 5
         },
         "marker": {
          "line": {
           "width": 1
          },
          "size": 8,
          "symbol": "line-ns"
         },
         "showlegend": false,
         "type": "scatter",
         "x": [
          "2019-01-02T19:00:00",
          "2019-01-03T00:00:00"
         ],
         "xaxis": "x4",
         "y": [
          0.5,
          0.5
         ],
         "yaxis": "y4"
        },
        {
         "line": {
          "color": "red",
          "width": 5
         },
         "marker": {
          "line": {
           "width": 1
          },
          "size": 8,
          "symbol": "line-ns"
         },
         "showlegend": false,
         "type": "scatter",
         "x": [
          "2019-01-03T00:00:00",
          "2019-01-03T02:00:00"
         ],
         "xaxis": "x4",
         "y": [
          0.5,
          0.5
         ],
         "yaxis": "y4"
        },
        {
         "line": {
          "color": "green",
          "width": 5
         },
         "marker": {
          "line": {
           "width": 1
          },
          "size": 8,
          "symbol": "line-ns"
         },
         "showlegend": false,
         "type": "scatter",
         "x": [
          "2019-01-03T02:00:00",
          "2019-01-04T23:00:00"
         ],
         "xaxis": "x4",
         "y": [
          0.5,
          0.5
         ],
         "yaxis": "y4"
        }
       ],
       "layout": {
        "annotations": [
         {
          "showarrow": false,
          "text": "Threshold level",
          "xref": "x",
          "y": 0.3,
          "yref": "y"
         }
        ],
        "height": 600,
        "margin": {
         "b": 10,
         "r": 20,
         "t": 50
        },
        "shapes": [
         {
          "line": {
           "color": "red",
           "dash": "dash",
           "width": 1
          },
          "type": "line",
          "x0": 0,
          "x1": 1,
          "xref": "x3 domain",
          "y0": 0.2,
          "y1": 0.2,
          "yref": "y3"
         }
        ],
        "template": {
         "data": {
          "bar": [
           {
            "error_x": {
             "color": "#2a3f5f"
            },
            "error_y": {
             "color": "#2a3f5f"
            },
            "marker": {
             "line": {
              "color": "#E5ECF6",
              "width": 0.5
             }
            },
            "type": "bar"
           }
          ],
          "barpolar": [
           {
            "marker": {
             "line": {
              "color": "#E5ECF6",
              "width": 0.5
             }
            },
            "type": "barpolar"
           }
          ],
          "carpet": [
           {
            "aaxis": {
             "endlinecolor": "#2a3f5f",
             "gridcolor": "white",
             "linecolor": "white",
             "minorgridcolor": "white",
             "startlinecolor": "#2a3f5f"
            },
            "baxis": {
             "endlinecolor": "#2a3f5f",
             "gridcolor": "white",
             "linecolor": "white",
             "minorgridcolor": "white",
             "startlinecolor": "#2a3f5f"
            },
            "type": "carpet"
           }
          ],
          "choropleth": [
           {
            "colorbar": {
             "outlinewidth": 0,
             "ticks": ""
            },
            "type": "choropleth"
           }
          ],
          "contour": [
           {
            "colorbar": {
             "outlinewidth": 0,
             "ticks": ""
            },
            "colorscale": [
             [
              0,
              "#0d0887"
             ],
             [
              0.1111111111111111,
              "#46039f"
             ],
             [
              0.2222222222222222,
              "#7201a8"
             ],
             [
              0.3333333333333333,
              "#9c179e"
             ],
             [
              0.4444444444444444,
              "#bd3786"
             ],
             [
              0.5555555555555556,
              "#d8576b"
             ],
             [
              0.6666666666666666,
              "#ed7953"
             ],
             [
              0.7777777777777778,
              "#fb9f3a"
             ],
             [
              0.8888888888888888,
              "#fdca26"
             ],
             [
              1,
              "#f0f921"
             ]
            ],
            "type": "contour"
           }
          ],
          "contourcarpet": [
           {
            "colorbar": {
             "outlinewidth": 0,
             "ticks": ""
            },
            "type": "contourcarpet"
           }
          ],
          "heatmap": [
           {
            "colorbar": {
             "outlinewidth": 0,
             "ticks": ""
            },
            "colorscale": [
             [
              0,
              "#0d0887"
             ],
             [
              0.1111111111111111,
              "#46039f"
             ],
             [
              0.2222222222222222,
              "#7201a8"
             ],
             [
              0.3333333333333333,
              "#9c179e"
             ],
             [
              0.4444444444444444,
              "#bd3786"
             ],
             [
              0.5555555555555556,
              "#d8576b"
             ],
             [
              0.6666666666666666,
              "#ed7953"
             ],
             [
              0.7777777777777778,
              "#fb9f3a"
             ],
             [
              0.8888888888888888,
              "#fdca26"
             ],
             [
              1,
              "#f0f921"
             ]
            ],
            "type": "heatmap"
           }
          ],
          "heatmapgl": [
           {
            "colorbar": {
             "outlinewidth": 0,
             "ticks": ""
            },
            "colorscale": [
             [
              0,
              "#0d0887"
             ],
             [
              0.1111111111111111,
              "#46039f"
             ],
             [
              0.2222222222222222,
              "#7201a8"
             ],
             [
              0.3333333333333333,
              "#9c179e"
             ],
             [
              0.4444444444444444,
              "#bd3786"
             ],
             [
              0.5555555555555556,
              "#d8576b"
             ],
             [
              0.6666666666666666,
              "#ed7953"
             ],
             [
              0.7777777777777778,
              "#fb9f3a"
             ],
             [
              0.8888888888888888,
              "#fdca26"
             ],
             [
              1,
              "#f0f921"
             ]
            ],
            "type": "heatmapgl"
           }
          ],
          "histogram": [
           {
            "marker": {
             "colorbar": {
              "outlinewidth": 0,
              "ticks": ""
             }
            },
            "type": "histogram"
           }
          ],
          "histogram2d": [
           {
            "colorbar": {
             "outlinewidth": 0,
             "ticks": ""
            },
            "colorscale": [
             [
              0,
              "#0d0887"
             ],
             [
              0.1111111111111111,
              "#46039f"
             ],
             [
              0.2222222222222222,
              "#7201a8"
             ],
             [
              0.3333333333333333,
              "#9c179e"
             ],
             [
              0.4444444444444444,
              "#bd3786"
             ],
             [
              0.5555555555555556,
              "#d8576b"
             ],
             [
              0.6666666666666666,
              "#ed7953"
             ],
             [
              0.7777777777777778,
              "#fb9f3a"
             ],
             [
              0.8888888888888888,
              "#fdca26"
             ],
             [
              1,
              "#f0f921"
             ]
            ],
            "type": "histogram2d"
           }
          ],
          "histogram2dcontour": [
           {
            "colorbar": {
             "outlinewidth": 0,
             "ticks": ""
            },
            "colorscale": [
             [
              0,
              "#0d0887"
             ],
             [
              0.1111111111111111,
              "#46039f"
             ],
             [
              0.2222222222222222,
              "#7201a8"
             ],
             [
              0.3333333333333333,
              "#9c179e"
             ],
             [
              0.4444444444444444,
              "#bd3786"
             ],
             [
              0.5555555555555556,
              "#d8576b"
             ],
             [
              0.6666666666666666,
              "#ed7953"
             ],
             [
              0.7777777777777778,
              "#fb9f3a"
             ],
             [
              0.8888888888888888,
              "#fdca26"
             ],
             [
              1,
              "#f0f921"
             ]
            ],
            "type": "histogram2dcontour"
           }
          ],
          "mesh3d": [
           {
            "colorbar": {
             "outlinewidth": 0,
             "ticks": ""
            },
            "type": "mesh3d"
           }
          ],
          "parcoords": [
           {
            "line": {
             "colorbar": {
              "outlinewidth": 0,
              "ticks": ""
             }
            },
            "type": "parcoords"
           }
          ],
          "pie": [
           {
            "automargin": true,
            "type": "pie"
           }
          ],
          "scatter": [
           {
            "marker": {
             "colorbar": {
              "outlinewidth": 0,
              "ticks": ""
             }
            },
            "type": "scatter"
           }
          ],
          "scatter3d": [
           {
            "line": {
             "colorbar": {
              "outlinewidth": 0,
              "ticks": ""
             }
            },
            "marker": {
             "colorbar": {
              "outlinewidth": 0,
              "ticks": ""
             }
            },
            "type": "scatter3d"
           }
          ],
          "scattercarpet": [
           {
            "marker": {
             "colorbar": {
              "outlinewidth": 0,
              "ticks": ""
             }
            },
            "type": "scattercarpet"
           }
          ],
          "scattergeo": [
           {
            "marker": {
             "colorbar": {
              "outlinewidth": 0,
              "ticks": ""
             }
            },
            "type": "scattergeo"
           }
          ],
          "scattergl": [
           {
            "marker": {
             "colorbar": {
              "outlinewidth": 0,
              "ticks": ""
             }
            },
            "type": "scattergl"
           }
          ],
          "scattermapbox": [
           {
            "marker": {
             "colorbar": {
              "outlinewidth": 0,
              "ticks": ""
             }
            },
            "type": "scattermapbox"
           }
          ],
          "scatterpolar": [
           {
            "marker": {
             "colorbar": {
              "outlinewidth": 0,
              "ticks": ""
             }
            },
            "type": "scatterpolar"
           }
          ],
          "scatterpolargl": [
           {
            "marker": {
             "colorbar": {
              "outlinewidth": 0,
              "ticks": ""
             }
            },
            "type": "scatterpolargl"
           }
          ],
          "scatterternary": [
           {
            "marker": {
             "colorbar": {
              "outlinewidth": 0,
              "ticks": ""
             }
            },
            "type": "scatterternary"
           }
          ],
          "surface": [
           {
            "colorbar": {
             "outlinewidth": 0,
             "ticks": ""
            },
            "colorscale": [
             [
              0,
              "#0d0887"
             ],
             [
              0.1111111111111111,
              "#46039f"
             ],
             [
              0.2222222222222222,
              "#7201a8"
             ],
             [
              0.3333333333333333,
              "#9c179e"
             ],
             [
              0.4444444444444444,
              "#bd3786"
             ],
             [
              0.5555555555555556,
              "#d8576b"
             ],
             [
              0.6666666666666666,
              "#ed7953"
             ],
             [
              0.7777777777777778,
              "#fb9f3a"
             ],
             [
              0.8888888888888888,
              "#fdca26"
             ],
             [
              1,
              "#f0f921"
             ]
            ],
            "type": "surface"
           }
          ],
          "table": [
           {
            "cells": {
             "fill": {
              "color": "#EBF0F8"
             },
             "line": {
              "color": "white"
             }
            },
            "header": {
             "fill": {
              "color": "#C8D4E3"
             },
             "line": {
              "color": "white"
             }
            },
            "type": "table"
           }
          ]
         },
         "layout": {
          "annotationdefaults": {
           "arrowcolor": "#2a3f5f",
           "arrowhead": 0,
           "arrowwidth": 1
          },
          "autotypenumbers": "strict",
          "coloraxis": {
           "colorbar": {
            "outlinewidth": 0,
            "ticks": ""
           }
          },
          "colorscale": {
           "diverging": [
            [
             0,
             "#8e0152"
            ],
            [
             0.1,
             "#c51b7d"
            ],
            [
             0.2,
             "#de77ae"
            ],
            [
             0.3,
             "#f1b6da"
            ],
            [
             0.4,
             "#fde0ef"
            ],
            [
             0.5,
             "#f7f7f7"
            ],
            [
             0.6,
             "#e6f5d0"
            ],
            [
             0.7,
             "#b8e186"
            ],
            [
             0.8,
             "#7fbc41"
            ],
            [
             0.9,
             "#4d9221"
            ],
            [
             1,
             "#276419"
            ]
           ],
           "sequential": [
            [
             0,
             "#0d0887"
            ],
            [
             0.1111111111111111,
             "#46039f"
            ],
            [
             0.2222222222222222,
             "#7201a8"
            ],
            [
             0.3333333333333333,
             "#9c179e"
            ],
            [
             0.4444444444444444,
             "#bd3786"
            ],
            [
             0.5555555555555556,
             "#d8576b"
            ],
            [
             0.6666666666666666,
             "#ed7953"
            ],
            [
             0.7777777777777778,
             "#fb9f3a"
            ],
            [
             0.8888888888888888,
             "#fdca26"
            ],
            [
             1,
             "#f0f921"
            ]
           ],
           "sequentialminus": [
            [
             0,
             "#0d0887"
            ],
            [
             0.1111111111111111,
             "#46039f"
            ],
            [
             0.2222222222222222,
             "#7201a8"
            ],
            [
             0.3333333333333333,
             "#9c179e"
            ],
            [
             0.4444444444444444,
             "#bd3786"
            ],
            [
             0.5555555555555556,
             "#d8576b"
            ],
            [
             0.6666666666666666,
             "#ed7953"
            ],
            [
             0.7777777777777778,
             "#fb9f3a"
            ],
            [
             0.8888888888888888,
             "#fdca26"
            ],
            [
             1,
             "#f0f921"
            ]
           ]
          },
          "colorway": [
           "#636efa",
           "#EF553B",
           "#00cc96",
           "#ab63fa",
           "#FFA15A",
           "#19d3f3",
           "#FF6692",
           "#B6E880",
           "#FF97FF",
           "#FECB52"
          ],
          "font": {
           "color": "#2a3f5f"
          },
          "geo": {
           "bgcolor": "white",
           "lakecolor": "white",
           "landcolor": "#E5ECF6",
           "showlakes": true,
           "showland": true,
           "subunitcolor": "white"
          },
          "hoverlabel": {
           "align": "left"
          },
          "hovermode": "closest",
          "mapbox": {
           "style": "light"
          },
          "paper_bgcolor": "white",
          "plot_bgcolor": "#E5ECF6",
          "polar": {
           "angularaxis": {
            "gridcolor": "white",
            "linecolor": "white",
            "ticks": ""
           },
           "bgcolor": "#E5ECF6",
           "radialaxis": {
            "gridcolor": "white",
            "linecolor": "white",
            "ticks": ""
           }
          },
          "scene": {
           "xaxis": {
            "backgroundcolor": "#E5ECF6",
            "gridcolor": "white",
            "gridwidth": 2,
            "linecolor": "white",
            "showbackground": true,
            "ticks": "",
            "zerolinecolor": "white"
           },
           "yaxis": {
            "backgroundcolor": "#E5ECF6",
            "gridcolor": "white",
            "gridwidth": 2,
            "linecolor": "white",
            "showbackground": true,
            "ticks": "",
            "zerolinecolor": "white"
           },
           "zaxis": {
            "backgroundcolor": "#E5ECF6",
            "gridcolor": "white",
            "gridwidth": 2,
            "linecolor": "white",
            "showbackground": true,
            "ticks": "",
            "zerolinecolor": "white"
           }
          },
          "shapedefaults": {
           "line": {
            "color": "#2a3f5f"
           }
          },
          "ternary": {
           "aaxis": {
            "gridcolor": "white",
            "linecolor": "white",
            "ticks": ""
           },
           "baxis": {
            "gridcolor": "white",
            "linecolor": "white",
            "ticks": ""
           },
           "bgcolor": "#E5ECF6",
           "caxis": {
            "gridcolor": "white",
            "linecolor": "white",
            "ticks": ""
           }
          },
          "title": {
           "x": 0.05
          },
          "xaxis": {
           "automargin": true,
           "gridcolor": "white",
           "linecolor": "white",
           "ticks": "",
           "title": {
            "standoff": 15
           },
           "zerolinecolor": "white",
           "zerolinewidth": 2
          },
          "yaxis": {
           "automargin": true,
           "gridcolor": "white",
           "linecolor": "white",
           "ticks": "",
           "title": {
            "standoff": 15
           },
           "zerolinecolor": "white",
           "zerolinewidth": 2
          }
         }
        },
        "title": {
         "text": "Transformation from characteristic parameter to weather windows"
        },
        "xaxis": {
         "anchor": "y",
         "domain": [
          0,
          1
         ],
         "range": [
          "2019-01-01T00:00:00",
          "2019-01-04T23:00:00"
         ]
        },
        "xaxis2": {
         "anchor": "y2",
         "domain": [
          0,
          1
         ],
         "range": [
          "2019-01-01T00:00:00",
          "2019-01-04T23:00:00"
         ],
         "showgrid": false,
         "showticklabels": false,
         "zeroline": false
        },
        "xaxis3": {
         "anchor": "y3",
         "domain": [
          0,
          1
         ],
         "range": [
          "2019-01-01T00:00:00",
          "2019-01-04T23:00:00"
         ]
        },
        "xaxis4": {
         "anchor": "y4",
         "domain": [
          0,
          1
         ],
         "range": [
          "2019-01-01T00:00:00",
          "2019-01-04T23:00:00"
         ],
         "showgrid": false,
         "showticklabels": false,
         "zeroline": false
        },
        "yaxis": {
         "anchor": "x",
         "domain": [
          0.6900000000000001,
          1
         ],
         "title": {
          "text": "Sign. wave height [m]"
         }
        },
        "yaxis2": {
         "anchor": "x2",
         "domain": [
          0.5375000000000001,
          0.6150000000000001
         ],
         "showgrid": false,
         "showticklabels": false,
         "zeroline": false
        },
        "yaxis3": {
         "anchor": "x3",
         "domain": [
          0.15250000000000002,
          0.4625000000000001
         ],
         "title": {
          "text": "Heave amplitude [m]"
         }
        },
        "yaxis4": {
         "anchor": "x4",
         "domain": [
          0,
          0.07750000000000001
         ],
         "showgrid": false,
         "showticklabels": false,
         "zeroline": false
        }
       }
      }
     },
     "metadata": {}
    }
   ],
   "source": [
    "# Find the data of interest.\n",
    "frequency = xr.DataArray(ds[\"wave_data\"].sel(dict(wave_parameter=\"Tp\")))\n",
    "angle = xr.DataArray(ds[\"wave_data\"].sel(dict(wave_parameter=\"MWD\")))\n",
    "raos = ds[\"launch_rao\"].interp(dict(freq=frequency, dir=angle))\n",
    "heave_motion = raos.loc[\"RAOHeaveAmp\"] * ds[\"wave_data\"].sel(dict(wave_parameter=\"Hm0\"))\n",
    "\n",
    "allowable_sea_state = pd.read_excel(\"./data/raw/Pivot_max_Hs_Splash_zone_current_0_DAF_1.2_Angles_1.6874.xlsx\", index_col=[0])\n",
    "allowable_sea_state.index.names = [\"dir\"]\n",
    "allowable_sea_state.columns.names = [\"freq\"]\n",
    "allowable_sea_state = xr.DataArray(data=allowable_sea_state)\n",
    "\n",
    "hs_lim = allowable_sea_state.interp(dict(freq=frequency, dir=angle)).fillna(0)\n",
    "\n",
    "# Create figure.\n",
    "fig = make_subplots(rows=4, cols=1, row_heights=[0.4, .1, 0.4, .1])\n",
    "\n",
    "# Add significant wave height.\n",
    "fig.add_trace(\n",
    "    go.Scatter(\n",
    "        x=waves.index,\n",
    "        y=waves[\"Hm0\"],\n",
    "        marker=dict(color=\"blue\"),\n",
    "        showlegend=False\n",
    "    ),\n",
    "    row=1, col=1\n",
    ")\n",
    "\n",
    "# Add heave line.\n",
    "fig.add_trace(\n",
    "    go.Scatter(\n",
    "        x=waves.index,\n",
    "        y=heave_motion,\n",
    "        marker=dict(color=\"blue\"),\n",
    "        showlegend=False\n",
    "    ),\n",
    "    row=3, col=1\n",
    ")\n",
    "\n",
    "fig.add_hline(0.2, line=dict(color=\"red\", dash=\"dash\", width=1), row=3, col=1)\n",
    "\n",
    "fig.add_trace(\n",
    "    go.Scatter(\n",
    "        x=waves.index,\n",
    "        y=hs_lim,\n",
    "        line=dict(color=\"red\", dash=\"dash\"),\n",
    "        showlegend=False,\n",
    "    ),\n",
    "    row=1, col=1\n",
    ")\n",
    "\n",
    "fig.add_annotation(\n",
    "    text=\"Threshold level\",\n",
    "    showarrow=False,\n",
    "    y=0.3,\n",
    "    row=1, col=1\n",
    ")\n",
    "\n",
    "for i in range(len(hswindows)):\n",
    "    if hswindows.iloc[i][\"violated\"]:\n",
    "        color=\"red\"\n",
    "    else:\n",
    "        color=\"green\"\n",
    "\n",
    "    fig.add_trace(\n",
    "        go.Scatter(\n",
    "            x=[hswindows.iloc[i][\"start\"], hswindows.iloc[i][\"stop\"]],\n",
    "            y=[4, 4],\n",
    "            line=dict(width=5, color=color),\n",
    "            marker=dict(size=8, symbol=\"line-ns\", line=dict(width=1)),\n",
    "            showlegend=False\n",
    "            \n",
    "        ),\n",
    "        row=2, col=1\n",
    "    )\n",
    "\n",
    "for i in range(len(heavewindows)):\n",
    "    if heavewindows.iloc[i][\"violated\"]:\n",
    "        color=\"red\"\n",
    "    else:\n",
    "        color=\"green\"\n",
    "\n",
    "    fig.add_trace(\n",
    "        go.Scatter(\n",
    "            x=[heavewindows.iloc[i][\"start\"], heavewindows.iloc[i][\"stop\"]],\n",
    "            y=[.5, .5],\n",
    "            line=dict(width=5, color=color),\n",
    "            marker=dict(size=8, symbol=\"line-ns\", line=dict(width=1)),\n",
    "            showlegend=False\n",
    "            \n",
    "        ),\n",
    "        row=4, col=1\n",
    "    )\n",
    "\n",
    "fig.update_xaxes(row=1, col=1, range=[waves.index[0], waves.index[-1]])\n",
    "fig.update_yaxes(row=1, col=1, title=\"Sign. wave height [m]\")\n",
    "\n",
    "fig.update_xaxes(row=2, col=1, range=[waves.index[0], waves.index[-1]])\n",
    "fig.update_yaxes(row=2, col=1, showgrid=False, zeroline=False, showticklabels=False)\n",
    "fig.update_xaxes(row=2, col=1, showgrid=False, zeroline=False, showticklabels=False)\n",
    "\n",
    "fig.update_xaxes(row=3, col=1, range=[waves.index[0], waves.index[-1]])\n",
    "fig.update_yaxes(row=3, col=1, title=\"Heave amplitude [m]\")\n",
    "\n",
    "fig.update_xaxes(row=4, col=1, range=[waves.index[0], waves.index[-1]])\n",
    "fig.update_yaxes(row=4, col=1, showgrid=False, zeroline=False, showticklabels=False)\n",
    "fig.update_xaxes(row=4, col=1, showgrid=False, zeroline=False, showticklabels=False)\n",
    "\n",
    "\n",
    "fig.update_layout(\n",
    "    height=600,\n",
    "    title=\"Transformation from characteristic parameter to weather windows\",\n",
    "    margin=dict(\n",
    "        t=50,\n",
    "        b=10,\n",
    "        r=20\n",
    "    )\n",
    ")\n",
    "\n"
   ]
  },
  {
   "cell_type": "code",
   "execution_count": 262,
   "metadata": {},
   "outputs": [],
   "source": [
    "waves[\"hs_violated\"] = waves[\"Hm0\"] > hs_lim\n",
    "waves[\"heave_violated\"] = heave_motion > 0.2"
   ]
  },
  {
   "cell_type": "code",
   "execution_count": 263,
   "metadata": {},
   "outputs": [],
   "source": [
    "waves[\"hs_block\"] = (waves[\"hs_violated\"] != waves[\"hs_violated\"].shift()).cumsum()\n",
    "waves[\"heave_block\"] = (waves[\"heave_violated\"] != waves[\"heave_violated\"].shift()).cumsum()"
   ]
  },
  {
   "cell_type": "code",
   "execution_count": 264,
   "metadata": {},
   "outputs": [],
   "source": [
    "hswindows = pd.DataFrame(dict(\n",
    "    start = waves.reset_index().groupby(\"hs_block\")[\"datetime\"].first(),\n",
    "    stop = waves.reset_index().groupby(\"hs_block\")[\"datetime\"].first().shift(-1),\n",
    "    violated = waves.reset_index().groupby(\"hs_block\")[\"hs_violated\"].first()\n",
    "))\n",
    "\n",
    "heavewindows = pd.DataFrame(dict(\n",
    "    start = waves.reset_index().groupby(\"heave_block\")[\"datetime\"].first(),\n",
    "    stop = waves.reset_index().groupby(\"heave_block\")[\"datetime\"].first().shift(-1),\n",
    "    violated = waves.reset_index().groupby(\"heave_block\")[\"heave_violated\"].first()\n",
    "))\n"
   ]
  },
  {
   "cell_type": "code",
   "execution_count": 265,
   "metadata": {},
   "outputs": [],
   "source": [
    "hswindows.loc[len(hswindows), \"stop\"] = waves.reset_index().iloc[-1][\"datetime\"]\n",
    "heavewindows.loc[len(heavewindows), \"stop\"] = waves.reset_index().iloc[-1][\"datetime\"]"
   ]
  },
  {
   "cell_type": "code",
   "execution_count": 267,
   "metadata": {},
   "outputs": [
    {
     "output_type": "execute_result",
     "data": {
      "text/plain": [
       "                       start                stop  violated\n",
       "hs_block                                                  \n",
       "1        2019-01-01 00:00:00 2019-01-01 02:00:00     False\n",
       "2        2019-01-01 02:00:00 2019-01-04 02:00:00      True\n",
       "3        2019-01-04 02:00:00 2019-01-04 17:00:00     False\n",
       "4        2019-01-04 17:00:00 2019-01-04 20:00:00      True\n",
       "5        2019-01-04 20:00:00 2019-01-04 23:00:00     False\n",
       "6        2019-01-04 23:00:00 2019-01-04 23:00:00      True"
      ],
      "text/html": "<div>\n<style scoped>\n    .dataframe tbody tr th:only-of-type {\n        vertical-align: middle;\n    }\n\n    .dataframe tbody tr th {\n        vertical-align: top;\n    }\n\n    .dataframe thead th {\n        text-align: right;\n    }\n</style>\n<table border=\"1\" class=\"dataframe\">\n  <thead>\n    <tr style=\"text-align: right;\">\n      <th></th>\n      <th>start</th>\n      <th>stop</th>\n      <th>violated</th>\n    </tr>\n    <tr>\n      <th>hs_block</th>\n      <th></th>\n      <th></th>\n      <th></th>\n    </tr>\n  </thead>\n  <tbody>\n    <tr>\n      <th>1</th>\n      <td>2019-01-01 00:00:00</td>\n      <td>2019-01-01 02:00:00</td>\n      <td>False</td>\n    </tr>\n    <tr>\n      <th>2</th>\n      <td>2019-01-01 02:00:00</td>\n      <td>2019-01-04 02:00:00</td>\n      <td>True</td>\n    </tr>\n    <tr>\n      <th>3</th>\n      <td>2019-01-04 02:00:00</td>\n      <td>2019-01-04 17:00:00</td>\n      <td>False</td>\n    </tr>\n    <tr>\n      <th>4</th>\n      <td>2019-01-04 17:00:00</td>\n      <td>2019-01-04 20:00:00</td>\n      <td>True</td>\n    </tr>\n    <tr>\n      <th>5</th>\n      <td>2019-01-04 20:00:00</td>\n      <td>2019-01-04 23:00:00</td>\n      <td>False</td>\n    </tr>\n    <tr>\n      <th>6</th>\n      <td>2019-01-04 23:00:00</td>\n      <td>2019-01-04 23:00:00</td>\n      <td>True</td>\n    </tr>\n  </tbody>\n</table>\n</div>"
     },
     "metadata": {},
     "execution_count": 267
    }
   ],
   "source": [
    "hswindows"
   ]
  },
  {
   "cell_type": "code",
   "execution_count": null,
   "metadata": {},
   "outputs": [],
   "source": []
  }
 ]
}
{
 "metadata": {
  "language_info": {
   "codemirror_mode": {
    "name": "ipython",
    "version": 3
   },
   "file_extension": ".py",
   "mimetype": "text/x-python",
   "name": "python",
   "nbconvert_exporter": "python",
   "pygments_lexer": "ipython3",
   "version": "3.9.2"
  },
  "orig_nbformat": 2,
  "kernelspec": {
   "name": "python392jvsc74a57bd0ff0b7ed713ddbd18bc38f061c86550abad537aaba25b9f837b6448d675497d76",
   "display_name": "Python 3.9.2 64-bit ('VanOord': conda)"
  }
 },
 "nbformat": 4,
 "nbformat_minor": 2,
 "cells": [
  {
   "cell_type": "code",
   "execution_count": 2,
   "metadata": {},
   "outputs": [],
   "source": [
    "from model import DESModel, HydroDynamicModel\n",
    "import openclsim.plot as plot\n",
    "import datetime as dt\n",
    "import pandas as pd\n",
    "import numpy as np\n",
    "import xarray as xr"
   ]
  },
  {
   "cell_type": "code",
   "execution_count": 3,
   "metadata": {},
   "outputs": [],
   "source": [
    "m = DESModel()\n",
    "m.resources()\n",
    "m.processes(limit_expr=lambda Hm0: Hm0 > 0.5)\n",
    "m.start_simulation()"
   ]
  },
  {
   "cell_type": "code",
   "execution_count": 4,
   "metadata": {},
   "outputs": [
    {
     "output_type": "execute_result",
     "data": {
      "text/plain": [
       "                               Activity           Timestamp ActivityState  \\\n",
       "0  e170d3c6-6fc8-48db-be60-3948d9d45646 2018-01-01 00:00:00    WAIT_START   \n",
       "1  e170d3c6-6fc8-48db-be60-3948d9d45646 2018-01-11 05:00:00     WAIT_STOP   \n",
       "2  e170d3c6-6fc8-48db-be60-3948d9d45646 2018-01-11 05:00:00         START   \n",
       "3  e170d3c6-6fc8-48db-be60-3948d9d45646 2018-01-11 06:00:00          STOP   \n",
       "\n",
       "     type                 ref  \n",
       "0  plugin  waiting on weather  \n",
       "1  plugin  waiting on weather  \n",
       "2     NaN                 NaN  \n",
       "3     NaN                 NaN  "
      ],
      "text/html": "<div>\n<style scoped>\n    .dataframe tbody tr th:only-of-type {\n        vertical-align: middle;\n    }\n\n    .dataframe tbody tr th {\n        vertical-align: top;\n    }\n\n    .dataframe thead th {\n        text-align: right;\n    }\n</style>\n<table border=\"1\" class=\"dataframe\">\n  <thead>\n    <tr style=\"text-align: right;\">\n      <th></th>\n      <th>Activity</th>\n      <th>Timestamp</th>\n      <th>ActivityState</th>\n      <th>type</th>\n      <th>ref</th>\n    </tr>\n  </thead>\n  <tbody>\n    <tr>\n      <th>0</th>\n      <td>e170d3c6-6fc8-48db-be60-3948d9d45646</td>\n      <td>2018-01-01 00:00:00</td>\n      <td>WAIT_START</td>\n      <td>plugin</td>\n      <td>waiting on weather</td>\n    </tr>\n    <tr>\n      <th>1</th>\n      <td>e170d3c6-6fc8-48db-be60-3948d9d45646</td>\n      <td>2018-01-11 05:00:00</td>\n      <td>WAIT_STOP</td>\n      <td>plugin</td>\n      <td>waiting on weather</td>\n    </tr>\n    <tr>\n      <th>2</th>\n      <td>e170d3c6-6fc8-48db-be60-3948d9d45646</td>\n      <td>2018-01-11 05:00:00</td>\n      <td>START</td>\n      <td>NaN</td>\n      <td>NaN</td>\n    </tr>\n    <tr>\n      <th>3</th>\n      <td>e170d3c6-6fc8-48db-be60-3948d9d45646</td>\n      <td>2018-01-11 06:00:00</td>\n      <td>STOP</td>\n      <td>NaN</td>\n      <td>NaN</td>\n    </tr>\n  </tbody>\n</table>\n</div>"
     },
     "metadata": {},
     "execution_count": 4
    }
   ],
   "source": [
    "plot.get_log_dataframe(m.process)\n"
   ]
  },
  {
   "cell_type": "code",
   "execution_count": 5,
   "metadata": {},
   "outputs": [
    {
     "output_type": "execute_result",
     "data": {
      "text/plain": [
       "Timedelta('10 days 06:00:00')"
      ]
     },
     "metadata": {},
     "execution_count": 5
    }
   ],
   "source": [
    "m.project_length()"
   ]
  },
  {
   "cell_type": "code",
   "execution_count": 6,
   "metadata": {},
   "outputs": [],
   "source": [
    "df = m.weather_resource.conditions_database.set_index(\"Timestamp\").copy()\n",
    "df = df[[\"Hm0\", \"MWD\" ,\"Tp\"]]"
   ]
  },
  {
   "cell_type": "code",
   "execution_count": 119,
   "metadata": {},
   "outputs": [],
   "source": []
  },
  {
   "cell_type": "code",
   "execution_count": 7,
   "metadata": {},
   "outputs": [],
   "source": [
    "# Pandas 2D RAOs to 3D Xarray.\n",
    "rao = pd.read_csv(\"./data/preprocessed/MPI_Adventure_RAO.csv\")\n",
    "datasets = np.array_split(rao.set_index([\"RAOPeriodOrFreq\", \"dir\"]), 12, axis=1)\n",
    "datasets = [data.pivot_table(index=\"RAOPeriodOrFreq\", columns=\"dir\") for data in datasets]\n",
    "\n",
    "rao_da = xr.DataArray(\n",
    "    datasets, \n",
    "    dims=[\"DOF\", \"Freq\", \"Dir\"], coords={\n",
    "        \"DOF\": [\"SurgeAmp\", \"SurgePhase\", \"SwayAmp\", \"SwayPhase\", \"HeaveAmp\", \"HeavePhase\", \"RollAmp\", \"RollPhase\", \"PitchAmp\", \"PitchPhase\", \"YawAmp\", \"YawPhase\"],\n",
    "        \"Freq\": datasets[0].index.values,\n",
    "        \"Dir\": (datasets[0].columns.droplevel(0).values % 360)\n",
    "    }\n",
    ").sortby(\"Dir\")"
   ]
  },
  {
   "cell_type": "code",
   "execution_count": 8,
   "metadata": {},
   "outputs": [],
   "source": [
    "# Setup wave heading.\n",
    "heading = 270\n",
    "\n",
    "# Define wave parameters.\n",
    "H_swell, T_swell, D_swell = (.5, 9, (180 + heading - 315) % 360)\n",
    "H_windsea, T_windsea, D_windsea = (2, 5, (180 + heading - 225) % 360)\n",
    "\n",
    "# Get uncoupled responses.\n",
    "swell_response = rao_da.sel(dict(Freq=T_swell, Dir=D_swell), method=\"nearest\") * H_swell \n",
    "windsea_response = rao_da.sel(dict(Freq=T_windsea, Dir=D_windsea), method=\"nearest\") * H_windsea"
   ]
  },
  {
   "cell_type": "code",
   "execution_count": 9,
   "metadata": {},
   "outputs": [
    {
     "output_type": "execute_result",
     "data": {
      "text/plain": [
       "DOF\n",
       "SurgeAmp        0.0865\n",
       "SurgePhase   -193.7005\n",
       "SwayAmp         0.0725\n",
       "SwayPhase    -131.7545\n",
       "HeaveAmp        0.1595\n",
       "HeavePhase    186.5610\n",
       "RollAmp         0.1780\n",
       "RollPhase     140.2330\n",
       "PitchAmp        0.6160\n",
       "PitchPhase    -57.6650\n",
       "YawAmp          0.3430\n",
       "YawPhase     -167.5500\n",
       "dtype: float64"
      ]
     },
     "metadata": {},
     "execution_count": 9
    }
   ],
   "source": [
    "(swell_response + windsea_response).to_pandas()"
   ]
  },
  {
   "cell_type": "code",
   "execution_count": 27,
   "metadata": {},
   "outputs": [
    {
     "output_type": "execute_result",
     "data": {
      "text/plain": [
       "Freq         15.830   15.830   15.830   15.830   15.830   15.830   15.830  \\\n",
       "DOF                                                                         \n",
       "SurgeAmp      0.958    0.958    0.958    0.958    0.958    0.958    0.958   \n",
       "SurgePhase  -89.619  -89.619  -89.619  -89.619  -89.619  -89.619  -89.619   \n",
       "SwayAmp       0.777    0.777    0.777    0.777    0.777    0.777    0.777   \n",
       "SwayPhase    90.014   90.014   90.014   90.014   90.014   90.014   90.014   \n",
       "HeaveAmp      0.702    0.702    0.702    0.702    0.702    0.702    0.702   \n",
       "HeavePhase   -1.431   -1.431   -1.431   -1.431   -1.431   -1.431   -1.431   \n",
       "RollAmp       0.999    0.999    0.999    0.999    0.999    0.999    0.999   \n",
       "RollPhase   109.135  109.135  109.135  109.135  109.135  109.135  109.135   \n",
       "PitchAmp      1.124    1.124    1.124    1.124    1.124    1.124    1.124   \n",
       "PitchPhase   98.725   98.725   98.725   98.725   98.725   98.725   98.725   \n",
       "YawAmp        0.765    0.765    0.765    0.765    0.765    0.765    0.765   \n",
       "YawPhase     -1.383   -1.383   -1.383   -1.383   -1.383   -1.383   -1.383   \n",
       "\n",
       "Freq         15.830   15.830   15.830  ...   5.380    5.380    5.535   \\\n",
       "DOF                                    ...                              \n",
       "SurgeAmp      0.958    0.958    0.958  ...    0.027    0.027    0.032   \n",
       "SurgePhase  -89.619  -89.619  -89.619  ...  -61.007  -61.007  -38.175   \n",
       "SwayAmp       0.777    0.777    0.777  ...    0.012    0.012    0.005   \n",
       "SwayPhase    90.014   90.014   90.014  ...   50.230   50.230  162.561   \n",
       "HeaveAmp      0.702    0.702    0.702  ...    0.027    0.027    0.027   \n",
       "HeavePhase   -1.431   -1.431   -1.431  ...  113.415  113.415  140.391   \n",
       "RollAmp       0.999    0.999    0.999  ...    0.080    0.080    0.080   \n",
       "RollPhase   109.135  109.135  109.135  ... -103.529 -103.529 -102.187   \n",
       "PitchAmp      1.124    1.124    1.124  ...    0.067    0.067    0.092   \n",
       "PitchPhase   98.725   98.725   98.725  ...  -43.822  -43.822  -29.248   \n",
       "YawAmp        0.765    0.765    0.765  ...    0.065    0.065    0.074   \n",
       "YawPhase     -1.383   -1.383   -1.383  ...  123.878  123.878  129.844   \n",
       "\n",
       "Freq         9.049    8.323    8.323    8.323    7.759    7.759    7.759   \n",
       "DOF                                                                        \n",
       "SurgeAmp      0.093    0.019    0.019    0.019    0.032    0.032    0.032  \n",
       "SurgePhase  -81.325  -50.646  -50.646  -50.646   64.178   64.178   64.178  \n",
       "SwayAmp       0.093    0.028    0.028    0.028    0.038    0.038    0.038  \n",
       "SwayPhase    87.727  125.977  125.977  125.977 -141.310 -141.310 -141.310  \n",
       "HeaveAmp      0.263    0.182    0.182    0.182    0.138    0.138    0.138  \n",
       "HeavePhase  -24.946  -40.228  -40.228  -40.228  -64.232  -64.232  -64.232  \n",
       "RollAmp       0.160    0.293    0.293    0.293    0.285    0.285    0.285  \n",
       "RollPhase    57.154   83.991   83.991   83.991   91.181   91.181   91.181  \n",
       "PitchAmp      1.036    0.804    0.804    0.804    0.553    0.553    0.553  \n",
       "PitchPhase  117.726  121.411  121.411  121.411  122.066  122.066  122.066  \n",
       "YawAmp        0.406    0.316    0.316    0.316    0.229    0.229    0.229  \n",
       "YawPhase     -8.436  -10.655  -10.655  -10.655  -12.824  -12.824  -12.824  \n",
       "\n",
       "[12 rows x 262968 columns]"
      ],
      "text/html": "<div>\n<style scoped>\n    .dataframe tbody tr th:only-of-type {\n        vertical-align: middle;\n    }\n\n    .dataframe tbody tr th {\n        vertical-align: top;\n    }\n\n    .dataframe thead th {\n        text-align: right;\n    }\n</style>\n<table border=\"1\" class=\"dataframe\">\n  <thead>\n    <tr style=\"text-align: right;\">\n      <th>Freq</th>\n      <th>15.830</th>\n      <th>15.830</th>\n      <th>15.830</th>\n      <th>15.830</th>\n      <th>15.830</th>\n      <th>15.830</th>\n      <th>15.830</th>\n      <th>15.830</th>\n      <th>15.830</th>\n      <th>15.830</th>\n      <th>...</th>\n      <th>5.380</th>\n      <th>5.380</th>\n      <th>5.535</th>\n      <th>9.049</th>\n      <th>8.323</th>\n      <th>8.323</th>\n      <th>8.323</th>\n      <th>7.759</th>\n      <th>7.759</th>\n      <th>7.759</th>\n    </tr>\n    <tr>\n      <th>DOF</th>\n      <th></th>\n      <th></th>\n      <th></th>\n      <th></th>\n      <th></th>\n      <th></th>\n      <th></th>\n      <th></th>\n      <th></th>\n      <th></th>\n      <th></th>\n      <th></th>\n      <th></th>\n      <th></th>\n      <th></th>\n      <th></th>\n      <th></th>\n      <th></th>\n      <th></th>\n      <th></th>\n      <th></th>\n    </tr>\n  </thead>\n  <tbody>\n    <tr>\n      <th>SurgeAmp</th>\n      <td>0.958</td>\n      <td>0.958</td>\n      <td>0.958</td>\n      <td>0.958</td>\n      <td>0.958</td>\n      <td>0.958</td>\n      <td>0.958</td>\n      <td>0.958</td>\n      <td>0.958</td>\n      <td>0.958</td>\n      <td>...</td>\n      <td>0.027</td>\n      <td>0.027</td>\n      <td>0.032</td>\n      <td>0.093</td>\n      <td>0.019</td>\n      <td>0.019</td>\n      <td>0.019</td>\n      <td>0.032</td>\n      <td>0.032</td>\n      <td>0.032</td>\n    </tr>\n    <tr>\n      <th>SurgePhase</th>\n      <td>-89.619</td>\n      <td>-89.619</td>\n      <td>-89.619</td>\n      <td>-89.619</td>\n      <td>-89.619</td>\n      <td>-89.619</td>\n      <td>-89.619</td>\n      <td>-89.619</td>\n      <td>-89.619</td>\n      <td>-89.619</td>\n      <td>...</td>\n      <td>-61.007</td>\n      <td>-61.007</td>\n      <td>-38.175</td>\n      <td>-81.325</td>\n      <td>-50.646</td>\n      <td>-50.646</td>\n      <td>-50.646</td>\n      <td>64.178</td>\n      <td>64.178</td>\n      <td>64.178</td>\n    </tr>\n    <tr>\n      <th>SwayAmp</th>\n      <td>0.777</td>\n      <td>0.777</td>\n      <td>0.777</td>\n      <td>0.777</td>\n      <td>0.777</td>\n      <td>0.777</td>\n      <td>0.777</td>\n      <td>0.777</td>\n      <td>0.777</td>\n      <td>0.777</td>\n      <td>...</td>\n      <td>0.012</td>\n      <td>0.012</td>\n      <td>0.005</td>\n      <td>0.093</td>\n      <td>0.028</td>\n      <td>0.028</td>\n      <td>0.028</td>\n      <td>0.038</td>\n      <td>0.038</td>\n      <td>0.038</td>\n    </tr>\n    <tr>\n      <th>SwayPhase</th>\n      <td>90.014</td>\n      <td>90.014</td>\n      <td>90.014</td>\n      <td>90.014</td>\n      <td>90.014</td>\n      <td>90.014</td>\n      <td>90.014</td>\n      <td>90.014</td>\n      <td>90.014</td>\n      <td>90.014</td>\n      <td>...</td>\n      <td>50.230</td>\n      <td>50.230</td>\n      <td>162.561</td>\n      <td>87.727</td>\n      <td>125.977</td>\n      <td>125.977</td>\n      <td>125.977</td>\n      <td>-141.310</td>\n      <td>-141.310</td>\n      <td>-141.310</td>\n    </tr>\n    <tr>\n      <th>HeaveAmp</th>\n      <td>0.702</td>\n      <td>0.702</td>\n      <td>0.702</td>\n      <td>0.702</td>\n      <td>0.702</td>\n      <td>0.702</td>\n      <td>0.702</td>\n      <td>0.702</td>\n      <td>0.702</td>\n      <td>0.702</td>\n      <td>...</td>\n      <td>0.027</td>\n      <td>0.027</td>\n      <td>0.027</td>\n      <td>0.263</td>\n      <td>0.182</td>\n      <td>0.182</td>\n      <td>0.182</td>\n      <td>0.138</td>\n      <td>0.138</td>\n      <td>0.138</td>\n    </tr>\n    <tr>\n      <th>HeavePhase</th>\n      <td>-1.431</td>\n      <td>-1.431</td>\n      <td>-1.431</td>\n      <td>-1.431</td>\n      <td>-1.431</td>\n      <td>-1.431</td>\n      <td>-1.431</td>\n      <td>-1.431</td>\n      <td>-1.431</td>\n      <td>-1.431</td>\n      <td>...</td>\n      <td>113.415</td>\n      <td>113.415</td>\n      <td>140.391</td>\n      <td>-24.946</td>\n      <td>-40.228</td>\n      <td>-40.228</td>\n      <td>-40.228</td>\n      <td>-64.232</td>\n      <td>-64.232</td>\n      <td>-64.232</td>\n    </tr>\n    <tr>\n      <th>RollAmp</th>\n      <td>0.999</td>\n      <td>0.999</td>\n      <td>0.999</td>\n      <td>0.999</td>\n      <td>0.999</td>\n      <td>0.999</td>\n      <td>0.999</td>\n      <td>0.999</td>\n      <td>0.999</td>\n      <td>0.999</td>\n      <td>...</td>\n      <td>0.080</td>\n      <td>0.080</td>\n      <td>0.080</td>\n      <td>0.160</td>\n      <td>0.293</td>\n      <td>0.293</td>\n      <td>0.293</td>\n      <td>0.285</td>\n      <td>0.285</td>\n      <td>0.285</td>\n    </tr>\n    <tr>\n      <th>RollPhase</th>\n      <td>109.135</td>\n      <td>109.135</td>\n      <td>109.135</td>\n      <td>109.135</td>\n      <td>109.135</td>\n      <td>109.135</td>\n      <td>109.135</td>\n      <td>109.135</td>\n      <td>109.135</td>\n      <td>109.135</td>\n      <td>...</td>\n      <td>-103.529</td>\n      <td>-103.529</td>\n      <td>-102.187</td>\n      <td>57.154</td>\n      <td>83.991</td>\n      <td>83.991</td>\n      <td>83.991</td>\n      <td>91.181</td>\n      <td>91.181</td>\n      <td>91.181</td>\n    </tr>\n    <tr>\n      <th>PitchAmp</th>\n      <td>1.124</td>\n      <td>1.124</td>\n      <td>1.124</td>\n      <td>1.124</td>\n      <td>1.124</td>\n      <td>1.124</td>\n      <td>1.124</td>\n      <td>1.124</td>\n      <td>1.124</td>\n      <td>1.124</td>\n      <td>...</td>\n      <td>0.067</td>\n      <td>0.067</td>\n      <td>0.092</td>\n      <td>1.036</td>\n      <td>0.804</td>\n      <td>0.804</td>\n      <td>0.804</td>\n      <td>0.553</td>\n      <td>0.553</td>\n      <td>0.553</td>\n    </tr>\n    <tr>\n      <th>PitchPhase</th>\n      <td>98.725</td>\n      <td>98.725</td>\n      <td>98.725</td>\n      <td>98.725</td>\n      <td>98.725</td>\n      <td>98.725</td>\n      <td>98.725</td>\n      <td>98.725</td>\n      <td>98.725</td>\n      <td>98.725</td>\n      <td>...</td>\n      <td>-43.822</td>\n      <td>-43.822</td>\n      <td>-29.248</td>\n      <td>117.726</td>\n      <td>121.411</td>\n      <td>121.411</td>\n      <td>121.411</td>\n      <td>122.066</td>\n      <td>122.066</td>\n      <td>122.066</td>\n    </tr>\n    <tr>\n      <th>YawAmp</th>\n      <td>0.765</td>\n      <td>0.765</td>\n      <td>0.765</td>\n      <td>0.765</td>\n      <td>0.765</td>\n      <td>0.765</td>\n      <td>0.765</td>\n      <td>0.765</td>\n      <td>0.765</td>\n      <td>0.765</td>\n      <td>...</td>\n      <td>0.065</td>\n      <td>0.065</td>\n      <td>0.074</td>\n      <td>0.406</td>\n      <td>0.316</td>\n      <td>0.316</td>\n      <td>0.316</td>\n      <td>0.229</td>\n      <td>0.229</td>\n      <td>0.229</td>\n    </tr>\n    <tr>\n      <th>YawPhase</th>\n      <td>-1.383</td>\n      <td>-1.383</td>\n      <td>-1.383</td>\n      <td>-1.383</td>\n      <td>-1.383</td>\n      <td>-1.383</td>\n      <td>-1.383</td>\n      <td>-1.383</td>\n      <td>-1.383</td>\n      <td>-1.383</td>\n      <td>...</td>\n      <td>123.878</td>\n      <td>123.878</td>\n      <td>129.844</td>\n      <td>-8.436</td>\n      <td>-10.655</td>\n      <td>-10.655</td>\n      <td>-10.655</td>\n      <td>-12.824</td>\n      <td>-12.824</td>\n      <td>-12.824</td>\n    </tr>\n  </tbody>\n</table>\n<p>12 rows × 262968 columns</p>\n</div>"
     },
     "metadata": {},
     "execution_count": 27
    }
   ],
   "source": [
    "rao_da.sel(dict(Freq=df[\"Tp\"], Dir=D_swell), method=\"nearest\").to_pandas()"
   ]
  },
  {
   "cell_type": "code",
   "execution_count": null,
   "metadata": {},
   "outputs": [],
   "source": []
  }
 ]
}
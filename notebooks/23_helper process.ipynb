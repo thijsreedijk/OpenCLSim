{
 "cells": [
  {
   "cell_type": "markdown",
   "metadata": {},
   "source": [
    "# Demo SingleRun\n",
    "This notebook shows a single run consisting of the following four phases:\n",
    "* sail empty\n",
    "* loading\n",
    "* sail full\n",
    "* unloading"
   ]
  },
  {
   "cell_type": "code",
   "execution_count": 1,
   "metadata": {},
   "outputs": [],
   "source": [
    "import datetime, time\n",
    "import simpy\n",
    "\n",
    "import shapely.geometry\n",
    "\n",
    "\n",
    "import pandas as pd\n",
    "import openclsim.core as core\n",
    "import openclsim.model as model\n",
    "import openclsim.plot as plot\n",
    "\n",
    "# setup environment\n",
    "simulation_start = 0\n",
    "my_env = simpy.Environment(initial_time=simulation_start)\n",
    "registry = {}\n",
    "keep_resources = {}"
   ]
  },
  {
   "cell_type": "markdown",
   "metadata": {},
   "source": [
    "## Definition of Site"
   ]
  },
  {
   "cell_type": "code",
   "execution_count": 2,
   "metadata": {},
   "outputs": [],
   "source": [
    "Site = type(\n",
    "    \"Site\",\n",
    "    (\n",
    "        core.Identifiable,\n",
    "        core.Log,\n",
    "        core.Locatable,\n",
    "        core.HasContainer,\n",
    "        core.HasResource,\n",
    "    ),\n",
    "    {},\n",
    ")\n",
    "\n",
    "location_from_site = shapely.geometry.Point(4.18055556, 52.18664444)\n",
    "location_to_site = shapely.geometry.Point(4.25222222, 52.11428333)\n",
    "\n",
    "from_site = Site(\n",
    "    env=my_env,\n",
    "    name=\"Winlocatie\",\n",
    "    ID=\"6dbbbdf4-4589-11e9-a501-b469212bff5d\",\n",
    "    geometry=location_from_site,\n",
    "    capacity=100,\n",
    "    level=50,\n",
    ")\n",
    "\n",
    "to_site = Site(\n",
    "    env=my_env,\n",
    "    name=\"Dumplocatie\",\n",
    "    ID=\"6dbbbdf5-4589-11e9-82b2-b469212bff5c\",\n",
    "    geometry=location_to_site,\n",
    "    capacity=50,\n",
    "    level=0,\n",
    ")"
   ]
  },
  {
   "cell_type": "markdown",
   "metadata": {},
   "source": [
    "## Definition of Vessels"
   ]
  },
  {
   "cell_type": "code",
   "execution_count": 3,
   "metadata": {},
   "outputs": [],
   "source": [
    "TransportProcessingResource = type(\n",
    "    \"TransportProcessingResource\",\n",
    "    (\n",
    "        core.Identifiable,\n",
    "        core.Log,\n",
    "        core.ContainerDependentMovable,\n",
    "        core.Processor,\n",
    "        core.HasResource,\n",
    "        core.LoadingFunction,\n",
    "        core.UnloadingFunction,\n",
    "    ),\n",
    "    {},\n",
    ")\n",
    "\n",
    "hopper = TransportProcessingResource(\n",
    "    env=my_env,\n",
    "    name=\"Hopper 01\",\n",
    "    ID=\"6dbbbdf6-4589-11e9-95a2-b469212bff5b\",\n",
    "    geometry=location_from_site,\n",
    "    loading_rate=0.00001,\n",
    "    unloading_rate=0.00001,\n",
    "    capacity=4,\n",
    "    compute_v=lambda x: 10,\n",
    ")"
   ]
  },
  {
   "cell_type": "markdown",
   "metadata": {},
   "source": [
    "## Definition of process"
   ]
  },
  {
   "cell_type": "code",
   "execution_count": 6,
   "metadata": {},
   "outputs": [],
   "source": [
    "main_processes = [\n",
    "    model.MoveActivity(\n",
    "        env=my_env,\n",
    "        name=\"sailing empty\",\n",
    "        registry=registry,\n",
    "        mover=hopper,\n",
    "        destination=from_site,\n",
    "        duration=1000,\n",
    "    ),\n",
    "    model.ShiftAmountActivity(\n",
    "        env=my_env,\n",
    "        name=\"Loading\",\n",
    "        registry=registry,\n",
    "        processor=hopper,\n",
    "        origin=from_site,\n",
    "        destination=hopper,\n",
    "        amount=4,\n",
    "        duration=1000,\n",
    "    ),\n",
    "    model.MoveActivity(\n",
    "        env=my_env,\n",
    "        name=\"sailing filled\",\n",
    "        registry=registry,\n",
    "        mover=hopper,\n",
    "        destination=to_site,\n",
    "        duration=1000,\n",
    "    ),\n",
    "    model.ShiftAmountActivity(\n",
    "        env=my_env,\n",
    "        name=\"unloading\",\n",
    "        registry=registry,\n",
    "        processor=hopper,\n",
    "        origin=hopper,\n",
    "        destination=to_site,\n",
    "        amount=4,\n",
    "        duration=1000,\n",
    "        start_event=[\n",
    "            {\n",
    "                \"name\": \"prepair\",\n",
    "                \"type\": \"activity\",\n",
    "                \"state\": \"done\"\n",
    "            }\n",
    "        ]\n",
    "    ),\n",
    "    model.BasicActivity(\n",
    "        env=my_env,\n",
    "        name=\"Basic activity\",\n",
    "        registry=registry,\n",
    "        duration=1000,\n",
    "        additional_logs=[hopper],\n",
    "    ),\n",
    "]\n",
    "\n",
    "main_process = model.SequentialActivity(\n",
    "    env=my_env,\n",
    "    name=\"main_process\",\n",
    "    registry=registry,\n",
    "    sub_processes=main_processes,\n",
    ")\n",
    "\n",
    "\n",
    "helper_processes = [\n",
    "    model.BasicActivity(\n",
    "        env=my_env,\n",
    "        name=\"prepair\",\n",
    "        registry=registry,\n",
    "        duration=10000,\n",
    "        additional_logs=[hopper],\n",
    "    ),\n",
    "    model.BasicActivity(\n",
    "        env=my_env,\n",
    "        name=\"clean-up\",\n",
    "        registry=registry,\n",
    "        duration=1000,\n",
    "        additional_logs=[hopper],\n",
    "        start_event=[\n",
    "            {\n",
    "                \"name\": \"unloading\",\n",
    "                \"type\": \"activity\",\n",
    "                \"state\": \"done\"\n",
    "            }\n",
    "        ]\n",
    "    ),\n",
    "]\n",
    "helper_process = model.SequentialActivity(\n",
    "    env=my_env,\n",
    "    name=\"helper_process\",\n",
    "    registry=registry,\n",
    "    sub_processes=helper_processes,\n",
    ")\n",
    "\n",
    "parallel = model.ParallelActivity(\n",
    "    env=my_env,\n",
    "    name=\"parallel\",\n",
    "    registry=registry,\n",
    "    sub_processes=[helper_process, main_process],\n",
    ")\n",
    "\n",
    "\n",
    "while_activity = model.WhileActivity(\n",
    "    env=my_env,\n",
    "    name=\"while\",\n",
    "    registry=registry,\n",
    "    sub_processes=[parallel],\n",
    "    condition_event=[{\"type\": \"container\", \"concept\": to_site, \"state\": \"full\"}],\n",
    ")"
   ]
  },
  {
   "cell_type": "code",
   "execution_count": 7,
   "metadata": {},
   "outputs": [],
   "source": [
    "model.register_processes([while_activity])\n",
    "my_env.run()"
   ]
  },
  {
   "cell_type": "code",
   "execution_count": 8,
   "metadata": {},
   "outputs": [
    {
     "data": {
      "text/html": [
       "<div>\n",
       "<style scoped>\n",
       "    .dataframe tbody tr th:only-of-type {\n",
       "        vertical-align: middle;\n",
       "    }\n",
       "\n",
       "    .dataframe tbody tr th {\n",
       "        vertical-align: top;\n",
       "    }\n",
       "\n",
       "    .dataframe thead th {\n",
       "        text-align: right;\n",
       "    }\n",
       "</style>\n",
       "<table border=\"1\" class=\"dataframe\">\n",
       "  <thead>\n",
       "    <tr style=\"text-align: right;\">\n",
       "      <th></th>\n",
       "      <th>Activity</th>\n",
       "      <th>Timestamp</th>\n",
       "      <th>ActivityState</th>\n",
       "      <th>geometry</th>\n",
       "      <th>container level</th>\n",
       "    </tr>\n",
       "  </thead>\n",
       "  <tbody>\n",
       "    <tr>\n",
       "      <th>0</th>\n",
       "      <td>37776999-5722-43c6-9d10-9307e414df4c</td>\n",
       "      <td>1970-01-01 00:00:00</td>\n",
       "      <td>WAIT_START</td>\n",
       "      <td>POINT (4.18055556 52.18664444)</td>\n",
       "      <td>0.0</td>\n",
       "    </tr>\n",
       "    <tr>\n",
       "      <th>1</th>\n",
       "      <td>7949d7a4-747e-4f2c-9afa-b32fb79d13dd</td>\n",
       "      <td>1970-01-01 00:00:00</td>\n",
       "      <td>WAIT_START</td>\n",
       "      <td>POINT (4.18055556 52.18664444)</td>\n",
       "      <td>0.0</td>\n",
       "    </tr>\n",
       "    <tr>\n",
       "      <th>2</th>\n",
       "      <td>Basic activity</td>\n",
       "      <td>1970-01-01 00:00:00</td>\n",
       "      <td>WAIT_START</td>\n",
       "      <td>POINT (4.18055556 52.18664444)</td>\n",
       "      <td>0.0</td>\n",
       "    </tr>\n",
       "    <tr>\n",
       "      <th>3</th>\n",
       "      <td>37776999-5722-43c6-9d10-9307e414df4c</td>\n",
       "      <td>1970-01-01 00:00:00</td>\n",
       "      <td>WAIT_STOP</td>\n",
       "      <td>POINT (4.18055556 52.18664444)</td>\n",
       "      <td>0.0</td>\n",
       "    </tr>\n",
       "    <tr>\n",
       "      <th>4</th>\n",
       "      <td>37776999-5722-43c6-9d10-9307e414df4c</td>\n",
       "      <td>1970-01-01 00:00:00</td>\n",
       "      <td>START</td>\n",
       "      <td>POINT (4.18055556 52.18664444)</td>\n",
       "      <td>0.0</td>\n",
       "    </tr>\n",
       "    <tr>\n",
       "      <th>...</th>\n",
       "      <td>...</td>\n",
       "      <td>...</td>\n",
       "      <td>...</td>\n",
       "      <td>...</td>\n",
       "      <td>...</td>\n",
       "    </tr>\n",
       "    <tr>\n",
       "      <th>307</th>\n",
       "      <td>7949d7a4-747e-4f2c-9afa-b32fb79d13dd</td>\n",
       "      <td>1970-01-02 19:03:20</td>\n",
       "      <td>START</td>\n",
       "      <td>POINT (4.25222222 52.11428333)</td>\n",
       "      <td>0.0</td>\n",
       "    </tr>\n",
       "    <tr>\n",
       "      <th>308</th>\n",
       "      <td>Basic activity</td>\n",
       "      <td>1970-01-02 19:03:20</td>\n",
       "      <td>WAIT_STOP</td>\n",
       "      <td>POINT (4.25222222 52.11428333)</td>\n",
       "      <td>0.0</td>\n",
       "    </tr>\n",
       "    <tr>\n",
       "      <th>309</th>\n",
       "      <td>Basic activity</td>\n",
       "      <td>1970-01-02 19:03:20</td>\n",
       "      <td>START</td>\n",
       "      <td>POINT (4.25222222 52.11428333)</td>\n",
       "      <td>0.0</td>\n",
       "    </tr>\n",
       "    <tr>\n",
       "      <th>310</th>\n",
       "      <td>7949d7a4-747e-4f2c-9afa-b32fb79d13dd</td>\n",
       "      <td>1970-01-02 19:20:00</td>\n",
       "      <td>STOP</td>\n",
       "      <td>POINT (4.25222222 52.11428333)</td>\n",
       "      <td>0.0</td>\n",
       "    </tr>\n",
       "    <tr>\n",
       "      <th>311</th>\n",
       "      <td>Basic activity</td>\n",
       "      <td>1970-01-02 19:20:00</td>\n",
       "      <td>STOP</td>\n",
       "      <td>POINT (4.25222222 52.11428333)</td>\n",
       "      <td>0.0</td>\n",
       "    </tr>\n",
       "  </tbody>\n",
       "</table>\n",
       "<p>312 rows × 5 columns</p>\n",
       "</div>"
      ],
      "text/plain": [
       "                                 Activity           Timestamp ActivityState  \\\n",
       "0    37776999-5722-43c6-9d10-9307e414df4c 1970-01-01 00:00:00    WAIT_START   \n",
       "1    7949d7a4-747e-4f2c-9afa-b32fb79d13dd 1970-01-01 00:00:00    WAIT_START   \n",
       "2                          Basic activity 1970-01-01 00:00:00    WAIT_START   \n",
       "3    37776999-5722-43c6-9d10-9307e414df4c 1970-01-01 00:00:00     WAIT_STOP   \n",
       "4    37776999-5722-43c6-9d10-9307e414df4c 1970-01-01 00:00:00         START   \n",
       "..                                    ...                 ...           ...   \n",
       "307  7949d7a4-747e-4f2c-9afa-b32fb79d13dd 1970-01-02 19:03:20         START   \n",
       "308                        Basic activity 1970-01-02 19:03:20     WAIT_STOP   \n",
       "309                        Basic activity 1970-01-02 19:03:20         START   \n",
       "310  7949d7a4-747e-4f2c-9afa-b32fb79d13dd 1970-01-02 19:20:00          STOP   \n",
       "311                        Basic activity 1970-01-02 19:20:00          STOP   \n",
       "\n",
       "                           geometry  container level  \n",
       "0    POINT (4.18055556 52.18664444)              0.0  \n",
       "1    POINT (4.18055556 52.18664444)              0.0  \n",
       "2    POINT (4.18055556 52.18664444)              0.0  \n",
       "3    POINT (4.18055556 52.18664444)              0.0  \n",
       "4    POINT (4.18055556 52.18664444)              0.0  \n",
       "..                              ...              ...  \n",
       "307  POINT (4.25222222 52.11428333)              0.0  \n",
       "308  POINT (4.25222222 52.11428333)              0.0  \n",
       "309  POINT (4.25222222 52.11428333)              0.0  \n",
       "310  POINT (4.25222222 52.11428333)              0.0  \n",
       "311  POINT (4.25222222 52.11428333)              0.0  \n",
       "\n",
       "[312 rows x 5 columns]"
      ]
     },
     "execution_count": 8,
     "metadata": {},
     "output_type": "execute_result"
    }
   ],
   "source": [
    "plot.get_log_dataframe(hopper, [while_activity, *main_processes, main_process])"
   ]
  },
  {
   "cell_type": "code",
   "execution_count": 9,
   "metadata": {},
   "outputs": [
    {
     "data": {
      "text/html": [
       "        <script type=\"text/javascript\">\n",
       "        window.PlotlyConfig = {MathJaxConfig: 'local'};\n",
       "        if (window.MathJax) {MathJax.Hub.Config({SVG: {font: \"STIX-Web\"}});}\n",
       "        if (typeof require !== 'undefined') {\n",
       "        require.undef(\"plotly\");\n",
       "        requirejs.config({\n",
       "            paths: {\n",
       "                'plotly': ['https://cdn.plot.ly/plotly-latest.min']\n",
       "            }\n",
       "        });\n",
       "        require(['plotly'], function(Plotly) {\n",
       "            window._Plotly = Plotly;\n",
       "        });\n",
       "        }\n",
       "        </script>\n",
       "        "
      ]
     },
     "metadata": {},
     "output_type": "display_data"
    },
    {
     "data": {
      "application/vnd.plotly.v1+json": {
       "config": {
        "linkText": "Export to plot.ly",
        "plotlyServerURL": "https://plot.ly",
        "showLink": false
       },
       "data": [
        {
         "connectgaps": false,
         "hoverinfo": "y+name",
         "line": {
          "color": "rgb(181,103,16)",
          "width": 10
         },
         "mode": "lines",
         "name": "sailing empty",
         "type": "scatter",
         "x": [
          "1970-01-01T00:00:00",
          "1970-01-01T00:00:00",
          "1970-01-01T00:16:40",
          "1970-01-01T00:16:40",
          "1970-01-01T00:16:40",
          "1970-01-01T03:20:00",
          "1970-01-01T03:20:00",
          "1970-01-01T03:36:40",
          "1970-01-01T03:36:40",
          "1970-01-01T03:36:40",
          "1970-01-01T06:40:00",
          "1970-01-01T06:40:00",
          "1970-01-01T06:56:40",
          "1970-01-01T06:56:40",
          "1970-01-01T06:56:40",
          "1970-01-01T10:00:00",
          "1970-01-01T10:00:00",
          "1970-01-01T10:16:40",
          "1970-01-01T10:16:40",
          "1970-01-01T10:16:40",
          "1970-01-01T13:20:00",
          "1970-01-01T13:20:00",
          "1970-01-01T13:36:40",
          "1970-01-01T13:36:40",
          "1970-01-01T13:36:40",
          "1970-01-01T16:40:00",
          "1970-01-01T16:40:00",
          "1970-01-01T16:56:40",
          "1970-01-01T16:56:40",
          "1970-01-01T16:56:40",
          "1970-01-01T20:00:00",
          "1970-01-01T20:00:00",
          "1970-01-01T20:16:40",
          "1970-01-01T20:16:40",
          "1970-01-01T20:16:40",
          "1970-01-01T23:20:00",
          "1970-01-01T23:20:00",
          "1970-01-01T23:36:40",
          "1970-01-01T23:36:40",
          "1970-01-01T23:36:40",
          "1970-01-02T02:40:00",
          "1970-01-02T02:40:00",
          "1970-01-02T02:56:40",
          "1970-01-02T02:56:40",
          "1970-01-02T02:56:40",
          "1970-01-02T06:00:00",
          "1970-01-02T06:00:00",
          "1970-01-02T06:16:40",
          "1970-01-02T06:16:40",
          "1970-01-02T06:16:40",
          "1970-01-02T09:20:00",
          "1970-01-02T09:20:00",
          "1970-01-02T09:36:40",
          "1970-01-02T09:36:40",
          "1970-01-02T09:36:40",
          "1970-01-02T12:40:00",
          "1970-01-02T12:40:00",
          "1970-01-02T12:56:40",
          "1970-01-02T12:56:40",
          "1970-01-02T12:56:40",
          "1970-01-02T16:00:00",
          "1970-01-02T16:00:00",
          "1970-01-02T16:16:40",
          "1970-01-02T16:16:40",
          "1970-01-02T16:16:40"
         ],
         "y": [
          "sailing empty",
          "sailing empty",
          "sailing empty",
          "sailing empty",
          null,
          "sailing empty",
          "sailing empty",
          "sailing empty",
          "sailing empty",
          null,
          "sailing empty",
          "sailing empty",
          "sailing empty",
          "sailing empty",
          null,
          "sailing empty",
          "sailing empty",
          "sailing empty",
          "sailing empty",
          null,
          "sailing empty",
          "sailing empty",
          "sailing empty",
          "sailing empty",
          null,
          "sailing empty",
          "sailing empty",
          "sailing empty",
          "sailing empty",
          null,
          "sailing empty",
          "sailing empty",
          "sailing empty",
          "sailing empty",
          null,
          "sailing empty",
          "sailing empty",
          "sailing empty",
          "sailing empty",
          null,
          "sailing empty",
          "sailing empty",
          "sailing empty",
          "sailing empty",
          null,
          "sailing empty",
          "sailing empty",
          "sailing empty",
          "sailing empty",
          null,
          "sailing empty",
          "sailing empty",
          "sailing empty",
          "sailing empty",
          null,
          "sailing empty",
          "sailing empty",
          "sailing empty",
          "sailing empty",
          null,
          "sailing empty",
          "sailing empty",
          "sailing empty",
          "sailing empty",
          null
         ]
        },
        {
         "connectgaps": false,
         "hoverinfo": "y+name",
         "line": {
          "color": "rgb(217,139,52)",
          "width": 10
         },
         "mode": "lines",
         "name": "Loading",
         "type": "scatter",
         "x": [
          "1970-01-01T00:16:40",
          "1970-01-01T00:16:40",
          "1970-01-01T00:33:20",
          "1970-01-01T00:33:20",
          "1970-01-01T00:33:20",
          "1970-01-01T03:36:40",
          "1970-01-01T03:36:40",
          "1970-01-01T03:53:20",
          "1970-01-01T03:53:20",
          "1970-01-01T03:53:20",
          "1970-01-01T06:56:40",
          "1970-01-01T06:56:40",
          "1970-01-01T07:13:20",
          "1970-01-01T07:13:20",
          "1970-01-01T07:13:20",
          "1970-01-01T10:16:40",
          "1970-01-01T10:16:40",
          "1970-01-01T10:33:20",
          "1970-01-01T10:33:20",
          "1970-01-01T10:33:20",
          "1970-01-01T13:36:40",
          "1970-01-01T13:36:40",
          "1970-01-01T13:53:20",
          "1970-01-01T13:53:20",
          "1970-01-01T13:53:20",
          "1970-01-01T16:56:40",
          "1970-01-01T16:56:40",
          "1970-01-01T17:13:20",
          "1970-01-01T17:13:20",
          "1970-01-01T17:13:20",
          "1970-01-01T20:16:40",
          "1970-01-01T20:16:40",
          "1970-01-01T20:33:20",
          "1970-01-01T20:33:20",
          "1970-01-01T20:33:20",
          "1970-01-01T23:36:40",
          "1970-01-01T23:36:40",
          "1970-01-01T23:53:20",
          "1970-01-01T23:53:20",
          "1970-01-01T23:53:20",
          "1970-01-02T02:56:40",
          "1970-01-02T02:56:40",
          "1970-01-02T03:13:20",
          "1970-01-02T03:13:20",
          "1970-01-02T03:13:20",
          "1970-01-02T06:16:40",
          "1970-01-02T06:16:40",
          "1970-01-02T06:33:20",
          "1970-01-02T06:33:20",
          "1970-01-02T06:33:20",
          "1970-01-02T09:36:40",
          "1970-01-02T09:36:40",
          "1970-01-02T09:53:20",
          "1970-01-02T09:53:20",
          "1970-01-02T09:53:20",
          "1970-01-02T12:56:40",
          "1970-01-02T12:56:40",
          "1970-01-02T13:13:20",
          "1970-01-02T13:13:20",
          "1970-01-02T13:13:20",
          "1970-01-02T16:16:40",
          "1970-01-02T16:16:40",
          "1970-01-02T16:33:20",
          "1970-01-02T16:33:20",
          "1970-01-02T16:33:20"
         ],
         "y": [
          "Loading",
          "Loading",
          "Loading",
          "Loading",
          null,
          "Loading",
          "Loading",
          "Loading",
          "Loading",
          null,
          "Loading",
          "Loading",
          "Loading",
          "Loading",
          null,
          "Loading",
          "Loading",
          "Loading",
          "Loading",
          null,
          "Loading",
          "Loading",
          "Loading",
          "Loading",
          null,
          "Loading",
          "Loading",
          "Loading",
          "Loading",
          null,
          "Loading",
          "Loading",
          "Loading",
          "Loading",
          null,
          "Loading",
          "Loading",
          "Loading",
          "Loading",
          null,
          "Loading",
          "Loading",
          "Loading",
          "Loading",
          null,
          "Loading",
          "Loading",
          "Loading",
          "Loading",
          null,
          "Loading",
          "Loading",
          "Loading",
          "Loading",
          null,
          "Loading",
          "Loading",
          "Loading",
          "Loading",
          null,
          "Loading",
          "Loading",
          "Loading",
          "Loading",
          null
         ]
        },
        {
         "connectgaps": false,
         "hoverinfo": "y+name",
         "line": {
          "color": "rgb(253,175,88)",
          "width": 10
         },
         "mode": "lines",
         "name": "sailing filled",
         "type": "scatter",
         "x": [
          "1970-01-01T00:33:20",
          "1970-01-01T00:33:20",
          "1970-01-01T00:50:00",
          "1970-01-01T00:50:00",
          "1970-01-01T00:50:00",
          "1970-01-01T03:53:20",
          "1970-01-01T03:53:20",
          "1970-01-01T04:10:00",
          "1970-01-01T04:10:00",
          "1970-01-01T04:10:00",
          "1970-01-01T07:13:20",
          "1970-01-01T07:13:20",
          "1970-01-01T07:30:00",
          "1970-01-01T07:30:00",
          "1970-01-01T07:30:00",
          "1970-01-01T10:33:20",
          "1970-01-01T10:33:20",
          "1970-01-01T10:50:00",
          "1970-01-01T10:50:00",
          "1970-01-01T10:50:00",
          "1970-01-01T13:53:20",
          "1970-01-01T13:53:20",
          "1970-01-01T14:10:00",
          "1970-01-01T14:10:00",
          "1970-01-01T14:10:00",
          "1970-01-01T17:13:20",
          "1970-01-01T17:13:20",
          "1970-01-01T17:30:00",
          "1970-01-01T17:30:00",
          "1970-01-01T17:30:00",
          "1970-01-01T20:33:20",
          "1970-01-01T20:33:20",
          "1970-01-01T20:50:00",
          "1970-01-01T20:50:00",
          "1970-01-01T20:50:00",
          "1970-01-01T23:53:20",
          "1970-01-01T23:53:20",
          "1970-01-02T00:10:00",
          "1970-01-02T00:10:00",
          "1970-01-02T00:10:00",
          "1970-01-02T03:13:20",
          "1970-01-02T03:13:20",
          "1970-01-02T03:30:00",
          "1970-01-02T03:30:00",
          "1970-01-02T03:30:00",
          "1970-01-02T06:33:20",
          "1970-01-02T06:33:20",
          "1970-01-02T06:50:00",
          "1970-01-02T06:50:00",
          "1970-01-02T06:50:00",
          "1970-01-02T09:53:20",
          "1970-01-02T09:53:20",
          "1970-01-02T10:10:00",
          "1970-01-02T10:10:00",
          "1970-01-02T10:10:00",
          "1970-01-02T13:13:20",
          "1970-01-02T13:13:20",
          "1970-01-02T13:30:00",
          "1970-01-02T13:30:00",
          "1970-01-02T13:30:00",
          "1970-01-02T16:33:20",
          "1970-01-02T16:33:20",
          "1970-01-02T16:50:00",
          "1970-01-02T16:50:00",
          "1970-01-02T16:50:00"
         ],
         "y": [
          "sailing filled",
          "sailing filled",
          "sailing filled",
          "sailing filled",
          null,
          "sailing filled",
          "sailing filled",
          "sailing filled",
          "sailing filled",
          null,
          "sailing filled",
          "sailing filled",
          "sailing filled",
          "sailing filled",
          null,
          "sailing filled",
          "sailing filled",
          "sailing filled",
          "sailing filled",
          null,
          "sailing filled",
          "sailing filled",
          "sailing filled",
          "sailing filled",
          null,
          "sailing filled",
          "sailing filled",
          "sailing filled",
          "sailing filled",
          null,
          "sailing filled",
          "sailing filled",
          "sailing filled",
          "sailing filled",
          null,
          "sailing filled",
          "sailing filled",
          "sailing filled",
          "sailing filled",
          null,
          "sailing filled",
          "sailing filled",
          "sailing filled",
          "sailing filled",
          null,
          "sailing filled",
          "sailing filled",
          "sailing filled",
          "sailing filled",
          null,
          "sailing filled",
          "sailing filled",
          "sailing filled",
          "sailing filled",
          null,
          "sailing filled",
          "sailing filled",
          "sailing filled",
          "sailing filled",
          null,
          "sailing filled",
          "sailing filled",
          "sailing filled",
          "sailing filled",
          null
         ]
        },
        {
         "connectgaps": false,
         "hoverinfo": "y+name",
         "line": {
          "color": "rgb(33,211,124)",
          "width": 10
         },
         "mode": "lines",
         "name": "unloading",
         "type": "scatter",
         "x": [
          "1970-01-01T02:46:40",
          "1970-01-01T02:46:40",
          "1970-01-01T03:03:20",
          "1970-01-01T03:03:20",
          "1970-01-01T03:03:20",
          "1970-01-01T06:06:40",
          "1970-01-01T06:06:40",
          "1970-01-01T06:23:20",
          "1970-01-01T06:23:20",
          "1970-01-01T06:23:20",
          "1970-01-01T09:26:40",
          "1970-01-01T09:26:40",
          "1970-01-01T09:43:20",
          "1970-01-01T09:43:20",
          "1970-01-01T09:43:20",
          "1970-01-01T12:46:40",
          "1970-01-01T12:46:40",
          "1970-01-01T13:03:20",
          "1970-01-01T13:03:20",
          "1970-01-01T13:03:20",
          "1970-01-01T16:06:40",
          "1970-01-01T16:06:40",
          "1970-01-01T16:23:20",
          "1970-01-01T16:23:20",
          "1970-01-01T16:23:20",
          "1970-01-01T19:26:40",
          "1970-01-01T19:26:40",
          "1970-01-01T19:43:20",
          "1970-01-01T19:43:20",
          "1970-01-01T19:43:20",
          "1970-01-01T22:46:40",
          "1970-01-01T22:46:40",
          "1970-01-01T23:03:20",
          "1970-01-01T23:03:20",
          "1970-01-01T23:03:20",
          "1970-01-02T02:06:40",
          "1970-01-02T02:06:40",
          "1970-01-02T02:23:20",
          "1970-01-02T02:23:20",
          "1970-01-02T02:23:20",
          "1970-01-02T05:26:40",
          "1970-01-02T05:26:40",
          "1970-01-02T05:43:20",
          "1970-01-02T05:43:20",
          "1970-01-02T05:43:20",
          "1970-01-02T08:46:40",
          "1970-01-02T08:46:40",
          "1970-01-02T09:03:20",
          "1970-01-02T09:03:20",
          "1970-01-02T09:03:20",
          "1970-01-02T12:06:40",
          "1970-01-02T12:06:40",
          "1970-01-02T12:23:20",
          "1970-01-02T12:23:20",
          "1970-01-02T12:23:20",
          "1970-01-02T15:26:40",
          "1970-01-02T15:26:40",
          "1970-01-02T15:43:20",
          "1970-01-02T15:43:20",
          "1970-01-02T15:43:20",
          "1970-01-02T18:46:40",
          "1970-01-02T18:46:40",
          "1970-01-02T19:03:20",
          "1970-01-02T19:03:20",
          "1970-01-02T19:03:20"
         ],
         "y": [
          "unloading",
          "unloading",
          "unloading",
          "unloading",
          null,
          "unloading",
          "unloading",
          "unloading",
          "unloading",
          null,
          "unloading",
          "unloading",
          "unloading",
          "unloading",
          null,
          "unloading",
          "unloading",
          "unloading",
          "unloading",
          null,
          "unloading",
          "unloading",
          "unloading",
          "unloading",
          null,
          "unloading",
          "unloading",
          "unloading",
          "unloading",
          null,
          "unloading",
          "unloading",
          "unloading",
          "unloading",
          null,
          "unloading",
          "unloading",
          "unloading",
          "unloading",
          null,
          "unloading",
          "unloading",
          "unloading",
          "unloading",
          null,
          "unloading",
          "unloading",
          "unloading",
          "unloading",
          null,
          "unloading",
          "unloading",
          "unloading",
          "unloading",
          null,
          "unloading",
          "unloading",
          "unloading",
          "unloading",
          null,
          "unloading",
          "unloading",
          "unloading",
          "unloading",
          null
         ]
        },
        {
         "connectgaps": false,
         "hoverinfo": "y+name",
         "line": {
          "color": "rgb(69,247,160)",
          "width": 10
         },
         "mode": "lines",
         "name": "Basic activity",
         "type": "scatter",
         "x": [
          "1970-01-01T03:03:20",
          "1970-01-01T03:03:20",
          "1970-01-01T03:20:00",
          "1970-01-01T03:20:00",
          "1970-01-01T03:20:00",
          "1970-01-01T06:23:20",
          "1970-01-01T06:23:20",
          "1970-01-01T06:40:00",
          "1970-01-01T06:40:00",
          "1970-01-01T06:40:00",
          "1970-01-01T09:43:20",
          "1970-01-01T09:43:20",
          "1970-01-01T10:00:00",
          "1970-01-01T10:00:00",
          "1970-01-01T10:00:00",
          "1970-01-01T13:03:20",
          "1970-01-01T13:03:20",
          "1970-01-01T13:20:00",
          "1970-01-01T13:20:00",
          "1970-01-01T13:20:00",
          "1970-01-01T16:23:20",
          "1970-01-01T16:23:20",
          "1970-01-01T16:40:00",
          "1970-01-01T16:40:00",
          "1970-01-01T16:40:00",
          "1970-01-01T19:43:20",
          "1970-01-01T19:43:20",
          "1970-01-01T20:00:00",
          "1970-01-01T20:00:00",
          "1970-01-01T20:00:00",
          "1970-01-01T23:03:20",
          "1970-01-01T23:03:20",
          "1970-01-01T23:20:00",
          "1970-01-01T23:20:00",
          "1970-01-01T23:20:00",
          "1970-01-02T02:23:20",
          "1970-01-02T02:23:20",
          "1970-01-02T02:40:00",
          "1970-01-02T02:40:00",
          "1970-01-02T02:40:00",
          "1970-01-02T05:43:20",
          "1970-01-02T05:43:20",
          "1970-01-02T06:00:00",
          "1970-01-02T06:00:00",
          "1970-01-02T06:00:00",
          "1970-01-02T09:03:20",
          "1970-01-02T09:03:20",
          "1970-01-02T09:20:00",
          "1970-01-02T09:20:00",
          "1970-01-02T09:20:00",
          "1970-01-02T12:23:20",
          "1970-01-02T12:23:20",
          "1970-01-02T12:40:00",
          "1970-01-02T12:40:00",
          "1970-01-02T12:40:00",
          "1970-01-02T15:43:20",
          "1970-01-02T15:43:20",
          "1970-01-02T16:00:00",
          "1970-01-02T16:00:00",
          "1970-01-02T16:00:00",
          "1970-01-02T19:03:20",
          "1970-01-02T19:03:20",
          "1970-01-02T19:20:00",
          "1970-01-02T19:20:00",
          "1970-01-02T19:20:00"
         ],
         "y": [
          "Basic activity",
          "Basic activity",
          "Basic activity",
          "Basic activity",
          null,
          "Basic activity",
          "Basic activity",
          "Basic activity",
          "Basic activity",
          null,
          "Basic activity",
          "Basic activity",
          "Basic activity",
          "Basic activity",
          null,
          "Basic activity",
          "Basic activity",
          "Basic activity",
          "Basic activity",
          null,
          "Basic activity",
          "Basic activity",
          "Basic activity",
          "Basic activity",
          null,
          "Basic activity",
          "Basic activity",
          "Basic activity",
          "Basic activity",
          null,
          "Basic activity",
          "Basic activity",
          "Basic activity",
          "Basic activity",
          null,
          "Basic activity",
          "Basic activity",
          "Basic activity",
          "Basic activity",
          null,
          "Basic activity",
          "Basic activity",
          "Basic activity",
          "Basic activity",
          null,
          "Basic activity",
          "Basic activity",
          "Basic activity",
          "Basic activity",
          null,
          "Basic activity",
          "Basic activity",
          "Basic activity",
          "Basic activity",
          null,
          "Basic activity",
          "Basic activity",
          "Basic activity",
          "Basic activity",
          null,
          "Basic activity",
          "Basic activity",
          "Basic activity",
          "Basic activity",
          null
         ]
        },
        {
         "connectgaps": false,
         "hoverinfo": "y+name",
         "line": {
          "color": "rgb(105,27,196)",
          "width": 10
         },
         "mode": "lines",
         "name": "prepair",
         "type": "scatter",
         "x": [
          "1970-01-01T00:00:00",
          "1970-01-01T00:00:00",
          "1970-01-01T02:46:40",
          "1970-01-01T02:46:40",
          "1970-01-01T02:46:40",
          "1970-01-01T03:20:00",
          "1970-01-01T03:20:00",
          "1970-01-01T06:06:40",
          "1970-01-01T06:06:40",
          "1970-01-01T06:06:40",
          "1970-01-01T06:40:00",
          "1970-01-01T06:40:00",
          "1970-01-01T09:26:40",
          "1970-01-01T09:26:40",
          "1970-01-01T09:26:40",
          "1970-01-01T10:00:00",
          "1970-01-01T10:00:00",
          "1970-01-01T12:46:40",
          "1970-01-01T12:46:40",
          "1970-01-01T12:46:40",
          "1970-01-01T13:20:00",
          "1970-01-01T13:20:00",
          "1970-01-01T16:06:40",
          "1970-01-01T16:06:40",
          "1970-01-01T16:06:40",
          "1970-01-01T16:40:00",
          "1970-01-01T16:40:00",
          "1970-01-01T19:26:40",
          "1970-01-01T19:26:40",
          "1970-01-01T19:26:40",
          "1970-01-01T20:00:00",
          "1970-01-01T20:00:00",
          "1970-01-01T22:46:40",
          "1970-01-01T22:46:40",
          "1970-01-01T22:46:40",
          "1970-01-01T23:20:00",
          "1970-01-01T23:20:00",
          "1970-01-02T02:06:40",
          "1970-01-02T02:06:40",
          "1970-01-02T02:06:40",
          "1970-01-02T02:40:00",
          "1970-01-02T02:40:00",
          "1970-01-02T05:26:40",
          "1970-01-02T05:26:40",
          "1970-01-02T05:26:40",
          "1970-01-02T06:00:00",
          "1970-01-02T06:00:00",
          "1970-01-02T08:46:40",
          "1970-01-02T08:46:40",
          "1970-01-02T08:46:40",
          "1970-01-02T09:20:00",
          "1970-01-02T09:20:00",
          "1970-01-02T12:06:40",
          "1970-01-02T12:06:40",
          "1970-01-02T12:06:40",
          "1970-01-02T12:40:00",
          "1970-01-02T12:40:00",
          "1970-01-02T15:26:40",
          "1970-01-02T15:26:40",
          "1970-01-02T15:26:40",
          "1970-01-02T16:00:00",
          "1970-01-02T16:00:00",
          "1970-01-02T18:46:40",
          "1970-01-02T18:46:40",
          "1970-01-02T18:46:40"
         ],
         "y": [
          "prepair",
          "prepair",
          "prepair",
          "prepair",
          null,
          "prepair",
          "prepair",
          "prepair",
          "prepair",
          null,
          "prepair",
          "prepair",
          "prepair",
          "prepair",
          null,
          "prepair",
          "prepair",
          "prepair",
          "prepair",
          null,
          "prepair",
          "prepair",
          "prepair",
          "prepair",
          null,
          "prepair",
          "prepair",
          "prepair",
          "prepair",
          null,
          "prepair",
          "prepair",
          "prepair",
          "prepair",
          null,
          "prepair",
          "prepair",
          "prepair",
          "prepair",
          null,
          "prepair",
          "prepair",
          "prepair",
          "prepair",
          null,
          "prepair",
          "prepair",
          "prepair",
          "prepair",
          null,
          "prepair",
          "prepair",
          "prepair",
          "prepair",
          null,
          "prepair",
          "prepair",
          "prepair",
          "prepair",
          null,
          "prepair",
          "prepair",
          "prepair",
          "prepair",
          null
         ]
        },
        {
         "connectgaps": false,
         "hoverinfo": "y+name",
         "line": {
          "color": "rgb(141,63,232)",
          "width": 10
         },
         "mode": "lines",
         "name": "clean-up",
         "type": "scatter",
         "x": [
          "1970-01-01T03:03:20",
          "1970-01-01T03:03:20",
          "1970-01-01T03:20:00",
          "1970-01-01T03:20:00",
          "1970-01-01T03:20:00",
          "1970-01-01T06:23:20",
          "1970-01-01T06:23:20",
          "1970-01-01T06:40:00",
          "1970-01-01T06:40:00",
          "1970-01-01T06:40:00",
          "1970-01-01T09:43:20",
          "1970-01-01T09:43:20",
          "1970-01-01T10:00:00",
          "1970-01-01T10:00:00",
          "1970-01-01T10:00:00",
          "1970-01-01T13:03:20",
          "1970-01-01T13:03:20",
          "1970-01-01T13:20:00",
          "1970-01-01T13:20:00",
          "1970-01-01T13:20:00",
          "1970-01-01T16:23:20",
          "1970-01-01T16:23:20",
          "1970-01-01T16:40:00",
          "1970-01-01T16:40:00",
          "1970-01-01T16:40:00",
          "1970-01-01T19:43:20",
          "1970-01-01T19:43:20",
          "1970-01-01T20:00:00",
          "1970-01-01T20:00:00",
          "1970-01-01T20:00:00",
          "1970-01-01T23:03:20",
          "1970-01-01T23:03:20",
          "1970-01-01T23:20:00",
          "1970-01-01T23:20:00",
          "1970-01-01T23:20:00",
          "1970-01-02T02:23:20",
          "1970-01-02T02:23:20",
          "1970-01-02T02:40:00",
          "1970-01-02T02:40:00",
          "1970-01-02T02:40:00",
          "1970-01-02T05:43:20",
          "1970-01-02T05:43:20",
          "1970-01-02T06:00:00",
          "1970-01-02T06:00:00",
          "1970-01-02T06:00:00",
          "1970-01-02T09:03:20",
          "1970-01-02T09:03:20",
          "1970-01-02T09:20:00",
          "1970-01-02T09:20:00",
          "1970-01-02T09:20:00",
          "1970-01-02T12:23:20",
          "1970-01-02T12:23:20",
          "1970-01-02T12:40:00",
          "1970-01-02T12:40:00",
          "1970-01-02T12:40:00",
          "1970-01-02T15:43:20",
          "1970-01-02T15:43:20",
          "1970-01-02T16:00:00",
          "1970-01-02T16:00:00",
          "1970-01-02T16:00:00",
          "1970-01-02T19:03:20",
          "1970-01-02T19:03:20",
          "1970-01-02T19:20:00",
          "1970-01-02T19:20:00",
          "1970-01-02T19:20:00"
         ],
         "y": [
          "clean-up",
          "clean-up",
          "clean-up",
          "clean-up",
          null,
          "clean-up",
          "clean-up",
          "clean-up",
          "clean-up",
          null,
          "clean-up",
          "clean-up",
          "clean-up",
          "clean-up",
          null,
          "clean-up",
          "clean-up",
          "clean-up",
          "clean-up",
          null,
          "clean-up",
          "clean-up",
          "clean-up",
          "clean-up",
          null,
          "clean-up",
          "clean-up",
          "clean-up",
          "clean-up",
          null,
          "clean-up",
          "clean-up",
          "clean-up",
          "clean-up",
          null,
          "clean-up",
          "clean-up",
          "clean-up",
          "clean-up",
          null,
          "clean-up",
          "clean-up",
          "clean-up",
          "clean-up",
          null,
          "clean-up",
          "clean-up",
          "clean-up",
          "clean-up",
          null,
          "clean-up",
          "clean-up",
          "clean-up",
          "clean-up",
          null,
          "clean-up",
          "clean-up",
          "clean-up",
          "clean-up",
          null,
          "clean-up",
          "clean-up",
          "clean-up",
          "clean-up",
          null
         ]
        }
       ],
       "layout": {
        "hovermode": "closest",
        "legend": {
         "orientation": "h",
         "x": 0,
         "y": -0.2
        },
        "template": {
         "data": {
          "bar": [
           {
            "error_x": {
             "color": "#2a3f5f"
            },
            "error_y": {
             "color": "#2a3f5f"
            },
            "marker": {
             "line": {
              "color": "#E5ECF6",
              "width": 0.5
             }
            },
            "type": "bar"
           }
          ],
          "barpolar": [
           {
            "marker": {
             "line": {
              "color": "#E5ECF6",
              "width": 0.5
             }
            },
            "type": "barpolar"
           }
          ],
          "carpet": [
           {
            "aaxis": {
             "endlinecolor": "#2a3f5f",
             "gridcolor": "white",
             "linecolor": "white",
             "minorgridcolor": "white",
             "startlinecolor": "#2a3f5f"
            },
            "baxis": {
             "endlinecolor": "#2a3f5f",
             "gridcolor": "white",
             "linecolor": "white",
             "minorgridcolor": "white",
             "startlinecolor": "#2a3f5f"
            },
            "type": "carpet"
           }
          ],
          "choropleth": [
           {
            "colorbar": {
             "outlinewidth": 0,
             "ticks": ""
            },
            "type": "choropleth"
           }
          ],
          "contour": [
           {
            "colorbar": {
             "outlinewidth": 0,
             "ticks": ""
            },
            "colorscale": [
             [
              0,
              "#0d0887"
             ],
             [
              0.1111111111111111,
              "#46039f"
             ],
             [
              0.2222222222222222,
              "#7201a8"
             ],
             [
              0.3333333333333333,
              "#9c179e"
             ],
             [
              0.4444444444444444,
              "#bd3786"
             ],
             [
              0.5555555555555556,
              "#d8576b"
             ],
             [
              0.6666666666666666,
              "#ed7953"
             ],
             [
              0.7777777777777778,
              "#fb9f3a"
             ],
             [
              0.8888888888888888,
              "#fdca26"
             ],
             [
              1,
              "#f0f921"
             ]
            ],
            "type": "contour"
           }
          ],
          "contourcarpet": [
           {
            "colorbar": {
             "outlinewidth": 0,
             "ticks": ""
            },
            "type": "contourcarpet"
           }
          ],
          "heatmap": [
           {
            "colorbar": {
             "outlinewidth": 0,
             "ticks": ""
            },
            "colorscale": [
             [
              0,
              "#0d0887"
             ],
             [
              0.1111111111111111,
              "#46039f"
             ],
             [
              0.2222222222222222,
              "#7201a8"
             ],
             [
              0.3333333333333333,
              "#9c179e"
             ],
             [
              0.4444444444444444,
              "#bd3786"
             ],
             [
              0.5555555555555556,
              "#d8576b"
             ],
             [
              0.6666666666666666,
              "#ed7953"
             ],
             [
              0.7777777777777778,
              "#fb9f3a"
             ],
             [
              0.8888888888888888,
              "#fdca26"
             ],
             [
              1,
              "#f0f921"
             ]
            ],
            "type": "heatmap"
           }
          ],
          "heatmapgl": [
           {
            "colorbar": {
             "outlinewidth": 0,
             "ticks": ""
            },
            "colorscale": [
             [
              0,
              "#0d0887"
             ],
             [
              0.1111111111111111,
              "#46039f"
             ],
             [
              0.2222222222222222,
              "#7201a8"
             ],
             [
              0.3333333333333333,
              "#9c179e"
             ],
             [
              0.4444444444444444,
              "#bd3786"
             ],
             [
              0.5555555555555556,
              "#d8576b"
             ],
             [
              0.6666666666666666,
              "#ed7953"
             ],
             [
              0.7777777777777778,
              "#fb9f3a"
             ],
             [
              0.8888888888888888,
              "#fdca26"
             ],
             [
              1,
              "#f0f921"
             ]
            ],
            "type": "heatmapgl"
           }
          ],
          "histogram": [
           {
            "marker": {
             "colorbar": {
              "outlinewidth": 0,
              "ticks": ""
             }
            },
            "type": "histogram"
           }
          ],
          "histogram2d": [
           {
            "colorbar": {
             "outlinewidth": 0,
             "ticks": ""
            },
            "colorscale": [
             [
              0,
              "#0d0887"
             ],
             [
              0.1111111111111111,
              "#46039f"
             ],
             [
              0.2222222222222222,
              "#7201a8"
             ],
             [
              0.3333333333333333,
              "#9c179e"
             ],
             [
              0.4444444444444444,
              "#bd3786"
             ],
             [
              0.5555555555555556,
              "#d8576b"
             ],
             [
              0.6666666666666666,
              "#ed7953"
             ],
             [
              0.7777777777777778,
              "#fb9f3a"
             ],
             [
              0.8888888888888888,
              "#fdca26"
             ],
             [
              1,
              "#f0f921"
             ]
            ],
            "type": "histogram2d"
           }
          ],
          "histogram2dcontour": [
           {
            "colorbar": {
             "outlinewidth": 0,
             "ticks": ""
            },
            "colorscale": [
             [
              0,
              "#0d0887"
             ],
             [
              0.1111111111111111,
              "#46039f"
             ],
             [
              0.2222222222222222,
              "#7201a8"
             ],
             [
              0.3333333333333333,
              "#9c179e"
             ],
             [
              0.4444444444444444,
              "#bd3786"
             ],
             [
              0.5555555555555556,
              "#d8576b"
             ],
             [
              0.6666666666666666,
              "#ed7953"
             ],
             [
              0.7777777777777778,
              "#fb9f3a"
             ],
             [
              0.8888888888888888,
              "#fdca26"
             ],
             [
              1,
              "#f0f921"
             ]
            ],
            "type": "histogram2dcontour"
           }
          ],
          "mesh3d": [
           {
            "colorbar": {
             "outlinewidth": 0,
             "ticks": ""
            },
            "type": "mesh3d"
           }
          ],
          "parcoords": [
           {
            "line": {
             "colorbar": {
              "outlinewidth": 0,
              "ticks": ""
             }
            },
            "type": "parcoords"
           }
          ],
          "pie": [
           {
            "automargin": true,
            "type": "pie"
           }
          ],
          "scatter": [
           {
            "marker": {
             "colorbar": {
              "outlinewidth": 0,
              "ticks": ""
             }
            },
            "type": "scatter"
           }
          ],
          "scatter3d": [
           {
            "line": {
             "colorbar": {
              "outlinewidth": 0,
              "ticks": ""
             }
            },
            "marker": {
             "colorbar": {
              "outlinewidth": 0,
              "ticks": ""
             }
            },
            "type": "scatter3d"
           }
          ],
          "scattercarpet": [
           {
            "marker": {
             "colorbar": {
              "outlinewidth": 0,
              "ticks": ""
             }
            },
            "type": "scattercarpet"
           }
          ],
          "scattergeo": [
           {
            "marker": {
             "colorbar": {
              "outlinewidth": 0,
              "ticks": ""
             }
            },
            "type": "scattergeo"
           }
          ],
          "scattergl": [
           {
            "marker": {
             "colorbar": {
              "outlinewidth": 0,
              "ticks": ""
             }
            },
            "type": "scattergl"
           }
          ],
          "scattermapbox": [
           {
            "marker": {
             "colorbar": {
              "outlinewidth": 0,
              "ticks": ""
             }
            },
            "type": "scattermapbox"
           }
          ],
          "scatterpolar": [
           {
            "marker": {
             "colorbar": {
              "outlinewidth": 0,
              "ticks": ""
             }
            },
            "type": "scatterpolar"
           }
          ],
          "scatterpolargl": [
           {
            "marker": {
             "colorbar": {
              "outlinewidth": 0,
              "ticks": ""
             }
            },
            "type": "scatterpolargl"
           }
          ],
          "scatterternary": [
           {
            "marker": {
             "colorbar": {
              "outlinewidth": 0,
              "ticks": ""
             }
            },
            "type": "scatterternary"
           }
          ],
          "surface": [
           {
            "colorbar": {
             "outlinewidth": 0,
             "ticks": ""
            },
            "colorscale": [
             [
              0,
              "#0d0887"
             ],
             [
              0.1111111111111111,
              "#46039f"
             ],
             [
              0.2222222222222222,
              "#7201a8"
             ],
             [
              0.3333333333333333,
              "#9c179e"
             ],
             [
              0.4444444444444444,
              "#bd3786"
             ],
             [
              0.5555555555555556,
              "#d8576b"
             ],
             [
              0.6666666666666666,
              "#ed7953"
             ],
             [
              0.7777777777777778,
              "#fb9f3a"
             ],
             [
              0.8888888888888888,
              "#fdca26"
             ],
             [
              1,
              "#f0f921"
             ]
            ],
            "type": "surface"
           }
          ],
          "table": [
           {
            "cells": {
             "fill": {
              "color": "#EBF0F8"
             },
             "line": {
              "color": "white"
             }
            },
            "header": {
             "fill": {
              "color": "#C8D4E3"
             },
             "line": {
              "color": "white"
             }
            },
            "type": "table"
           }
          ]
         },
         "layout": {
          "annotationdefaults": {
           "arrowcolor": "#2a3f5f",
           "arrowhead": 0,
           "arrowwidth": 1
          },
          "autotypenumbers": "strict",
          "coloraxis": {
           "colorbar": {
            "outlinewidth": 0,
            "ticks": ""
           }
          },
          "colorscale": {
           "diverging": [
            [
             0,
             "#8e0152"
            ],
            [
             0.1,
             "#c51b7d"
            ],
            [
             0.2,
             "#de77ae"
            ],
            [
             0.3,
             "#f1b6da"
            ],
            [
             0.4,
             "#fde0ef"
            ],
            [
             0.5,
             "#f7f7f7"
            ],
            [
             0.6,
             "#e6f5d0"
            ],
            [
             0.7,
             "#b8e186"
            ],
            [
             0.8,
             "#7fbc41"
            ],
            [
             0.9,
             "#4d9221"
            ],
            [
             1,
             "#276419"
            ]
           ],
           "sequential": [
            [
             0,
             "#0d0887"
            ],
            [
             0.1111111111111111,
             "#46039f"
            ],
            [
             0.2222222222222222,
             "#7201a8"
            ],
            [
             0.3333333333333333,
             "#9c179e"
            ],
            [
             0.4444444444444444,
             "#bd3786"
            ],
            [
             0.5555555555555556,
             "#d8576b"
            ],
            [
             0.6666666666666666,
             "#ed7953"
            ],
            [
             0.7777777777777778,
             "#fb9f3a"
            ],
            [
             0.8888888888888888,
             "#fdca26"
            ],
            [
             1,
             "#f0f921"
            ]
           ],
           "sequentialminus": [
            [
             0,
             "#0d0887"
            ],
            [
             0.1111111111111111,
             "#46039f"
            ],
            [
             0.2222222222222222,
             "#7201a8"
            ],
            [
             0.3333333333333333,
             "#9c179e"
            ],
            [
             0.4444444444444444,
             "#bd3786"
            ],
            [
             0.5555555555555556,
             "#d8576b"
            ],
            [
             0.6666666666666666,
             "#ed7953"
            ],
            [
             0.7777777777777778,
             "#fb9f3a"
            ],
            [
             0.8888888888888888,
             "#fdca26"
            ],
            [
             1,
             "#f0f921"
            ]
           ]
          },
          "colorway": [
           "#636efa",
           "#EF553B",
           "#00cc96",
           "#ab63fa",
           "#FFA15A",
           "#19d3f3",
           "#FF6692",
           "#B6E880",
           "#FF97FF",
           "#FECB52"
          ],
          "font": {
           "color": "#2a3f5f"
          },
          "geo": {
           "bgcolor": "white",
           "lakecolor": "white",
           "landcolor": "#E5ECF6",
           "showlakes": true,
           "showland": true,
           "subunitcolor": "white"
          },
          "hoverlabel": {
           "align": "left"
          },
          "hovermode": "closest",
          "mapbox": {
           "style": "light"
          },
          "paper_bgcolor": "white",
          "plot_bgcolor": "#E5ECF6",
          "polar": {
           "angularaxis": {
            "gridcolor": "white",
            "linecolor": "white",
            "ticks": ""
           },
           "bgcolor": "#E5ECF6",
           "radialaxis": {
            "gridcolor": "white",
            "linecolor": "white",
            "ticks": ""
           }
          },
          "scene": {
           "xaxis": {
            "backgroundcolor": "#E5ECF6",
            "gridcolor": "white",
            "gridwidth": 2,
            "linecolor": "white",
            "showbackground": true,
            "ticks": "",
            "zerolinecolor": "white"
           },
           "yaxis": {
            "backgroundcolor": "#E5ECF6",
            "gridcolor": "white",
            "gridwidth": 2,
            "linecolor": "white",
            "showbackground": true,
            "ticks": "",
            "zerolinecolor": "white"
           },
           "zaxis": {
            "backgroundcolor": "#E5ECF6",
            "gridcolor": "white",
            "gridwidth": 2,
            "linecolor": "white",
            "showbackground": true,
            "ticks": "",
            "zerolinecolor": "white"
           }
          },
          "shapedefaults": {
           "line": {
            "color": "#2a3f5f"
           }
          },
          "ternary": {
           "aaxis": {
            "gridcolor": "white",
            "linecolor": "white",
            "ticks": ""
           },
           "baxis": {
            "gridcolor": "white",
            "linecolor": "white",
            "ticks": ""
           },
           "bgcolor": "#E5ECF6",
           "caxis": {
            "gridcolor": "white",
            "linecolor": "white",
            "ticks": ""
           }
          },
          "title": {
           "x": 0.05
          },
          "xaxis": {
           "automargin": true,
           "gridcolor": "white",
           "linecolor": "white",
           "ticks": "",
           "title": {
            "standoff": 15
           },
           "zerolinecolor": "white",
           "zerolinewidth": 2
          },
          "yaxis": {
           "automargin": true,
           "gridcolor": "white",
           "linecolor": "white",
           "ticks": "",
           "title": {
            "standoff": 15
           },
           "zerolinecolor": "white",
           "zerolinewidth": 2
          }
         }
        },
        "title": {
         "text": "Vessel planning"
        },
        "xaxis": {
         "range": [
          "1970-01-01T00:00:00",
          "1970-01-02T19:20:00"
         ],
         "title": {
          "font": {
           "color": "#7f7f7f",
           "family": "Courier New, monospace",
           "size": 18
          },
          "text": "Time"
         }
        },
        "yaxis": {
         "title": {
          "font": {
           "color": "#7f7f7f",
           "family": "Courier New, monospace",
           "size": 18
          },
          "text": "Vessels"
         }
        }
       }
      },
      "text/html": [
       "<div>                            <div id=\"034a3364-fefd-4073-87b6-dfee089a015f\" class=\"plotly-graph-div\" style=\"height:525px; width:100%;\"></div>            <script type=\"text/javascript\">                require([\"plotly\"], function(Plotly) {                    window.PLOTLYENV=window.PLOTLYENV || {};                                    if (document.getElementById(\"034a3364-fefd-4073-87b6-dfee089a015f\")) {                    Plotly.newPlot(                        \"034a3364-fefd-4073-87b6-dfee089a015f\",                        [{\"connectgaps\": false, \"hoverinfo\": \"y+name\", \"line\": {\"color\": \"rgb(181,103,16)\", \"width\": 10}, \"mode\": \"lines\", \"name\": \"sailing empty\", \"type\": \"scatter\", \"x\": [\"1970-01-01T00:00:00\", \"1970-01-01T00:00:00\", \"1970-01-01T00:16:40\", \"1970-01-01T00:16:40\", \"1970-01-01T00:16:40\", \"1970-01-01T03:20:00\", \"1970-01-01T03:20:00\", \"1970-01-01T03:36:40\", \"1970-01-01T03:36:40\", \"1970-01-01T03:36:40\", \"1970-01-01T06:40:00\", \"1970-01-01T06:40:00\", \"1970-01-01T06:56:40\", \"1970-01-01T06:56:40\", \"1970-01-01T06:56:40\", \"1970-01-01T10:00:00\", \"1970-01-01T10:00:00\", \"1970-01-01T10:16:40\", \"1970-01-01T10:16:40\", \"1970-01-01T10:16:40\", \"1970-01-01T13:20:00\", \"1970-01-01T13:20:00\", \"1970-01-01T13:36:40\", \"1970-01-01T13:36:40\", \"1970-01-01T13:36:40\", \"1970-01-01T16:40:00\", \"1970-01-01T16:40:00\", \"1970-01-01T16:56:40\", \"1970-01-01T16:56:40\", \"1970-01-01T16:56:40\", \"1970-01-01T20:00:00\", \"1970-01-01T20:00:00\", \"1970-01-01T20:16:40\", \"1970-01-01T20:16:40\", \"1970-01-01T20:16:40\", \"1970-01-01T23:20:00\", \"1970-01-01T23:20:00\", \"1970-01-01T23:36:40\", \"1970-01-01T23:36:40\", \"1970-01-01T23:36:40\", \"1970-01-02T02:40:00\", \"1970-01-02T02:40:00\", \"1970-01-02T02:56:40\", \"1970-01-02T02:56:40\", \"1970-01-02T02:56:40\", \"1970-01-02T06:00:00\", \"1970-01-02T06:00:00\", \"1970-01-02T06:16:40\", \"1970-01-02T06:16:40\", \"1970-01-02T06:16:40\", \"1970-01-02T09:20:00\", \"1970-01-02T09:20:00\", \"1970-01-02T09:36:40\", \"1970-01-02T09:36:40\", \"1970-01-02T09:36:40\", \"1970-01-02T12:40:00\", \"1970-01-02T12:40:00\", \"1970-01-02T12:56:40\", \"1970-01-02T12:56:40\", \"1970-01-02T12:56:40\", \"1970-01-02T16:00:00\", \"1970-01-02T16:00:00\", \"1970-01-02T16:16:40\", \"1970-01-02T16:16:40\", \"1970-01-02T16:16:40\"], \"y\": [\"sailing empty\", \"sailing empty\", \"sailing empty\", \"sailing empty\", null, \"sailing empty\", \"sailing empty\", \"sailing empty\", \"sailing empty\", null, \"sailing empty\", \"sailing empty\", \"sailing empty\", \"sailing empty\", null, \"sailing empty\", \"sailing empty\", \"sailing empty\", \"sailing empty\", null, \"sailing empty\", \"sailing empty\", \"sailing empty\", \"sailing empty\", null, \"sailing empty\", \"sailing empty\", \"sailing empty\", \"sailing empty\", null, \"sailing empty\", \"sailing empty\", \"sailing empty\", \"sailing empty\", null, \"sailing empty\", \"sailing empty\", \"sailing empty\", \"sailing empty\", null, \"sailing empty\", \"sailing empty\", \"sailing empty\", \"sailing empty\", null, \"sailing empty\", \"sailing empty\", \"sailing empty\", \"sailing empty\", null, \"sailing empty\", \"sailing empty\", \"sailing empty\", \"sailing empty\", null, \"sailing empty\", \"sailing empty\", \"sailing empty\", \"sailing empty\", null, \"sailing empty\", \"sailing empty\", \"sailing empty\", \"sailing empty\", null]}, {\"connectgaps\": false, \"hoverinfo\": \"y+name\", \"line\": {\"color\": \"rgb(217,139,52)\", \"width\": 10}, \"mode\": \"lines\", \"name\": \"Loading\", \"type\": \"scatter\", \"x\": [\"1970-01-01T00:16:40\", \"1970-01-01T00:16:40\", \"1970-01-01T00:33:20\", \"1970-01-01T00:33:20\", \"1970-01-01T00:33:20\", \"1970-01-01T03:36:40\", \"1970-01-01T03:36:40\", \"1970-01-01T03:53:20\", \"1970-01-01T03:53:20\", \"1970-01-01T03:53:20\", \"1970-01-01T06:56:40\", \"1970-01-01T06:56:40\", \"1970-01-01T07:13:20\", \"1970-01-01T07:13:20\", \"1970-01-01T07:13:20\", \"1970-01-01T10:16:40\", \"1970-01-01T10:16:40\", \"1970-01-01T10:33:20\", \"1970-01-01T10:33:20\", \"1970-01-01T10:33:20\", \"1970-01-01T13:36:40\", \"1970-01-01T13:36:40\", \"1970-01-01T13:53:20\", \"1970-01-01T13:53:20\", \"1970-01-01T13:53:20\", \"1970-01-01T16:56:40\", \"1970-01-01T16:56:40\", \"1970-01-01T17:13:20\", \"1970-01-01T17:13:20\", \"1970-01-01T17:13:20\", \"1970-01-01T20:16:40\", \"1970-01-01T20:16:40\", \"1970-01-01T20:33:20\", \"1970-01-01T20:33:20\", \"1970-01-01T20:33:20\", \"1970-01-01T23:36:40\", \"1970-01-01T23:36:40\", \"1970-01-01T23:53:20\", \"1970-01-01T23:53:20\", \"1970-01-01T23:53:20\", \"1970-01-02T02:56:40\", \"1970-01-02T02:56:40\", \"1970-01-02T03:13:20\", \"1970-01-02T03:13:20\", \"1970-01-02T03:13:20\", \"1970-01-02T06:16:40\", \"1970-01-02T06:16:40\", \"1970-01-02T06:33:20\", \"1970-01-02T06:33:20\", \"1970-01-02T06:33:20\", \"1970-01-02T09:36:40\", \"1970-01-02T09:36:40\", \"1970-01-02T09:53:20\", \"1970-01-02T09:53:20\", \"1970-01-02T09:53:20\", \"1970-01-02T12:56:40\", \"1970-01-02T12:56:40\", \"1970-01-02T13:13:20\", \"1970-01-02T13:13:20\", \"1970-01-02T13:13:20\", \"1970-01-02T16:16:40\", \"1970-01-02T16:16:40\", \"1970-01-02T16:33:20\", \"1970-01-02T16:33:20\", \"1970-01-02T16:33:20\"], \"y\": [\"Loading\", \"Loading\", \"Loading\", \"Loading\", null, \"Loading\", \"Loading\", \"Loading\", \"Loading\", null, \"Loading\", \"Loading\", \"Loading\", \"Loading\", null, \"Loading\", \"Loading\", \"Loading\", \"Loading\", null, \"Loading\", \"Loading\", \"Loading\", \"Loading\", null, \"Loading\", \"Loading\", \"Loading\", \"Loading\", null, \"Loading\", \"Loading\", \"Loading\", \"Loading\", null, \"Loading\", \"Loading\", \"Loading\", \"Loading\", null, \"Loading\", \"Loading\", \"Loading\", \"Loading\", null, \"Loading\", \"Loading\", \"Loading\", \"Loading\", null, \"Loading\", \"Loading\", \"Loading\", \"Loading\", null, \"Loading\", \"Loading\", \"Loading\", \"Loading\", null, \"Loading\", \"Loading\", \"Loading\", \"Loading\", null]}, {\"connectgaps\": false, \"hoverinfo\": \"y+name\", \"line\": {\"color\": \"rgb(253,175,88)\", \"width\": 10}, \"mode\": \"lines\", \"name\": \"sailing filled\", \"type\": \"scatter\", \"x\": [\"1970-01-01T00:33:20\", \"1970-01-01T00:33:20\", \"1970-01-01T00:50:00\", \"1970-01-01T00:50:00\", \"1970-01-01T00:50:00\", \"1970-01-01T03:53:20\", \"1970-01-01T03:53:20\", \"1970-01-01T04:10:00\", \"1970-01-01T04:10:00\", \"1970-01-01T04:10:00\", \"1970-01-01T07:13:20\", \"1970-01-01T07:13:20\", \"1970-01-01T07:30:00\", \"1970-01-01T07:30:00\", \"1970-01-01T07:30:00\", \"1970-01-01T10:33:20\", \"1970-01-01T10:33:20\", \"1970-01-01T10:50:00\", \"1970-01-01T10:50:00\", \"1970-01-01T10:50:00\", \"1970-01-01T13:53:20\", \"1970-01-01T13:53:20\", \"1970-01-01T14:10:00\", \"1970-01-01T14:10:00\", \"1970-01-01T14:10:00\", \"1970-01-01T17:13:20\", \"1970-01-01T17:13:20\", \"1970-01-01T17:30:00\", \"1970-01-01T17:30:00\", \"1970-01-01T17:30:00\", \"1970-01-01T20:33:20\", \"1970-01-01T20:33:20\", \"1970-01-01T20:50:00\", \"1970-01-01T20:50:00\", \"1970-01-01T20:50:00\", \"1970-01-01T23:53:20\", \"1970-01-01T23:53:20\", \"1970-01-02T00:10:00\", \"1970-01-02T00:10:00\", \"1970-01-02T00:10:00\", \"1970-01-02T03:13:20\", \"1970-01-02T03:13:20\", \"1970-01-02T03:30:00\", \"1970-01-02T03:30:00\", \"1970-01-02T03:30:00\", \"1970-01-02T06:33:20\", \"1970-01-02T06:33:20\", \"1970-01-02T06:50:00\", \"1970-01-02T06:50:00\", \"1970-01-02T06:50:00\", \"1970-01-02T09:53:20\", \"1970-01-02T09:53:20\", \"1970-01-02T10:10:00\", \"1970-01-02T10:10:00\", \"1970-01-02T10:10:00\", \"1970-01-02T13:13:20\", \"1970-01-02T13:13:20\", \"1970-01-02T13:30:00\", \"1970-01-02T13:30:00\", \"1970-01-02T13:30:00\", \"1970-01-02T16:33:20\", \"1970-01-02T16:33:20\", \"1970-01-02T16:50:00\", \"1970-01-02T16:50:00\", \"1970-01-02T16:50:00\"], \"y\": [\"sailing filled\", \"sailing filled\", \"sailing filled\", \"sailing filled\", null, \"sailing filled\", \"sailing filled\", \"sailing filled\", \"sailing filled\", null, \"sailing filled\", \"sailing filled\", \"sailing filled\", \"sailing filled\", null, \"sailing filled\", \"sailing filled\", \"sailing filled\", \"sailing filled\", null, \"sailing filled\", \"sailing filled\", \"sailing filled\", \"sailing filled\", null, \"sailing filled\", \"sailing filled\", \"sailing filled\", \"sailing filled\", null, \"sailing filled\", \"sailing filled\", \"sailing filled\", \"sailing filled\", null, \"sailing filled\", \"sailing filled\", \"sailing filled\", \"sailing filled\", null, \"sailing filled\", \"sailing filled\", \"sailing filled\", \"sailing filled\", null, \"sailing filled\", \"sailing filled\", \"sailing filled\", \"sailing filled\", null, \"sailing filled\", \"sailing filled\", \"sailing filled\", \"sailing filled\", null, \"sailing filled\", \"sailing filled\", \"sailing filled\", \"sailing filled\", null, \"sailing filled\", \"sailing filled\", \"sailing filled\", \"sailing filled\", null]}, {\"connectgaps\": false, \"hoverinfo\": \"y+name\", \"line\": {\"color\": \"rgb(33,211,124)\", \"width\": 10}, \"mode\": \"lines\", \"name\": \"unloading\", \"type\": \"scatter\", \"x\": [\"1970-01-01T02:46:40\", \"1970-01-01T02:46:40\", \"1970-01-01T03:03:20\", \"1970-01-01T03:03:20\", \"1970-01-01T03:03:20\", \"1970-01-01T06:06:40\", \"1970-01-01T06:06:40\", \"1970-01-01T06:23:20\", \"1970-01-01T06:23:20\", \"1970-01-01T06:23:20\", \"1970-01-01T09:26:40\", \"1970-01-01T09:26:40\", \"1970-01-01T09:43:20\", \"1970-01-01T09:43:20\", \"1970-01-01T09:43:20\", \"1970-01-01T12:46:40\", \"1970-01-01T12:46:40\", \"1970-01-01T13:03:20\", \"1970-01-01T13:03:20\", \"1970-01-01T13:03:20\", \"1970-01-01T16:06:40\", \"1970-01-01T16:06:40\", \"1970-01-01T16:23:20\", \"1970-01-01T16:23:20\", \"1970-01-01T16:23:20\", \"1970-01-01T19:26:40\", \"1970-01-01T19:26:40\", \"1970-01-01T19:43:20\", \"1970-01-01T19:43:20\", \"1970-01-01T19:43:20\", \"1970-01-01T22:46:40\", \"1970-01-01T22:46:40\", \"1970-01-01T23:03:20\", \"1970-01-01T23:03:20\", \"1970-01-01T23:03:20\", \"1970-01-02T02:06:40\", \"1970-01-02T02:06:40\", \"1970-01-02T02:23:20\", \"1970-01-02T02:23:20\", \"1970-01-02T02:23:20\", \"1970-01-02T05:26:40\", \"1970-01-02T05:26:40\", \"1970-01-02T05:43:20\", \"1970-01-02T05:43:20\", \"1970-01-02T05:43:20\", \"1970-01-02T08:46:40\", \"1970-01-02T08:46:40\", \"1970-01-02T09:03:20\", \"1970-01-02T09:03:20\", \"1970-01-02T09:03:20\", \"1970-01-02T12:06:40\", \"1970-01-02T12:06:40\", \"1970-01-02T12:23:20\", \"1970-01-02T12:23:20\", \"1970-01-02T12:23:20\", \"1970-01-02T15:26:40\", \"1970-01-02T15:26:40\", \"1970-01-02T15:43:20\", \"1970-01-02T15:43:20\", \"1970-01-02T15:43:20\", \"1970-01-02T18:46:40\", \"1970-01-02T18:46:40\", \"1970-01-02T19:03:20\", \"1970-01-02T19:03:20\", \"1970-01-02T19:03:20\"], \"y\": [\"unloading\", \"unloading\", \"unloading\", \"unloading\", null, \"unloading\", \"unloading\", \"unloading\", \"unloading\", null, \"unloading\", \"unloading\", \"unloading\", \"unloading\", null, \"unloading\", \"unloading\", \"unloading\", \"unloading\", null, \"unloading\", \"unloading\", \"unloading\", \"unloading\", null, \"unloading\", \"unloading\", \"unloading\", \"unloading\", null, \"unloading\", \"unloading\", \"unloading\", \"unloading\", null, \"unloading\", \"unloading\", \"unloading\", \"unloading\", null, \"unloading\", \"unloading\", \"unloading\", \"unloading\", null, \"unloading\", \"unloading\", \"unloading\", \"unloading\", null, \"unloading\", \"unloading\", \"unloading\", \"unloading\", null, \"unloading\", \"unloading\", \"unloading\", \"unloading\", null, \"unloading\", \"unloading\", \"unloading\", \"unloading\", null]}, {\"connectgaps\": false, \"hoverinfo\": \"y+name\", \"line\": {\"color\": \"rgb(69,247,160)\", \"width\": 10}, \"mode\": \"lines\", \"name\": \"Basic activity\", \"type\": \"scatter\", \"x\": [\"1970-01-01T03:03:20\", \"1970-01-01T03:03:20\", \"1970-01-01T03:20:00\", \"1970-01-01T03:20:00\", \"1970-01-01T03:20:00\", \"1970-01-01T06:23:20\", \"1970-01-01T06:23:20\", \"1970-01-01T06:40:00\", \"1970-01-01T06:40:00\", \"1970-01-01T06:40:00\", \"1970-01-01T09:43:20\", \"1970-01-01T09:43:20\", \"1970-01-01T10:00:00\", \"1970-01-01T10:00:00\", \"1970-01-01T10:00:00\", \"1970-01-01T13:03:20\", \"1970-01-01T13:03:20\", \"1970-01-01T13:20:00\", \"1970-01-01T13:20:00\", \"1970-01-01T13:20:00\", \"1970-01-01T16:23:20\", \"1970-01-01T16:23:20\", \"1970-01-01T16:40:00\", \"1970-01-01T16:40:00\", \"1970-01-01T16:40:00\", \"1970-01-01T19:43:20\", \"1970-01-01T19:43:20\", \"1970-01-01T20:00:00\", \"1970-01-01T20:00:00\", \"1970-01-01T20:00:00\", \"1970-01-01T23:03:20\", \"1970-01-01T23:03:20\", \"1970-01-01T23:20:00\", \"1970-01-01T23:20:00\", \"1970-01-01T23:20:00\", \"1970-01-02T02:23:20\", \"1970-01-02T02:23:20\", \"1970-01-02T02:40:00\", \"1970-01-02T02:40:00\", \"1970-01-02T02:40:00\", \"1970-01-02T05:43:20\", \"1970-01-02T05:43:20\", \"1970-01-02T06:00:00\", \"1970-01-02T06:00:00\", \"1970-01-02T06:00:00\", \"1970-01-02T09:03:20\", \"1970-01-02T09:03:20\", \"1970-01-02T09:20:00\", \"1970-01-02T09:20:00\", \"1970-01-02T09:20:00\", \"1970-01-02T12:23:20\", \"1970-01-02T12:23:20\", \"1970-01-02T12:40:00\", \"1970-01-02T12:40:00\", \"1970-01-02T12:40:00\", \"1970-01-02T15:43:20\", \"1970-01-02T15:43:20\", \"1970-01-02T16:00:00\", \"1970-01-02T16:00:00\", \"1970-01-02T16:00:00\", \"1970-01-02T19:03:20\", \"1970-01-02T19:03:20\", \"1970-01-02T19:20:00\", \"1970-01-02T19:20:00\", \"1970-01-02T19:20:00\"], \"y\": [\"Basic activity\", \"Basic activity\", \"Basic activity\", \"Basic activity\", null, \"Basic activity\", \"Basic activity\", \"Basic activity\", \"Basic activity\", null, \"Basic activity\", \"Basic activity\", \"Basic activity\", \"Basic activity\", null, \"Basic activity\", \"Basic activity\", \"Basic activity\", \"Basic activity\", null, \"Basic activity\", \"Basic activity\", \"Basic activity\", \"Basic activity\", null, \"Basic activity\", \"Basic activity\", \"Basic activity\", \"Basic activity\", null, \"Basic activity\", \"Basic activity\", \"Basic activity\", \"Basic activity\", null, \"Basic activity\", \"Basic activity\", \"Basic activity\", \"Basic activity\", null, \"Basic activity\", \"Basic activity\", \"Basic activity\", \"Basic activity\", null, \"Basic activity\", \"Basic activity\", \"Basic activity\", \"Basic activity\", null, \"Basic activity\", \"Basic activity\", \"Basic activity\", \"Basic activity\", null, \"Basic activity\", \"Basic activity\", \"Basic activity\", \"Basic activity\", null, \"Basic activity\", \"Basic activity\", \"Basic activity\", \"Basic activity\", null]}, {\"connectgaps\": false, \"hoverinfo\": \"y+name\", \"line\": {\"color\": \"rgb(105,27,196)\", \"width\": 10}, \"mode\": \"lines\", \"name\": \"prepair\", \"type\": \"scatter\", \"x\": [\"1970-01-01T00:00:00\", \"1970-01-01T00:00:00\", \"1970-01-01T02:46:40\", \"1970-01-01T02:46:40\", \"1970-01-01T02:46:40\", \"1970-01-01T03:20:00\", \"1970-01-01T03:20:00\", \"1970-01-01T06:06:40\", \"1970-01-01T06:06:40\", \"1970-01-01T06:06:40\", \"1970-01-01T06:40:00\", \"1970-01-01T06:40:00\", \"1970-01-01T09:26:40\", \"1970-01-01T09:26:40\", \"1970-01-01T09:26:40\", \"1970-01-01T10:00:00\", \"1970-01-01T10:00:00\", \"1970-01-01T12:46:40\", \"1970-01-01T12:46:40\", \"1970-01-01T12:46:40\", \"1970-01-01T13:20:00\", \"1970-01-01T13:20:00\", \"1970-01-01T16:06:40\", \"1970-01-01T16:06:40\", \"1970-01-01T16:06:40\", \"1970-01-01T16:40:00\", \"1970-01-01T16:40:00\", \"1970-01-01T19:26:40\", \"1970-01-01T19:26:40\", \"1970-01-01T19:26:40\", \"1970-01-01T20:00:00\", \"1970-01-01T20:00:00\", \"1970-01-01T22:46:40\", \"1970-01-01T22:46:40\", \"1970-01-01T22:46:40\", \"1970-01-01T23:20:00\", \"1970-01-01T23:20:00\", \"1970-01-02T02:06:40\", \"1970-01-02T02:06:40\", \"1970-01-02T02:06:40\", \"1970-01-02T02:40:00\", \"1970-01-02T02:40:00\", \"1970-01-02T05:26:40\", \"1970-01-02T05:26:40\", \"1970-01-02T05:26:40\", \"1970-01-02T06:00:00\", \"1970-01-02T06:00:00\", \"1970-01-02T08:46:40\", \"1970-01-02T08:46:40\", \"1970-01-02T08:46:40\", \"1970-01-02T09:20:00\", \"1970-01-02T09:20:00\", \"1970-01-02T12:06:40\", \"1970-01-02T12:06:40\", \"1970-01-02T12:06:40\", \"1970-01-02T12:40:00\", \"1970-01-02T12:40:00\", \"1970-01-02T15:26:40\", \"1970-01-02T15:26:40\", \"1970-01-02T15:26:40\", \"1970-01-02T16:00:00\", \"1970-01-02T16:00:00\", \"1970-01-02T18:46:40\", \"1970-01-02T18:46:40\", \"1970-01-02T18:46:40\"], \"y\": [\"prepair\", \"prepair\", \"prepair\", \"prepair\", null, \"prepair\", \"prepair\", \"prepair\", \"prepair\", null, \"prepair\", \"prepair\", \"prepair\", \"prepair\", null, \"prepair\", \"prepair\", \"prepair\", \"prepair\", null, \"prepair\", \"prepair\", \"prepair\", \"prepair\", null, \"prepair\", \"prepair\", \"prepair\", \"prepair\", null, \"prepair\", \"prepair\", \"prepair\", \"prepair\", null, \"prepair\", \"prepair\", \"prepair\", \"prepair\", null, \"prepair\", \"prepair\", \"prepair\", \"prepair\", null, \"prepair\", \"prepair\", \"prepair\", \"prepair\", null, \"prepair\", \"prepair\", \"prepair\", \"prepair\", null, \"prepair\", \"prepair\", \"prepair\", \"prepair\", null, \"prepair\", \"prepair\", \"prepair\", \"prepair\", null]}, {\"connectgaps\": false, \"hoverinfo\": \"y+name\", \"line\": {\"color\": \"rgb(141,63,232)\", \"width\": 10}, \"mode\": \"lines\", \"name\": \"clean-up\", \"type\": \"scatter\", \"x\": [\"1970-01-01T03:03:20\", \"1970-01-01T03:03:20\", \"1970-01-01T03:20:00\", \"1970-01-01T03:20:00\", \"1970-01-01T03:20:00\", \"1970-01-01T06:23:20\", \"1970-01-01T06:23:20\", \"1970-01-01T06:40:00\", \"1970-01-01T06:40:00\", \"1970-01-01T06:40:00\", \"1970-01-01T09:43:20\", \"1970-01-01T09:43:20\", \"1970-01-01T10:00:00\", \"1970-01-01T10:00:00\", \"1970-01-01T10:00:00\", \"1970-01-01T13:03:20\", \"1970-01-01T13:03:20\", \"1970-01-01T13:20:00\", \"1970-01-01T13:20:00\", \"1970-01-01T13:20:00\", \"1970-01-01T16:23:20\", \"1970-01-01T16:23:20\", \"1970-01-01T16:40:00\", \"1970-01-01T16:40:00\", \"1970-01-01T16:40:00\", \"1970-01-01T19:43:20\", \"1970-01-01T19:43:20\", \"1970-01-01T20:00:00\", \"1970-01-01T20:00:00\", \"1970-01-01T20:00:00\", \"1970-01-01T23:03:20\", \"1970-01-01T23:03:20\", \"1970-01-01T23:20:00\", \"1970-01-01T23:20:00\", \"1970-01-01T23:20:00\", \"1970-01-02T02:23:20\", \"1970-01-02T02:23:20\", \"1970-01-02T02:40:00\", \"1970-01-02T02:40:00\", \"1970-01-02T02:40:00\", \"1970-01-02T05:43:20\", \"1970-01-02T05:43:20\", \"1970-01-02T06:00:00\", \"1970-01-02T06:00:00\", \"1970-01-02T06:00:00\", \"1970-01-02T09:03:20\", \"1970-01-02T09:03:20\", \"1970-01-02T09:20:00\", \"1970-01-02T09:20:00\", \"1970-01-02T09:20:00\", \"1970-01-02T12:23:20\", \"1970-01-02T12:23:20\", \"1970-01-02T12:40:00\", \"1970-01-02T12:40:00\", \"1970-01-02T12:40:00\", \"1970-01-02T15:43:20\", \"1970-01-02T15:43:20\", \"1970-01-02T16:00:00\", \"1970-01-02T16:00:00\", \"1970-01-02T16:00:00\", \"1970-01-02T19:03:20\", \"1970-01-02T19:03:20\", \"1970-01-02T19:20:00\", \"1970-01-02T19:20:00\", \"1970-01-02T19:20:00\"], \"y\": [\"clean-up\", \"clean-up\", \"clean-up\", \"clean-up\", null, \"clean-up\", \"clean-up\", \"clean-up\", \"clean-up\", null, \"clean-up\", \"clean-up\", \"clean-up\", \"clean-up\", null, \"clean-up\", \"clean-up\", \"clean-up\", \"clean-up\", null, \"clean-up\", \"clean-up\", \"clean-up\", \"clean-up\", null, \"clean-up\", \"clean-up\", \"clean-up\", \"clean-up\", null, \"clean-up\", \"clean-up\", \"clean-up\", \"clean-up\", null, \"clean-up\", \"clean-up\", \"clean-up\", \"clean-up\", null, \"clean-up\", \"clean-up\", \"clean-up\", \"clean-up\", null, \"clean-up\", \"clean-up\", \"clean-up\", \"clean-up\", null, \"clean-up\", \"clean-up\", \"clean-up\", \"clean-up\", null, \"clean-up\", \"clean-up\", \"clean-up\", \"clean-up\", null, \"clean-up\", \"clean-up\", \"clean-up\", \"clean-up\", null]}],                        {\"hovermode\": \"closest\", \"legend\": {\"orientation\": \"h\", \"x\": 0, \"y\": -0.2}, \"template\": {\"data\": {\"bar\": [{\"error_x\": {\"color\": \"#2a3f5f\"}, \"error_y\": {\"color\": \"#2a3f5f\"}, \"marker\": {\"line\": {\"color\": \"#E5ECF6\", \"width\": 0.5}}, \"type\": \"bar\"}], \"barpolar\": [{\"marker\": {\"line\": {\"color\": \"#E5ECF6\", \"width\": 0.5}}, \"type\": \"barpolar\"}], \"carpet\": [{\"aaxis\": {\"endlinecolor\": \"#2a3f5f\", \"gridcolor\": \"white\", \"linecolor\": \"white\", \"minorgridcolor\": \"white\", \"startlinecolor\": \"#2a3f5f\"}, \"baxis\": {\"endlinecolor\": \"#2a3f5f\", \"gridcolor\": \"white\", \"linecolor\": \"white\", \"minorgridcolor\": \"white\", \"startlinecolor\": \"#2a3f5f\"}, \"type\": \"carpet\"}], \"choropleth\": [{\"colorbar\": {\"outlinewidth\": 0, \"ticks\": \"\"}, \"type\": \"choropleth\"}], \"contour\": [{\"colorbar\": {\"outlinewidth\": 0, \"ticks\": \"\"}, \"colorscale\": [[0.0, \"#0d0887\"], [0.1111111111111111, \"#46039f\"], [0.2222222222222222, \"#7201a8\"], [0.3333333333333333, \"#9c179e\"], [0.4444444444444444, \"#bd3786\"], [0.5555555555555556, \"#d8576b\"], [0.6666666666666666, \"#ed7953\"], [0.7777777777777778, \"#fb9f3a\"], [0.8888888888888888, \"#fdca26\"], [1.0, \"#f0f921\"]], \"type\": \"contour\"}], \"contourcarpet\": [{\"colorbar\": {\"outlinewidth\": 0, \"ticks\": \"\"}, \"type\": \"contourcarpet\"}], \"heatmap\": [{\"colorbar\": {\"outlinewidth\": 0, \"ticks\": \"\"}, \"colorscale\": [[0.0, \"#0d0887\"], [0.1111111111111111, \"#46039f\"], [0.2222222222222222, \"#7201a8\"], [0.3333333333333333, \"#9c179e\"], [0.4444444444444444, \"#bd3786\"], [0.5555555555555556, \"#d8576b\"], [0.6666666666666666, \"#ed7953\"], [0.7777777777777778, \"#fb9f3a\"], [0.8888888888888888, \"#fdca26\"], [1.0, \"#f0f921\"]], \"type\": \"heatmap\"}], \"heatmapgl\": [{\"colorbar\": {\"outlinewidth\": 0, \"ticks\": \"\"}, \"colorscale\": [[0.0, \"#0d0887\"], [0.1111111111111111, \"#46039f\"], [0.2222222222222222, \"#7201a8\"], [0.3333333333333333, \"#9c179e\"], [0.4444444444444444, \"#bd3786\"], [0.5555555555555556, \"#d8576b\"], [0.6666666666666666, \"#ed7953\"], [0.7777777777777778, \"#fb9f3a\"], [0.8888888888888888, \"#fdca26\"], [1.0, \"#f0f921\"]], \"type\": \"heatmapgl\"}], \"histogram\": [{\"marker\": {\"colorbar\": {\"outlinewidth\": 0, \"ticks\": \"\"}}, \"type\": \"histogram\"}], \"histogram2d\": [{\"colorbar\": {\"outlinewidth\": 0, \"ticks\": \"\"}, \"colorscale\": [[0.0, \"#0d0887\"], [0.1111111111111111, \"#46039f\"], [0.2222222222222222, \"#7201a8\"], [0.3333333333333333, \"#9c179e\"], [0.4444444444444444, \"#bd3786\"], [0.5555555555555556, \"#d8576b\"], [0.6666666666666666, \"#ed7953\"], [0.7777777777777778, \"#fb9f3a\"], [0.8888888888888888, \"#fdca26\"], [1.0, \"#f0f921\"]], \"type\": \"histogram2d\"}], \"histogram2dcontour\": [{\"colorbar\": {\"outlinewidth\": 0, \"ticks\": \"\"}, \"colorscale\": [[0.0, \"#0d0887\"], [0.1111111111111111, \"#46039f\"], [0.2222222222222222, \"#7201a8\"], [0.3333333333333333, \"#9c179e\"], [0.4444444444444444, \"#bd3786\"], [0.5555555555555556, \"#d8576b\"], [0.6666666666666666, \"#ed7953\"], [0.7777777777777778, \"#fb9f3a\"], [0.8888888888888888, \"#fdca26\"], [1.0, \"#f0f921\"]], \"type\": \"histogram2dcontour\"}], \"mesh3d\": [{\"colorbar\": {\"outlinewidth\": 0, \"ticks\": \"\"}, \"type\": \"mesh3d\"}], \"parcoords\": [{\"line\": {\"colorbar\": {\"outlinewidth\": 0, \"ticks\": \"\"}}, \"type\": \"parcoords\"}], \"pie\": [{\"automargin\": true, \"type\": \"pie\"}], \"scatter\": [{\"marker\": {\"colorbar\": {\"outlinewidth\": 0, \"ticks\": \"\"}}, \"type\": \"scatter\"}], \"scatter3d\": [{\"line\": {\"colorbar\": {\"outlinewidth\": 0, \"ticks\": \"\"}}, \"marker\": {\"colorbar\": {\"outlinewidth\": 0, \"ticks\": \"\"}}, \"type\": \"scatter3d\"}], \"scattercarpet\": [{\"marker\": {\"colorbar\": {\"outlinewidth\": 0, \"ticks\": \"\"}}, \"type\": \"scattercarpet\"}], \"scattergeo\": [{\"marker\": {\"colorbar\": {\"outlinewidth\": 0, \"ticks\": \"\"}}, \"type\": \"scattergeo\"}], \"scattergl\": [{\"marker\": {\"colorbar\": {\"outlinewidth\": 0, \"ticks\": \"\"}}, \"type\": \"scattergl\"}], \"scattermapbox\": [{\"marker\": {\"colorbar\": {\"outlinewidth\": 0, \"ticks\": \"\"}}, \"type\": \"scattermapbox\"}], \"scatterpolar\": [{\"marker\": {\"colorbar\": {\"outlinewidth\": 0, \"ticks\": \"\"}}, \"type\": \"scatterpolar\"}], \"scatterpolargl\": [{\"marker\": {\"colorbar\": {\"outlinewidth\": 0, \"ticks\": \"\"}}, \"type\": \"scatterpolargl\"}], \"scatterternary\": [{\"marker\": {\"colorbar\": {\"outlinewidth\": 0, \"ticks\": \"\"}}, \"type\": \"scatterternary\"}], \"surface\": [{\"colorbar\": {\"outlinewidth\": 0, \"ticks\": \"\"}, \"colorscale\": [[0.0, \"#0d0887\"], [0.1111111111111111, \"#46039f\"], [0.2222222222222222, \"#7201a8\"], [0.3333333333333333, \"#9c179e\"], [0.4444444444444444, \"#bd3786\"], [0.5555555555555556, \"#d8576b\"], [0.6666666666666666, \"#ed7953\"], [0.7777777777777778, \"#fb9f3a\"], [0.8888888888888888, \"#fdca26\"], [1.0, \"#f0f921\"]], \"type\": \"surface\"}], \"table\": [{\"cells\": {\"fill\": {\"color\": \"#EBF0F8\"}, \"line\": {\"color\": \"white\"}}, \"header\": {\"fill\": {\"color\": \"#C8D4E3\"}, \"line\": {\"color\": \"white\"}}, \"type\": \"table\"}]}, \"layout\": {\"annotationdefaults\": {\"arrowcolor\": \"#2a3f5f\", \"arrowhead\": 0, \"arrowwidth\": 1}, \"autotypenumbers\": \"strict\", \"coloraxis\": {\"colorbar\": {\"outlinewidth\": 0, \"ticks\": \"\"}}, \"colorscale\": {\"diverging\": [[0, \"#8e0152\"], [0.1, \"#c51b7d\"], [0.2, \"#de77ae\"], [0.3, \"#f1b6da\"], [0.4, \"#fde0ef\"], [0.5, \"#f7f7f7\"], [0.6, \"#e6f5d0\"], [0.7, \"#b8e186\"], [0.8, \"#7fbc41\"], [0.9, \"#4d9221\"], [1, \"#276419\"]], \"sequential\": [[0.0, \"#0d0887\"], [0.1111111111111111, \"#46039f\"], [0.2222222222222222, \"#7201a8\"], [0.3333333333333333, \"#9c179e\"], [0.4444444444444444, \"#bd3786\"], [0.5555555555555556, \"#d8576b\"], [0.6666666666666666, \"#ed7953\"], [0.7777777777777778, \"#fb9f3a\"], [0.8888888888888888, \"#fdca26\"], [1.0, \"#f0f921\"]], \"sequentialminus\": [[0.0, \"#0d0887\"], [0.1111111111111111, \"#46039f\"], [0.2222222222222222, \"#7201a8\"], [0.3333333333333333, \"#9c179e\"], [0.4444444444444444, \"#bd3786\"], [0.5555555555555556, \"#d8576b\"], [0.6666666666666666, \"#ed7953\"], [0.7777777777777778, \"#fb9f3a\"], [0.8888888888888888, \"#fdca26\"], [1.0, \"#f0f921\"]]}, \"colorway\": [\"#636efa\", \"#EF553B\", \"#00cc96\", \"#ab63fa\", \"#FFA15A\", \"#19d3f3\", \"#FF6692\", \"#B6E880\", \"#FF97FF\", \"#FECB52\"], \"font\": {\"color\": \"#2a3f5f\"}, \"geo\": {\"bgcolor\": \"white\", \"lakecolor\": \"white\", \"landcolor\": \"#E5ECF6\", \"showlakes\": true, \"showland\": true, \"subunitcolor\": \"white\"}, \"hoverlabel\": {\"align\": \"left\"}, \"hovermode\": \"closest\", \"mapbox\": {\"style\": \"light\"}, \"paper_bgcolor\": \"white\", \"plot_bgcolor\": \"#E5ECF6\", \"polar\": {\"angularaxis\": {\"gridcolor\": \"white\", \"linecolor\": \"white\", \"ticks\": \"\"}, \"bgcolor\": \"#E5ECF6\", \"radialaxis\": {\"gridcolor\": \"white\", \"linecolor\": \"white\", \"ticks\": \"\"}}, \"scene\": {\"xaxis\": {\"backgroundcolor\": \"#E5ECF6\", \"gridcolor\": \"white\", \"gridwidth\": 2, \"linecolor\": \"white\", \"showbackground\": true, \"ticks\": \"\", \"zerolinecolor\": \"white\"}, \"yaxis\": {\"backgroundcolor\": \"#E5ECF6\", \"gridcolor\": \"white\", \"gridwidth\": 2, \"linecolor\": \"white\", \"showbackground\": true, \"ticks\": \"\", \"zerolinecolor\": \"white\"}, \"zaxis\": {\"backgroundcolor\": \"#E5ECF6\", \"gridcolor\": \"white\", \"gridwidth\": 2, \"linecolor\": \"white\", \"showbackground\": true, \"ticks\": \"\", \"zerolinecolor\": \"white\"}}, \"shapedefaults\": {\"line\": {\"color\": \"#2a3f5f\"}}, \"ternary\": {\"aaxis\": {\"gridcolor\": \"white\", \"linecolor\": \"white\", \"ticks\": \"\"}, \"baxis\": {\"gridcolor\": \"white\", \"linecolor\": \"white\", \"ticks\": \"\"}, \"bgcolor\": \"#E5ECF6\", \"caxis\": {\"gridcolor\": \"white\", \"linecolor\": \"white\", \"ticks\": \"\"}}, \"title\": {\"x\": 0.05}, \"xaxis\": {\"automargin\": true, \"gridcolor\": \"white\", \"linecolor\": \"white\", \"ticks\": \"\", \"title\": {\"standoff\": 15}, \"zerolinecolor\": \"white\", \"zerolinewidth\": 2}, \"yaxis\": {\"automargin\": true, \"gridcolor\": \"white\", \"linecolor\": \"white\", \"ticks\": \"\", \"title\": {\"standoff\": 15}, \"zerolinecolor\": \"white\", \"zerolinewidth\": 2}}}, \"title\": {\"text\": \"Vessel planning\"}, \"xaxis\": {\"range\": [\"1970-01-01T00:00:00\", \"1970-01-02T19:20:00\"], \"title\": {\"font\": {\"color\": \"#7f7f7f\", \"family\": \"Courier New, monospace\", \"size\": 18}, \"text\": \"Time\"}}, \"yaxis\": {\"title\": {\"font\": {\"color\": \"#7f7f7f\", \"family\": \"Courier New, monospace\", \"size\": 18}, \"text\": \"Vessels\"}}},                        {\"responsive\": true}                    ).then(function(){\n",
       "                            \n",
       "var gd = document.getElementById('034a3364-fefd-4073-87b6-dfee089a015f');\n",
       "var x = new MutationObserver(function (mutations, observer) {{\n",
       "        var display = window.getComputedStyle(gd).display;\n",
       "        if (!display || display === 'none') {{\n",
       "            console.log([gd, 'removed!']);\n",
       "            Plotly.purge(gd);\n",
       "            observer.disconnect();\n",
       "        }}\n",
       "}});\n",
       "\n",
       "// Listen for the removal of the full notebook cells\n",
       "var notebookContainer = gd.closest('#notebook-container');\n",
       "if (notebookContainer) {{\n",
       "    x.observe(notebookContainer, {childList: true});\n",
       "}}\n",
       "\n",
       "// Listen for the clearing of the current output cell\n",
       "var outputEl = gd.closest('.output');\n",
       "if (outputEl) {{\n",
       "    x.observe(outputEl, {childList: true});\n",
       "}}\n",
       "\n",
       "                        })                };                });            </script>        </div>"
      ]
     },
     "metadata": {},
     "output_type": "display_data"
    }
   ],
   "source": [
    " plot.vessel_planning([*main_processes, *helper_processes])"
   ]
  },
  {
   "cell_type": "code",
   "execution_count": 10,
   "metadata": {},
   "outputs": [
    {
     "data": {
      "image/png": "[encoded data removed]",
      "text/plain": [
       "<Figure size 432x288 with 1 Axes>"
      ]
     },
     "metadata": {
      "needs_background": "light"
     },
     "output_type": "display_data"
    }
   ],
   "source": [
    "fig = plot.get_step_chart([from_site, hopper, to_site])"
   ]
  },
  {
   "cell_type": "code",
   "execution_count": null,
   "metadata": {},
   "outputs": [],
   "source": []
  },
  {
   "cell_type": "code",
   "execution_count": null,
   "metadata": {},
   "outputs": [],
   "source": []
  }
 ],
 "metadata": {
  "kernelspec": {
   "display_name": "Python 3",
   "language": "python",
   "name": "python3"
  },
  "language_info": {
   "codemirror_mode": {
    "name": "ipython",
    "version": 3
   },
   "file_extension": ".py",
   "mimetype": "text/x-python",
   "name": "python",
   "nbconvert_exporter": "python",
   "pygments_lexer": "ipython3",
   "version": "3.7.3"
  }
 },
 "nbformat": 4,
 "nbformat_minor": 2
}

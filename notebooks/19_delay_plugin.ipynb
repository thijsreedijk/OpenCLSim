{
 "cells": [
  {
   "cell_type": "code",
   "execution_count": 1,
   "metadata": {},
   "outputs": [],
   "source": [
    "import datetime, time\n",
    "import simpy\n",
    "\n",
    "import shapely.geometry\n",
    "\n",
    "\n",
    "import pandas as pd\n",
    "import openclsim.core as core\n",
    "import openclsim.model as model\n",
    "import openclsim.plot as plot\n",
    "import openclsim.plugins as plugins\n",
    "\n",
    "# setup environment\n",
    "simulation_start = 0\n",
    "my_env = simpy.Environment(initial_time=simulation_start)\n",
    "registry = {}\n",
    "keep_resources = {}"
   ]
  },
  {
   "cell_type": "code",
   "execution_count": 2,
   "metadata": {},
   "outputs": [],
   "source": [
    "Site = type(\n",
    "    \"Site\",\n",
    "    (\n",
    "        core.Identifiable,\n",
    "        core.Log,\n",
    "        core.Locatable,\n",
    "        core.HasContainer,\n",
    "        core.HasResource,\n",
    "    ),\n",
    "    {},\n",
    ")\n",
    "\n",
    "TransportProcessingResource = type(\n",
    "    \"TransportProcessingResource\",\n",
    "    (\n",
    "        core.Identifiable,\n",
    "        core.Log,\n",
    "        core.ContainerDependentMovable,\n",
    "        core.Processor,\n",
    "        core.HasResource,\n",
    "        core.LoadingFunction,\n",
    "        core.UnloadingFunction,\n",
    "    ),\n",
    "    {},\n",
    ")\n",
    "\n",
    "location_from_site = shapely.geometry.Point(4.18055556, 52.18664444)\n",
    "location_to_site = shapely.geometry.Point(4.25222222, 52.11428333)\n"
   ]
  },
  {
   "cell_type": "code",
   "execution_count": 3,
   "metadata": {},
   "outputs": [],
   "source": [
    "from_site = Site(\n",
    "    env=my_env,\n",
    "    name=\"Winlocatie\",\n",
    "    geometry=location_from_site,\n",
    "    capacity=12,\n",
    "    level=12,\n",
    ")\n",
    "to_site = Site(\n",
    "    env=my_env,\n",
    "    name=\"Dumplocatie\",\n",
    "    geometry=location_to_site,\n",
    "    capacity=12,\n",
    "    level=0,\n",
    ")"
   ]
  },
  {
   "cell_type": "code",
   "execution_count": 4,
   "metadata": {},
   "outputs": [],
   "source": [
    "hopper = TransportProcessingResource(\n",
    "    env=my_env,\n",
    "    name=\"Hopper 01\",\n",
    "    geometry=location_from_site,\n",
    "    loading_rate=1,\n",
    "    unloading_rate=1,\n",
    "    capacity=4,\n",
    "    compute_v=lambda x: 10,\n",
    ")"
   ]
  },
  {
   "cell_type": "markdown",
   "metadata": {},
   "source": [
    "## Definition of the activities"
   ]
  },
  {
   "cell_type": "code",
   "execution_count": 5,
   "metadata": {},
   "outputs": [],
   "source": [
    "DelaySequenceActivity =  type(\n",
    "    \"TestShiftActivity\",\n",
    "    (\n",
    "        plugins.HasDelayPlugin,\n",
    "        model.SequentialActivity,  # the order is critical!\n",
    "    ),\n",
    "    {},\n",
    ")\n",
    "\n",
    "DelayWhileActivity =  type(\n",
    "    \"TestShiftActivity\",\n",
    "    (\n",
    "        plugins.HasDelayPlugin,\n",
    "        model.WhileActivity,  # the order is critical!\n",
    "    ),\n",
    "    {},\n",
    ")\n",
    "\n",
    "DelayMoveActivity =  type(\n",
    "    \"TestMoveActivity\",\n",
    "    (\n",
    "        plugins.HasDelayPlugin,\n",
    "        model.MoveActivity,  # the order is critical!\n",
    "    ),\n",
    "    {},\n",
    ")\n",
    "\n",
    "\n",
    "DelayShiftActivity =  type(\n",
    "    \"TestShiftActivity\",\n",
    "    (\n",
    "        plugins.HasDelayPlugin,\n",
    "        model.ShiftAmountActivity,  # the order is critical!\n",
    "    ),\n",
    "    {},\n",
    ")\n",
    "\n",
    "DelayBasicActivity =  type(\n",
    "    \"TestShiftActivity\",\n",
    "    (\n",
    "        plugins.HasDelayPlugin,\n",
    "        model.BasicActivity,  # the order is critical!\n",
    "    ),\n",
    "    {},\n",
    ")"
   ]
  },
  {
   "cell_type": "code",
   "execution_count": 7,
   "metadata": {},
   "outputs": [],
   "source": [
    "single_run = [\n",
    "    DelayMoveActivity(\n",
    "        env=my_env,\n",
    "        name=\"sailing empty\",\n",
    "        registry=registry,\n",
    "        mover=hopper,\n",
    "        destination=from_site,\n",
    "        delay_percentage=10,\n",
    "    ),\n",
    "    DelayShiftActivity(\n",
    "        env=my_env,\n",
    "        name=\"Transfer MP\",\n",
    "        registry=registry,\n",
    "        processor=hopper,\n",
    "        origin=from_site,\n",
    "        destination=hopper,\n",
    "        amount=4,\n",
    "        duration=10,\n",
    "        delay_percentage=10,\n",
    "    ),\n",
    "    DelayMoveActivity(\n",
    "        env=my_env,\n",
    "        name=\"sailing filler\",\n",
    "        registry=registry,\n",
    "        mover=hopper,\n",
    "        destination=to_site,\n",
    "        delay_percentage=10,\n",
    "    ),\n",
    "    DelayShiftActivity(\n",
    "        env=my_env,\n",
    "        name=\"Transfer TP\",\n",
    "        registry=registry,\n",
    "        processor=hopper,\n",
    "        origin=hopper,\n",
    "        destination=to_site,\n",
    "        amount=4,\n",
    "        duration=10,\n",
    "        delay_percentage=10,\n",
    "    ),\n",
    "    DelayBasicActivity(\n",
    "        env=my_env,\n",
    "        name=\"Basic activity\",\n",
    "        registry=registry,\n",
    "        duration=0,\n",
    "        additional_logs=[hopper],\n",
    "        delay_percentage=10,\n",
    "    ),\n",
    "]\n",
    "\n",
    "\n",
    "activity = DelaySequenceActivity(\n",
    "    env=my_env,\n",
    "    name=\"Single run process\",\n",
    "    registry=registry,\n",
    "    sub_processes=single_run,\n",
    "    delay_percentage=10,\n",
    ")\n",
    "\n",
    "while_activity = DelayWhileActivity(\n",
    "    env=my_env,\n",
    "    name=\"while\",\n",
    "    registry=registry,\n",
    "    sub_processes=[activity],\n",
    "    condition_event=[{\"type\": \"container\", \"concept\": to_site, \"state\": \"full\"}],\n",
    "    delay_percentage=10,\n",
    ")\n"
   ]
  },
  {
   "cell_type": "code",
   "execution_count": 8,
   "metadata": {},
   "outputs": [],
   "source": [
    "model.register_processes([while_activity])\n",
    "my_env.run()"
   ]
  },
  {
   "cell_type": "code",
   "execution_count": 9,
   "metadata": {},
   "outputs": [
    {
     "data": {
      "text/html": [
       "<div>\n",
       "<style scoped>\n",
       "    .dataframe tbody tr th:only-of-type {\n",
       "        vertical-align: middle;\n",
       "    }\n",
       "\n",
       "    .dataframe tbody tr th {\n",
       "        vertical-align: top;\n",
       "    }\n",
       "\n",
       "    .dataframe thead th {\n",
       "        text-align: right;\n",
       "    }\n",
       "</style>\n",
       "<table border=\"1\" class=\"dataframe\">\n",
       "  <thead>\n",
       "    <tr style=\"text-align: right;\">\n",
       "      <th></th>\n",
       "      <th>Activity</th>\n",
       "      <th>Timestamp</th>\n",
       "      <th>ActivityState</th>\n",
       "      <th>type</th>\n",
       "      <th>ref</th>\n",
       "    </tr>\n",
       "  </thead>\n",
       "  <tbody>\n",
       "    <tr>\n",
       "      <th>0</th>\n",
       "      <td>sailing empty</td>\n",
       "      <td>1970-01-01 00:00:00.000000</td>\n",
       "      <td>START</td>\n",
       "      <td>NaN</td>\n",
       "      <td>NaN</td>\n",
       "    </tr>\n",
       "    <tr>\n",
       "      <th>1</th>\n",
       "      <td>sailing empty</td>\n",
       "      <td>1970-01-01 00:00:00.000000</td>\n",
       "      <td>STOP</td>\n",
       "      <td>NaN</td>\n",
       "      <td>NaN</td>\n",
       "    </tr>\n",
       "    <tr>\n",
       "      <th>2</th>\n",
       "      <td>sailing empty</td>\n",
       "      <td>1970-01-01 00:00:00.000000</td>\n",
       "      <td>WAIT_START</td>\n",
       "      <td>plugin</td>\n",
       "      <td>delay</td>\n",
       "    </tr>\n",
       "    <tr>\n",
       "      <th>3</th>\n",
       "      <td>sailing empty</td>\n",
       "      <td>1970-01-01 00:00:00.000000</td>\n",
       "      <td>WAIT_STOP</td>\n",
       "      <td>plugin</td>\n",
       "      <td>delay</td>\n",
       "    </tr>\n",
       "    <tr>\n",
       "      <th>0</th>\n",
       "      <td>Transfer MP</td>\n",
       "      <td>1970-01-01 00:00:00.000000</td>\n",
       "      <td>START</td>\n",
       "      <td>NaN</td>\n",
       "      <td>NaN</td>\n",
       "    </tr>\n",
       "    <tr>\n",
       "      <th>1</th>\n",
       "      <td>Transfer MP</td>\n",
       "      <td>1970-01-01 00:00:10.000000</td>\n",
       "      <td>STOP</td>\n",
       "      <td>NaN</td>\n",
       "      <td>NaN</td>\n",
       "    </tr>\n",
       "    <tr>\n",
       "      <th>2</th>\n",
       "      <td>Transfer MP</td>\n",
       "      <td>1970-01-01 00:00:10.000000</td>\n",
       "      <td>WAIT_START</td>\n",
       "      <td>plugin</td>\n",
       "      <td>delay</td>\n",
       "    </tr>\n",
       "    <tr>\n",
       "      <th>3</th>\n",
       "      <td>Transfer MP</td>\n",
       "      <td>1970-01-01 00:00:11.000000</td>\n",
       "      <td>WAIT_STOP</td>\n",
       "      <td>plugin</td>\n",
       "      <td>delay</td>\n",
       "    </tr>\n",
       "    <tr>\n",
       "      <th>0</th>\n",
       "      <td>sailing filler</td>\n",
       "      <td>1970-01-01 00:00:11.000000</td>\n",
       "      <td>START</td>\n",
       "      <td>NaN</td>\n",
       "      <td>NaN</td>\n",
       "    </tr>\n",
       "    <tr>\n",
       "      <th>2</th>\n",
       "      <td>sailing filler</td>\n",
       "      <td>1970-01-01 00:15:53.824591</td>\n",
       "      <td>WAIT_START</td>\n",
       "      <td>plugin</td>\n",
       "      <td>delay</td>\n",
       "    </tr>\n",
       "    <tr>\n",
       "      <th>1</th>\n",
       "      <td>sailing filler</td>\n",
       "      <td>1970-01-01 00:15:53.824591</td>\n",
       "      <td>STOP</td>\n",
       "      <td>NaN</td>\n",
       "      <td>NaN</td>\n",
       "    </tr>\n",
       "    <tr>\n",
       "      <th>3</th>\n",
       "      <td>sailing filler</td>\n",
       "      <td>1970-01-01 00:17:28.107050</td>\n",
       "      <td>WAIT_STOP</td>\n",
       "      <td>plugin</td>\n",
       "      <td>delay</td>\n",
       "    </tr>\n",
       "    <tr>\n",
       "      <th>0</th>\n",
       "      <td>Transfer TP</td>\n",
       "      <td>1970-01-01 00:17:28.107050</td>\n",
       "      <td>START</td>\n",
       "      <td>NaN</td>\n",
       "      <td>NaN</td>\n",
       "    </tr>\n",
       "    <tr>\n",
       "      <th>2</th>\n",
       "      <td>Transfer TP</td>\n",
       "      <td>1970-01-01 00:17:38.107050</td>\n",
       "      <td>WAIT_START</td>\n",
       "      <td>plugin</td>\n",
       "      <td>delay</td>\n",
       "    </tr>\n",
       "    <tr>\n",
       "      <th>1</th>\n",
       "      <td>Transfer TP</td>\n",
       "      <td>1970-01-01 00:17:38.107050</td>\n",
       "      <td>STOP</td>\n",
       "      <td>NaN</td>\n",
       "      <td>NaN</td>\n",
       "    </tr>\n",
       "    <tr>\n",
       "      <th>2</th>\n",
       "      <td>Basic activity</td>\n",
       "      <td>1970-01-01 00:17:39.107050</td>\n",
       "      <td>WAIT_START</td>\n",
       "      <td>plugin</td>\n",
       "      <td>delay</td>\n",
       "    </tr>\n",
       "    <tr>\n",
       "      <th>1</th>\n",
       "      <td>Basic activity</td>\n",
       "      <td>1970-01-01 00:17:39.107050</td>\n",
       "      <td>STOP</td>\n",
       "      <td>NaN</td>\n",
       "      <td>NaN</td>\n",
       "    </tr>\n",
       "    <tr>\n",
       "      <th>0</th>\n",
       "      <td>Basic activity</td>\n",
       "      <td>1970-01-01 00:17:39.107050</td>\n",
       "      <td>START</td>\n",
       "      <td>NaN</td>\n",
       "      <td>NaN</td>\n",
       "    </tr>\n",
       "    <tr>\n",
       "      <th>3</th>\n",
       "      <td>Transfer TP</td>\n",
       "      <td>1970-01-01 00:17:39.107050</td>\n",
       "      <td>WAIT_STOP</td>\n",
       "      <td>plugin</td>\n",
       "      <td>delay</td>\n",
       "    </tr>\n",
       "    <tr>\n",
       "      <th>3</th>\n",
       "      <td>Basic activity</td>\n",
       "      <td>1970-01-01 00:17:39.107050</td>\n",
       "      <td>WAIT_STOP</td>\n",
       "      <td>plugin</td>\n",
       "      <td>delay</td>\n",
       "    </tr>\n",
       "    <tr>\n",
       "      <th>4</th>\n",
       "      <td>sailing empty</td>\n",
       "      <td>1970-01-01 00:19:25.017755</td>\n",
       "      <td>START</td>\n",
       "      <td>NaN</td>\n",
       "      <td>NaN</td>\n",
       "    </tr>\n",
       "    <tr>\n",
       "      <th>5</th>\n",
       "      <td>sailing empty</td>\n",
       "      <td>1970-01-01 00:35:07.842347</td>\n",
       "      <td>STOP</td>\n",
       "      <td>NaN</td>\n",
       "      <td>NaN</td>\n",
       "    </tr>\n",
       "    <tr>\n",
       "      <th>6</th>\n",
       "      <td>sailing empty</td>\n",
       "      <td>1970-01-01 00:35:07.842347</td>\n",
       "      <td>WAIT_START</td>\n",
       "      <td>plugin</td>\n",
       "      <td>delay</td>\n",
       "    </tr>\n",
       "    <tr>\n",
       "      <th>4</th>\n",
       "      <td>Transfer MP</td>\n",
       "      <td>1970-01-01 00:36:42.124806</td>\n",
       "      <td>START</td>\n",
       "      <td>NaN</td>\n",
       "      <td>NaN</td>\n",
       "    </tr>\n",
       "    <tr>\n",
       "      <th>7</th>\n",
       "      <td>sailing empty</td>\n",
       "      <td>1970-01-01 00:36:42.124806</td>\n",
       "      <td>WAIT_STOP</td>\n",
       "      <td>plugin</td>\n",
       "      <td>delay</td>\n",
       "    </tr>\n",
       "    <tr>\n",
       "      <th>6</th>\n",
       "      <td>Transfer MP</td>\n",
       "      <td>1970-01-01 00:36:52.124806</td>\n",
       "      <td>WAIT_START</td>\n",
       "      <td>plugin</td>\n",
       "      <td>delay</td>\n",
       "    </tr>\n",
       "    <tr>\n",
       "      <th>5</th>\n",
       "      <td>Transfer MP</td>\n",
       "      <td>1970-01-01 00:36:52.124806</td>\n",
       "      <td>STOP</td>\n",
       "      <td>NaN</td>\n",
       "      <td>NaN</td>\n",
       "    </tr>\n",
       "    <tr>\n",
       "      <th>4</th>\n",
       "      <td>sailing filler</td>\n",
       "      <td>1970-01-01 00:36:53.124806</td>\n",
       "      <td>START</td>\n",
       "      <td>NaN</td>\n",
       "      <td>NaN</td>\n",
       "    </tr>\n",
       "    <tr>\n",
       "      <th>7</th>\n",
       "      <td>Transfer MP</td>\n",
       "      <td>1970-01-01 00:36:53.124806</td>\n",
       "      <td>WAIT_STOP</td>\n",
       "      <td>plugin</td>\n",
       "      <td>delay</td>\n",
       "    </tr>\n",
       "    <tr>\n",
       "      <th>6</th>\n",
       "      <td>sailing filler</td>\n",
       "      <td>1970-01-01 00:52:35.949397</td>\n",
       "      <td>WAIT_START</td>\n",
       "      <td>plugin</td>\n",
       "      <td>delay</td>\n",
       "    </tr>\n",
       "    <tr>\n",
       "      <th>5</th>\n",
       "      <td>sailing filler</td>\n",
       "      <td>1970-01-01 00:52:35.949397</td>\n",
       "      <td>STOP</td>\n",
       "      <td>NaN</td>\n",
       "      <td>NaN</td>\n",
       "    </tr>\n",
       "    <tr>\n",
       "      <th>7</th>\n",
       "      <td>sailing filler</td>\n",
       "      <td>1970-01-01 00:54:10.231856</td>\n",
       "      <td>WAIT_STOP</td>\n",
       "      <td>plugin</td>\n",
       "      <td>delay</td>\n",
       "    </tr>\n",
       "    <tr>\n",
       "      <th>4</th>\n",
       "      <td>Transfer TP</td>\n",
       "      <td>1970-01-01 00:54:10.231856</td>\n",
       "      <td>START</td>\n",
       "      <td>NaN</td>\n",
       "      <td>NaN</td>\n",
       "    </tr>\n",
       "    <tr>\n",
       "      <th>6</th>\n",
       "      <td>Transfer TP</td>\n",
       "      <td>1970-01-01 00:54:20.231856</td>\n",
       "      <td>WAIT_START</td>\n",
       "      <td>plugin</td>\n",
       "      <td>delay</td>\n",
       "    </tr>\n",
       "    <tr>\n",
       "      <th>5</th>\n",
       "      <td>Transfer TP</td>\n",
       "      <td>1970-01-01 00:54:20.231856</td>\n",
       "      <td>STOP</td>\n",
       "      <td>NaN</td>\n",
       "      <td>NaN</td>\n",
       "    </tr>\n",
       "    <tr>\n",
       "      <th>7</th>\n",
       "      <td>Transfer TP</td>\n",
       "      <td>1970-01-01 00:54:21.231856</td>\n",
       "      <td>WAIT_STOP</td>\n",
       "      <td>plugin</td>\n",
       "      <td>delay</td>\n",
       "    </tr>\n",
       "    <tr>\n",
       "      <th>5</th>\n",
       "      <td>Basic activity</td>\n",
       "      <td>1970-01-01 00:54:21.231856</td>\n",
       "      <td>STOP</td>\n",
       "      <td>NaN</td>\n",
       "      <td>NaN</td>\n",
       "    </tr>\n",
       "    <tr>\n",
       "      <th>6</th>\n",
       "      <td>Basic activity</td>\n",
       "      <td>1970-01-01 00:54:21.231856</td>\n",
       "      <td>WAIT_START</td>\n",
       "      <td>plugin</td>\n",
       "      <td>delay</td>\n",
       "    </tr>\n",
       "    <tr>\n",
       "      <th>7</th>\n",
       "      <td>Basic activity</td>\n",
       "      <td>1970-01-01 00:54:21.231856</td>\n",
       "      <td>WAIT_STOP</td>\n",
       "      <td>plugin</td>\n",
       "      <td>delay</td>\n",
       "    </tr>\n",
       "    <tr>\n",
       "      <th>4</th>\n",
       "      <td>Basic activity</td>\n",
       "      <td>1970-01-01 00:54:21.231856</td>\n",
       "      <td>START</td>\n",
       "      <td>NaN</td>\n",
       "      <td>NaN</td>\n",
       "    </tr>\n",
       "    <tr>\n",
       "      <th>8</th>\n",
       "      <td>sailing empty</td>\n",
       "      <td>1970-01-01 00:57:50.853266</td>\n",
       "      <td>START</td>\n",
       "      <td>NaN</td>\n",
       "      <td>NaN</td>\n",
       "    </tr>\n",
       "    <tr>\n",
       "      <th>10</th>\n",
       "      <td>sailing empty</td>\n",
       "      <td>1970-01-01 01:13:33.677858</td>\n",
       "      <td>WAIT_START</td>\n",
       "      <td>plugin</td>\n",
       "      <td>delay</td>\n",
       "    </tr>\n",
       "    <tr>\n",
       "      <th>9</th>\n",
       "      <td>sailing empty</td>\n",
       "      <td>1970-01-01 01:13:33.677858</td>\n",
       "      <td>STOP</td>\n",
       "      <td>NaN</td>\n",
       "      <td>NaN</td>\n",
       "    </tr>\n",
       "    <tr>\n",
       "      <th>11</th>\n",
       "      <td>sailing empty</td>\n",
       "      <td>1970-01-01 01:15:07.960317</td>\n",
       "      <td>WAIT_STOP</td>\n",
       "      <td>plugin</td>\n",
       "      <td>delay</td>\n",
       "    </tr>\n",
       "    <tr>\n",
       "      <th>8</th>\n",
       "      <td>Transfer MP</td>\n",
       "      <td>1970-01-01 01:15:07.960317</td>\n",
       "      <td>START</td>\n",
       "      <td>NaN</td>\n",
       "      <td>NaN</td>\n",
       "    </tr>\n",
       "    <tr>\n",
       "      <th>9</th>\n",
       "      <td>Transfer MP</td>\n",
       "      <td>1970-01-01 01:15:17.960317</td>\n",
       "      <td>STOP</td>\n",
       "      <td>NaN</td>\n",
       "      <td>NaN</td>\n",
       "    </tr>\n",
       "    <tr>\n",
       "      <th>10</th>\n",
       "      <td>Transfer MP</td>\n",
       "      <td>1970-01-01 01:15:17.960317</td>\n",
       "      <td>WAIT_START</td>\n",
       "      <td>plugin</td>\n",
       "      <td>delay</td>\n",
       "    </tr>\n",
       "    <tr>\n",
       "      <th>8</th>\n",
       "      <td>sailing filler</td>\n",
       "      <td>1970-01-01 01:15:18.960317</td>\n",
       "      <td>START</td>\n",
       "      <td>NaN</td>\n",
       "      <td>NaN</td>\n",
       "    </tr>\n",
       "    <tr>\n",
       "      <th>11</th>\n",
       "      <td>Transfer MP</td>\n",
       "      <td>1970-01-01 01:15:18.960317</td>\n",
       "      <td>WAIT_STOP</td>\n",
       "      <td>plugin</td>\n",
       "      <td>delay</td>\n",
       "    </tr>\n",
       "    <tr>\n",
       "      <th>9</th>\n",
       "      <td>sailing filler</td>\n",
       "      <td>1970-01-01 01:31:01.784908</td>\n",
       "      <td>STOP</td>\n",
       "      <td>NaN</td>\n",
       "      <td>NaN</td>\n",
       "    </tr>\n",
       "    <tr>\n",
       "      <th>10</th>\n",
       "      <td>sailing filler</td>\n",
       "      <td>1970-01-01 01:31:01.784908</td>\n",
       "      <td>WAIT_START</td>\n",
       "      <td>plugin</td>\n",
       "      <td>delay</td>\n",
       "    </tr>\n",
       "    <tr>\n",
       "      <th>8</th>\n",
       "      <td>Transfer TP</td>\n",
       "      <td>1970-01-01 01:32:36.067367</td>\n",
       "      <td>START</td>\n",
       "      <td>NaN</td>\n",
       "      <td>NaN</td>\n",
       "    </tr>\n",
       "    <tr>\n",
       "      <th>11</th>\n",
       "      <td>sailing filler</td>\n",
       "      <td>1970-01-01 01:32:36.067367</td>\n",
       "      <td>WAIT_STOP</td>\n",
       "      <td>plugin</td>\n",
       "      <td>delay</td>\n",
       "    </tr>\n",
       "    <tr>\n",
       "      <th>9</th>\n",
       "      <td>Transfer TP</td>\n",
       "      <td>1970-01-01 01:32:46.067367</td>\n",
       "      <td>STOP</td>\n",
       "      <td>NaN</td>\n",
       "      <td>NaN</td>\n",
       "    </tr>\n",
       "    <tr>\n",
       "      <th>10</th>\n",
       "      <td>Transfer TP</td>\n",
       "      <td>1970-01-01 01:32:46.067367</td>\n",
       "      <td>WAIT_START</td>\n",
       "      <td>plugin</td>\n",
       "      <td>delay</td>\n",
       "    </tr>\n",
       "    <tr>\n",
       "      <th>10</th>\n",
       "      <td>Basic activity</td>\n",
       "      <td>1970-01-01 01:32:47.067367</td>\n",
       "      <td>WAIT_START</td>\n",
       "      <td>plugin</td>\n",
       "      <td>delay</td>\n",
       "    </tr>\n",
       "    <tr>\n",
       "      <th>8</th>\n",
       "      <td>Basic activity</td>\n",
       "      <td>1970-01-01 01:32:47.067367</td>\n",
       "      <td>START</td>\n",
       "      <td>NaN</td>\n",
       "      <td>NaN</td>\n",
       "    </tr>\n",
       "    <tr>\n",
       "      <th>9</th>\n",
       "      <td>Basic activity</td>\n",
       "      <td>1970-01-01 01:32:47.067367</td>\n",
       "      <td>STOP</td>\n",
       "      <td>NaN</td>\n",
       "      <td>NaN</td>\n",
       "    </tr>\n",
       "    <tr>\n",
       "      <th>11</th>\n",
       "      <td>Transfer TP</td>\n",
       "      <td>1970-01-01 01:32:47.067367</td>\n",
       "      <td>WAIT_STOP</td>\n",
       "      <td>plugin</td>\n",
       "      <td>delay</td>\n",
       "    </tr>\n",
       "    <tr>\n",
       "      <th>11</th>\n",
       "      <td>Basic activity</td>\n",
       "      <td>1970-01-01 01:32:47.067367</td>\n",
       "      <td>WAIT_STOP</td>\n",
       "      <td>plugin</td>\n",
       "      <td>delay</td>\n",
       "    </tr>\n",
       "  </tbody>\n",
       "</table>\n",
       "</div>"
      ],
      "text/plain": [
       "          Activity                  Timestamp ActivityState    type    ref\n",
       "0    sailing empty 1970-01-01 00:00:00.000000         START     NaN    NaN\n",
       "1    sailing empty 1970-01-01 00:00:00.000000          STOP     NaN    NaN\n",
       "2    sailing empty 1970-01-01 00:00:00.000000    WAIT_START  plugin  delay\n",
       "3    sailing empty 1970-01-01 00:00:00.000000     WAIT_STOP  plugin  delay\n",
       "0      Transfer MP 1970-01-01 00:00:00.000000         START     NaN    NaN\n",
       "1      Transfer MP 1970-01-01 00:00:10.000000          STOP     NaN    NaN\n",
       "2      Transfer MP 1970-01-01 00:00:10.000000    WAIT_START  plugin  delay\n",
       "3      Transfer MP 1970-01-01 00:00:11.000000     WAIT_STOP  plugin  delay\n",
       "0   sailing filler 1970-01-01 00:00:11.000000         START     NaN    NaN\n",
       "2   sailing filler 1970-01-01 00:15:53.824591    WAIT_START  plugin  delay\n",
       "1   sailing filler 1970-01-01 00:15:53.824591          STOP     NaN    NaN\n",
       "3   sailing filler 1970-01-01 00:17:28.107050     WAIT_STOP  plugin  delay\n",
       "0      Transfer TP 1970-01-01 00:17:28.107050         START     NaN    NaN\n",
       "2      Transfer TP 1970-01-01 00:17:38.107050    WAIT_START  plugin  delay\n",
       "1      Transfer TP 1970-01-01 00:17:38.107050          STOP     NaN    NaN\n",
       "2   Basic activity 1970-01-01 00:17:39.107050    WAIT_START  plugin  delay\n",
       "1   Basic activity 1970-01-01 00:17:39.107050          STOP     NaN    NaN\n",
       "0   Basic activity 1970-01-01 00:17:39.107050         START     NaN    NaN\n",
       "3      Transfer TP 1970-01-01 00:17:39.107050     WAIT_STOP  plugin  delay\n",
       "3   Basic activity 1970-01-01 00:17:39.107050     WAIT_STOP  plugin  delay\n",
       "4    sailing empty 1970-01-01 00:19:25.017755         START     NaN    NaN\n",
       "5    sailing empty 1970-01-01 00:35:07.842347          STOP     NaN    NaN\n",
       "6    sailing empty 1970-01-01 00:35:07.842347    WAIT_START  plugin  delay\n",
       "4      Transfer MP 1970-01-01 00:36:42.124806         START     NaN    NaN\n",
       "7    sailing empty 1970-01-01 00:36:42.124806     WAIT_STOP  plugin  delay\n",
       "6      Transfer MP 1970-01-01 00:36:52.124806    WAIT_START  plugin  delay\n",
       "5      Transfer MP 1970-01-01 00:36:52.124806          STOP     NaN    NaN\n",
       "4   sailing filler 1970-01-01 00:36:53.124806         START     NaN    NaN\n",
       "7      Transfer MP 1970-01-01 00:36:53.124806     WAIT_STOP  plugin  delay\n",
       "6   sailing filler 1970-01-01 00:52:35.949397    WAIT_START  plugin  delay\n",
       "5   sailing filler 1970-01-01 00:52:35.949397          STOP     NaN    NaN\n",
       "7   sailing filler 1970-01-01 00:54:10.231856     WAIT_STOP  plugin  delay\n",
       "4      Transfer TP 1970-01-01 00:54:10.231856         START     NaN    NaN\n",
       "6      Transfer TP 1970-01-01 00:54:20.231856    WAIT_START  plugin  delay\n",
       "5      Transfer TP 1970-01-01 00:54:20.231856          STOP     NaN    NaN\n",
       "7      Transfer TP 1970-01-01 00:54:21.231856     WAIT_STOP  plugin  delay\n",
       "5   Basic activity 1970-01-01 00:54:21.231856          STOP     NaN    NaN\n",
       "6   Basic activity 1970-01-01 00:54:21.231856    WAIT_START  plugin  delay\n",
       "7   Basic activity 1970-01-01 00:54:21.231856     WAIT_STOP  plugin  delay\n",
       "4   Basic activity 1970-01-01 00:54:21.231856         START     NaN    NaN\n",
       "8    sailing empty 1970-01-01 00:57:50.853266         START     NaN    NaN\n",
       "10   sailing empty 1970-01-01 01:13:33.677858    WAIT_START  plugin  delay\n",
       "9    sailing empty 1970-01-01 01:13:33.677858          STOP     NaN    NaN\n",
       "11   sailing empty 1970-01-01 01:15:07.960317     WAIT_STOP  plugin  delay\n",
       "8      Transfer MP 1970-01-01 01:15:07.960317         START     NaN    NaN\n",
       "9      Transfer MP 1970-01-01 01:15:17.960317          STOP     NaN    NaN\n",
       "10     Transfer MP 1970-01-01 01:15:17.960317    WAIT_START  plugin  delay\n",
       "8   sailing filler 1970-01-01 01:15:18.960317         START     NaN    NaN\n",
       "11     Transfer MP 1970-01-01 01:15:18.960317     WAIT_STOP  plugin  delay\n",
       "9   sailing filler 1970-01-01 01:31:01.784908          STOP     NaN    NaN\n",
       "10  sailing filler 1970-01-01 01:31:01.784908    WAIT_START  plugin  delay\n",
       "8      Transfer TP 1970-01-01 01:32:36.067367         START     NaN    NaN\n",
       "11  sailing filler 1970-01-01 01:32:36.067367     WAIT_STOP  plugin  delay\n",
       "9      Transfer TP 1970-01-01 01:32:46.067367          STOP     NaN    NaN\n",
       "10     Transfer TP 1970-01-01 01:32:46.067367    WAIT_START  plugin  delay\n",
       "10  Basic activity 1970-01-01 01:32:47.067367    WAIT_START  plugin  delay\n",
       "8   Basic activity 1970-01-01 01:32:47.067367         START     NaN    NaN\n",
       "9   Basic activity 1970-01-01 01:32:47.067367          STOP     NaN    NaN\n",
       "11     Transfer TP 1970-01-01 01:32:47.067367     WAIT_STOP  plugin  delay\n",
       "11  Basic activity 1970-01-01 01:32:47.067367     WAIT_STOP  plugin  delay"
      ]
     },
     "execution_count": 9,
     "metadata": {},
     "output_type": "execute_result"
    }
   ],
   "source": [
    "pd.concat([plot.get_log_dataframe(act, [while_activity, activity, *single_run]) for act in single_run]).sort_values(by='Timestamp')"
   ]
  },
  {
   "cell_type": "code",
   "execution_count": 10,
   "metadata": {},
   "outputs": [
    {
     "data": {
      "text/html": [
       "        <script type=\"text/javascript\">\n",
       "        window.PlotlyConfig = {MathJaxConfig: 'local'};\n",
       "        if (window.MathJax) {MathJax.Hub.Config({SVG: {font: \"STIX-Web\"}});}\n",
       "        if (typeof require !== 'undefined') {\n",
       "        require.undef(\"plotly\");\n",
       "        requirejs.config({\n",
       "            paths: {\n",
       "                'plotly': ['https://cdn.plot.ly/plotly-latest.min']\n",
       "            }\n",
       "        });\n",
       "        require(['plotly'], function(Plotly) {\n",
       "            window._Plotly = Plotly;\n",
       "        });\n",
       "        }\n",
       "        </script>\n",
       "        "
      ]
     },
     "metadata": {},
     "output_type": "display_data"
    },
    {
     "data": {
      "application/vnd.plotly.v1+json": {
       "config": {
        "linkText": "Export to plot.ly",
        "plotlyServerURL": "https://plot.ly",
        "showLink": false
       },
       "data": [
        {
         "connectgaps": false,
         "hoverinfo": "y+name",
         "line": {
          "color": "rgb(10,147,59)",
          "width": 10
         },
         "mode": "lines",
         "name": "sailing filler",
         "type": "scatter",
         "x": [
          "1970-01-01T00:00:11",
          "1970-01-01T00:00:11",
          "1970-01-01T00:15:53.824591",
          "1970-01-01T00:15:53.824591",
          "1970-01-01T00:15:53.824591",
          "1970-01-01T00:36:53.124806",
          "1970-01-01T00:36:53.124806",
          "1970-01-01T00:52:35.949397",
          "1970-01-01T00:52:35.949397",
          "1970-01-01T00:52:35.949397",
          "1970-01-01T01:15:18.960317",
          "1970-01-01T01:15:18.960317",
          "1970-01-01T01:31:01.784908",
          "1970-01-01T01:31:01.784908",
          "1970-01-01T01:31:01.784908",
          "1970-01-01T00:00:11",
          "1970-01-01T00:00:11",
          "1970-01-01T00:15:53.824591",
          "1970-01-01T00:15:53.824591",
          "1970-01-01T00:15:53.824591",
          "1970-01-01T00:36:53.124806",
          "1970-01-01T00:36:53.124806",
          "1970-01-01T00:52:35.949397",
          "1970-01-01T00:52:35.949397",
          "1970-01-01T00:52:35.949397",
          "1970-01-01T01:15:18.960317",
          "1970-01-01T01:15:18.960317",
          "1970-01-01T01:31:01.784908",
          "1970-01-01T01:31:01.784908",
          "1970-01-01T01:31:01.784908"
         ],
         "y": [
          "Hopper 01",
          "Hopper 01",
          "Hopper 01",
          "Hopper 01",
          null,
          "Hopper 01",
          "Hopper 01",
          "Hopper 01",
          "Hopper 01",
          null,
          "Hopper 01",
          "Hopper 01",
          "Hopper 01",
          "Hopper 01",
          null,
          "sailing filler",
          "sailing filler",
          "sailing filler",
          "sailing filler",
          null,
          "sailing filler",
          "sailing filler",
          "sailing filler",
          "sailing filler",
          null,
          "sailing filler",
          "sailing filler",
          "sailing filler",
          "sailing filler",
          null
         ]
        },
        {
         "connectgaps": false,
         "hoverinfo": "y+name",
         "line": {
          "color": "rgb(28,165,77)",
          "width": 10
         },
         "mode": "lines",
         "name": "sailing empty",
         "type": "scatter",
         "x": [
          "1970-01-01T00:00:00",
          "1970-01-01T00:00:00",
          "1970-01-01T00:00:00",
          "1970-01-01T00:00:00",
          "1970-01-01T00:00:00",
          "1970-01-01T00:19:25.017755",
          "1970-01-01T00:19:25.017755",
          "1970-01-01T00:35:07.842347",
          "1970-01-01T00:35:07.842347",
          "1970-01-01T00:35:07.842347",
          "1970-01-01T00:57:50.853266",
          "1970-01-01T00:57:50.853266",
          "1970-01-01T01:13:33.677858",
          "1970-01-01T01:13:33.677858",
          "1970-01-01T01:13:33.677858",
          "1970-01-01T00:00:00",
          "1970-01-01T00:00:00",
          "1970-01-01T00:00:00",
          "1970-01-01T00:00:00",
          "1970-01-01T00:00:00",
          "1970-01-01T00:19:25.017755",
          "1970-01-01T00:19:25.017755",
          "1970-01-01T00:35:07.842347",
          "1970-01-01T00:35:07.842347",
          "1970-01-01T00:35:07.842347",
          "1970-01-01T00:57:50.853266",
          "1970-01-01T00:57:50.853266",
          "1970-01-01T01:13:33.677858",
          "1970-01-01T01:13:33.677858",
          "1970-01-01T01:13:33.677858"
         ],
         "y": [
          "Hopper 01",
          "Hopper 01",
          "Hopper 01",
          "Hopper 01",
          null,
          "Hopper 01",
          "Hopper 01",
          "Hopper 01",
          "Hopper 01",
          null,
          "Hopper 01",
          "Hopper 01",
          "Hopper 01",
          "Hopper 01",
          null,
          "sailing empty",
          "sailing empty",
          "sailing empty",
          "sailing empty",
          null,
          "sailing empty",
          "sailing empty",
          "sailing empty",
          "sailing empty",
          null,
          "sailing empty",
          "sailing empty",
          "sailing empty",
          "sailing empty",
          null
         ]
        },
        {
         "connectgaps": false,
         "hoverinfo": "y+name",
         "line": {
          "color": "rgb(46,183,95)",
          "width": 10
         },
         "mode": "lines",
         "name": "Transfer MP",
         "type": "scatter",
         "x": [
          "1970-01-01T00:00:00",
          "1970-01-01T00:00:00",
          "1970-01-01T00:00:10",
          "1970-01-01T00:00:10",
          "1970-01-01T00:00:10",
          "1970-01-01T00:00:00",
          "1970-01-01T00:00:00",
          "1970-01-01T00:00:10",
          "1970-01-01T00:00:10",
          "1970-01-01T00:00:10",
          "1970-01-01T00:36:42.124806",
          "1970-01-01T00:36:42.124806",
          "1970-01-01T00:36:52.124806",
          "1970-01-01T00:36:52.124806",
          "1970-01-01T00:36:52.124806",
          "1970-01-01T00:36:42.124806",
          "1970-01-01T00:36:42.124806",
          "1970-01-01T00:36:52.124806",
          "1970-01-01T00:36:52.124806",
          "1970-01-01T00:36:52.124806",
          "1970-01-01T01:15:07.960317",
          "1970-01-01T01:15:07.960317",
          "1970-01-01T01:15:17.960317",
          "1970-01-01T01:15:17.960317",
          "1970-01-01T01:15:17.960317",
          "1970-01-01T01:15:07.960317",
          "1970-01-01T01:15:07.960317",
          "1970-01-01T01:15:17.960317",
          "1970-01-01T01:15:17.960317",
          "1970-01-01T01:15:17.960317",
          "1970-01-01T00:00:00",
          "1970-01-01T00:00:00",
          "1970-01-01T00:00:10",
          "1970-01-01T00:00:10",
          "1970-01-01T00:00:10",
          "1970-01-01T00:36:42.124806",
          "1970-01-01T00:36:42.124806",
          "1970-01-01T00:36:52.124806",
          "1970-01-01T00:36:52.124806",
          "1970-01-01T00:36:52.124806",
          "1970-01-01T01:15:07.960317",
          "1970-01-01T01:15:07.960317",
          "1970-01-01T01:15:17.960317",
          "1970-01-01T01:15:17.960317",
          "1970-01-01T01:15:17.960317",
          "1970-01-01T00:00:00",
          "1970-01-01T00:00:00",
          "1970-01-01T00:00:10",
          "1970-01-01T00:00:10",
          "1970-01-01T00:00:10",
          "1970-01-01T00:36:42.124806",
          "1970-01-01T00:36:42.124806",
          "1970-01-01T00:36:52.124806",
          "1970-01-01T00:36:52.124806",
          "1970-01-01T00:36:52.124806",
          "1970-01-01T01:15:07.960317",
          "1970-01-01T01:15:07.960317",
          "1970-01-01T01:15:17.960317",
          "1970-01-01T01:15:17.960317",
          "1970-01-01T01:15:17.960317"
         ],
         "y": [
          "Hopper 01",
          "Hopper 01",
          "Hopper 01",
          "Hopper 01",
          null,
          "Hopper 01",
          "Hopper 01",
          "Hopper 01",
          "Hopper 01",
          null,
          "Hopper 01",
          "Hopper 01",
          "Hopper 01",
          "Hopper 01",
          null,
          "Hopper 01",
          "Hopper 01",
          "Hopper 01",
          "Hopper 01",
          null,
          "Hopper 01",
          "Hopper 01",
          "Hopper 01",
          "Hopper 01",
          null,
          "Hopper 01",
          "Hopper 01",
          "Hopper 01",
          "Hopper 01",
          null,
          "Winlocatie",
          "Winlocatie",
          "Winlocatie",
          "Winlocatie",
          null,
          "Winlocatie",
          "Winlocatie",
          "Winlocatie",
          "Winlocatie",
          null,
          "Winlocatie",
          "Winlocatie",
          "Winlocatie",
          "Winlocatie",
          null,
          "Transfer MP",
          "Transfer MP",
          "Transfer MP",
          "Transfer MP",
          null,
          "Transfer MP",
          "Transfer MP",
          "Transfer MP",
          "Transfer MP",
          null,
          "Transfer MP",
          "Transfer MP",
          "Transfer MP",
          "Transfer MP",
          null
         ]
        },
        {
         "connectgaps": false,
         "hoverinfo": "y+name",
         "line": {
          "color": "rgb(64,201,113)",
          "width": 10
         },
         "mode": "lines",
         "name": "Basic activity",
         "type": "scatter",
         "x": [
          "1970-01-01T00:17:39.107050",
          "1970-01-01T00:17:39.107050",
          "1970-01-01T00:17:39.107050",
          "1970-01-01T00:17:39.107050",
          "1970-01-01T00:17:39.107050",
          "1970-01-01T00:54:21.231856",
          "1970-01-01T00:54:21.231856",
          "1970-01-01T00:54:21.231856",
          "1970-01-01T00:54:21.231856",
          "1970-01-01T00:54:21.231856",
          "1970-01-01T01:32:47.067367",
          "1970-01-01T01:32:47.067367",
          "1970-01-01T01:32:47.067367",
          "1970-01-01T01:32:47.067367",
          "1970-01-01T01:32:47.067367",
          "1970-01-01T00:17:39.107050",
          "1970-01-01T00:17:39.107050",
          "1970-01-01T00:17:39.107050",
          "1970-01-01T00:17:39.107050",
          "1970-01-01T00:17:39.107050",
          "1970-01-01T00:54:21.231856",
          "1970-01-01T00:54:21.231856",
          "1970-01-01T00:54:21.231856",
          "1970-01-01T00:54:21.231856",
          "1970-01-01T00:54:21.231856",
          "1970-01-01T01:32:47.067367",
          "1970-01-01T01:32:47.067367",
          "1970-01-01T01:32:47.067367",
          "1970-01-01T01:32:47.067367",
          "1970-01-01T01:32:47.067367"
         ],
         "y": [
          "Hopper 01",
          "Hopper 01",
          "Hopper 01",
          "Hopper 01",
          null,
          "Hopper 01",
          "Hopper 01",
          "Hopper 01",
          "Hopper 01",
          null,
          "Hopper 01",
          "Hopper 01",
          "Hopper 01",
          "Hopper 01",
          null,
          "Basic activity",
          "Basic activity",
          "Basic activity",
          "Basic activity",
          null,
          "Basic activity",
          "Basic activity",
          "Basic activity",
          "Basic activity",
          null,
          "Basic activity",
          "Basic activity",
          "Basic activity",
          "Basic activity",
          null
         ]
        },
        {
         "connectgaps": false,
         "hoverinfo": "y+name",
         "line": {
          "color": "rgb(82,219,131)",
          "width": 10
         },
         "mode": "lines",
         "name": "Transfer TP",
         "type": "scatter",
         "x": [
          "1970-01-01T00:17:28.107050",
          "1970-01-01T00:17:28.107050",
          "1970-01-01T00:17:38.107050",
          "1970-01-01T00:17:38.107050",
          "1970-01-01T00:17:38.107050",
          "1970-01-01T00:17:28.107050",
          "1970-01-01T00:17:28.107050",
          "1970-01-01T00:17:38.107050",
          "1970-01-01T00:17:38.107050",
          "1970-01-01T00:17:38.107050",
          "1970-01-01T00:54:10.231856",
          "1970-01-01T00:54:10.231856",
          "1970-01-01T00:54:20.231856",
          "1970-01-01T00:54:20.231856",
          "1970-01-01T00:54:20.231856",
          "1970-01-01T00:54:10.231856",
          "1970-01-01T00:54:10.231856",
          "1970-01-01T00:54:20.231856",
          "1970-01-01T00:54:20.231856",
          "1970-01-01T00:54:20.231856",
          "1970-01-01T01:32:36.067367",
          "1970-01-01T01:32:36.067367",
          "1970-01-01T01:32:46.067367",
          "1970-01-01T01:32:46.067367",
          "1970-01-01T01:32:46.067367",
          "1970-01-01T01:32:36.067367",
          "1970-01-01T01:32:36.067367",
          "1970-01-01T01:32:46.067367",
          "1970-01-01T01:32:46.067367",
          "1970-01-01T01:32:46.067367",
          "1970-01-01T00:17:28.107050",
          "1970-01-01T00:17:28.107050",
          "1970-01-01T00:17:38.107050",
          "1970-01-01T00:17:38.107050",
          "1970-01-01T00:17:38.107050",
          "1970-01-01T00:54:10.231856",
          "1970-01-01T00:54:10.231856",
          "1970-01-01T00:54:20.231856",
          "1970-01-01T00:54:20.231856",
          "1970-01-01T00:54:20.231856",
          "1970-01-01T01:32:36.067367",
          "1970-01-01T01:32:36.067367",
          "1970-01-01T01:32:46.067367",
          "1970-01-01T01:32:46.067367",
          "1970-01-01T01:32:46.067367",
          "1970-01-01T00:17:28.107050",
          "1970-01-01T00:17:28.107050",
          "1970-01-01T00:17:38.107050",
          "1970-01-01T00:17:38.107050",
          "1970-01-01T00:17:38.107050",
          "1970-01-01T00:54:10.231856",
          "1970-01-01T00:54:10.231856",
          "1970-01-01T00:54:20.231856",
          "1970-01-01T00:54:20.231856",
          "1970-01-01T00:54:20.231856",
          "1970-01-01T01:32:36.067367",
          "1970-01-01T01:32:36.067367",
          "1970-01-01T01:32:46.067367",
          "1970-01-01T01:32:46.067367",
          "1970-01-01T01:32:46.067367"
         ],
         "y": [
          "Hopper 01",
          "Hopper 01",
          "Hopper 01",
          "Hopper 01",
          null,
          "Hopper 01",
          "Hopper 01",
          "Hopper 01",
          "Hopper 01",
          null,
          "Hopper 01",
          "Hopper 01",
          "Hopper 01",
          "Hopper 01",
          null,
          "Hopper 01",
          "Hopper 01",
          "Hopper 01",
          "Hopper 01",
          null,
          "Hopper 01",
          "Hopper 01",
          "Hopper 01",
          "Hopper 01",
          null,
          "Hopper 01",
          "Hopper 01",
          "Hopper 01",
          "Hopper 01",
          null,
          "Dumplocatie",
          "Dumplocatie",
          "Dumplocatie",
          "Dumplocatie",
          null,
          "Dumplocatie",
          "Dumplocatie",
          "Dumplocatie",
          "Dumplocatie",
          null,
          "Dumplocatie",
          "Dumplocatie",
          "Dumplocatie",
          "Dumplocatie",
          null,
          "Transfer TP",
          "Transfer TP",
          "Transfer TP",
          "Transfer TP",
          null,
          "Transfer TP",
          "Transfer TP",
          "Transfer TP",
          "Transfer TP",
          null,
          "Transfer TP",
          "Transfer TP",
          "Transfer TP",
          "Transfer TP",
          null
         ]
        },
        {
         "connectgaps": false,
         "hoverinfo": "y+name",
         "line": {
          "color": "rgb(100,237,149)",
          "width": 10
         },
         "mode": "lines",
         "name": "Transfer MP",
         "type": "scatter",
         "x": [
          "1970-01-01T00:00:00",
          "1970-01-01T00:00:00",
          "1970-01-01T00:00:10",
          "1970-01-01T00:00:10",
          "1970-01-01T00:00:10",
          "1970-01-01T00:00:00",
          "1970-01-01T00:00:00",
          "1970-01-01T00:00:10",
          "1970-01-01T00:00:10",
          "1970-01-01T00:00:10",
          "1970-01-01T00:36:42.124806",
          "1970-01-01T00:36:42.124806",
          "1970-01-01T00:36:52.124806",
          "1970-01-01T00:36:52.124806",
          "1970-01-01T00:36:52.124806",
          "1970-01-01T00:36:42.124806",
          "1970-01-01T00:36:42.124806",
          "1970-01-01T00:36:52.124806",
          "1970-01-01T00:36:52.124806",
          "1970-01-01T00:36:52.124806",
          "1970-01-01T01:15:07.960317",
          "1970-01-01T01:15:07.960317",
          "1970-01-01T01:15:17.960317",
          "1970-01-01T01:15:17.960317",
          "1970-01-01T01:15:17.960317",
          "1970-01-01T01:15:07.960317",
          "1970-01-01T01:15:07.960317",
          "1970-01-01T01:15:17.960317",
          "1970-01-01T01:15:17.960317",
          "1970-01-01T01:15:17.960317",
          "1970-01-01T00:00:00",
          "1970-01-01T00:00:00",
          "1970-01-01T00:00:10",
          "1970-01-01T00:00:10",
          "1970-01-01T00:00:10",
          "1970-01-01T00:36:42.124806",
          "1970-01-01T00:36:42.124806",
          "1970-01-01T00:36:52.124806",
          "1970-01-01T00:36:52.124806",
          "1970-01-01T00:36:52.124806",
          "1970-01-01T01:15:07.960317",
          "1970-01-01T01:15:07.960317",
          "1970-01-01T01:15:17.960317",
          "1970-01-01T01:15:17.960317",
          "1970-01-01T01:15:17.960317",
          "1970-01-01T00:00:00",
          "1970-01-01T00:00:00",
          "1970-01-01T00:00:10",
          "1970-01-01T00:00:10",
          "1970-01-01T00:00:10",
          "1970-01-01T00:36:42.124806",
          "1970-01-01T00:36:42.124806",
          "1970-01-01T00:36:52.124806",
          "1970-01-01T00:36:52.124806",
          "1970-01-01T00:36:52.124806",
          "1970-01-01T01:15:07.960317",
          "1970-01-01T01:15:07.960317",
          "1970-01-01T01:15:17.960317",
          "1970-01-01T01:15:17.960317",
          "1970-01-01T01:15:17.960317"
         ],
         "y": [
          "Hopper 01",
          "Hopper 01",
          "Hopper 01",
          "Hopper 01",
          null,
          "Hopper 01",
          "Hopper 01",
          "Hopper 01",
          "Hopper 01",
          null,
          "Hopper 01",
          "Hopper 01",
          "Hopper 01",
          "Hopper 01",
          null,
          "Hopper 01",
          "Hopper 01",
          "Hopper 01",
          "Hopper 01",
          null,
          "Hopper 01",
          "Hopper 01",
          "Hopper 01",
          "Hopper 01",
          null,
          "Hopper 01",
          "Hopper 01",
          "Hopper 01",
          "Hopper 01",
          null,
          "Winlocatie",
          "Winlocatie",
          "Winlocatie",
          "Winlocatie",
          null,
          "Winlocatie",
          "Winlocatie",
          "Winlocatie",
          "Winlocatie",
          null,
          "Winlocatie",
          "Winlocatie",
          "Winlocatie",
          "Winlocatie",
          null,
          "Transfer MP",
          "Transfer MP",
          "Transfer MP",
          "Transfer MP",
          null,
          "Transfer MP",
          "Transfer MP",
          "Transfer MP",
          "Transfer MP",
          null,
          "Transfer MP",
          "Transfer MP",
          "Transfer MP",
          "Transfer MP",
          null
         ]
        },
        {
         "connectgaps": false,
         "hoverinfo": "y+name",
         "line": {
          "color": "rgb(118,255,167)",
          "width": 10
         },
         "mode": "lines",
         "name": "Transfer TP",
         "type": "scatter",
         "x": [
          "1970-01-01T00:17:28.107050",
          "1970-01-01T00:17:28.107050",
          "1970-01-01T00:17:38.107050",
          "1970-01-01T00:17:38.107050",
          "1970-01-01T00:17:38.107050",
          "1970-01-01T00:17:28.107050",
          "1970-01-01T00:17:28.107050",
          "1970-01-01T00:17:38.107050",
          "1970-01-01T00:17:38.107050",
          "1970-01-01T00:17:38.107050",
          "1970-01-01T00:54:10.231856",
          "1970-01-01T00:54:10.231856",
          "1970-01-01T00:54:20.231856",
          "1970-01-01T00:54:20.231856",
          "1970-01-01T00:54:20.231856",
          "1970-01-01T00:54:10.231856",
          "1970-01-01T00:54:10.231856",
          "1970-01-01T00:54:20.231856",
          "1970-01-01T00:54:20.231856",
          "1970-01-01T00:54:20.231856",
          "1970-01-01T01:32:36.067367",
          "1970-01-01T01:32:36.067367",
          "1970-01-01T01:32:46.067367",
          "1970-01-01T01:32:46.067367",
          "1970-01-01T01:32:46.067367",
          "1970-01-01T01:32:36.067367",
          "1970-01-01T01:32:36.067367",
          "1970-01-01T01:32:46.067367",
          "1970-01-01T01:32:46.067367",
          "1970-01-01T01:32:46.067367",
          "1970-01-01T00:17:28.107050",
          "1970-01-01T00:17:28.107050",
          "1970-01-01T00:17:38.107050",
          "1970-01-01T00:17:38.107050",
          "1970-01-01T00:17:38.107050",
          "1970-01-01T00:54:10.231856",
          "1970-01-01T00:54:10.231856",
          "1970-01-01T00:54:20.231856",
          "1970-01-01T00:54:20.231856",
          "1970-01-01T00:54:20.231856",
          "1970-01-01T01:32:36.067367",
          "1970-01-01T01:32:36.067367",
          "1970-01-01T01:32:46.067367",
          "1970-01-01T01:32:46.067367",
          "1970-01-01T01:32:46.067367",
          "1970-01-01T00:17:28.107050",
          "1970-01-01T00:17:28.107050",
          "1970-01-01T00:17:38.107050",
          "1970-01-01T00:17:38.107050",
          "1970-01-01T00:17:38.107050",
          "1970-01-01T00:54:10.231856",
          "1970-01-01T00:54:10.231856",
          "1970-01-01T00:54:20.231856",
          "1970-01-01T00:54:20.231856",
          "1970-01-01T00:54:20.231856",
          "1970-01-01T01:32:36.067367",
          "1970-01-01T01:32:36.067367",
          "1970-01-01T01:32:46.067367",
          "1970-01-01T01:32:46.067367",
          "1970-01-01T01:32:46.067367"
         ],
         "y": [
          "Hopper 01",
          "Hopper 01",
          "Hopper 01",
          "Hopper 01",
          null,
          "Hopper 01",
          "Hopper 01",
          "Hopper 01",
          "Hopper 01",
          null,
          "Hopper 01",
          "Hopper 01",
          "Hopper 01",
          "Hopper 01",
          null,
          "Hopper 01",
          "Hopper 01",
          "Hopper 01",
          "Hopper 01",
          null,
          "Hopper 01",
          "Hopper 01",
          "Hopper 01",
          "Hopper 01",
          null,
          "Hopper 01",
          "Hopper 01",
          "Hopper 01",
          "Hopper 01",
          null,
          "Dumplocatie",
          "Dumplocatie",
          "Dumplocatie",
          "Dumplocatie",
          null,
          "Dumplocatie",
          "Dumplocatie",
          "Dumplocatie",
          "Dumplocatie",
          null,
          "Dumplocatie",
          "Dumplocatie",
          "Dumplocatie",
          "Dumplocatie",
          null,
          "Transfer TP",
          "Transfer TP",
          "Transfer TP",
          "Transfer TP",
          null,
          "Transfer TP",
          "Transfer TP",
          "Transfer TP",
          "Transfer TP",
          null,
          "Transfer TP",
          "Transfer TP",
          "Transfer TP",
          "Transfer TP",
          null
         ]
        },
        {
         "connectgaps": false,
         "hoverinfo": "y+name",
         "line": {
          "color": "rgb(136,17,185)",
          "width": 10
         },
         "mode": "lines",
         "name": "while",
         "type": "scatter",
         "x": [
          "1970-01-01T00:00:00",
          "1970-01-01T00:00:00",
          "1970-01-01T00:19:25.017755",
          "1970-01-01T00:19:25.017755",
          "1970-01-01T00:19:25.017755",
          "1970-01-01T00:19:25.017755",
          "1970-01-01T00:19:25.017755",
          "1970-01-01T00:57:50.853266",
          "1970-01-01T00:57:50.853266",
          "1970-01-01T00:57:50.853266",
          "1970-01-01T00:57:50.853266",
          "1970-01-01T00:57:50.853266",
          "1970-01-01T01:36:16.688777",
          "1970-01-01T01:36:16.688777",
          "1970-01-01T01:36:16.688777",
          "1970-01-01T00:57:50.853266",
          "1970-01-01T00:57:50.853266",
          "1970-01-01T01:36:16.688777",
          "1970-01-01T01:36:16.688777",
          "1970-01-01T01:36:16.688777"
         ],
         "y": [
          "while",
          "while",
          "while",
          "while",
          null,
          "while",
          "while",
          "while",
          "while",
          null,
          "while",
          "while",
          "while",
          "while",
          null,
          "while",
          "while",
          "while",
          "while",
          null
         ]
        },
        {
         "connectgaps": false,
         "hoverinfo": "y+name",
         "line": {
          "color": "rgb(154,35,203)",
          "width": 10
         },
         "mode": "lines",
         "name": "Single run process",
         "type": "scatter",
         "x": [
          "1970-01-01T00:00:00",
          "1970-01-01T00:00:00",
          "1970-01-01T00:00:00",
          "1970-01-01T00:00:00",
          "1970-01-01T00:00:00",
          "1970-01-01T00:00:00",
          "1970-01-01T00:00:00",
          "1970-01-01T00:00:11",
          "1970-01-01T00:00:11",
          "1970-01-01T00:00:11",
          "1970-01-01T00:00:11",
          "1970-01-01T00:00:11",
          "1970-01-01T00:17:28.107050",
          "1970-01-01T00:17:28.107050",
          "1970-01-01T00:17:28.107050",
          "1970-01-01T00:17:28.107050",
          "1970-01-01T00:17:28.107050",
          "1970-01-01T00:17:39.107050",
          "1970-01-01T00:17:39.107050",
          "1970-01-01T00:17:39.107050",
          "1970-01-01T00:17:39.107050",
          "1970-01-01T00:17:39.107050",
          "1970-01-01T00:17:39.107050",
          "1970-01-01T00:17:39.107050",
          "1970-01-01T00:17:39.107050",
          "1970-01-01T00:17:39.107050",
          "1970-01-01T00:17:39.107050",
          "1970-01-01T00:17:39.107050",
          "1970-01-01T00:17:39.107050",
          "1970-01-01T00:17:39.107050",
          "1970-01-01T00:19:25.017755",
          "1970-01-01T00:19:25.017755",
          "1970-01-01T00:36:42.124806",
          "1970-01-01T00:36:42.124806",
          "1970-01-01T00:36:42.124806",
          "1970-01-01T00:36:42.124806",
          "1970-01-01T00:36:42.124806",
          "1970-01-01T00:36:53.124806",
          "1970-01-01T00:36:53.124806",
          "1970-01-01T00:36:53.124806",
          "1970-01-01T00:36:53.124806",
          "1970-01-01T00:36:53.124806",
          "1970-01-01T00:54:10.231856",
          "1970-01-01T00:54:10.231856",
          "1970-01-01T00:54:10.231856",
          "1970-01-01T00:54:10.231856",
          "1970-01-01T00:54:10.231856",
          "1970-01-01T00:54:21.231856",
          "1970-01-01T00:54:21.231856",
          "1970-01-01T00:54:21.231856",
          "1970-01-01T00:54:21.231856",
          "1970-01-01T00:54:21.231856",
          "1970-01-01T00:54:21.231856",
          "1970-01-01T00:54:21.231856",
          "1970-01-01T00:54:21.231856",
          "1970-01-01T00:54:21.231856",
          "1970-01-01T00:54:21.231856",
          "1970-01-01T00:54:21.231856",
          "1970-01-01T00:54:21.231856",
          "1970-01-01T00:54:21.231856",
          "1970-01-01T00:57:50.853266",
          "1970-01-01T00:57:50.853266",
          "1970-01-01T01:15:07.960317",
          "1970-01-01T01:15:07.960317",
          "1970-01-01T01:15:07.960317",
          "1970-01-01T01:15:07.960317",
          "1970-01-01T01:15:07.960317",
          "1970-01-01T01:15:18.960317",
          "1970-01-01T01:15:18.960317",
          "1970-01-01T01:15:18.960317",
          "1970-01-01T01:15:18.960317",
          "1970-01-01T01:15:18.960317",
          "1970-01-01T01:32:36.067367",
          "1970-01-01T01:32:36.067367",
          "1970-01-01T01:32:36.067367",
          "1970-01-01T01:32:36.067367",
          "1970-01-01T01:32:36.067367",
          "1970-01-01T01:32:47.067367",
          "1970-01-01T01:32:47.067367",
          "1970-01-01T01:32:47.067367",
          "1970-01-01T01:32:47.067367",
          "1970-01-01T01:32:47.067367",
          "1970-01-01T01:32:47.067367",
          "1970-01-01T01:32:47.067367",
          "1970-01-01T01:32:47.067367",
          "1970-01-01T01:32:47.067367",
          "1970-01-01T01:32:47.067367",
          "1970-01-01T01:32:47.067367",
          "1970-01-01T01:32:47.067367",
          "1970-01-01T01:32:47.067367"
         ],
         "y": [
          "Single run process",
          "Single run process",
          "Single run process",
          "Single run process",
          null,
          "Single run process",
          "Single run process",
          "Single run process",
          "Single run process",
          null,
          "Single run process",
          "Single run process",
          "Single run process",
          "Single run process",
          null,
          "Single run process",
          "Single run process",
          "Single run process",
          "Single run process",
          null,
          "Single run process",
          "Single run process",
          "Single run process",
          "Single run process",
          null,
          "Single run process",
          "Single run process",
          "Single run process",
          "Single run process",
          null,
          "Single run process",
          "Single run process",
          "Single run process",
          "Single run process",
          null,
          "Single run process",
          "Single run process",
          "Single run process",
          "Single run process",
          null,
          "Single run process",
          "Single run process",
          "Single run process",
          "Single run process",
          null,
          "Single run process",
          "Single run process",
          "Single run process",
          "Single run process",
          null,
          "Single run process",
          "Single run process",
          "Single run process",
          "Single run process",
          null,
          "Single run process",
          "Single run process",
          "Single run process",
          "Single run process",
          null,
          "Single run process",
          "Single run process",
          "Single run process",
          "Single run process",
          null,
          "Single run process",
          "Single run process",
          "Single run process",
          "Single run process",
          null,
          "Single run process",
          "Single run process",
          "Single run process",
          "Single run process",
          null,
          "Single run process",
          "Single run process",
          "Single run process",
          "Single run process",
          null,
          "Single run process",
          "Single run process",
          "Single run process",
          "Single run process",
          null,
          "Single run process",
          "Single run process",
          "Single run process",
          "Single run process",
          null
         ]
        },
        {
         "connectgaps": false,
         "hoverinfo": "y+name",
         "line": {
          "color": "rgb(172,53,221)",
          "width": 10
         },
         "mode": "lines",
         "name": "sailing empty",
         "type": "scatter",
         "x": [
          "1970-01-01T00:00:00",
          "1970-01-01T00:00:00",
          "1970-01-01T00:00:00",
          "1970-01-01T00:00:00",
          "1970-01-01T00:00:00",
          "1970-01-01T00:19:25.017755",
          "1970-01-01T00:19:25.017755",
          "1970-01-01T00:35:07.842347",
          "1970-01-01T00:35:07.842347",
          "1970-01-01T00:35:07.842347",
          "1970-01-01T00:57:50.853266",
          "1970-01-01T00:57:50.853266",
          "1970-01-01T01:13:33.677858",
          "1970-01-01T01:13:33.677858",
          "1970-01-01T01:13:33.677858",
          "1970-01-01T00:00:00",
          "1970-01-01T00:00:00",
          "1970-01-01T00:00:00",
          "1970-01-01T00:00:00",
          "1970-01-01T00:00:00",
          "1970-01-01T00:19:25.017755",
          "1970-01-01T00:19:25.017755",
          "1970-01-01T00:35:07.842347",
          "1970-01-01T00:35:07.842347",
          "1970-01-01T00:35:07.842347",
          "1970-01-01T00:57:50.853266",
          "1970-01-01T00:57:50.853266",
          "1970-01-01T01:13:33.677858",
          "1970-01-01T01:13:33.677858",
          "1970-01-01T01:13:33.677858"
         ],
         "y": [
          "Hopper 01",
          "Hopper 01",
          "Hopper 01",
          "Hopper 01",
          null,
          "Hopper 01",
          "Hopper 01",
          "Hopper 01",
          "Hopper 01",
          null,
          "Hopper 01",
          "Hopper 01",
          "Hopper 01",
          "Hopper 01",
          null,
          "sailing empty",
          "sailing empty",
          "sailing empty",
          "sailing empty",
          null,
          "sailing empty",
          "sailing empty",
          "sailing empty",
          "sailing empty",
          null,
          "sailing empty",
          "sailing empty",
          "sailing empty",
          "sailing empty",
          null
         ]
        },
        {
         "connectgaps": false,
         "hoverinfo": "y+name",
         "line": {
          "color": "rgb(190,71,239)",
          "width": 10
         },
         "mode": "lines",
         "name": "Transfer MP",
         "type": "scatter",
         "x": [
          "1970-01-01T00:00:00",
          "1970-01-01T00:00:00",
          "1970-01-01T00:00:10",
          "1970-01-01T00:00:10",
          "1970-01-01T00:00:10",
          "1970-01-01T00:00:00",
          "1970-01-01T00:00:00",
          "1970-01-01T00:00:10",
          "1970-01-01T00:00:10",
          "1970-01-01T00:00:10",
          "1970-01-01T00:36:42.124806",
          "1970-01-01T00:36:42.124806",
          "1970-01-01T00:36:52.124806",
          "1970-01-01T00:36:52.124806",
          "1970-01-01T00:36:52.124806",
          "1970-01-01T00:36:42.124806",
          "1970-01-01T00:36:42.124806",
          "1970-01-01T00:36:52.124806",
          "1970-01-01T00:36:52.124806",
          "1970-01-01T00:36:52.124806",
          "1970-01-01T01:15:07.960317",
          "1970-01-01T01:15:07.960317",
          "1970-01-01T01:15:17.960317",
          "1970-01-01T01:15:17.960317",
          "1970-01-01T01:15:17.960317",
          "1970-01-01T01:15:07.960317",
          "1970-01-01T01:15:07.960317",
          "1970-01-01T01:15:17.960317",
          "1970-01-01T01:15:17.960317",
          "1970-01-01T01:15:17.960317",
          "1970-01-01T00:00:00",
          "1970-01-01T00:00:00",
          "1970-01-01T00:00:10",
          "1970-01-01T00:00:10",
          "1970-01-01T00:00:10",
          "1970-01-01T00:36:42.124806",
          "1970-01-01T00:36:42.124806",
          "1970-01-01T00:36:52.124806",
          "1970-01-01T00:36:52.124806",
          "1970-01-01T00:36:52.124806",
          "1970-01-01T01:15:07.960317",
          "1970-01-01T01:15:07.960317",
          "1970-01-01T01:15:17.960317",
          "1970-01-01T01:15:17.960317",
          "1970-01-01T01:15:17.960317",
          "1970-01-01T00:00:00",
          "1970-01-01T00:00:00",
          "1970-01-01T00:00:10",
          "1970-01-01T00:00:10",
          "1970-01-01T00:00:10",
          "1970-01-01T00:36:42.124806",
          "1970-01-01T00:36:42.124806",
          "1970-01-01T00:36:52.124806",
          "1970-01-01T00:36:52.124806",
          "1970-01-01T00:36:52.124806",
          "1970-01-01T01:15:07.960317",
          "1970-01-01T01:15:07.960317",
          "1970-01-01T01:15:17.960317",
          "1970-01-01T01:15:17.960317",
          "1970-01-01T01:15:17.960317"
         ],
         "y": [
          "Hopper 01",
          "Hopper 01",
          "Hopper 01",
          "Hopper 01",
          null,
          "Hopper 01",
          "Hopper 01",
          "Hopper 01",
          "Hopper 01",
          null,
          "Hopper 01",
          "Hopper 01",
          "Hopper 01",
          "Hopper 01",
          null,
          "Hopper 01",
          "Hopper 01",
          "Hopper 01",
          "Hopper 01",
          null,
          "Hopper 01",
          "Hopper 01",
          "Hopper 01",
          "Hopper 01",
          null,
          "Hopper 01",
          "Hopper 01",
          "Hopper 01",
          "Hopper 01",
          null,
          "Winlocatie",
          "Winlocatie",
          "Winlocatie",
          "Winlocatie",
          null,
          "Winlocatie",
          "Winlocatie",
          "Winlocatie",
          "Winlocatie",
          null,
          "Winlocatie",
          "Winlocatie",
          "Winlocatie",
          "Winlocatie",
          null,
          "Transfer MP",
          "Transfer MP",
          "Transfer MP",
          "Transfer MP",
          null,
          "Transfer MP",
          "Transfer MP",
          "Transfer MP",
          "Transfer MP",
          null,
          "Transfer MP",
          "Transfer MP",
          "Transfer MP",
          "Transfer MP",
          null
         ]
        },
        {
         "connectgaps": false,
         "hoverinfo": "y+name",
         "line": {
          "color": "rgb(208,89,1)",
          "width": 10
         },
         "mode": "lines",
         "name": "sailing filler",
         "type": "scatter",
         "x": [
          "1970-01-01T00:00:11",
          "1970-01-01T00:00:11",
          "1970-01-01T00:15:53.824591",
          "1970-01-01T00:15:53.824591",
          "1970-01-01T00:15:53.824591",
          "1970-01-01T00:36:53.124806",
          "1970-01-01T00:36:53.124806",
          "1970-01-01T00:52:35.949397",
          "1970-01-01T00:52:35.949397",
          "1970-01-01T00:52:35.949397",
          "1970-01-01T01:15:18.960317",
          "1970-01-01T01:15:18.960317",
          "1970-01-01T01:31:01.784908",
          "1970-01-01T01:31:01.784908",
          "1970-01-01T01:31:01.784908",
          "1970-01-01T00:00:11",
          "1970-01-01T00:00:11",
          "1970-01-01T00:15:53.824591",
          "1970-01-01T00:15:53.824591",
          "1970-01-01T00:15:53.824591",
          "1970-01-01T00:36:53.124806",
          "1970-01-01T00:36:53.124806",
          "1970-01-01T00:52:35.949397",
          "1970-01-01T00:52:35.949397",
          "1970-01-01T00:52:35.949397",
          "1970-01-01T01:15:18.960317",
          "1970-01-01T01:15:18.960317",
          "1970-01-01T01:31:01.784908",
          "1970-01-01T01:31:01.784908",
          "1970-01-01T01:31:01.784908"
         ],
         "y": [
          "Hopper 01",
          "Hopper 01",
          "Hopper 01",
          "Hopper 01",
          null,
          "Hopper 01",
          "Hopper 01",
          "Hopper 01",
          "Hopper 01",
          null,
          "Hopper 01",
          "Hopper 01",
          "Hopper 01",
          "Hopper 01",
          null,
          "sailing filler",
          "sailing filler",
          "sailing filler",
          "sailing filler",
          null,
          "sailing filler",
          "sailing filler",
          "sailing filler",
          "sailing filler",
          null,
          "sailing filler",
          "sailing filler",
          "sailing filler",
          "sailing filler",
          null
         ]
        },
        {
         "connectgaps": false,
         "hoverinfo": "y+name",
         "line": {
          "color": "rgb(226,107,19)",
          "width": 10
         },
         "mode": "lines",
         "name": "Transfer TP",
         "type": "scatter",
         "x": [
          "1970-01-01T00:17:28.107050",
          "1970-01-01T00:17:28.107050",
          "1970-01-01T00:17:38.107050",
          "1970-01-01T00:17:38.107050",
          "1970-01-01T00:17:38.107050",
          "1970-01-01T00:17:28.107050",
          "1970-01-01T00:17:28.107050",
          "1970-01-01T00:17:38.107050",
          "1970-01-01T00:17:38.107050",
          "1970-01-01T00:17:38.107050",
          "1970-01-01T00:54:10.231856",
          "1970-01-01T00:54:10.231856",
          "1970-01-01T00:54:20.231856",
          "1970-01-01T00:54:20.231856",
          "1970-01-01T00:54:20.231856",
          "1970-01-01T00:54:10.231856",
          "1970-01-01T00:54:10.231856",
          "1970-01-01T00:54:20.231856",
          "1970-01-01T00:54:20.231856",
          "1970-01-01T00:54:20.231856",
          "1970-01-01T01:32:36.067367",
          "1970-01-01T01:32:36.067367",
          "1970-01-01T01:32:46.067367",
          "1970-01-01T01:32:46.067367",
          "1970-01-01T01:32:46.067367",
          "1970-01-01T01:32:36.067367",
          "1970-01-01T01:32:36.067367",
          "1970-01-01T01:32:46.067367",
          "1970-01-01T01:32:46.067367",
          "1970-01-01T01:32:46.067367",
          "1970-01-01T00:17:28.107050",
          "1970-01-01T00:17:28.107050",
          "1970-01-01T00:17:38.107050",
          "1970-01-01T00:17:38.107050",
          "1970-01-01T00:17:38.107050",
          "1970-01-01T00:54:10.231856",
          "1970-01-01T00:54:10.231856",
          "1970-01-01T00:54:20.231856",
          "1970-01-01T00:54:20.231856",
          "1970-01-01T00:54:20.231856",
          "1970-01-01T01:32:36.067367",
          "1970-01-01T01:32:36.067367",
          "1970-01-01T01:32:46.067367",
          "1970-01-01T01:32:46.067367",
          "1970-01-01T01:32:46.067367",
          "1970-01-01T00:17:28.107050",
          "1970-01-01T00:17:28.107050",
          "1970-01-01T00:17:38.107050",
          "1970-01-01T00:17:38.107050",
          "1970-01-01T00:17:38.107050",
          "1970-01-01T00:54:10.231856",
          "1970-01-01T00:54:10.231856",
          "1970-01-01T00:54:20.231856",
          "1970-01-01T00:54:20.231856",
          "1970-01-01T00:54:20.231856",
          "1970-01-01T01:32:36.067367",
          "1970-01-01T01:32:36.067367",
          "1970-01-01T01:32:46.067367",
          "1970-01-01T01:32:46.067367",
          "1970-01-01T01:32:46.067367"
         ],
         "y": [
          "Hopper 01",
          "Hopper 01",
          "Hopper 01",
          "Hopper 01",
          null,
          "Hopper 01",
          "Hopper 01",
          "Hopper 01",
          "Hopper 01",
          null,
          "Hopper 01",
          "Hopper 01",
          "Hopper 01",
          "Hopper 01",
          null,
          "Hopper 01",
          "Hopper 01",
          "Hopper 01",
          "Hopper 01",
          null,
          "Hopper 01",
          "Hopper 01",
          "Hopper 01",
          "Hopper 01",
          null,
          "Hopper 01",
          "Hopper 01",
          "Hopper 01",
          "Hopper 01",
          null,
          "Dumplocatie",
          "Dumplocatie",
          "Dumplocatie",
          "Dumplocatie",
          null,
          "Dumplocatie",
          "Dumplocatie",
          "Dumplocatie",
          "Dumplocatie",
          null,
          "Dumplocatie",
          "Dumplocatie",
          "Dumplocatie",
          "Dumplocatie",
          null,
          "Transfer TP",
          "Transfer TP",
          "Transfer TP",
          "Transfer TP",
          null,
          "Transfer TP",
          "Transfer TP",
          "Transfer TP",
          "Transfer TP",
          null,
          "Transfer TP",
          "Transfer TP",
          "Transfer TP",
          "Transfer TP",
          null
         ]
        },
        {
         "connectgaps": false,
         "hoverinfo": "y+name",
         "line": {
          "color": "rgb(244,125,37)",
          "width": 10
         },
         "mode": "lines",
         "name": "Basic activity",
         "type": "scatter",
         "x": [
          "1970-01-01T00:17:39.107050",
          "1970-01-01T00:17:39.107050",
          "1970-01-01T00:17:39.107050",
          "1970-01-01T00:17:39.107050",
          "1970-01-01T00:17:39.107050",
          "1970-01-01T00:54:21.231856",
          "1970-01-01T00:54:21.231856",
          "1970-01-01T00:54:21.231856",
          "1970-01-01T00:54:21.231856",
          "1970-01-01T00:54:21.231856",
          "1970-01-01T01:32:47.067367",
          "1970-01-01T01:32:47.067367",
          "1970-01-01T01:32:47.067367",
          "1970-01-01T01:32:47.067367",
          "1970-01-01T01:32:47.067367",
          "1970-01-01T00:17:39.107050",
          "1970-01-01T00:17:39.107050",
          "1970-01-01T00:17:39.107050",
          "1970-01-01T00:17:39.107050",
          "1970-01-01T00:17:39.107050",
          "1970-01-01T00:54:21.231856",
          "1970-01-01T00:54:21.231856",
          "1970-01-01T00:54:21.231856",
          "1970-01-01T00:54:21.231856",
          "1970-01-01T00:54:21.231856",
          "1970-01-01T01:32:47.067367",
          "1970-01-01T01:32:47.067367",
          "1970-01-01T01:32:47.067367",
          "1970-01-01T01:32:47.067367",
          "1970-01-01T01:32:47.067367"
         ],
         "y": [
          "Hopper 01",
          "Hopper 01",
          "Hopper 01",
          "Hopper 01",
          null,
          "Hopper 01",
          "Hopper 01",
          "Hopper 01",
          "Hopper 01",
          null,
          "Hopper 01",
          "Hopper 01",
          "Hopper 01",
          "Hopper 01",
          null,
          "Basic activity",
          "Basic activity",
          "Basic activity",
          "Basic activity",
          null,
          "Basic activity",
          "Basic activity",
          "Basic activity",
          "Basic activity",
          null,
          "Basic activity",
          "Basic activity",
          "Basic activity",
          "Basic activity",
          null
         ]
        }
       ],
       "layout": {
        "hovermode": "closest",
        "legend": {
         "orientation": "h",
         "x": 0,
         "y": -0.2
        },
        "template": {
         "data": {
          "bar": [
           {
            "error_x": {
             "color": "#2a3f5f"
            },
            "error_y": {
             "color": "#2a3f5f"
            },
            "marker": {
             "line": {
              "color": "#E5ECF6",
              "width": 0.5
             }
            },
            "type": "bar"
           }
          ],
          "barpolar": [
           {
            "marker": {
             "line": {
              "color": "#E5ECF6",
              "width": 0.5
             }
            },
            "type": "barpolar"
           }
          ],
          "carpet": [
           {
            "aaxis": {
             "endlinecolor": "#2a3f5f",
             "gridcolor": "white",
             "linecolor": "white",
             "minorgridcolor": "white",
             "startlinecolor": "#2a3f5f"
            },
            "baxis": {
             "endlinecolor": "#2a3f5f",
             "gridcolor": "white",
             "linecolor": "white",
             "minorgridcolor": "white",
             "startlinecolor": "#2a3f5f"
            },
            "type": "carpet"
           }
          ],
          "choropleth": [
           {
            "colorbar": {
             "outlinewidth": 0,
             "ticks": ""
            },
            "type": "choropleth"
           }
          ],
          "contour": [
           {
            "colorbar": {
             "outlinewidth": 0,
             "ticks": ""
            },
            "colorscale": [
             [
              0,
              "#0d0887"
             ],
             [
              0.1111111111111111,
              "#46039f"
             ],
             [
              0.2222222222222222,
              "#7201a8"
             ],
             [
              0.3333333333333333,
              "#9c179e"
             ],
             [
              0.4444444444444444,
              "#bd3786"
             ],
             [
              0.5555555555555556,
              "#d8576b"
             ],
             [
              0.6666666666666666,
              "#ed7953"
             ],
             [
              0.7777777777777778,
              "#fb9f3a"
             ],
             [
              0.8888888888888888,
              "#fdca26"
             ],
             [
              1,
              "#f0f921"
             ]
            ],
            "type": "contour"
           }
          ],
          "contourcarpet": [
           {
            "colorbar": {
             "outlinewidth": 0,
             "ticks": ""
            },
            "type": "contourcarpet"
           }
          ],
          "heatmap": [
           {
            "colorbar": {
             "outlinewidth": 0,
             "ticks": ""
            },
            "colorscale": [
             [
              0,
              "#0d0887"
             ],
             [
              0.1111111111111111,
              "#46039f"
             ],
             [
              0.2222222222222222,
              "#7201a8"
             ],
             [
              0.3333333333333333,
              "#9c179e"
             ],
             [
              0.4444444444444444,
              "#bd3786"
             ],
             [
              0.5555555555555556,
              "#d8576b"
             ],
             [
              0.6666666666666666,
              "#ed7953"
             ],
             [
              0.7777777777777778,
              "#fb9f3a"
             ],
             [
              0.8888888888888888,
              "#fdca26"
             ],
             [
              1,
              "#f0f921"
             ]
            ],
            "type": "heatmap"
           }
          ],
          "heatmapgl": [
           {
            "colorbar": {
             "outlinewidth": 0,
             "ticks": ""
            },
            "colorscale": [
             [
              0,
              "#0d0887"
             ],
             [
              0.1111111111111111,
              "#46039f"
             ],
             [
              0.2222222222222222,
              "#7201a8"
             ],
             [
              0.3333333333333333,
              "#9c179e"
             ],
             [
              0.4444444444444444,
              "#bd3786"
             ],
             [
              0.5555555555555556,
              "#d8576b"
             ],
             [
              0.6666666666666666,
              "#ed7953"
             ],
             [
              0.7777777777777778,
              "#fb9f3a"
             ],
             [
              0.8888888888888888,
              "#fdca26"
             ],
             [
              1,
              "#f0f921"
             ]
            ],
            "type": "heatmapgl"
           }
          ],
          "histogram": [
           {
            "marker": {
             "colorbar": {
              "outlinewidth": 0,
              "ticks": ""
             }
            },
            "type": "histogram"
           }
          ],
          "histogram2d": [
           {
            "colorbar": {
             "outlinewidth": 0,
             "ticks": ""
            },
            "colorscale": [
             [
              0,
              "#0d0887"
             ],
             [
              0.1111111111111111,
              "#46039f"
             ],
             [
              0.2222222222222222,
              "#7201a8"
             ],
             [
              0.3333333333333333,
              "#9c179e"
             ],
             [
              0.4444444444444444,
              "#bd3786"
             ],
             [
              0.5555555555555556,
              "#d8576b"
             ],
             [
              0.6666666666666666,
              "#ed7953"
             ],
             [
              0.7777777777777778,
              "#fb9f3a"
             ],
             [
              0.8888888888888888,
              "#fdca26"
             ],
             [
              1,
              "#f0f921"
             ]
            ],
            "type": "histogram2d"
           }
          ],
          "histogram2dcontour": [
           {
            "colorbar": {
             "outlinewidth": 0,
             "ticks": ""
            },
            "colorscale": [
             [
              0,
              "#0d0887"
             ],
             [
              0.1111111111111111,
              "#46039f"
             ],
             [
              0.2222222222222222,
              "#7201a8"
             ],
             [
              0.3333333333333333,
              "#9c179e"
             ],
             [
              0.4444444444444444,
              "#bd3786"
             ],
             [
              0.5555555555555556,
              "#d8576b"
             ],
             [
              0.6666666666666666,
              "#ed7953"
             ],
             [
              0.7777777777777778,
              "#fb9f3a"
             ],
             [
              0.8888888888888888,
              "#fdca26"
             ],
             [
              1,
              "#f0f921"
             ]
            ],
            "type": "histogram2dcontour"
           }
          ],
          "mesh3d": [
           {
            "colorbar": {
             "outlinewidth": 0,
             "ticks": ""
            },
            "type": "mesh3d"
           }
          ],
          "parcoords": [
           {
            "line": {
             "colorbar": {
              "outlinewidth": 0,
              "ticks": ""
             }
            },
            "type": "parcoords"
           }
          ],
          "pie": [
           {
            "automargin": true,
            "type": "pie"
           }
          ],
          "scatter": [
           {
            "marker": {
             "colorbar": {
              "outlinewidth": 0,
              "ticks": ""
             }
            },
            "type": "scatter"
           }
          ],
          "scatter3d": [
           {
            "line": {
             "colorbar": {
              "outlinewidth": 0,
              "ticks": ""
             }
            },
            "marker": {
             "colorbar": {
              "outlinewidth": 0,
              "ticks": ""
             }
            },
            "type": "scatter3d"
           }
          ],
          "scattercarpet": [
           {
            "marker": {
             "colorbar": {
              "outlinewidth": 0,
              "ticks": ""
             }
            },
            "type": "scattercarpet"
           }
          ],
          "scattergeo": [
           {
            "marker": {
             "colorbar": {
              "outlinewidth": 0,
              "ticks": ""
             }
            },
            "type": "scattergeo"
           }
          ],
          "scattergl": [
           {
            "marker": {
             "colorbar": {
              "outlinewidth": 0,
              "ticks": ""
             }
            },
            "type": "scattergl"
           }
          ],
          "scattermapbox": [
           {
            "marker": {
             "colorbar": {
              "outlinewidth": 0,
              "ticks": ""
             }
            },
            "type": "scattermapbox"
           }
          ],
          "scatterpolar": [
           {
            "marker": {
             "colorbar": {
              "outlinewidth": 0,
              "ticks": ""
             }
            },
            "type": "scatterpolar"
           }
          ],
          "scatterpolargl": [
           {
            "marker": {
             "colorbar": {
              "outlinewidth": 0,
              "ticks": ""
             }
            },
            "type": "scatterpolargl"
           }
          ],
          "scatterternary": [
           {
            "marker": {
             "colorbar": {
              "outlinewidth": 0,
              "ticks": ""
             }
            },
            "type": "scatterternary"
           }
          ],
          "surface": [
           {
            "colorbar": {
             "outlinewidth": 0,
             "ticks": ""
            },
            "colorscale": [
             [
              0,
              "#0d0887"
             ],
             [
              0.1111111111111111,
              "#46039f"
             ],
             [
              0.2222222222222222,
              "#7201a8"
             ],
             [
              0.3333333333333333,
              "#9c179e"
             ],
             [
              0.4444444444444444,
              "#bd3786"
             ],
             [
              0.5555555555555556,
              "#d8576b"
             ],
             [
              0.6666666666666666,
              "#ed7953"
             ],
             [
              0.7777777777777778,
              "#fb9f3a"
             ],
             [
              0.8888888888888888,
              "#fdca26"
             ],
             [
              1,
              "#f0f921"
             ]
            ],
            "type": "surface"
           }
          ],
          "table": [
           {
            "cells": {
             "fill": {
              "color": "#EBF0F8"
             },
             "line": {
              "color": "white"
             }
            },
            "header": {
             "fill": {
              "color": "#C8D4E3"
             },
             "line": {
              "color": "white"
             }
            },
            "type": "table"
           }
          ]
         },
         "layout": {
          "annotationdefaults": {
           "arrowcolor": "#2a3f5f",
           "arrowhead": 0,
           "arrowwidth": 1
          },
          "autotypenumbers": "strict",
          "coloraxis": {
           "colorbar": {
            "outlinewidth": 0,
            "ticks": ""
           }
          },
          "colorscale": {
           "diverging": [
            [
             0,
             "#8e0152"
            ],
            [
             0.1,
             "#c51b7d"
            ],
            [
             0.2,
             "#de77ae"
            ],
            [
             0.3,
             "#f1b6da"
            ],
            [
             0.4,
             "#fde0ef"
            ],
            [
             0.5,
             "#f7f7f7"
            ],
            [
             0.6,
             "#e6f5d0"
            ],
            [
             0.7,
             "#b8e186"
            ],
            [
             0.8,
             "#7fbc41"
            ],
            [
             0.9,
             "#4d9221"
            ],
            [
             1,
             "#276419"
            ]
           ],
           "sequential": [
            [
             0,
             "#0d0887"
            ],
            [
             0.1111111111111111,
             "#46039f"
            ],
            [
             0.2222222222222222,
             "#7201a8"
            ],
            [
             0.3333333333333333,
             "#9c179e"
            ],
            [
             0.4444444444444444,
             "#bd3786"
            ],
            [
             0.5555555555555556,
             "#d8576b"
            ],
            [
             0.6666666666666666,
             "#ed7953"
            ],
            [
             0.7777777777777778,
             "#fb9f3a"
            ],
            [
             0.8888888888888888,
             "#fdca26"
            ],
            [
             1,
             "#f0f921"
            ]
           ],
           "sequentialminus": [
            [
             0,
             "#0d0887"
            ],
            [
             0.1111111111111111,
             "#46039f"
            ],
            [
             0.2222222222222222,
             "#7201a8"
            ],
            [
             0.3333333333333333,
             "#9c179e"
            ],
            [
             0.4444444444444444,
             "#bd3786"
            ],
            [
             0.5555555555555556,
             "#d8576b"
            ],
            [
             0.6666666666666666,
             "#ed7953"
            ],
            [
             0.7777777777777778,
             "#fb9f3a"
            ],
            [
             0.8888888888888888,
             "#fdca26"
            ],
            [
             1,
             "#f0f921"
            ]
           ]
          },
          "colorway": [
           "#636efa",
           "#EF553B",
           "#00cc96",
           "#ab63fa",
           "#FFA15A",
           "#19d3f3",
           "#FF6692",
           "#B6E880",
           "#FF97FF",
           "#FECB52"
          ],
          "font": {
           "color": "#2a3f5f"
          },
          "geo": {
           "bgcolor": "white",
           "lakecolor": "white",
           "landcolor": "#E5ECF6",
           "showlakes": true,
           "showland": true,
           "subunitcolor": "white"
          },
          "hoverlabel": {
           "align": "left"
          },
          "hovermode": "closest",
          "mapbox": {
           "style": "light"
          },
          "paper_bgcolor": "white",
          "plot_bgcolor": "#E5ECF6",
          "polar": {
           "angularaxis": {
            "gridcolor": "white",
            "linecolor": "white",
            "ticks": ""
           },
           "bgcolor": "#E5ECF6",
           "radialaxis": {
            "gridcolor": "white",
            "linecolor": "white",
            "ticks": ""
           }
          },
          "scene": {
           "xaxis": {
            "backgroundcolor": "#E5ECF6",
            "gridcolor": "white",
            "gridwidth": 2,
            "linecolor": "white",
            "showbackground": true,
            "ticks": "",
            "zerolinecolor": "white"
           },
           "yaxis": {
            "backgroundcolor": "#E5ECF6",
            "gridcolor": "white",
            "gridwidth": 2,
            "linecolor": "white",
            "showbackground": true,
            "ticks": "",
            "zerolinecolor": "white"
           },
           "zaxis": {
            "backgroundcolor": "#E5ECF6",
            "gridcolor": "white",
            "gridwidth": 2,
            "linecolor": "white",
            "showbackground": true,
            "ticks": "",
            "zerolinecolor": "white"
           }
          },
          "shapedefaults": {
           "line": {
            "color": "#2a3f5f"
           }
          },
          "ternary": {
           "aaxis": {
            "gridcolor": "white",
            "linecolor": "white",
            "ticks": ""
           },
           "baxis": {
            "gridcolor": "white",
            "linecolor": "white",
            "ticks": ""
           },
           "bgcolor": "#E5ECF6",
           "caxis": {
            "gridcolor": "white",
            "linecolor": "white",
            "ticks": ""
           }
          },
          "title": {
           "x": 0.05
          },
          "xaxis": {
           "automargin": true,
           "gridcolor": "white",
           "linecolor": "white",
           "ticks": "",
           "title": {
            "standoff": 15
           },
           "zerolinecolor": "white",
           "zerolinewidth": 2
          },
          "yaxis": {
           "automargin": true,
           "gridcolor": "white",
           "linecolor": "white",
           "ticks": "",
           "title": {
            "standoff": 15
           },
           "zerolinecolor": "white",
           "zerolinewidth": 2
          }
         }
        },
        "title": {
         "text": "Vessel planning"
        },
        "xaxis": {
         "range": [
          "1970-01-01T00:00:00",
          "1970-01-01T01:45:54.357655"
         ],
         "title": {
          "font": {
           "color": "#7f7f7f",
           "family": "Courier New, monospace",
           "size": 18
          },
          "text": "Time"
         }
        },
        "yaxis": {
         "title": {
          "font": {
           "color": "#7f7f7f",
           "family": "Courier New, monospace",
           "size": 18
          },
          "text": "Vessels"
         }
        }
       }
      },
      "text/html": [
       "<div>                            <div id=\"6b8cf5e9-c846-48c7-9877-5234c4fdc050\" class=\"plotly-graph-div\" style=\"height:525px; width:100%;\"></div>            <script type=\"text/javascript\">                require([\"plotly\"], function(Plotly) {                    window.PLOTLYENV=window.PLOTLYENV || {};                                    if (document.getElementById(\"6b8cf5e9-c846-48c7-9877-5234c4fdc050\")) {                    Plotly.newPlot(                        \"6b8cf5e9-c846-48c7-9877-5234c4fdc050\",                        [{\"connectgaps\": false, \"hoverinfo\": \"y+name\", \"line\": {\"color\": \"rgb(10,147,59)\", \"width\": 10}, \"mode\": \"lines\", \"name\": \"sailing filler\", \"type\": \"scatter\", \"x\": [\"1970-01-01T00:00:11\", \"1970-01-01T00:00:11\", \"1970-01-01T00:15:53.824591\", \"1970-01-01T00:15:53.824591\", \"1970-01-01T00:15:53.824591\", \"1970-01-01T00:36:53.124806\", \"1970-01-01T00:36:53.124806\", \"1970-01-01T00:52:35.949397\", \"1970-01-01T00:52:35.949397\", \"1970-01-01T00:52:35.949397\", \"1970-01-01T01:15:18.960317\", \"1970-01-01T01:15:18.960317\", \"1970-01-01T01:31:01.784908\", \"1970-01-01T01:31:01.784908\", \"1970-01-01T01:31:01.784908\", \"1970-01-01T00:00:11\", \"1970-01-01T00:00:11\", \"1970-01-01T00:15:53.824591\", \"1970-01-01T00:15:53.824591\", \"1970-01-01T00:15:53.824591\", \"1970-01-01T00:36:53.124806\", \"1970-01-01T00:36:53.124806\", \"1970-01-01T00:52:35.949397\", \"1970-01-01T00:52:35.949397\", \"1970-01-01T00:52:35.949397\", \"1970-01-01T01:15:18.960317\", \"1970-01-01T01:15:18.960317\", \"1970-01-01T01:31:01.784908\", \"1970-01-01T01:31:01.784908\", \"1970-01-01T01:31:01.784908\"], \"y\": [\"Hopper 01\", \"Hopper 01\", \"Hopper 01\", \"Hopper 01\", null, \"Hopper 01\", \"Hopper 01\", \"Hopper 01\", \"Hopper 01\", null, \"Hopper 01\", \"Hopper 01\", \"Hopper 01\", \"Hopper 01\", null, \"sailing filler\", \"sailing filler\", \"sailing filler\", \"sailing filler\", null, \"sailing filler\", \"sailing filler\", \"sailing filler\", \"sailing filler\", null, \"sailing filler\", \"sailing filler\", \"sailing filler\", \"sailing filler\", null]}, {\"connectgaps\": false, \"hoverinfo\": \"y+name\", \"line\": {\"color\": \"rgb(28,165,77)\", \"width\": 10}, \"mode\": \"lines\", \"name\": \"sailing empty\", \"type\": \"scatter\", \"x\": [\"1970-01-01T00:00:00\", \"1970-01-01T00:00:00\", \"1970-01-01T00:00:00\", \"1970-01-01T00:00:00\", \"1970-01-01T00:00:00\", \"1970-01-01T00:19:25.017755\", \"1970-01-01T00:19:25.017755\", \"1970-01-01T00:35:07.842347\", \"1970-01-01T00:35:07.842347\", \"1970-01-01T00:35:07.842347\", \"1970-01-01T00:57:50.853266\", \"1970-01-01T00:57:50.853266\", \"1970-01-01T01:13:33.677858\", \"1970-01-01T01:13:33.677858\", \"1970-01-01T01:13:33.677858\", \"1970-01-01T00:00:00\", \"1970-01-01T00:00:00\", \"1970-01-01T00:00:00\", \"1970-01-01T00:00:00\", \"1970-01-01T00:00:00\", \"1970-01-01T00:19:25.017755\", \"1970-01-01T00:19:25.017755\", \"1970-01-01T00:35:07.842347\", \"1970-01-01T00:35:07.842347\", \"1970-01-01T00:35:07.842347\", \"1970-01-01T00:57:50.853266\", \"1970-01-01T00:57:50.853266\", \"1970-01-01T01:13:33.677858\", \"1970-01-01T01:13:33.677858\", \"1970-01-01T01:13:33.677858\"], \"y\": [\"Hopper 01\", \"Hopper 01\", \"Hopper 01\", \"Hopper 01\", null, \"Hopper 01\", \"Hopper 01\", \"Hopper 01\", \"Hopper 01\", null, \"Hopper 01\", \"Hopper 01\", \"Hopper 01\", \"Hopper 01\", null, \"sailing empty\", \"sailing empty\", \"sailing empty\", \"sailing empty\", null, \"sailing empty\", \"sailing empty\", \"sailing empty\", \"sailing empty\", null, \"sailing empty\", \"sailing empty\", \"sailing empty\", \"sailing empty\", null]}, {\"connectgaps\": false, \"hoverinfo\": \"y+name\", \"line\": {\"color\": \"rgb(46,183,95)\", \"width\": 10}, \"mode\": \"lines\", \"name\": \"Transfer MP\", \"type\": \"scatter\", \"x\": [\"1970-01-01T00:00:00\", \"1970-01-01T00:00:00\", \"1970-01-01T00:00:10\", \"1970-01-01T00:00:10\", \"1970-01-01T00:00:10\", \"1970-01-01T00:00:00\", \"1970-01-01T00:00:00\", \"1970-01-01T00:00:10\", \"1970-01-01T00:00:10\", \"1970-01-01T00:00:10\", \"1970-01-01T00:36:42.124806\", \"1970-01-01T00:36:42.124806\", \"1970-01-01T00:36:52.124806\", \"1970-01-01T00:36:52.124806\", \"1970-01-01T00:36:52.124806\", \"1970-01-01T00:36:42.124806\", \"1970-01-01T00:36:42.124806\", \"1970-01-01T00:36:52.124806\", \"1970-01-01T00:36:52.124806\", \"1970-01-01T00:36:52.124806\", \"1970-01-01T01:15:07.960317\", \"1970-01-01T01:15:07.960317\", \"1970-01-01T01:15:17.960317\", \"1970-01-01T01:15:17.960317\", \"1970-01-01T01:15:17.960317\", \"1970-01-01T01:15:07.960317\", \"1970-01-01T01:15:07.960317\", \"1970-01-01T01:15:17.960317\", \"1970-01-01T01:15:17.960317\", \"1970-01-01T01:15:17.960317\", \"1970-01-01T00:00:00\", \"1970-01-01T00:00:00\", \"1970-01-01T00:00:10\", \"1970-01-01T00:00:10\", \"1970-01-01T00:00:10\", \"1970-01-01T00:36:42.124806\", \"1970-01-01T00:36:42.124806\", \"1970-01-01T00:36:52.124806\", \"1970-01-01T00:36:52.124806\", \"1970-01-01T00:36:52.124806\", \"1970-01-01T01:15:07.960317\", \"1970-01-01T01:15:07.960317\", \"1970-01-01T01:15:17.960317\", \"1970-01-01T01:15:17.960317\", \"1970-01-01T01:15:17.960317\", \"1970-01-01T00:00:00\", \"1970-01-01T00:00:00\", \"1970-01-01T00:00:10\", \"1970-01-01T00:00:10\", \"1970-01-01T00:00:10\", \"1970-01-01T00:36:42.124806\", \"1970-01-01T00:36:42.124806\", \"1970-01-01T00:36:52.124806\", \"1970-01-01T00:36:52.124806\", \"1970-01-01T00:36:52.124806\", \"1970-01-01T01:15:07.960317\", \"1970-01-01T01:15:07.960317\", \"1970-01-01T01:15:17.960317\", \"1970-01-01T01:15:17.960317\", \"1970-01-01T01:15:17.960317\"], \"y\": [\"Hopper 01\", \"Hopper 01\", \"Hopper 01\", \"Hopper 01\", null, \"Hopper 01\", \"Hopper 01\", \"Hopper 01\", \"Hopper 01\", null, \"Hopper 01\", \"Hopper 01\", \"Hopper 01\", \"Hopper 01\", null, \"Hopper 01\", \"Hopper 01\", \"Hopper 01\", \"Hopper 01\", null, \"Hopper 01\", \"Hopper 01\", \"Hopper 01\", \"Hopper 01\", null, \"Hopper 01\", \"Hopper 01\", \"Hopper 01\", \"Hopper 01\", null, \"Winlocatie\", \"Winlocatie\", \"Winlocatie\", \"Winlocatie\", null, \"Winlocatie\", \"Winlocatie\", \"Winlocatie\", \"Winlocatie\", null, \"Winlocatie\", \"Winlocatie\", \"Winlocatie\", \"Winlocatie\", null, \"Transfer MP\", \"Transfer MP\", \"Transfer MP\", \"Transfer MP\", null, \"Transfer MP\", \"Transfer MP\", \"Transfer MP\", \"Transfer MP\", null, \"Transfer MP\", \"Transfer MP\", \"Transfer MP\", \"Transfer MP\", null]}, {\"connectgaps\": false, \"hoverinfo\": \"y+name\", \"line\": {\"color\": \"rgb(64,201,113)\", \"width\": 10}, \"mode\": \"lines\", \"name\": \"Basic activity\", \"type\": \"scatter\", \"x\": [\"1970-01-01T00:17:39.107050\", \"1970-01-01T00:17:39.107050\", \"1970-01-01T00:17:39.107050\", \"1970-01-01T00:17:39.107050\", \"1970-01-01T00:17:39.107050\", \"1970-01-01T00:54:21.231856\", \"1970-01-01T00:54:21.231856\", \"1970-01-01T00:54:21.231856\", \"1970-01-01T00:54:21.231856\", \"1970-01-01T00:54:21.231856\", \"1970-01-01T01:32:47.067367\", \"1970-01-01T01:32:47.067367\", \"1970-01-01T01:32:47.067367\", \"1970-01-01T01:32:47.067367\", \"1970-01-01T01:32:47.067367\", \"1970-01-01T00:17:39.107050\", \"1970-01-01T00:17:39.107050\", \"1970-01-01T00:17:39.107050\", \"1970-01-01T00:17:39.107050\", \"1970-01-01T00:17:39.107050\", \"1970-01-01T00:54:21.231856\", \"1970-01-01T00:54:21.231856\", \"1970-01-01T00:54:21.231856\", \"1970-01-01T00:54:21.231856\", \"1970-01-01T00:54:21.231856\", \"1970-01-01T01:32:47.067367\", \"1970-01-01T01:32:47.067367\", \"1970-01-01T01:32:47.067367\", \"1970-01-01T01:32:47.067367\", \"1970-01-01T01:32:47.067367\"], \"y\": [\"Hopper 01\", \"Hopper 01\", \"Hopper 01\", \"Hopper 01\", null, \"Hopper 01\", \"Hopper 01\", \"Hopper 01\", \"Hopper 01\", null, \"Hopper 01\", \"Hopper 01\", \"Hopper 01\", \"Hopper 01\", null, \"Basic activity\", \"Basic activity\", \"Basic activity\", \"Basic activity\", null, \"Basic activity\", \"Basic activity\", \"Basic activity\", \"Basic activity\", null, \"Basic activity\", \"Basic activity\", \"Basic activity\", \"Basic activity\", null]}, {\"connectgaps\": false, \"hoverinfo\": \"y+name\", \"line\": {\"color\": \"rgb(82,219,131)\", \"width\": 10}, \"mode\": \"lines\", \"name\": \"Transfer TP\", \"type\": \"scatter\", \"x\": [\"1970-01-01T00:17:28.107050\", \"1970-01-01T00:17:28.107050\", \"1970-01-01T00:17:38.107050\", \"1970-01-01T00:17:38.107050\", \"1970-01-01T00:17:38.107050\", \"1970-01-01T00:17:28.107050\", \"1970-01-01T00:17:28.107050\", \"1970-01-01T00:17:38.107050\", \"1970-01-01T00:17:38.107050\", \"1970-01-01T00:17:38.107050\", \"1970-01-01T00:54:10.231856\", \"1970-01-01T00:54:10.231856\", \"1970-01-01T00:54:20.231856\", \"1970-01-01T00:54:20.231856\", \"1970-01-01T00:54:20.231856\", \"1970-01-01T00:54:10.231856\", \"1970-01-01T00:54:10.231856\", \"1970-01-01T00:54:20.231856\", \"1970-01-01T00:54:20.231856\", \"1970-01-01T00:54:20.231856\", \"1970-01-01T01:32:36.067367\", \"1970-01-01T01:32:36.067367\", \"1970-01-01T01:32:46.067367\", \"1970-01-01T01:32:46.067367\", \"1970-01-01T01:32:46.067367\", \"1970-01-01T01:32:36.067367\", \"1970-01-01T01:32:36.067367\", \"1970-01-01T01:32:46.067367\", \"1970-01-01T01:32:46.067367\", \"1970-01-01T01:32:46.067367\", \"1970-01-01T00:17:28.107050\", \"1970-01-01T00:17:28.107050\", \"1970-01-01T00:17:38.107050\", \"1970-01-01T00:17:38.107050\", \"1970-01-01T00:17:38.107050\", \"1970-01-01T00:54:10.231856\", \"1970-01-01T00:54:10.231856\", \"1970-01-01T00:54:20.231856\", \"1970-01-01T00:54:20.231856\", \"1970-01-01T00:54:20.231856\", \"1970-01-01T01:32:36.067367\", \"1970-01-01T01:32:36.067367\", \"1970-01-01T01:32:46.067367\", \"1970-01-01T01:32:46.067367\", \"1970-01-01T01:32:46.067367\", \"1970-01-01T00:17:28.107050\", \"1970-01-01T00:17:28.107050\", \"1970-01-01T00:17:38.107050\", \"1970-01-01T00:17:38.107050\", \"1970-01-01T00:17:38.107050\", \"1970-01-01T00:54:10.231856\", \"1970-01-01T00:54:10.231856\", \"1970-01-01T00:54:20.231856\", \"1970-01-01T00:54:20.231856\", \"1970-01-01T00:54:20.231856\", \"1970-01-01T01:32:36.067367\", \"1970-01-01T01:32:36.067367\", \"1970-01-01T01:32:46.067367\", \"1970-01-01T01:32:46.067367\", \"1970-01-01T01:32:46.067367\"], \"y\": [\"Hopper 01\", \"Hopper 01\", \"Hopper 01\", \"Hopper 01\", null, \"Hopper 01\", \"Hopper 01\", \"Hopper 01\", \"Hopper 01\", null, \"Hopper 01\", \"Hopper 01\", \"Hopper 01\", \"Hopper 01\", null, \"Hopper 01\", \"Hopper 01\", \"Hopper 01\", \"Hopper 01\", null, \"Hopper 01\", \"Hopper 01\", \"Hopper 01\", \"Hopper 01\", null, \"Hopper 01\", \"Hopper 01\", \"Hopper 01\", \"Hopper 01\", null, \"Dumplocatie\", \"Dumplocatie\", \"Dumplocatie\", \"Dumplocatie\", null, \"Dumplocatie\", \"Dumplocatie\", \"Dumplocatie\", \"Dumplocatie\", null, \"Dumplocatie\", \"Dumplocatie\", \"Dumplocatie\", \"Dumplocatie\", null, \"Transfer TP\", \"Transfer TP\", \"Transfer TP\", \"Transfer TP\", null, \"Transfer TP\", \"Transfer TP\", \"Transfer TP\", \"Transfer TP\", null, \"Transfer TP\", \"Transfer TP\", \"Transfer TP\", \"Transfer TP\", null]}, {\"connectgaps\": false, \"hoverinfo\": \"y+name\", \"line\": {\"color\": \"rgb(100,237,149)\", \"width\": 10}, \"mode\": \"lines\", \"name\": \"Transfer MP\", \"type\": \"scatter\", \"x\": [\"1970-01-01T00:00:00\", \"1970-01-01T00:00:00\", \"1970-01-01T00:00:10\", \"1970-01-01T00:00:10\", \"1970-01-01T00:00:10\", \"1970-01-01T00:00:00\", \"1970-01-01T00:00:00\", \"1970-01-01T00:00:10\", \"1970-01-01T00:00:10\", \"1970-01-01T00:00:10\", \"1970-01-01T00:36:42.124806\", \"1970-01-01T00:36:42.124806\", \"1970-01-01T00:36:52.124806\", \"1970-01-01T00:36:52.124806\", \"1970-01-01T00:36:52.124806\", \"1970-01-01T00:36:42.124806\", \"1970-01-01T00:36:42.124806\", \"1970-01-01T00:36:52.124806\", \"1970-01-01T00:36:52.124806\", \"1970-01-01T00:36:52.124806\", \"1970-01-01T01:15:07.960317\", \"1970-01-01T01:15:07.960317\", \"1970-01-01T01:15:17.960317\", \"1970-01-01T01:15:17.960317\", \"1970-01-01T01:15:17.960317\", \"1970-01-01T01:15:07.960317\", \"1970-01-01T01:15:07.960317\", \"1970-01-01T01:15:17.960317\", \"1970-01-01T01:15:17.960317\", \"1970-01-01T01:15:17.960317\", \"1970-01-01T00:00:00\", \"1970-01-01T00:00:00\", \"1970-01-01T00:00:10\", \"1970-01-01T00:00:10\", \"1970-01-01T00:00:10\", \"1970-01-01T00:36:42.124806\", \"1970-01-01T00:36:42.124806\", \"1970-01-01T00:36:52.124806\", \"1970-01-01T00:36:52.124806\", \"1970-01-01T00:36:52.124806\", \"1970-01-01T01:15:07.960317\", \"1970-01-01T01:15:07.960317\", \"1970-01-01T01:15:17.960317\", \"1970-01-01T01:15:17.960317\", \"1970-01-01T01:15:17.960317\", \"1970-01-01T00:00:00\", \"1970-01-01T00:00:00\", \"1970-01-01T00:00:10\", \"1970-01-01T00:00:10\", \"1970-01-01T00:00:10\", \"1970-01-01T00:36:42.124806\", \"1970-01-01T00:36:42.124806\", \"1970-01-01T00:36:52.124806\", \"1970-01-01T00:36:52.124806\", \"1970-01-01T00:36:52.124806\", \"1970-01-01T01:15:07.960317\", \"1970-01-01T01:15:07.960317\", \"1970-01-01T01:15:17.960317\", \"1970-01-01T01:15:17.960317\", \"1970-01-01T01:15:17.960317\"], \"y\": [\"Hopper 01\", \"Hopper 01\", \"Hopper 01\", \"Hopper 01\", null, \"Hopper 01\", \"Hopper 01\", \"Hopper 01\", \"Hopper 01\", null, \"Hopper 01\", \"Hopper 01\", \"Hopper 01\", \"Hopper 01\", null, \"Hopper 01\", \"Hopper 01\", \"Hopper 01\", \"Hopper 01\", null, \"Hopper 01\", \"Hopper 01\", \"Hopper 01\", \"Hopper 01\", null, \"Hopper 01\", \"Hopper 01\", \"Hopper 01\", \"Hopper 01\", null, \"Winlocatie\", \"Winlocatie\", \"Winlocatie\", \"Winlocatie\", null, \"Winlocatie\", \"Winlocatie\", \"Winlocatie\", \"Winlocatie\", null, \"Winlocatie\", \"Winlocatie\", \"Winlocatie\", \"Winlocatie\", null, \"Transfer MP\", \"Transfer MP\", \"Transfer MP\", \"Transfer MP\", null, \"Transfer MP\", \"Transfer MP\", \"Transfer MP\", \"Transfer MP\", null, \"Transfer MP\", \"Transfer MP\", \"Transfer MP\", \"Transfer MP\", null]}, {\"connectgaps\": false, \"hoverinfo\": \"y+name\", \"line\": {\"color\": \"rgb(118,255,167)\", \"width\": 10}, \"mode\": \"lines\", \"name\": \"Transfer TP\", \"type\": \"scatter\", \"x\": [\"1970-01-01T00:17:28.107050\", \"1970-01-01T00:17:28.107050\", \"1970-01-01T00:17:38.107050\", \"1970-01-01T00:17:38.107050\", \"1970-01-01T00:17:38.107050\", \"1970-01-01T00:17:28.107050\", \"1970-01-01T00:17:28.107050\", \"1970-01-01T00:17:38.107050\", \"1970-01-01T00:17:38.107050\", \"1970-01-01T00:17:38.107050\", \"1970-01-01T00:54:10.231856\", \"1970-01-01T00:54:10.231856\", \"1970-01-01T00:54:20.231856\", \"1970-01-01T00:54:20.231856\", \"1970-01-01T00:54:20.231856\", \"1970-01-01T00:54:10.231856\", \"1970-01-01T00:54:10.231856\", \"1970-01-01T00:54:20.231856\", \"1970-01-01T00:54:20.231856\", \"1970-01-01T00:54:20.231856\", \"1970-01-01T01:32:36.067367\", \"1970-01-01T01:32:36.067367\", \"1970-01-01T01:32:46.067367\", \"1970-01-01T01:32:46.067367\", \"1970-01-01T01:32:46.067367\", \"1970-01-01T01:32:36.067367\", \"1970-01-01T01:32:36.067367\", \"1970-01-01T01:32:46.067367\", \"1970-01-01T01:32:46.067367\", \"1970-01-01T01:32:46.067367\", \"1970-01-01T00:17:28.107050\", \"1970-01-01T00:17:28.107050\", \"1970-01-01T00:17:38.107050\", \"1970-01-01T00:17:38.107050\", \"1970-01-01T00:17:38.107050\", \"1970-01-01T00:54:10.231856\", \"1970-01-01T00:54:10.231856\", \"1970-01-01T00:54:20.231856\", \"1970-01-01T00:54:20.231856\", \"1970-01-01T00:54:20.231856\", \"1970-01-01T01:32:36.067367\", \"1970-01-01T01:32:36.067367\", \"1970-01-01T01:32:46.067367\", \"1970-01-01T01:32:46.067367\", \"1970-01-01T01:32:46.067367\", \"1970-01-01T00:17:28.107050\", \"1970-01-01T00:17:28.107050\", \"1970-01-01T00:17:38.107050\", \"1970-01-01T00:17:38.107050\", \"1970-01-01T00:17:38.107050\", \"1970-01-01T00:54:10.231856\", \"1970-01-01T00:54:10.231856\", \"1970-01-01T00:54:20.231856\", \"1970-01-01T00:54:20.231856\", \"1970-01-01T00:54:20.231856\", \"1970-01-01T01:32:36.067367\", \"1970-01-01T01:32:36.067367\", \"1970-01-01T01:32:46.067367\", \"1970-01-01T01:32:46.067367\", \"1970-01-01T01:32:46.067367\"], \"y\": [\"Hopper 01\", \"Hopper 01\", \"Hopper 01\", \"Hopper 01\", null, \"Hopper 01\", \"Hopper 01\", \"Hopper 01\", \"Hopper 01\", null, \"Hopper 01\", \"Hopper 01\", \"Hopper 01\", \"Hopper 01\", null, \"Hopper 01\", \"Hopper 01\", \"Hopper 01\", \"Hopper 01\", null, \"Hopper 01\", \"Hopper 01\", \"Hopper 01\", \"Hopper 01\", null, \"Hopper 01\", \"Hopper 01\", \"Hopper 01\", \"Hopper 01\", null, \"Dumplocatie\", \"Dumplocatie\", \"Dumplocatie\", \"Dumplocatie\", null, \"Dumplocatie\", \"Dumplocatie\", \"Dumplocatie\", \"Dumplocatie\", null, \"Dumplocatie\", \"Dumplocatie\", \"Dumplocatie\", \"Dumplocatie\", null, \"Transfer TP\", \"Transfer TP\", \"Transfer TP\", \"Transfer TP\", null, \"Transfer TP\", \"Transfer TP\", \"Transfer TP\", \"Transfer TP\", null, \"Transfer TP\", \"Transfer TP\", \"Transfer TP\", \"Transfer TP\", null]}, {\"connectgaps\": false, \"hoverinfo\": \"y+name\", \"line\": {\"color\": \"rgb(136,17,185)\", \"width\": 10}, \"mode\": \"lines\", \"name\": \"while\", \"type\": \"scatter\", \"x\": [\"1970-01-01T00:00:00\", \"1970-01-01T00:00:00\", \"1970-01-01T00:19:25.017755\", \"1970-01-01T00:19:25.017755\", \"1970-01-01T00:19:25.017755\", \"1970-01-01T00:19:25.017755\", \"1970-01-01T00:19:25.017755\", \"1970-01-01T00:57:50.853266\", \"1970-01-01T00:57:50.853266\", \"1970-01-01T00:57:50.853266\", \"1970-01-01T00:57:50.853266\", \"1970-01-01T00:57:50.853266\", \"1970-01-01T01:36:16.688777\", \"1970-01-01T01:36:16.688777\", \"1970-01-01T01:36:16.688777\", \"1970-01-01T00:57:50.853266\", \"1970-01-01T00:57:50.853266\", \"1970-01-01T01:36:16.688777\", \"1970-01-01T01:36:16.688777\", \"1970-01-01T01:36:16.688777\"], \"y\": [\"while\", \"while\", \"while\", \"while\", null, \"while\", \"while\", \"while\", \"while\", null, \"while\", \"while\", \"while\", \"while\", null, \"while\", \"while\", \"while\", \"while\", null]}, {\"connectgaps\": false, \"hoverinfo\": \"y+name\", \"line\": {\"color\": \"rgb(154,35,203)\", \"width\": 10}, \"mode\": \"lines\", \"name\": \"Single run process\", \"type\": \"scatter\", \"x\": [\"1970-01-01T00:00:00\", \"1970-01-01T00:00:00\", \"1970-01-01T00:00:00\", \"1970-01-01T00:00:00\", \"1970-01-01T00:00:00\", \"1970-01-01T00:00:00\", \"1970-01-01T00:00:00\", \"1970-01-01T00:00:11\", \"1970-01-01T00:00:11\", \"1970-01-01T00:00:11\", \"1970-01-01T00:00:11\", \"1970-01-01T00:00:11\", \"1970-01-01T00:17:28.107050\", \"1970-01-01T00:17:28.107050\", \"1970-01-01T00:17:28.107050\", \"1970-01-01T00:17:28.107050\", \"1970-01-01T00:17:28.107050\", \"1970-01-01T00:17:39.107050\", \"1970-01-01T00:17:39.107050\", \"1970-01-01T00:17:39.107050\", \"1970-01-01T00:17:39.107050\", \"1970-01-01T00:17:39.107050\", \"1970-01-01T00:17:39.107050\", \"1970-01-01T00:17:39.107050\", \"1970-01-01T00:17:39.107050\", \"1970-01-01T00:17:39.107050\", \"1970-01-01T00:17:39.107050\", \"1970-01-01T00:17:39.107050\", \"1970-01-01T00:17:39.107050\", \"1970-01-01T00:17:39.107050\", \"1970-01-01T00:19:25.017755\", \"1970-01-01T00:19:25.017755\", \"1970-01-01T00:36:42.124806\", \"1970-01-01T00:36:42.124806\", \"1970-01-01T00:36:42.124806\", \"1970-01-01T00:36:42.124806\", \"1970-01-01T00:36:42.124806\", \"1970-01-01T00:36:53.124806\", \"1970-01-01T00:36:53.124806\", \"1970-01-01T00:36:53.124806\", \"1970-01-01T00:36:53.124806\", \"1970-01-01T00:36:53.124806\", \"1970-01-01T00:54:10.231856\", \"1970-01-01T00:54:10.231856\", \"1970-01-01T00:54:10.231856\", \"1970-01-01T00:54:10.231856\", \"1970-01-01T00:54:10.231856\", \"1970-01-01T00:54:21.231856\", \"1970-01-01T00:54:21.231856\", \"1970-01-01T00:54:21.231856\", \"1970-01-01T00:54:21.231856\", \"1970-01-01T00:54:21.231856\", \"1970-01-01T00:54:21.231856\", \"1970-01-01T00:54:21.231856\", \"1970-01-01T00:54:21.231856\", \"1970-01-01T00:54:21.231856\", \"1970-01-01T00:54:21.231856\", \"1970-01-01T00:54:21.231856\", \"1970-01-01T00:54:21.231856\", \"1970-01-01T00:54:21.231856\", \"1970-01-01T00:57:50.853266\", \"1970-01-01T00:57:50.853266\", \"1970-01-01T01:15:07.960317\", \"1970-01-01T01:15:07.960317\", \"1970-01-01T01:15:07.960317\", \"1970-01-01T01:15:07.960317\", \"1970-01-01T01:15:07.960317\", \"1970-01-01T01:15:18.960317\", \"1970-01-01T01:15:18.960317\", \"1970-01-01T01:15:18.960317\", \"1970-01-01T01:15:18.960317\", \"1970-01-01T01:15:18.960317\", \"1970-01-01T01:32:36.067367\", \"1970-01-01T01:32:36.067367\", \"1970-01-01T01:32:36.067367\", \"1970-01-01T01:32:36.067367\", \"1970-01-01T01:32:36.067367\", \"1970-01-01T01:32:47.067367\", \"1970-01-01T01:32:47.067367\", \"1970-01-01T01:32:47.067367\", \"1970-01-01T01:32:47.067367\", \"1970-01-01T01:32:47.067367\", \"1970-01-01T01:32:47.067367\", \"1970-01-01T01:32:47.067367\", \"1970-01-01T01:32:47.067367\", \"1970-01-01T01:32:47.067367\", \"1970-01-01T01:32:47.067367\", \"1970-01-01T01:32:47.067367\", \"1970-01-01T01:32:47.067367\", \"1970-01-01T01:32:47.067367\"], \"y\": [\"Single run process\", \"Single run process\", \"Single run process\", \"Single run process\", null, \"Single run process\", \"Single run process\", \"Single run process\", \"Single run process\", null, \"Single run process\", \"Single run process\", \"Single run process\", \"Single run process\", null, \"Single run process\", \"Single run process\", \"Single run process\", \"Single run process\", null, \"Single run process\", \"Single run process\", \"Single run process\", \"Single run process\", null, \"Single run process\", \"Single run process\", \"Single run process\", \"Single run process\", null, \"Single run process\", \"Single run process\", \"Single run process\", \"Single run process\", null, \"Single run process\", \"Single run process\", \"Single run process\", \"Single run process\", null, \"Single run process\", \"Single run process\", \"Single run process\", \"Single run process\", null, \"Single run process\", \"Single run process\", \"Single run process\", \"Single run process\", null, \"Single run process\", \"Single run process\", \"Single run process\", \"Single run process\", null, \"Single run process\", \"Single run process\", \"Single run process\", \"Single run process\", null, \"Single run process\", \"Single run process\", \"Single run process\", \"Single run process\", null, \"Single run process\", \"Single run process\", \"Single run process\", \"Single run process\", null, \"Single run process\", \"Single run process\", \"Single run process\", \"Single run process\", null, \"Single run process\", \"Single run process\", \"Single run process\", \"Single run process\", null, \"Single run process\", \"Single run process\", \"Single run process\", \"Single run process\", null, \"Single run process\", \"Single run process\", \"Single run process\", \"Single run process\", null]}, {\"connectgaps\": false, \"hoverinfo\": \"y+name\", \"line\": {\"color\": \"rgb(172,53,221)\", \"width\": 10}, \"mode\": \"lines\", \"name\": \"sailing empty\", \"type\": \"scatter\", \"x\": [\"1970-01-01T00:00:00\", \"1970-01-01T00:00:00\", \"1970-01-01T00:00:00\", \"1970-01-01T00:00:00\", \"1970-01-01T00:00:00\", \"1970-01-01T00:19:25.017755\", \"1970-01-01T00:19:25.017755\", \"1970-01-01T00:35:07.842347\", \"1970-01-01T00:35:07.842347\", \"1970-01-01T00:35:07.842347\", \"1970-01-01T00:57:50.853266\", \"1970-01-01T00:57:50.853266\", \"1970-01-01T01:13:33.677858\", \"1970-01-01T01:13:33.677858\", \"1970-01-01T01:13:33.677858\", \"1970-01-01T00:00:00\", \"1970-01-01T00:00:00\", \"1970-01-01T00:00:00\", \"1970-01-01T00:00:00\", \"1970-01-01T00:00:00\", \"1970-01-01T00:19:25.017755\", \"1970-01-01T00:19:25.017755\", \"1970-01-01T00:35:07.842347\", \"1970-01-01T00:35:07.842347\", \"1970-01-01T00:35:07.842347\", \"1970-01-01T00:57:50.853266\", \"1970-01-01T00:57:50.853266\", \"1970-01-01T01:13:33.677858\", \"1970-01-01T01:13:33.677858\", \"1970-01-01T01:13:33.677858\"], \"y\": [\"Hopper 01\", \"Hopper 01\", \"Hopper 01\", \"Hopper 01\", null, \"Hopper 01\", \"Hopper 01\", \"Hopper 01\", \"Hopper 01\", null, \"Hopper 01\", \"Hopper 01\", \"Hopper 01\", \"Hopper 01\", null, \"sailing empty\", \"sailing empty\", \"sailing empty\", \"sailing empty\", null, \"sailing empty\", \"sailing empty\", \"sailing empty\", \"sailing empty\", null, \"sailing empty\", \"sailing empty\", \"sailing empty\", \"sailing empty\", null]}, {\"connectgaps\": false, \"hoverinfo\": \"y+name\", \"line\": {\"color\": \"rgb(190,71,239)\", \"width\": 10}, \"mode\": \"lines\", \"name\": \"Transfer MP\", \"type\": \"scatter\", \"x\": [\"1970-01-01T00:00:00\", \"1970-01-01T00:00:00\", \"1970-01-01T00:00:10\", \"1970-01-01T00:00:10\", \"1970-01-01T00:00:10\", \"1970-01-01T00:00:00\", \"1970-01-01T00:00:00\", \"1970-01-01T00:00:10\", \"1970-01-01T00:00:10\", \"1970-01-01T00:00:10\", \"1970-01-01T00:36:42.124806\", \"1970-01-01T00:36:42.124806\", \"1970-01-01T00:36:52.124806\", \"1970-01-01T00:36:52.124806\", \"1970-01-01T00:36:52.124806\", \"1970-01-01T00:36:42.124806\", \"1970-01-01T00:36:42.124806\", \"1970-01-01T00:36:52.124806\", \"1970-01-01T00:36:52.124806\", \"1970-01-01T00:36:52.124806\", \"1970-01-01T01:15:07.960317\", \"1970-01-01T01:15:07.960317\", \"1970-01-01T01:15:17.960317\", \"1970-01-01T01:15:17.960317\", \"1970-01-01T01:15:17.960317\", \"1970-01-01T01:15:07.960317\", \"1970-01-01T01:15:07.960317\", \"1970-01-01T01:15:17.960317\", \"1970-01-01T01:15:17.960317\", \"1970-01-01T01:15:17.960317\", \"1970-01-01T00:00:00\", \"1970-01-01T00:00:00\", \"1970-01-01T00:00:10\", \"1970-01-01T00:00:10\", \"1970-01-01T00:00:10\", \"1970-01-01T00:36:42.124806\", \"1970-01-01T00:36:42.124806\", \"1970-01-01T00:36:52.124806\", \"1970-01-01T00:36:52.124806\", \"1970-01-01T00:36:52.124806\", \"1970-01-01T01:15:07.960317\", \"1970-01-01T01:15:07.960317\", \"1970-01-01T01:15:17.960317\", \"1970-01-01T01:15:17.960317\", \"1970-01-01T01:15:17.960317\", \"1970-01-01T00:00:00\", \"1970-01-01T00:00:00\", \"1970-01-01T00:00:10\", \"1970-01-01T00:00:10\", \"1970-01-01T00:00:10\", \"1970-01-01T00:36:42.124806\", \"1970-01-01T00:36:42.124806\", \"1970-01-01T00:36:52.124806\", \"1970-01-01T00:36:52.124806\", \"1970-01-01T00:36:52.124806\", \"1970-01-01T01:15:07.960317\", \"1970-01-01T01:15:07.960317\", \"1970-01-01T01:15:17.960317\", \"1970-01-01T01:15:17.960317\", \"1970-01-01T01:15:17.960317\"], \"y\": [\"Hopper 01\", \"Hopper 01\", \"Hopper 01\", \"Hopper 01\", null, \"Hopper 01\", \"Hopper 01\", \"Hopper 01\", \"Hopper 01\", null, \"Hopper 01\", \"Hopper 01\", \"Hopper 01\", \"Hopper 01\", null, \"Hopper 01\", \"Hopper 01\", \"Hopper 01\", \"Hopper 01\", null, \"Hopper 01\", \"Hopper 01\", \"Hopper 01\", \"Hopper 01\", null, \"Hopper 01\", \"Hopper 01\", \"Hopper 01\", \"Hopper 01\", null, \"Winlocatie\", \"Winlocatie\", \"Winlocatie\", \"Winlocatie\", null, \"Winlocatie\", \"Winlocatie\", \"Winlocatie\", \"Winlocatie\", null, \"Winlocatie\", \"Winlocatie\", \"Winlocatie\", \"Winlocatie\", null, \"Transfer MP\", \"Transfer MP\", \"Transfer MP\", \"Transfer MP\", null, \"Transfer MP\", \"Transfer MP\", \"Transfer MP\", \"Transfer MP\", null, \"Transfer MP\", \"Transfer MP\", \"Transfer MP\", \"Transfer MP\", null]}, {\"connectgaps\": false, \"hoverinfo\": \"y+name\", \"line\": {\"color\": \"rgb(208,89,1)\", \"width\": 10}, \"mode\": \"lines\", \"name\": \"sailing filler\", \"type\": \"scatter\", \"x\": [\"1970-01-01T00:00:11\", \"1970-01-01T00:00:11\", \"1970-01-01T00:15:53.824591\", \"1970-01-01T00:15:53.824591\", \"1970-01-01T00:15:53.824591\", \"1970-01-01T00:36:53.124806\", \"1970-01-01T00:36:53.124806\", \"1970-01-01T00:52:35.949397\", \"1970-01-01T00:52:35.949397\", \"1970-01-01T00:52:35.949397\", \"1970-01-01T01:15:18.960317\", \"1970-01-01T01:15:18.960317\", \"1970-01-01T01:31:01.784908\", \"1970-01-01T01:31:01.784908\", \"1970-01-01T01:31:01.784908\", \"1970-01-01T00:00:11\", \"1970-01-01T00:00:11\", \"1970-01-01T00:15:53.824591\", \"1970-01-01T00:15:53.824591\", \"1970-01-01T00:15:53.824591\", \"1970-01-01T00:36:53.124806\", \"1970-01-01T00:36:53.124806\", \"1970-01-01T00:52:35.949397\", \"1970-01-01T00:52:35.949397\", \"1970-01-01T00:52:35.949397\", \"1970-01-01T01:15:18.960317\", \"1970-01-01T01:15:18.960317\", \"1970-01-01T01:31:01.784908\", \"1970-01-01T01:31:01.784908\", \"1970-01-01T01:31:01.784908\"], \"y\": [\"Hopper 01\", \"Hopper 01\", \"Hopper 01\", \"Hopper 01\", null, \"Hopper 01\", \"Hopper 01\", \"Hopper 01\", \"Hopper 01\", null, \"Hopper 01\", \"Hopper 01\", \"Hopper 01\", \"Hopper 01\", null, \"sailing filler\", \"sailing filler\", \"sailing filler\", \"sailing filler\", null, \"sailing filler\", \"sailing filler\", \"sailing filler\", \"sailing filler\", null, \"sailing filler\", \"sailing filler\", \"sailing filler\", \"sailing filler\", null]}, {\"connectgaps\": false, \"hoverinfo\": \"y+name\", \"line\": {\"color\": \"rgb(226,107,19)\", \"width\": 10}, \"mode\": \"lines\", \"name\": \"Transfer TP\", \"type\": \"scatter\", \"x\": [\"1970-01-01T00:17:28.107050\", \"1970-01-01T00:17:28.107050\", \"1970-01-01T00:17:38.107050\", \"1970-01-01T00:17:38.107050\", \"1970-01-01T00:17:38.107050\", \"1970-01-01T00:17:28.107050\", \"1970-01-01T00:17:28.107050\", \"1970-01-01T00:17:38.107050\", \"1970-01-01T00:17:38.107050\", \"1970-01-01T00:17:38.107050\", \"1970-01-01T00:54:10.231856\", \"1970-01-01T00:54:10.231856\", \"1970-01-01T00:54:20.231856\", \"1970-01-01T00:54:20.231856\", \"1970-01-01T00:54:20.231856\", \"1970-01-01T00:54:10.231856\", \"1970-01-01T00:54:10.231856\", \"1970-01-01T00:54:20.231856\", \"1970-01-01T00:54:20.231856\", \"1970-01-01T00:54:20.231856\", \"1970-01-01T01:32:36.067367\", \"1970-01-01T01:32:36.067367\", \"1970-01-01T01:32:46.067367\", \"1970-01-01T01:32:46.067367\", \"1970-01-01T01:32:46.067367\", \"1970-01-01T01:32:36.067367\", \"1970-01-01T01:32:36.067367\", \"1970-01-01T01:32:46.067367\", \"1970-01-01T01:32:46.067367\", \"1970-01-01T01:32:46.067367\", \"1970-01-01T00:17:28.107050\", \"1970-01-01T00:17:28.107050\", \"1970-01-01T00:17:38.107050\", \"1970-01-01T00:17:38.107050\", \"1970-01-01T00:17:38.107050\", \"1970-01-01T00:54:10.231856\", \"1970-01-01T00:54:10.231856\", \"1970-01-01T00:54:20.231856\", \"1970-01-01T00:54:20.231856\", \"1970-01-01T00:54:20.231856\", \"1970-01-01T01:32:36.067367\", \"1970-01-01T01:32:36.067367\", \"1970-01-01T01:32:46.067367\", \"1970-01-01T01:32:46.067367\", \"1970-01-01T01:32:46.067367\", \"1970-01-01T00:17:28.107050\", \"1970-01-01T00:17:28.107050\", \"1970-01-01T00:17:38.107050\", \"1970-01-01T00:17:38.107050\", \"1970-01-01T00:17:38.107050\", \"1970-01-01T00:54:10.231856\", \"1970-01-01T00:54:10.231856\", \"1970-01-01T00:54:20.231856\", \"1970-01-01T00:54:20.231856\", \"1970-01-01T00:54:20.231856\", \"1970-01-01T01:32:36.067367\", \"1970-01-01T01:32:36.067367\", \"1970-01-01T01:32:46.067367\", \"1970-01-01T01:32:46.067367\", \"1970-01-01T01:32:46.067367\"], \"y\": [\"Hopper 01\", \"Hopper 01\", \"Hopper 01\", \"Hopper 01\", null, \"Hopper 01\", \"Hopper 01\", \"Hopper 01\", \"Hopper 01\", null, \"Hopper 01\", \"Hopper 01\", \"Hopper 01\", \"Hopper 01\", null, \"Hopper 01\", \"Hopper 01\", \"Hopper 01\", \"Hopper 01\", null, \"Hopper 01\", \"Hopper 01\", \"Hopper 01\", \"Hopper 01\", null, \"Hopper 01\", \"Hopper 01\", \"Hopper 01\", \"Hopper 01\", null, \"Dumplocatie\", \"Dumplocatie\", \"Dumplocatie\", \"Dumplocatie\", null, \"Dumplocatie\", \"Dumplocatie\", \"Dumplocatie\", \"Dumplocatie\", null, \"Dumplocatie\", \"Dumplocatie\", \"Dumplocatie\", \"Dumplocatie\", null, \"Transfer TP\", \"Transfer TP\", \"Transfer TP\", \"Transfer TP\", null, \"Transfer TP\", \"Transfer TP\", \"Transfer TP\", \"Transfer TP\", null, \"Transfer TP\", \"Transfer TP\", \"Transfer TP\", \"Transfer TP\", null]}, {\"connectgaps\": false, \"hoverinfo\": \"y+name\", \"line\": {\"color\": \"rgb(244,125,37)\", \"width\": 10}, \"mode\": \"lines\", \"name\": \"Basic activity\", \"type\": \"scatter\", \"x\": [\"1970-01-01T00:17:39.107050\", \"1970-01-01T00:17:39.107050\", \"1970-01-01T00:17:39.107050\", \"1970-01-01T00:17:39.107050\", \"1970-01-01T00:17:39.107050\", \"1970-01-01T00:54:21.231856\", \"1970-01-01T00:54:21.231856\", \"1970-01-01T00:54:21.231856\", \"1970-01-01T00:54:21.231856\", \"1970-01-01T00:54:21.231856\", \"1970-01-01T01:32:47.067367\", \"1970-01-01T01:32:47.067367\", \"1970-01-01T01:32:47.067367\", \"1970-01-01T01:32:47.067367\", \"1970-01-01T01:32:47.067367\", \"1970-01-01T00:17:39.107050\", \"1970-01-01T00:17:39.107050\", \"1970-01-01T00:17:39.107050\", \"1970-01-01T00:17:39.107050\", \"1970-01-01T00:17:39.107050\", \"1970-01-01T00:54:21.231856\", \"1970-01-01T00:54:21.231856\", \"1970-01-01T00:54:21.231856\", \"1970-01-01T00:54:21.231856\", \"1970-01-01T00:54:21.231856\", \"1970-01-01T01:32:47.067367\", \"1970-01-01T01:32:47.067367\", \"1970-01-01T01:32:47.067367\", \"1970-01-01T01:32:47.067367\", \"1970-01-01T01:32:47.067367\"], \"y\": [\"Hopper 01\", \"Hopper 01\", \"Hopper 01\", \"Hopper 01\", null, \"Hopper 01\", \"Hopper 01\", \"Hopper 01\", \"Hopper 01\", null, \"Hopper 01\", \"Hopper 01\", \"Hopper 01\", \"Hopper 01\", null, \"Basic activity\", \"Basic activity\", \"Basic activity\", \"Basic activity\", null, \"Basic activity\", \"Basic activity\", \"Basic activity\", \"Basic activity\", null, \"Basic activity\", \"Basic activity\", \"Basic activity\", \"Basic activity\", null]}],                        {\"hovermode\": \"closest\", \"legend\": {\"orientation\": \"h\", \"x\": 0, \"y\": -0.2}, \"template\": {\"data\": {\"bar\": [{\"error_x\": {\"color\": \"#2a3f5f\"}, \"error_y\": {\"color\": \"#2a3f5f\"}, \"marker\": {\"line\": {\"color\": \"#E5ECF6\", \"width\": 0.5}}, \"type\": \"bar\"}], \"barpolar\": [{\"marker\": {\"line\": {\"color\": \"#E5ECF6\", \"width\": 0.5}}, \"type\": \"barpolar\"}], \"carpet\": [{\"aaxis\": {\"endlinecolor\": \"#2a3f5f\", \"gridcolor\": \"white\", \"linecolor\": \"white\", \"minorgridcolor\": \"white\", \"startlinecolor\": \"#2a3f5f\"}, \"baxis\": {\"endlinecolor\": \"#2a3f5f\", \"gridcolor\": \"white\", \"linecolor\": \"white\", \"minorgridcolor\": \"white\", \"startlinecolor\": \"#2a3f5f\"}, \"type\": \"carpet\"}], \"choropleth\": [{\"colorbar\": {\"outlinewidth\": 0, \"ticks\": \"\"}, \"type\": \"choropleth\"}], \"contour\": [{\"colorbar\": {\"outlinewidth\": 0, \"ticks\": \"\"}, \"colorscale\": [[0.0, \"#0d0887\"], [0.1111111111111111, \"#46039f\"], [0.2222222222222222, \"#7201a8\"], [0.3333333333333333, \"#9c179e\"], [0.4444444444444444, \"#bd3786\"], [0.5555555555555556, \"#d8576b\"], [0.6666666666666666, \"#ed7953\"], [0.7777777777777778, \"#fb9f3a\"], [0.8888888888888888, \"#fdca26\"], [1.0, \"#f0f921\"]], \"type\": \"contour\"}], \"contourcarpet\": [{\"colorbar\": {\"outlinewidth\": 0, \"ticks\": \"\"}, \"type\": \"contourcarpet\"}], \"heatmap\": [{\"colorbar\": {\"outlinewidth\": 0, \"ticks\": \"\"}, \"colorscale\": [[0.0, \"#0d0887\"], [0.1111111111111111, \"#46039f\"], [0.2222222222222222, \"#7201a8\"], [0.3333333333333333, \"#9c179e\"], [0.4444444444444444, \"#bd3786\"], [0.5555555555555556, \"#d8576b\"], [0.6666666666666666, \"#ed7953\"], [0.7777777777777778, \"#fb9f3a\"], [0.8888888888888888, \"#fdca26\"], [1.0, \"#f0f921\"]], \"type\": \"heatmap\"}], \"heatmapgl\": [{\"colorbar\": {\"outlinewidth\": 0, \"ticks\": \"\"}, \"colorscale\": [[0.0, \"#0d0887\"], [0.1111111111111111, \"#46039f\"], [0.2222222222222222, \"#7201a8\"], [0.3333333333333333, \"#9c179e\"], [0.4444444444444444, \"#bd3786\"], [0.5555555555555556, \"#d8576b\"], [0.6666666666666666, \"#ed7953\"], [0.7777777777777778, \"#fb9f3a\"], [0.8888888888888888, \"#fdca26\"], [1.0, \"#f0f921\"]], \"type\": \"heatmapgl\"}], \"histogram\": [{\"marker\": {\"colorbar\": {\"outlinewidth\": 0, \"ticks\": \"\"}}, \"type\": \"histogram\"}], \"histogram2d\": [{\"colorbar\": {\"outlinewidth\": 0, \"ticks\": \"\"}, \"colorscale\": [[0.0, \"#0d0887\"], [0.1111111111111111, \"#46039f\"], [0.2222222222222222, \"#7201a8\"], [0.3333333333333333, \"#9c179e\"], [0.4444444444444444, \"#bd3786\"], [0.5555555555555556, \"#d8576b\"], [0.6666666666666666, \"#ed7953\"], [0.7777777777777778, \"#fb9f3a\"], [0.8888888888888888, \"#fdca26\"], [1.0, \"#f0f921\"]], \"type\": \"histogram2d\"}], \"histogram2dcontour\": [{\"colorbar\": {\"outlinewidth\": 0, \"ticks\": \"\"}, \"colorscale\": [[0.0, \"#0d0887\"], [0.1111111111111111, \"#46039f\"], [0.2222222222222222, \"#7201a8\"], [0.3333333333333333, \"#9c179e\"], [0.4444444444444444, \"#bd3786\"], [0.5555555555555556, \"#d8576b\"], [0.6666666666666666, \"#ed7953\"], [0.7777777777777778, \"#fb9f3a\"], [0.8888888888888888, \"#fdca26\"], [1.0, \"#f0f921\"]], \"type\": \"histogram2dcontour\"}], \"mesh3d\": [{\"colorbar\": {\"outlinewidth\": 0, \"ticks\": \"\"}, \"type\": \"mesh3d\"}], \"parcoords\": [{\"line\": {\"colorbar\": {\"outlinewidth\": 0, \"ticks\": \"\"}}, \"type\": \"parcoords\"}], \"pie\": [{\"automargin\": true, \"type\": \"pie\"}], \"scatter\": [{\"marker\": {\"colorbar\": {\"outlinewidth\": 0, \"ticks\": \"\"}}, \"type\": \"scatter\"}], \"scatter3d\": [{\"line\": {\"colorbar\": {\"outlinewidth\": 0, \"ticks\": \"\"}}, \"marker\": {\"colorbar\": {\"outlinewidth\": 0, \"ticks\": \"\"}}, \"type\": \"scatter3d\"}], \"scattercarpet\": [{\"marker\": {\"colorbar\": {\"outlinewidth\": 0, \"ticks\": \"\"}}, \"type\": \"scattercarpet\"}], \"scattergeo\": [{\"marker\": {\"colorbar\": {\"outlinewidth\": 0, \"ticks\": \"\"}}, \"type\": \"scattergeo\"}], \"scattergl\": [{\"marker\": {\"colorbar\": {\"outlinewidth\": 0, \"ticks\": \"\"}}, \"type\": \"scattergl\"}], \"scattermapbox\": [{\"marker\": {\"colorbar\": {\"outlinewidth\": 0, \"ticks\": \"\"}}, \"type\": \"scattermapbox\"}], \"scatterpolar\": [{\"marker\": {\"colorbar\": {\"outlinewidth\": 0, \"ticks\": \"\"}}, \"type\": \"scatterpolar\"}], \"scatterpolargl\": [{\"marker\": {\"colorbar\": {\"outlinewidth\": 0, \"ticks\": \"\"}}, \"type\": \"scatterpolargl\"}], \"scatterternary\": [{\"marker\": {\"colorbar\": {\"outlinewidth\": 0, \"ticks\": \"\"}}, \"type\": \"scatterternary\"}], \"surface\": [{\"colorbar\": {\"outlinewidth\": 0, \"ticks\": \"\"}, \"colorscale\": [[0.0, \"#0d0887\"], [0.1111111111111111, \"#46039f\"], [0.2222222222222222, \"#7201a8\"], [0.3333333333333333, \"#9c179e\"], [0.4444444444444444, \"#bd3786\"], [0.5555555555555556, \"#d8576b\"], [0.6666666666666666, \"#ed7953\"], [0.7777777777777778, \"#fb9f3a\"], [0.8888888888888888, \"#fdca26\"], [1.0, \"#f0f921\"]], \"type\": \"surface\"}], \"table\": [{\"cells\": {\"fill\": {\"color\": \"#EBF0F8\"}, \"line\": {\"color\": \"white\"}}, \"header\": {\"fill\": {\"color\": \"#C8D4E3\"}, \"line\": {\"color\": \"white\"}}, \"type\": \"table\"}]}, \"layout\": {\"annotationdefaults\": {\"arrowcolor\": \"#2a3f5f\", \"arrowhead\": 0, \"arrowwidth\": 1}, \"autotypenumbers\": \"strict\", \"coloraxis\": {\"colorbar\": {\"outlinewidth\": 0, \"ticks\": \"\"}}, \"colorscale\": {\"diverging\": [[0, \"#8e0152\"], [0.1, \"#c51b7d\"], [0.2, \"#de77ae\"], [0.3, \"#f1b6da\"], [0.4, \"#fde0ef\"], [0.5, \"#f7f7f7\"], [0.6, \"#e6f5d0\"], [0.7, \"#b8e186\"], [0.8, \"#7fbc41\"], [0.9, \"#4d9221\"], [1, \"#276419\"]], \"sequential\": [[0.0, \"#0d0887\"], [0.1111111111111111, \"#46039f\"], [0.2222222222222222, \"#7201a8\"], [0.3333333333333333, \"#9c179e\"], [0.4444444444444444, \"#bd3786\"], [0.5555555555555556, \"#d8576b\"], [0.6666666666666666, \"#ed7953\"], [0.7777777777777778, \"#fb9f3a\"], [0.8888888888888888, \"#fdca26\"], [1.0, \"#f0f921\"]], \"sequentialminus\": [[0.0, \"#0d0887\"], [0.1111111111111111, \"#46039f\"], [0.2222222222222222, \"#7201a8\"], [0.3333333333333333, \"#9c179e\"], [0.4444444444444444, \"#bd3786\"], [0.5555555555555556, \"#d8576b\"], [0.6666666666666666, \"#ed7953\"], [0.7777777777777778, \"#fb9f3a\"], [0.8888888888888888, \"#fdca26\"], [1.0, \"#f0f921\"]]}, \"colorway\": [\"#636efa\", \"#EF553B\", \"#00cc96\", \"#ab63fa\", \"#FFA15A\", \"#19d3f3\", \"#FF6692\", \"#B6E880\", \"#FF97FF\", \"#FECB52\"], \"font\": {\"color\": \"#2a3f5f\"}, \"geo\": {\"bgcolor\": \"white\", \"lakecolor\": \"white\", \"landcolor\": \"#E5ECF6\", \"showlakes\": true, \"showland\": true, \"subunitcolor\": \"white\"}, \"hoverlabel\": {\"align\": \"left\"}, \"hovermode\": \"closest\", \"mapbox\": {\"style\": \"light\"}, \"paper_bgcolor\": \"white\", \"plot_bgcolor\": \"#E5ECF6\", \"polar\": {\"angularaxis\": {\"gridcolor\": \"white\", \"linecolor\": \"white\", \"ticks\": \"\"}, \"bgcolor\": \"#E5ECF6\", \"radialaxis\": {\"gridcolor\": \"white\", \"linecolor\": \"white\", \"ticks\": \"\"}}, \"scene\": {\"xaxis\": {\"backgroundcolor\": \"#E5ECF6\", \"gridcolor\": \"white\", \"gridwidth\": 2, \"linecolor\": \"white\", \"showbackground\": true, \"ticks\": \"\", \"zerolinecolor\": \"white\"}, \"yaxis\": {\"backgroundcolor\": \"#E5ECF6\", \"gridcolor\": \"white\", \"gridwidth\": 2, \"linecolor\": \"white\", \"showbackground\": true, \"ticks\": \"\", \"zerolinecolor\": \"white\"}, \"zaxis\": {\"backgroundcolor\": \"#E5ECF6\", \"gridcolor\": \"white\", \"gridwidth\": 2, \"linecolor\": \"white\", \"showbackground\": true, \"ticks\": \"\", \"zerolinecolor\": \"white\"}}, \"shapedefaults\": {\"line\": {\"color\": \"#2a3f5f\"}}, \"ternary\": {\"aaxis\": {\"gridcolor\": \"white\", \"linecolor\": \"white\", \"ticks\": \"\"}, \"baxis\": {\"gridcolor\": \"white\", \"linecolor\": \"white\", \"ticks\": \"\"}, \"bgcolor\": \"#E5ECF6\", \"caxis\": {\"gridcolor\": \"white\", \"linecolor\": \"white\", \"ticks\": \"\"}}, \"title\": {\"x\": 0.05}, \"xaxis\": {\"automargin\": true, \"gridcolor\": \"white\", \"linecolor\": \"white\", \"ticks\": \"\", \"title\": {\"standoff\": 15}, \"zerolinecolor\": \"white\", \"zerolinewidth\": 2}, \"yaxis\": {\"automargin\": true, \"gridcolor\": \"white\", \"linecolor\": \"white\", \"ticks\": \"\", \"title\": {\"standoff\": 15}, \"zerolinecolor\": \"white\", \"zerolinewidth\": 2}}}, \"title\": {\"text\": \"Vessel planning\"}, \"xaxis\": {\"range\": [\"1970-01-01T00:00:00\", \"1970-01-01T01:45:54.357655\"], \"title\": {\"font\": {\"color\": \"#7f7f7f\", \"family\": \"Courier New, monospace\", \"size\": 18}, \"text\": \"Time\"}}, \"yaxis\": {\"title\": {\"font\": {\"color\": \"#7f7f7f\", \"family\": \"Courier New, monospace\", \"size\": 18}, \"text\": \"Vessels\"}}},                        {\"responsive\": true}                    ).then(function(){\n",
       "                            \n",
       "var gd = document.getElementById('6b8cf5e9-c846-48c7-9877-5234c4fdc050');\n",
       "var x = new MutationObserver(function (mutations, observer) {{\n",
       "        var display = window.getComputedStyle(gd).display;\n",
       "        if (!display || display === 'none') {{\n",
       "            console.log([gd, 'removed!']);\n",
       "            Plotly.purge(gd);\n",
       "            observer.disconnect();\n",
       "        }}\n",
       "}});\n",
       "\n",
       "// Listen for the removal of the full notebook cells\n",
       "var notebookContainer = gd.closest('#notebook-container');\n",
       "if (notebookContainer) {{\n",
       "    x.observe(notebookContainer, {childList: true});\n",
       "}}\n",
       "\n",
       "// Listen for the clearing of the current output cell\n",
       "var outputEl = gd.closest('.output');\n",
       "if (outputEl) {{\n",
       "    x.observe(outputEl, {childList: true});\n",
       "}}\n",
       "\n",
       "                        })                };                });            </script>        </div>"
      ]
     },
     "metadata": {},
     "output_type": "display_data"
    }
   ],
   "source": [
    "objects = [hopper, from_site, to_site, while_activity, activity]\n",
    "objects.extend(single_run)\n",
    "plot.vessel_planning(objects)"
   ]
  },
  {
   "cell_type": "code",
   "execution_count": null,
   "metadata": {},
   "outputs": [],
   "source": []
  },
  {
   "cell_type": "code",
   "execution_count": null,
   "metadata": {},
   "outputs": [],
   "source": []
  }
 ],
 "metadata": {
  "kernelspec": {
   "display_name": "Python 3",
   "language": "python",
   "name": "python3"
  },
  "language_info": {
   "codemirror_mode": {
    "name": "ipython",
    "version": 3
   },
   "file_extension": ".py",
   "mimetype": "text/x-python",
   "name": "python",
   "nbconvert_exporter": "python",
   "pygments_lexer": "ipython3",
   "version": "3.7.3"
  }
 },
 "nbformat": 4,
 "nbformat_minor": 4
}

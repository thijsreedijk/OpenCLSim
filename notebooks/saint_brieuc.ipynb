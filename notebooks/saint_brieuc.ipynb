{
 "metadata": {
  "language_info": {
   "codemirror_mode": {
    "name": "ipython",
    "version": 3
   },
   "file_extension": ".py",
   "mimetype": "text/x-python",
   "name": "python",
   "nbconvert_exporter": "python",
   "pygments_lexer": "ipython3",
   "version": "3.8.5-final"
  },
  "orig_nbformat": 2,
  "kernelspec": {
   "name": "python3",
   "display_name": "Python 3"
  }
 },
 "nbformat": 4,
 "nbformat_minor": 2,
 "cells": [
  {
   "cell_type": "code",
   "execution_count": 157,
   "metadata": {},
   "outputs": [],
   "source": [
    "import simpy\n",
    "from datetime import datetime as dt\n",
    "import pandas as pd\n",
    "import scipy.stats as st\n",
    "import numpy as np\n",
    "import matplotlib.pyplot as plt"
   ]
  },
  {
   "cell_type": "code",
   "execution_count": 304,
   "metadata": {},
   "outputs": [],
   "source": [
    "# ----------------------------------------------------------------------------!\n",
    "def lognorm(mean, std):\n",
    "    mu = np.log(mean ** 2 / np.sqrt(mean ** 2 + std ** 2))\n",
    "    sigma = np.sqrt(np.log(1 + std ** 2 / mean ** 2))\n",
    "    return st.lognorm(s=sigma, scale=np.exp(mu))\n",
    "\n",
    "\n",
    "# ----------------------------------------------------------------------------!\n",
    "class EventLog(object):\n",
    "    def __init__(self, env: simpy.Environment, **kwargs):\n",
    "        \n",
    "        self.env = env\n",
    "        self.log = {\n",
    "            'Timestamp': [],\n",
    "            'ID': [],\n",
    "            'Description': [],\n",
    "            'Activity state': [],\n",
    "            'Stock': [],\n",
    "            'Onboard': [],\n",
    "            'Installed': [],\n",
    "        }\n",
    "\n",
    "    def entry(self, ID, description, activity_state, port, container, owf,\n",
    "              **kwargs):\n",
    "        self.log['Timestamp'].append(dt.fromtimestamp(self.env.now))\n",
    "        self.log['ID'].append(ID)\n",
    "        self.log['Description'].append(description)\n",
    "        self.log['Activity state'].append(activity_state)\n",
    "        self.log['Stock'].append(port.container.level)\n",
    "        self.log['Onboard'].append(container.level)\n",
    "        self.log['Installed'].append(owf.container.level)\n",
    "\n",
    "\n",
    "# ----------------------------------------------------------------------------!\n",
    "class Vessel(object):\n",
    "    instances = []\n",
    "\n",
    "    def __init__(self, env: simpy.Environment, ID: str, log: EventLog,\n",
    "                 port: Site, owf:Site, capacity=5, **kwargs):\n",
    "        self.env = env\n",
    "        self.log = log\n",
    "        self.ID = ID\n",
    "        self.port = port\n",
    "        self.container = simpy.Container(env=env, capacity=capacity, init=0)\n",
    "        self.owf = owf\n",
    "\n",
    "        # Manually adjust these!\n",
    "        self.sail_to_length = lognorm(mean=24 * 3600, std=1200)\n",
    "        self.sail_length = lognorm(mean=3600 * 1.9, std=1800)\n",
    "        self.sail_between_length = lognorm(mean=3600 * 0.5, std=300)\n",
    "        self.load_length = lognorm(mean=3600 * 3.7, std=600)\n",
    "        self.install_length = lognorm(mean=3600 * (33.2), std=3600)\n",
    "\n",
    "        # Add new class object to the list of instances\n",
    "        Vessel.instances.append(self)\n",
    "\n",
    "    def execute_actions(self):\n",
    "        env = self.env\n",
    "\n",
    "        # Navigate from offshore to port\n",
    "        sail = Navigate(duration=self.sail_to_length.rvs(), \n",
    "                        description='Navigate from offshore to site',\n",
    "                        **self.__dict__)\n",
    "        yield env.process(sail.execute())\n",
    "\n",
    "        while True:\n",
    "            # Check whether it is necessary to perform activities\n",
    "            if self.port.container.level == 0:\n",
    "                break \n",
    "\n",
    "            # Load components onto vessel's deck\n",
    "            while self.container.level < self.container.capacity:\n",
    "                load = LoadComponent(duration=self.load_length.rvs(),\n",
    "                                      **self.__dict__)\n",
    "                yield env.process(load.execute())\n",
    "\n",
    "                if self.port.container.level == 0:\n",
    "                    break\n",
    "            \n",
    "            # Navigate from port to site\n",
    "            sail = Navigate(duration=self.sail_length.rvs(), \n",
    "                            description='Navigate from port to site',\n",
    "                            **self.__dict__)\n",
    "            yield env.process(sail.execute())\n",
    "\n",
    "            # Install component\n",
    "            install = InstallComponent(duration=self.install_length.rvs(),\n",
    "                                       **self.__dict__)\n",
    "            yield env.process(install.execute())\n",
    "\n",
    "            # Sail to the next site if components still on deck\n",
    "            while self.container.level > 0:\n",
    "                \n",
    "                sail = Navigate(duration=self.sail_between_length.rvs(),\n",
    "                                description='Navigate to the next site',\n",
    "                                **self.__dict__)\n",
    "                yield env.process(sail.execute())\n",
    "\n",
    "                install = InstallComponent(duration=self.install_length.rvs(),\n",
    "                                           **self.__dict__)\n",
    "                yield env.process(install.execute())\n",
    "\n",
    "            # Navigate from site to port\n",
    "            sail = Navigate(duration=self.sail_length.rvs(), \n",
    "                            description='Navigate from site to port',\n",
    "                            **self.__dict__)\n",
    "            yield env.process(sail.execute())\n",
    "\n",
    "\n",
    "\n",
    "# ----------------------------------------------------------------------------!\n",
    "class Navigate(object):\n",
    "    def __init__(self, env: simpy.Environment, log: EventLog, ID: str, \n",
    "                 port: Site, container: simpy.Container, owf: Site,\n",
    "                 duration: float, description='Navigate', **kwargs):\n",
    "        \n",
    "        self.env = env\n",
    "        self.log = log\n",
    "        self.ID = ID\n",
    "        self.duration = duration\n",
    "        self.description = description\n",
    "        self.port = port\n",
    "        self.container = container\n",
    "        self.owf = owf\n",
    "\n",
    "    def execute(self):\n",
    "        self.log.entry(activity_state='Initiated', **self.__dict__)\n",
    "        yield self.env.timeout(self.duration)\n",
    "        self.log.entry(activity_state='Completed', **self.__dict__)\n",
    "\n",
    "\n",
    "# ----------------------------------------------------------------------------!\n",
    "class LoadComponent(object):\n",
    "    def __init__(self, env: simpy.Environment, log: EventLog, ID: str, \n",
    "                 port: Site, container: simpy.Container, owf: Site, \n",
    "                 duration: float, description='Load components', **kwargs):\n",
    "\n",
    "        self.env = env\n",
    "        self.log = log\n",
    "        self.ID = ID\n",
    "        self.duration = duration\n",
    "        self.description = description\n",
    "        self.port = port\n",
    "        self.container = container\n",
    "        self.owf = owf\n",
    "\n",
    "    def execute(self):\n",
    "        self.log.entry(activity_state='Initiated', **self.__dict__)\n",
    "        yield self.env.timeout(self.duration)\n",
    "\n",
    "        yield self.port.container.get(1)\n",
    "        yield self.container.put(1)\n",
    "\n",
    "        self.log.entry(activity_state='Completed', **self.__dict__)\n",
    "\n",
    "\n",
    "# ----------------------------------------------------------------------------!\n",
    "class InstallComponent(object):\n",
    "    def __init__(self, env: simpy.Environment, log: EventLog, ID: str, \n",
    "                 port: Site, container: simpy.Container, owf: Site, \n",
    "                 duration: float, description='Install component', **kwargs):\n",
    "\n",
    "        self.env = env\n",
    "        self.log = log\n",
    "        self.ID = ID\n",
    "        self.duration = duration\n",
    "        self.description = description\n",
    "        self.port = port\n",
    "        self.container = container\n",
    "        self.owf = owf\n",
    "\n",
    "    def execute(self):\n",
    "        self.log.entry(activity_state='Initiated', **self.__dict__)\n",
    "        yield self.env.timeout(self.duration)\n",
    "        yield self.container.get(1)\n",
    "        yield self.owf.container.put(1)\n",
    "        self.log.entry(activity_state='Completed', **self.__dict__)\n",
    "\n",
    "\n",
    "# ----------------------------------------------------------------------------!\n",
    "class Site(object):\n",
    "    def __init__(self, env: simpy.Environment, log: EventLog, ID: str, \n",
    "                 resources: int = 1, capacity: int = 1, level: int = 0,\n",
    "                 **kwargs):\n",
    "\n",
    "        self.env = env\n",
    "        self.log = log\n",
    "        self.ID = ID\n",
    "        self.resources = simpy.Resource(env=env, capacity=resources)\n",
    "        self.container = simpy.Container(env=env, capacity=capacity, init=level)\n",
    "\n",
    "\n",
    "# ----------------------------------------------------------------------------!\n",
    "class DiscreteEventSimulation(object):\n",
    "    def __init__(self, start_date: dt = dt(2021, 1, 1), **kwargs):\n",
    "        \n",
    "        self.start_date = start_date\n",
    "        self.env = simpy.Environment(initial_time=start_date.timestamp())\n",
    "        self.log = EventLog(**self.__dict__)\n",
    "        self.entities = self.create_entities()\n",
    "\n",
    "    def create_entities(self):\n",
    "        self.port = Site(ID='Saint Brieuc Port', capacity=54, level=54, \n",
    "                         **self.__dict__)\n",
    "        self.owf = Site(ID='Saint Brieuc OWF', capacity=54, level=0, \n",
    "                         **self.__dict__)\n",
    "\n",
    "        self.aeolus = Vessel(ID='Aeolus', **self.__dict__)\n",
    "        return locals()\n",
    "\n",
    "    def start_simulation(self):\n",
    "        for obj in Vessel.instances:\n",
    "            self.env.process(obj.execute_actions())\n",
    "\n",
    "        self.env.run()\n",
    "\n",
    "        Vessel.instances = []\n",
    "        \n",
    "    def get_event_log(self):\n",
    "        return pd.DataFrame(self.log.log)\n",
    "\n",
    "    def get_project_length(self):\n",
    "        log_file = self.log.log\n",
    "        period = log_file['Timestamp'][-1] - log_file['Timestamp'][0]\n",
    "        period = period.total_seconds() / (24 * 3600) \n",
    "        return period\n",
    "\n",
    "    def empty_log(self):\n",
    "        self.log = EventLog(**self.__dict__)"
   ]
  },
  {
   "cell_type": "code",
   "execution_count": 305,
   "metadata": {},
   "outputs": [],
   "source": [
    "periods = []\n",
    "\n",
    "for i in range(300):\n",
    "    SaintBrieuc = DiscreteEventSimulation()\n",
    "    SaintBrieuc.start_simulation()\n",
    "    periods.append(SaintBrieuc.get_project_length())\n",
    "\n",
    "periods = np.array(periods)"
   ]
  },
  {
   "cell_type": "code",
   "execution_count": 439,
   "metadata": {},
   "outputs": [
    {
     "output_type": "display_data",
     "data": {
      "application/vnd.plotly.v1+json": {
       "config": {
        "plotlyServerURL": "https://plot.ly"
       },
       "data": [
        {
         "cumulative": {
          "enabled": true
         },
         "histnorm": "probability",
         "marker": {
          "color": "red",
          "line": {
           "color": "black",
           "width": 1
          },
          "opacity": 0.75
         },
         "name": "Cumulative distribution",
         "type": "histogram",
         "x": [
          87.01412484430556,
          86.31991697935185,
          86.65492249055555,
          86.30667899943286,
          87.03024950008103,
          86.44405385565972,
          86.57221020318288,
          86.97812940679398,
          86.56175493528934,
          87.33221151601852,
          86.84371876878473,
          86.77014982037038,
          86.04906021883102,
          86.61523497017362,
          86.83715968430555,
          86.54944812641205,
          86.76087584253472,
          86.64745526327546,
          86.71842773081019,
          86.71321594894675,
          86.34649730766203,
          86.47515518668982,
          86.54297488322916,
          87.1021064359375,
          86.51182137640046,
          86.98347414211806,
          86.3428806848264,
          86.55130040429398,
          87.21406016383102,
          86.70086165210648,
          86.46618205640047,
          86.55027985578704,
          87.06392657523148,
          87.05367681708333,
          86.87364433109953,
          86.60933248127314,
          86.68535551251156,
          87.24732169302084,
          86.99816807291667,
          86.31151357570602,
          86.80690555366898,
          87.01807177850694,
          86.80054587061342,
          86.69333564942129,
          86.83854750688658,
          86.08016098730324,
          86.63263261381944,
          86.72719080604166,
          86.77511846090277,
          86.6956431269213,
          87.34506293843751,
          86.44489821190973,
          86.86224707975694,
          86.92999578791667,
          86.16372618833334,
          86.3492756738426,
          86.80409430774306,
          86.58583871741898,
          87.2044604334838,
          87.1248228919676,
          86.7535397116551,
          87.07596771366899,
          86.35367637319445,
          86.95663088158565,
          86.9188580232639,
          86.83856969380787,
          86.56825613811343,
          86.65033748609955,
          86.84954334390046,
          86.54666973599537,
          86.05347390974536,
          86.57608964196758,
          86.8151647799074,
          86.6418926330787,
          86.96316258474536,
          87.09545613447916,
          86.47657667018518,
          86.6820234887963,
          86.50660948402778,
          86.53271172408566,
          87.17163114488426,
          86.94267634465278,
          87.22704887037037,
          87.02018461353009,
          86.75903546686342,
          86.83025077371528,
          86.80627400770832,
          86.16638671054397,
          86.79574770612268,
          86.87120368163194,
          86.85582531916667,
          86.65843489516205,
          86.59630053646991,
          86.71118109442129,
          86.64784439805555,
          86.6718799587037,
          86.41120250131945,
          86.81397481420139,
          86.49316612846064,
          87.00144326226851,
          86.37017792778934,
          86.47468905082177,
          86.74635126401621,
          86.77868427809028,
          87.02829514709491,
          86.69661095138889,
          86.60251075100695,
          86.38933410293981,
          86.4433340684838,
          87.1956455144676,
          86.58497535800926,
          86.83766096236111,
          86.51818171734953,
          87.38393580065973,
          86.13266236709491,
          86.89742239412037,
          86.47349641159722,
          87.09722909402778,
          86.97308619837963,
          86.64039726302084,
          86.967949250625,
          86.58932126124999,
          86.8541167540162,
          86.25975147003471,
          86.72808515394675,
          86.72338889599537,
          86.41619295815971,
          87.08897555374999,
          86.73814492619212,
          87.21105654861111,
          87.20955934530093,
          86.54617026322917,
          86.17749698288195,
          86.97685215754629,
          86.83984697346065,
          86.47056022666666,
          86.81590086850694,
          86.83851479916666,
          86.89754957351852,
          86.5183551587963,
          86.86407620918982,
          86.8953532423264,
          86.8143740105324,
          86.38658006910879,
          86.29094463417825,
          86.36665690119213,
          87.15020841166667,
          86.92470139462964,
          86.87757065174767,
          86.84354452162037,
          86.71416674530093,
          86.22534969032408,
          86.8299337175,
          86.78693812105324,
          86.53781952496527,
          86.95783646496528,
          86.70889445474538,
          87.0695858737037,
          86.72313575351852,
          87.11763904412037,
          86.73412134074074,
          86.85227940792824,
          86.93668582684028,
          87.06407214166667,
          87.06701939333334,
          86.67716379945603,
          86.90330105297454,
          85.89873663362269,
          86.79715799502314,
          86.24601563774306,
          87.00969576057871,
          87.2090464420949,
          86.60085560011574,
          86.96214739072917,
          87.24074499481482,
          86.58052660969908,
          86.58021808804398,
          86.41879972943288,
          86.87315715037037,
          86.46946189815972,
          86.54162445355324,
          86.39766704886574,
          86.99488263835649,
          86.82656443393519,
          86.5021934330787,
          87.23611286127314,
          86.72049092886574,
          86.81303001664351,
          86.96055320422454,
          86.76504791295139,
          86.60162427128472,
          86.22735377726852,
          86.45875664444443,
          86.6921816857639,
          86.63089455436342,
          86.63775533945602,
          86.66469494699074,
          86.8338134028588,
          86.59582550490741,
          86.51747161337963,
          87.05021476898149,
          86.69178203909722,
          86.47321079175926,
          86.49487189447918,
          86.61842854413194,
          86.56148335545139,
          87.23188168590278,
          87.42694057516204,
          85.9925756575,
          86.57736538059028,
          86.34440526006945,
          86.67603686304399,
          86.97453583181712,
          86.82185046892361,
          86.52449009546297,
          86.89181167336805,
          86.24618333493055,
          86.65955450898149,
          86.36565814949074,
          86.73393492143518,
          86.70133608659722,
          87.22820159179398,
          86.40228615016203,
          86.35705348094908,
          86.59713681570601,
          86.8386307282639,
          87.12096515077546,
          86.7984551642824,
          86.68043544171296,
          86.79825446395833,
          87.36443392401621,
          86.74571310075231,
          87.52462673876157,
          86.56459958322917,
          87.13127310234954,
          86.6949586047338,
          86.50554952996528,
          87.4540563814699,
          86.55071656914352,
          86.37121364831019,
          86.68506058363427,
          86.96298935499999,
          86.36766246878472,
          86.72226796858796,
          86.53050488875,
          86.63026527105323,
          86.73788298456019,
          86.88476104777777,
          86.88822435645832,
          86.93175971087963,
          86.5420672466551,
          86.84116435358797,
          86.73777161293981,
          86.48516218502314,
          86.6538277304051,
          86.48305056601852,
          87.19761448387732,
          86.71627412555556,
          86.90029893143519,
          87.21174267980324,
          86.6383562581713,
          87.05739653587963,
          86.94795486003471,
          86.28849720140046,
          87.13498622487269,
          86.77808787020832,
          86.5529137691088,
          86.75015748333334,
          86.91163791510417,
          87.14570235681713,
          86.07568683167824,
          86.81104693716435,
          86.94080511761574,
          86.68116125552083,
          87.42056808603009,
          86.78481369895833,
          86.54625352407407,
          86.27679701101852,
          86.85664734163194,
          86.88780702614584,
          86.72949960192129,
          86.87386840663196,
          86.50311688392361,
          86.85569739799769,
          86.46960623115741,
          86.92189920508102,
          86.99263325325232,
          86.86899908532408,
          86.72379390981482,
          86.97895710167825,
          86.5254317655787,
          87.27054881569444,
          87.12983036659723,
          86.69707704087963,
          86.35585296822917,
          86.98705743586805,
          86.1870143227662,
          86.1968536208449,
          86.74561038076389,
          86.9172062205787
         ],
         "xbins": {
          "size": 0.025
         }
        },
        {
         "marker": {
          "color": "blue"
         },
         "name": "Exceedance probability",
         "type": "scatter",
         "x": [
          85.99044334909594,
          86.00556128313096,
          86.02067921716596,
          86.03579715120098,
          86.05091508523599,
          86.066033019271,
          86.08115095330601,
          86.09626888734103,
          86.11138682137603,
          86.12650475541105,
          86.14162268944605,
          86.15674062348107,
          86.17185855751609,
          86.18697649155109,
          86.20209442558611,
          86.21721235962112,
          86.23233029365613,
          86.24744822769114,
          86.26256616172616,
          86.27768409576116,
          86.29280202979618,
          86.30791996383118,
          86.3230378978662,
          86.33815583190122,
          86.35327376593622,
          86.36839169997124,
          86.38350963400624,
          86.39862756804126,
          86.41374550207627,
          86.42886343611129,
          86.44398137014629,
          86.45909930418131,
          86.47421723821631,
          86.48933517225133,
          86.50445310628635,
          86.51957104032135,
          86.53468897435637,
          86.54980690839137,
          86.5649248424264,
          86.5800427764614,
          86.59516071049642,
          86.61027864453142,
          86.62539657856644,
          86.64051451260144,
          86.65563244663646,
          86.67075038067148,
          86.68586831470648,
          86.7009862487415,
          86.7161041827765,
          86.73122211681152,
          86.74634005084653,
          86.76145798488155,
          86.77657591891655,
          86.79169385295157,
          86.80681178698657,
          86.82192972102159,
          86.83704765505661,
          86.85216558909161,
          86.86728352312663,
          86.88240145716163,
          86.89751939119665,
          86.91263732523166,
          86.92775525926668,
          86.94287319330168,
          86.9579911273367,
          86.9731090613717,
          86.98822699540672,
          87.00334492944174,
          87.01846286347674,
          87.03358079751176,
          87.04869873154676,
          87.06381666558178,
          87.07893459961679,
          87.0940525336518,
          87.10917046768681,
          87.12428840172183,
          87.13940633575683,
          87.15452426979185,
          87.16964220382687,
          87.18476013786187,
          87.19987807189689,
          87.2149960059319,
          87.23011393996691,
          87.24523187400192,
          87.26034980803693,
          87.27546774207194,
          87.29058567610696,
          87.30570361014196,
          87.32082154417698,
          87.335939478212,
          87.351057412247,
          87.36617534628202,
          87.38129328031702,
          87.39641121435204,
          87.41152914838705,
          87.42664708242206,
          87.44176501645707,
          87.45688295049209,
          87.47200088452709,
          87.48711881856211
         ],
         "y": [
          0.9949999999999999,
          0.9941877920630484,
          0.9932607735929951,
          0.992205648448879,
          0.9910080406408002,
          0.9896524737310048,
          0.9881223603065268,
          0.9864000030040841,
          0.984466608559006,
          0.9823023163097904,
          0.979886242515977,
          0.9771965417362692,
          0.9742104863650779,
          0.970904565237276,
          0.9672546019832162,
          0.9632358935496274,
          0.9588233689987765,
          0.9539917683616758,
          0.9487158409548807,
          0.9429705621807829,
          0.9367313674238884,
          0.9299744012392215,
          0.922676779611093,
          0.9148168626515671,
          0.9063745347169907,
          0.89733148855906,
          0.8876715098040664,
          0.877380757780146,
          0.8664480384983437,
          0.8548650654458843,
          0.8426267037800734,
          0.8297311935212595,
          0.8161803474418865,
          0.8019797195351859,
          0.7871387402249372,
          0.7716708148432231,
          0.7555933823541159,
          0.7389279318307003,
          0.7216999747921341,
          0.703938972167874,
          0.6856782153623596,
          0.6669546616353288,
          0.6478087247712254,
          0.6282840227734517,
          0.6084270850655741,
          0.58828702239843,
          0.5679151633301727,
          0.5473646617526434,
          0.5266900804670187,
          0.5059469562502722,
          0.48519135219611487,
          0.4644794033444264,
          0.4438668617346434,
          0.4234086470196772,
          0.4031584086672011,
          0.3831681055473197,
          0.3634876083753289,
          0.344164330045011,
          0.32524288836876303,
          0.3067648051438504,
          0.2887682448054987,
          0.2712877952225867,
          0.25435429245454144,
          0.23799469053880162,
          0.22223197662842886,
          0.20708513106968574,
          0.19256913131071096,
          0.17869499788115206,
          0.16546988008828023,
          0.15289717855047114,
          0.14097670123958372,
          0.12970484933712334,
          0.11907482892865384,
          0.1090768843669846,
          0.09969854902891839,
          0.09092490916709717,
          0.08273887661622803,
          0.0751214662433155,
          0.06805207422868909,
          0.06150875351877216,
          0.055468483094885834,
          0.04990742804388171,
          0.04480118778697173,
          0.04012503021281799,
          0.03585410985971327,
          0.031963668691656566,
          0.028429218404666834,
          0.02522670357680379,
          0.022332645330632173,
          0.019724265505710714,
          0.017379591636320302,
          0.015277543293559903,
          0.013398000578568103,
          0.011721855744327714,
          0.010231049077143561,
          0.00890859028608415,
          0.007738566731338659,
          0.006706139872254657,
          0.005797531335899442,
          0.0050000000000002265
         ]
        }
       ],
       "layout": {
        "plot_bgcolor": "white",
        "template": {
         "data": {
          "bar": [
           {
            "error_x": {
             "color": "#2a3f5f"
            },
            "error_y": {
             "color": "#2a3f5f"
            },
            "marker": {
             "line": {
              "color": "#E5ECF6",
              "width": 0.5
             }
            },
            "type": "bar"
           }
          ],
          "barpolar": [
           {
            "marker": {
             "line": {
              "color": "#E5ECF6",
              "width": 0.5
             }
            },
            "type": "barpolar"
           }
          ],
          "carpet": [
           {
            "aaxis": {
             "endlinecolor": "#2a3f5f",
             "gridcolor": "white",
             "linecolor": "white",
             "minorgridcolor": "white",
             "startlinecolor": "#2a3f5f"
            },
            "baxis": {
             "endlinecolor": "#2a3f5f",
             "gridcolor": "white",
             "linecolor": "white",
             "minorgridcolor": "white",
             "startlinecolor": "#2a3f5f"
            },
            "type": "carpet"
           }
          ],
          "choropleth": [
           {
            "colorbar": {
             "outlinewidth": 0,
             "ticks": ""
            },
            "type": "choropleth"
           }
          ],
          "contour": [
           {
            "colorbar": {
             "outlinewidth": 0,
             "ticks": ""
            },
            "colorscale": [
             [
              0,
              "#0d0887"
             ],
             [
              0.1111111111111111,
              "#46039f"
             ],
             [
              0.2222222222222222,
              "#7201a8"
             ],
             [
              0.3333333333333333,
              "#9c179e"
             ],
             [
              0.4444444444444444,
              "#bd3786"
             ],
             [
              0.5555555555555556,
              "#d8576b"
             ],
             [
              0.6666666666666666,
              "#ed7953"
             ],
             [
              0.7777777777777778,
              "#fb9f3a"
             ],
             [
              0.8888888888888888,
              "#fdca26"
             ],
             [
              1,
              "#f0f921"
             ]
            ],
            "type": "contour"
           }
          ],
          "contourcarpet": [
           {
            "colorbar": {
             "outlinewidth": 0,
             "ticks": ""
            },
            "type": "contourcarpet"
           }
          ],
          "heatmap": [
           {
            "colorbar": {
             "outlinewidth": 0,
             "ticks": ""
            },
            "colorscale": [
             [
              0,
              "#0d0887"
             ],
             [
              0.1111111111111111,
              "#46039f"
             ],
             [
              0.2222222222222222,
              "#7201a8"
             ],
             [
              0.3333333333333333,
              "#9c179e"
             ],
             [
              0.4444444444444444,
              "#bd3786"
             ],
             [
              0.5555555555555556,
              "#d8576b"
             ],
             [
              0.6666666666666666,
              "#ed7953"
             ],
             [
              0.7777777777777778,
              "#fb9f3a"
             ],
             [
              0.8888888888888888,
              "#fdca26"
             ],
             [
              1,
              "#f0f921"
             ]
            ],
            "type": "heatmap"
           }
          ],
          "heatmapgl": [
           {
            "colorbar": {
             "outlinewidth": 0,
             "ticks": ""
            },
            "colorscale": [
             [
              0,
              "#0d0887"
             ],
             [
              0.1111111111111111,
              "#46039f"
             ],
             [
              0.2222222222222222,
              "#7201a8"
             ],
             [
              0.3333333333333333,
              "#9c179e"
             ],
             [
              0.4444444444444444,
              "#bd3786"
             ],
             [
              0.5555555555555556,
              "#d8576b"
             ],
             [
              0.6666666666666666,
              "#ed7953"
             ],
             [
              0.7777777777777778,
              "#fb9f3a"
             ],
             [
              0.8888888888888888,
              "#fdca26"
             ],
             [
              1,
              "#f0f921"
             ]
            ],
            "type": "heatmapgl"
           }
          ],
          "histogram": [
           {
            "marker": {
             "colorbar": {
              "outlinewidth": 0,
              "ticks": ""
             }
            },
            "type": "histogram"
           }
          ],
          "histogram2d": [
           {
            "colorbar": {
             "outlinewidth": 0,
             "ticks": ""
            },
            "colorscale": [
             [
              0,
              "#0d0887"
             ],
             [
              0.1111111111111111,
              "#46039f"
             ],
             [
              0.2222222222222222,
              "#7201a8"
             ],
             [
              0.3333333333333333,
              "#9c179e"
             ],
             [
              0.4444444444444444,
              "#bd3786"
             ],
             [
              0.5555555555555556,
              "#d8576b"
             ],
             [
              0.6666666666666666,
              "#ed7953"
             ],
             [
              0.7777777777777778,
              "#fb9f3a"
             ],
             [
              0.8888888888888888,
              "#fdca26"
             ],
             [
              1,
              "#f0f921"
             ]
            ],
            "type": "histogram2d"
           }
          ],
          "histogram2dcontour": [
           {
            "colorbar": {
             "outlinewidth": 0,
             "ticks": ""
            },
            "colorscale": [
             [
              0,
              "#0d0887"
             ],
             [
              0.1111111111111111,
              "#46039f"
             ],
             [
              0.2222222222222222,
              "#7201a8"
             ],
             [
              0.3333333333333333,
              "#9c179e"
             ],
             [
              0.4444444444444444,
              "#bd3786"
             ],
             [
              0.5555555555555556,
              "#d8576b"
             ],
             [
              0.6666666666666666,
              "#ed7953"
             ],
             [
              0.7777777777777778,
              "#fb9f3a"
             ],
             [
              0.8888888888888888,
              "#fdca26"
             ],
             [
              1,
              "#f0f921"
             ]
            ],
            "type": "histogram2dcontour"
           }
          ],
          "mesh3d": [
           {
            "colorbar": {
             "outlinewidth": 0,
             "ticks": ""
            },
            "type": "mesh3d"
           }
          ],
          "parcoords": [
           {
            "line": {
             "colorbar": {
              "outlinewidth": 0,
              "ticks": ""
             }
            },
            "type": "parcoords"
           }
          ],
          "pie": [
           {
            "automargin": true,
            "type": "pie"
           }
          ],
          "scatter": [
           {
            "marker": {
             "colorbar": {
              "outlinewidth": 0,
              "ticks": ""
             }
            },
            "type": "scatter"
           }
          ],
          "scatter3d": [
           {
            "line": {
             "colorbar": {
              "outlinewidth": 0,
              "ticks": ""
             }
            },
            "marker": {
             "colorbar": {
              "outlinewidth": 0,
              "ticks": ""
             }
            },
            "type": "scatter3d"
           }
          ],
          "scattercarpet": [
           {
            "marker": {
             "colorbar": {
              "outlinewidth": 0,
              "ticks": ""
             }
            },
            "type": "scattercarpet"
           }
          ],
          "scattergeo": [
           {
            "marker": {
             "colorbar": {
              "outlinewidth": 0,
              "ticks": ""
             }
            },
            "type": "scattergeo"
           }
          ],
          "scattergl": [
           {
            "marker": {
             "colorbar": {
              "outlinewidth": 0,
              "ticks": ""
             }
            },
            "type": "scattergl"
           }
          ],
          "scattermapbox": [
           {
            "marker": {
             "colorbar": {
              "outlinewidth": 0,
              "ticks": ""
             }
            },
            "type": "scattermapbox"
           }
          ],
          "scatterpolar": [
           {
            "marker": {
             "colorbar": {
              "outlinewidth": 0,
              "ticks": ""
             }
            },
            "type": "scatterpolar"
           }
          ],
          "scatterpolargl": [
           {
            "marker": {
             "colorbar": {
              "outlinewidth": 0,
              "ticks": ""
             }
            },
            "type": "scatterpolargl"
           }
          ],
          "scatterternary": [
           {
            "marker": {
             "colorbar": {
              "outlinewidth": 0,
              "ticks": ""
             }
            },
            "type": "scatterternary"
           }
          ],
          "surface": [
           {
            "colorbar": {
             "outlinewidth": 0,
             "ticks": ""
            },
            "colorscale": [
             [
              0,
              "#0d0887"
             ],
             [
              0.1111111111111111,
              "#46039f"
             ],
             [
              0.2222222222222222,
              "#7201a8"
             ],
             [
              0.3333333333333333,
              "#9c179e"
             ],
             [
              0.4444444444444444,
              "#bd3786"
             ],
             [
              0.5555555555555556,
              "#d8576b"
             ],
             [
              0.6666666666666666,
              "#ed7953"
             ],
             [
              0.7777777777777778,
              "#fb9f3a"
             ],
             [
              0.8888888888888888,
              "#fdca26"
             ],
             [
              1,
              "#f0f921"
             ]
            ],
            "type": "surface"
           }
          ],
          "table": [
           {
            "cells": {
             "fill": {
              "color": "#EBF0F8"
             },
             "line": {
              "color": "white"
             }
            },
            "header": {
             "fill": {
              "color": "#C8D4E3"
             },
             "line": {
              "color": "white"
             }
            },
            "type": "table"
           }
          ]
         },
         "layout": {
          "annotationdefaults": {
           "arrowcolor": "#2a3f5f",
           "arrowhead": 0,
           "arrowwidth": 1
          },
          "coloraxis": {
           "colorbar": {
            "outlinewidth": 0,
            "ticks": ""
           }
          },
          "colorscale": {
           "diverging": [
            [
             0,
             "#8e0152"
            ],
            [
             0.1,
             "#c51b7d"
            ],
            [
             0.2,
             "#de77ae"
            ],
            [
             0.3,
             "#f1b6da"
            ],
            [
             0.4,
             "#fde0ef"
            ],
            [
             0.5,
             "#f7f7f7"
            ],
            [
             0.6,
             "#e6f5d0"
            ],
            [
             0.7,
             "#b8e186"
            ],
            [
             0.8,
             "#7fbc41"
            ],
            [
             0.9,
             "#4d9221"
            ],
            [
             1,
             "#276419"
            ]
           ],
           "sequential": [
            [
             0,
             "#0d0887"
            ],
            [
             0.1111111111111111,
             "#46039f"
            ],
            [
             0.2222222222222222,
             "#7201a8"
            ],
            [
             0.3333333333333333,
             "#9c179e"
            ],
            [
             0.4444444444444444,
             "#bd3786"
            ],
            [
             0.5555555555555556,
             "#d8576b"
            ],
            [
             0.6666666666666666,
             "#ed7953"
            ],
            [
             0.7777777777777778,
             "#fb9f3a"
            ],
            [
             0.8888888888888888,
             "#fdca26"
            ],
            [
             1,
             "#f0f921"
            ]
           ],
           "sequentialminus": [
            [
             0,
             "#0d0887"
            ],
            [
             0.1111111111111111,
             "#46039f"
            ],
            [
             0.2222222222222222,
             "#7201a8"
            ],
            [
             0.3333333333333333,
             "#9c179e"
            ],
            [
             0.4444444444444444,
             "#bd3786"
            ],
            [
             0.5555555555555556,
             "#d8576b"
            ],
            [
             0.6666666666666666,
             "#ed7953"
            ],
            [
             0.7777777777777778,
             "#fb9f3a"
            ],
            [
             0.8888888888888888,
             "#fdca26"
            ],
            [
             1,
             "#f0f921"
            ]
           ]
          },
          "colorway": [
           "#636efa",
           "#EF553B",
           "#00cc96",
           "#ab63fa",
           "#FFA15A",
           "#19d3f3",
           "#FF6692",
           "#B6E880",
           "#FF97FF",
           "#FECB52"
          ],
          "font": {
           "color": "#2a3f5f"
          },
          "geo": {
           "bgcolor": "white",
           "lakecolor": "white",
           "landcolor": "#E5ECF6",
           "showlakes": true,
           "showland": true,
           "subunitcolor": "white"
          },
          "hoverlabel": {
           "align": "left"
          },
          "hovermode": "closest",
          "mapbox": {
           "style": "light"
          },
          "paper_bgcolor": "white",
          "plot_bgcolor": "#E5ECF6",
          "polar": {
           "angularaxis": {
            "gridcolor": "white",
            "linecolor": "white",
            "ticks": ""
           },
           "bgcolor": "#E5ECF6",
           "radialaxis": {
            "gridcolor": "white",
            "linecolor": "white",
            "ticks": ""
           }
          },
          "scene": {
           "xaxis": {
            "backgroundcolor": "#E5ECF6",
            "gridcolor": "white",
            "gridwidth": 2,
            "linecolor": "white",
            "showbackground": true,
            "ticks": "",
            "zerolinecolor": "white"
           },
           "yaxis": {
            "backgroundcolor": "#E5ECF6",
            "gridcolor": "white",
            "gridwidth": 2,
            "linecolor": "white",
            "showbackground": true,
            "ticks": "",
            "zerolinecolor": "white"
           },
           "zaxis": {
            "backgroundcolor": "#E5ECF6",
            "gridcolor": "white",
            "gridwidth": 2,
            "linecolor": "white",
            "showbackground": true,
            "ticks": "",
            "zerolinecolor": "white"
           }
          },
          "shapedefaults": {
           "line": {
            "color": "#2a3f5f"
           }
          },
          "ternary": {
           "aaxis": {
            "gridcolor": "white",
            "linecolor": "white",
            "ticks": ""
           },
           "baxis": {
            "gridcolor": "white",
            "linecolor": "white",
            "ticks": ""
           },
           "bgcolor": "#E5ECF6",
           "caxis": {
            "gridcolor": "white",
            "linecolor": "white",
            "ticks": ""
           }
          },
          "title": {
           "x": 0.05
          },
          "xaxis": {
           "automargin": true,
           "gridcolor": "white",
           "linecolor": "white",
           "ticks": "",
           "title": {
            "standoff": 15
           },
           "zerolinecolor": "white",
           "zerolinewidth": 2
          },
          "yaxis": {
           "automargin": true,
           "gridcolor": "white",
           "linecolor": "white",
           "ticks": "",
           "title": {
            "standoff": 15
           },
           "zerolinecolor": "white",
           "zerolinewidth": 2
          }
         }
        },
        "title": {
         "text": "Expected construction period after 300 iterations"
        },
        "xaxis": {
         "ticks": "inside",
         "title": {
          "text": "Expected construction period [days]"
         }
        },
        "yaxis": {
         "range": [
          0,
          1
         ],
         "ticks": "inside",
         "title": {
          "text": "Probability [-]"
         }
        }
       }
      }
     },
     "metadata": {}
    }
   ],
   "source": [
    "import plotly.graph_objects as go\n",
    "\n",
    "# Fit the lognormal distribution\n",
    "mean, sigma = (periods.mean(), np.std(periods))\n",
    "periods_fit = lognorm(mean, sigma)\n",
    "upper = periods_fit.ppf(0.995)\n",
    "lower = periods_fit.ppf(0.005)\n",
    "expected_time = np.linspace(lower, upper, 100)\n",
    "cdf = periods_fit.cdf(t)\n",
    "\n",
    "# Histogram object\n",
    "hist = go.Histogram(\n",
    "    x=periods,\n",
    "    xbins={'size': 0.025},\n",
    "    histnorm='probability',\n",
    "    cumulative={'enabled': True},\n",
    "    marker={'color': 'red', 'opacity': 0.75, 'line': {'color': 'black', 'width': 1}},\n",
    "    name='Cumulative distribution'\n",
    ")\n",
    "\n",
    "dist = go.Scatter(\n",
    "    x=expected_time,\n",
    "    y= 1 - cdf,\n",
    "    marker={'color': 'blue'},\n",
    "    name='Exceedance probability'\n",
    ")\n",
    "\n",
    "fig = go.Figure(data=[hist, dist])\n",
    "fig.update_layout(\n",
    "    title='Expected construction period after 300 iterations',\n",
    "    xaxis_title='Expected construction period [days]',\n",
    "    yaxis_title='Probability [-]',\n",
    "    plot_bgcolor='white',\n",
    "    xaxis=dict(ticks='inside'),\n",
    "    yaxis=dict(ticks='inside', range=[0, 1])\n",
    ")\n",
    "fig.show()"
   ]
  },
  {
   "cell_type": "code",
   "execution_count": null,
   "metadata": {},
   "outputs": [],
   "source": []
  }
 ]
}
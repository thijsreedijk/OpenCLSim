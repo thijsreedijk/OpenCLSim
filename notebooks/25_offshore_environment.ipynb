{
 "cells": [
  {
   "cell_type": "code",
   "execution_count": 97,
   "metadata": {},
   "outputs": [],
   "source": [
    "# Import dependencies\n",
    "import datetime\n",
    "import dateutil\n",
    "from openclsim.appendix import get_event_log\n",
    "import openclsim.model as model\n",
    "import openclsim.plugins as plugins\n",
    "import simpy"
   ]
  },
  {
   "cell_type": "code",
   "execution_count": 98,
   "metadata": {},
   "outputs": [],
   "source": [
    "'''\n",
    "This cell is only for illustration purposes. In this case we \n",
    "start of by generating sample data. Usually, this is provided\n",
    "for a site specific location.\n",
    "'''\n",
    "\n",
    "# Import extra dependencies \n",
    "import pandas as pd\n",
    "import numpy as np  \n",
    "\n",
    "# Generate sample dates\n",
    "dates = np.arange(\n",
    "    start=datetime.datetime(2021, 1, 1),\n",
    "    stop=datetime.datetime(2021, 1, 10),\n",
    "    step=datetime.timedelta(hours=1)\n",
    ")\n",
    "\n",
    "# Generate sample data\n",
    "hs = pd.DataFrame(\n",
    "    {'date': dates, 'hs': np.random.random(size=len(dates))}\n",
    ").set_index('date')\n",
    "\n",
    "tp = pd.DataFrame(\n",
    "    {'date': dates, 'tp': np.random.random(size=len(dates))}\n",
    ").set_index('date')\n",
    "\n",
    "# Export to .csv file\n",
    "hs.to_csv(\"./sample_data/hs.csv\")\n",
    "tp.to_csv(\"./sample_data/tp.csv\")"
   ]
  },
  {
   "cell_type": "code",
   "execution_count": 99,
   "metadata": {},
   "outputs": [],
   "source": [
    "# Create a simulation environment\n",
    "class SimulationEnvironment(object):\n",
    "    \"\"\"\n",
    "    A OpenCLSim simulation object.\n",
    "\n",
    "    Use the class methods to define the activities and start the\n",
    "    simulation. In this example, a basic activity is modelled using \n",
    "    the `model.BasicActivity` class and the length of the activity is\n",
    "    extended using a random delay with the `model.HasDelayPlugin`. For\n",
    "    further reference, check the `DelayBasicActivity` class below.\n",
    "\n",
    "    Parameters\n",
    "    ----------\n",
    "        start_date: datetime.datetime\n",
    "            A datetime object specifying the simulation start date.\n",
    "    \"\"\"\n",
    "    def __init__(self, start_date: datetime.datetime):\n",
    "\n",
    "        # Define start date and time of simulation\n",
    "        self.start_date = start_date\n",
    "        start_utc = start_date.replace(tzinfo=dateutil.tz.UTC)\n",
    "        start_epoch = start_utc.timestamp()\n",
    "\n",
    "        # Initialise a SimPy simulation environment\n",
    "        self.env = simpy.Environment(initial_time=start_epoch)\n",
    "        self.registry = {}\n",
    "\n",
    "        # Create offshore env\n",
    "        self.oe = plugins.OffshoreEnvironment()\n",
    "        self.oe.store_information(var='hs', filename='./sample_data/hs.csv')\n",
    "        self.oe.store_information(var='tp', filename='./sample_data/tp.csv')\n",
    "\n",
    "    def define_activities(self):\n",
    "        \"\"\"Use this function to define your activities.\"\"\"\n",
    "\n",
    "        # Define activity\n",
    "        activity = BasicActivity(\n",
    "            env=self.env, \n",
    "            registry=self.registry,\n",
    "            name=\"A basic activity\",\n",
    "            limit_expr=lambda hs, tp: (hs > 0.5) | (tp > 0.5),\n",
    "            offshore_environment=self.oe,\n",
    "            duration=3600 * 3\n",
    "        )\n",
    "\n",
    "        # Register the activities\n",
    "        model.register_processes([activity]) \n",
    "        \n",
    "        # Return the base activity for logging purposes\n",
    "        return [activity]  \n",
    "        \n",
    "    def execute_simulation(self):\n",
    "        \"\"\"Function starts the simulation.\"\"\"\n",
    "        self.activities = self.define_activities()\n",
    "        self.env.run()\n",
    "        return 'SUCCESSFUL'\n",
    "\n",
    "    @property\n",
    "    def event_log(self):\n",
    "        \"\"\"Function returns the event log.\"\"\"\n",
    "        return get_event_log(activity_list=self.activities)\n",
    "\n",
    "    @property\n",
    "    def project_length(self):\n",
    "        \"\"\"Function returns the project length.\"\"\"\n",
    "        log = self.event_log\n",
    "        dt = (log.Timestamp.iloc[-1] - log.Timestamp.iloc[0])\n",
    "        return dt.total_seconds() / (3600)\n",
    "\n",
    "\n",
    "class BasicActivity(plugins.HasRequestWindowPluginActivity, model.BasicActivity):\n",
    "    def __init__(self, **kwargs):\n",
    "        super().__init__(**kwargs)"
   ]
  },
  {
   "cell_type": "code",
   "execution_count": 100,
   "metadata": {},
   "outputs": [
    {
     "output_type": "execute_result",
     "data": {
      "text/plain": [
       "            Timestamp ActivityState       Description  \\\n",
       "0 2021-01-01 00:00:00    WAIT_START  A basic activity   \n",
       "1 2021-01-02 11:00:00     WAIT_STOP  A basic activity   \n",
       "2 2021-01-02 11:00:00         START  A basic activity   \n",
       "3 2021-01-02 14:00:00          STOP  A basic activity   \n",
       "\n",
       "                             ActivityID  \n",
       "0  c79cc044-029d-40c1-a204-1def918d247c  \n",
       "1  c79cc044-029d-40c1-a204-1def918d247c  \n",
       "2  c79cc044-029d-40c1-a204-1def918d247c  \n",
       "3  c79cc044-029d-40c1-a204-1def918d247c  "
      ],
      "text/html": "<div>\n<style scoped>\n    .dataframe tbody tr th:only-of-type {\n        vertical-align: middle;\n    }\n\n    .dataframe tbody tr th {\n        vertical-align: top;\n    }\n\n    .dataframe thead th {\n        text-align: right;\n    }\n</style>\n<table border=\"1\" class=\"dataframe\">\n  <thead>\n    <tr style=\"text-align: right;\">\n      <th></th>\n      <th>Timestamp</th>\n      <th>ActivityState</th>\n      <th>Description</th>\n      <th>ActivityID</th>\n    </tr>\n  </thead>\n  <tbody>\n    <tr>\n      <th>0</th>\n      <td>2021-01-01 00:00:00</td>\n      <td>WAIT_START</td>\n      <td>A basic activity</td>\n      <td>c79cc044-029d-40c1-a204-1def918d247c</td>\n    </tr>\n    <tr>\n      <th>1</th>\n      <td>2021-01-02 11:00:00</td>\n      <td>WAIT_STOP</td>\n      <td>A basic activity</td>\n      <td>c79cc044-029d-40c1-a204-1def918d247c</td>\n    </tr>\n    <tr>\n      <th>2</th>\n      <td>2021-01-02 11:00:00</td>\n      <td>START</td>\n      <td>A basic activity</td>\n      <td>c79cc044-029d-40c1-a204-1def918d247c</td>\n    </tr>\n    <tr>\n      <th>3</th>\n      <td>2021-01-02 14:00:00</td>\n      <td>STOP</td>\n      <td>A basic activity</td>\n      <td>c79cc044-029d-40c1-a204-1def918d247c</td>\n    </tr>\n  </tbody>\n</table>\n</div>"
     },
     "metadata": {},
     "execution_count": 100
    }
   ],
   "source": [
    "sim = SimulationEnvironment(start_date=datetime.datetime(2021, 1, 1))\n",
    "res = sim.execute_simulation()\n",
    "sim.event_log"
   ]
  },
  {
   "cell_type": "code",
   "execution_count": null,
   "metadata": {},
   "outputs": [],
   "source": []
  }
 ],
 "metadata": {
  "kernelspec": {
   "display_name": "VanOord",
   "language": "python",
   "name": "vanoord"
  },
  "language_info": {
   "codemirror_mode": {
    "name": "ipython",
    "version": 3
   },
   "file_extension": ".py",
   "mimetype": "text/x-python",
   "name": "python",
   "nbconvert_exporter": "python",
   "pygments_lexer": "ipython3",
   "version": "3.8.5-final"
  }
 },
 "nbformat": 4,
 "nbformat_minor": 4
}
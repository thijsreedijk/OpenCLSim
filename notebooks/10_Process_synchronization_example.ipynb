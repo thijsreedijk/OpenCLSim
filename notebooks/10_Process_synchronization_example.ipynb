{
 "cells": [
  {
   "cell_type": "markdown",
   "metadata": {},
   "source": [
    "# Demo Process Synchronization\n",
    "Next to the synchronization of activities using controll structures like **while** and **sequence** used within a single process, OpenCLSim allows to synchronize different processes using **start_events**. Start_events can be specified using the expression language as documented to **delay** the execution of a process. Control structures do not delay the execution but explicitly start the execution when possible. The difference is very well visible when you compare the activity log in this demo with the one from the sequence demo."
   ]
  },
  {
   "cell_type": "code",
   "execution_count": 1,
   "metadata": {},
   "outputs": [],
   "source": [
    "import datetime, time\n",
    "import simpy\n",
    "\n",
    "import pandas as pd\n",
    "import openclsim.core as core\n",
    "import openclsim.model as model\n",
    "import openclsim.plot as plot\n",
    "\n",
    "# setup environment\n",
    "simulation_start = 0\n",
    "my_env = simpy.Environment(initial_time=simulation_start)\n",
    "registry = {}"
   ]
  },
  {
   "cell_type": "markdown",
   "metadata": {},
   "source": [
    "## Definition of two basic activities\n",
    "The two activities are started in parallel, but the execution of Activity2 is delayed until Activity1 has been completed. To easier see how the two activities are interrelated a reporting activity is added."
   ]
  },
  {
   "cell_type": "code",
   "execution_count": 2,
   "metadata": {},
   "outputs": [],
   "source": [
    "reporting_activity_data = {\n",
    "    \"env\": my_env,\n",
    "    \"name\": \"Reporting activity\",\n",
    "    \"ID\": \"6dbbbdf7-4589-11e9-bf3b-b469212bff5k\",  # For logging purposes\n",
    "    \"registry\": registry,\n",
    "    \"duration\": 0,\n",
    "    \"postpone_start\": False,\n",
    "}\n",
    "reporting_activity = model.BasicActivity(**reporting_activity_data)\n",
    "\n",
    "basic_activity_data= {\"env\"  : my_env,\n",
    "                      \"name\" : \"Activity1\",\n",
    "                      \"ID\":\"6dbbbdf7-4589-11e9-bf3b-b469212bff5b\",  # For logging purposes\n",
    "                      \"registry\": registry,\n",
    "                      \"additional_logs\": [reporting_activity],\n",
    "                      \"duration\" : 14}\n",
    "activity = model.BasicActivity(**basic_activity_data)\n",
    "basic_activity_data2= {\"env\"  : my_env,\n",
    "                      \"name\" : \"Activity2\",\n",
    "                      \"ID\":\"6dbbbdf7-4589-11e9-bf3b-b469212bff5c\",  # For logging purposes\n",
    "                      \"registry\": registry,\n",
    "                      \"additional_logs\": [reporting_activity],\n",
    "                      \"start_event\": [{\"type\":\"activity\", \"name\": \"Activity1\" , \"state\":\"done\"}],\n",
    "                      \"duration\" : 30}\n",
    "activity2 = model.BasicActivity(**basic_activity_data2)\n"
   ]
  },
  {
   "cell_type": "markdown",
   "metadata": {},
   "source": [
    "## Run simulation"
   ]
  },
  {
   "cell_type": "code",
   "execution_count": 3,
   "metadata": {},
   "outputs": [],
   "source": [
    "my_env.run()"
   ]
  },
  {
   "cell_type": "code",
   "execution_count": 4,
   "metadata": {},
   "outputs": [
    {
     "data": {
      "text/html": [
       "<div>\n",
       "<style scoped>\n",
       "    .dataframe tbody tr th:only-of-type {\n",
       "        vertical-align: middle;\n",
       "    }\n",
       "\n",
       "    .dataframe tbody tr th {\n",
       "        vertical-align: top;\n",
       "    }\n",
       "\n",
       "    .dataframe thead th {\n",
       "        text-align: right;\n",
       "    }\n",
       "</style>\n",
       "<table border=\"1\" class=\"dataframe\">\n",
       "  <thead>\n",
       "    <tr style=\"text-align: right;\">\n",
       "      <th></th>\n",
       "      <th>Activity</th>\n",
       "      <th>Timestamp</th>\n",
       "      <th>ActivityState</th>\n",
       "    </tr>\n",
       "  </thead>\n",
       "  <tbody>\n",
       "    <tr>\n",
       "      <th>0</th>\n",
       "      <td>Reporting activity</td>\n",
       "      <td>1970-01-01 00:00:00</td>\n",
       "      <td>START</td>\n",
       "    </tr>\n",
       "    <tr>\n",
       "      <th>1</th>\n",
       "      <td>Activity1</td>\n",
       "      <td>1970-01-01 00:00:00</td>\n",
       "      <td>START</td>\n",
       "    </tr>\n",
       "    <tr>\n",
       "      <th>2</th>\n",
       "      <td>Activity2</td>\n",
       "      <td>1970-01-01 00:00:00</td>\n",
       "      <td>WAIT_START</td>\n",
       "    </tr>\n",
       "    <tr>\n",
       "      <th>3</th>\n",
       "      <td>Reporting activity</td>\n",
       "      <td>1970-01-01 00:00:00</td>\n",
       "      <td>STOP</td>\n",
       "    </tr>\n",
       "    <tr>\n",
       "      <th>4</th>\n",
       "      <td>Activity1</td>\n",
       "      <td>1970-01-01 00:00:14</td>\n",
       "      <td>STOP</td>\n",
       "    </tr>\n",
       "    <tr>\n",
       "      <th>5</th>\n",
       "      <td>Activity2</td>\n",
       "      <td>1970-01-01 00:00:14</td>\n",
       "      <td>WAIT_STOP</td>\n",
       "    </tr>\n",
       "    <tr>\n",
       "      <th>6</th>\n",
       "      <td>Activity2</td>\n",
       "      <td>1970-01-01 00:00:14</td>\n",
       "      <td>START</td>\n",
       "    </tr>\n",
       "    <tr>\n",
       "      <th>7</th>\n",
       "      <td>Activity2</td>\n",
       "      <td>1970-01-01 00:00:44</td>\n",
       "      <td>STOP</td>\n",
       "    </tr>\n",
       "  </tbody>\n",
       "</table>\n",
       "</div>"
      ],
      "text/plain": [
       "             Activity           Timestamp ActivityState\n",
       "0  Reporting activity 1970-01-01 00:00:00         START\n",
       "1           Activity1 1970-01-01 00:00:00         START\n",
       "2           Activity2 1970-01-01 00:00:00    WAIT_START\n",
       "3  Reporting activity 1970-01-01 00:00:00          STOP\n",
       "4           Activity1 1970-01-01 00:00:14          STOP\n",
       "5           Activity2 1970-01-01 00:00:14     WAIT_STOP\n",
       "6           Activity2 1970-01-01 00:00:14         START\n",
       "7           Activity2 1970-01-01 00:00:44          STOP"
      ]
     },
     "metadata": {},
     "output_type": "display_data"
    }
   ],
   "source": [
    "display(plot.get_log_dataframe(reporting_activity, [activity, activity2, reporting_activity]))"
   ]
  },
  {
   "cell_type": "markdown",
   "metadata": {},
   "source": [
    "Both activities start at the same time. Activity2 gets into a waiting state, which ends, when Activity1 ends. Then Activity2 is executed."
   ]
  }
 ],
 "metadata": {
  "kernelspec": {
   "display_name": "Python 3",
   "language": "python",
   "name": "python3"
  },
  "language_info": {
   "codemirror_mode": {
    "name": "ipython",
    "version": 3
   },
   "file_extension": ".py",
   "mimetype": "text/x-python",
   "name": "python",
   "nbconvert_exporter": "python",
   "pygments_lexer": "ipython3",
   "version": "3.7.3"
  }
 },
 "nbformat": 4,
 "nbformat_minor": 2
}

{
 "metadata": {
  "language_info": {
   "codemirror_mode": {
    "name": "ipython",
    "version": 3
   },
   "file_extension": ".py",
   "mimetype": "text/x-python",
   "name": "python",
   "nbconvert_exporter": "python",
   "pygments_lexer": "ipython3",
   "version": "3.8.5-final"
  },
  "orig_nbformat": 2,
  "kernelspec": {
   "name": "python3",
   "display_name": "Python 3",
   "language": "python"
  }
 },
 "nbformat": 4,
 "nbformat_minor": 2,
 "cells": [
  {
   "cell_type": "code",
   "execution_count": 1,
   "metadata": {},
   "outputs": [],
   "source": [
    "# Import dependencies\n",
    "import datetime\n",
    "import dateutil\n",
    "from openclsim.appendix import get_event_log\n",
    "import openclsim.model as model\n",
    "import openclsim.plugins as plugins\n",
    "import simpy\n",
    "import numpy as np"
   ]
  },
  {
   "cell_type": "code",
   "execution_count": 2,
   "metadata": {},
   "outputs": [],
   "source": [
    "# Create a simulation environment\n",
    "class SimulationEnvironment(object):\n",
    "    \"\"\"\n",
    "    A OpenCLSim simulation object.\n",
    "\n",
    "    Use the class methods to define the activities and start the\n",
    "    simulation. In this example, a basic activity is modelled using \n",
    "    the `model.BasicActivity` class and the length of the activity is\n",
    "    extended using a random delay with the `model.HasDelayPlugin`. For\n",
    "    further reference, check the `DelayBasicActivity` class below.\n",
    "\n",
    "    Parameters\n",
    "    ----------\n",
    "        start_date: datetime.datetime\n",
    "            A datetime object specifying the simulation start date.\n",
    "    \"\"\"\n",
    "    def __init__(self, start_date: datetime.datetime):\n",
    "\n",
    "        # Define start date and time of simulation\n",
    "        self.start_date = start_date\n",
    "        start_utc = start_date.replace(tzinfo=dateutil.tz.UTC)\n",
    "        start_epoch = start_utc.timestamp()\n",
    "\n",
    "        # Initialise a SimPy simulation environment\n",
    "        self.env = simpy.Environment(initial_time=start_epoch)\n",
    "        self.registry = {}\n",
    "\n",
    "    def define_activities(self):\n",
    "        \"\"\"Use this function to define your activities.\"\"\"\n",
    "\n",
    "        # Register the activities\n",
    "        model.register_processes([...]) \n",
    "        \n",
    "        # Return the base activity for logging purposes\n",
    "        return [activity]  \n",
    "        \n",
    "    def execute_simulation(self):\n",
    "        \"\"\"Function starts the simulation.\"\"\"\n",
    "        self.activities = self.define_activities()\n",
    "        self.env.run(until=self.env.now + 60 * 61) # Loop till an hour has passed.\n",
    "        return 'SUCCESSFUL'\n",
    "\n",
    "    @property\n",
    "    def event_log(self):\n",
    "        \"\"\"Function returns the event log.\"\"\"\n",
    "        return get_event_log(activity_list=self.activities)\n",
    "\n",
    "    @property\n",
    "    def project_length(self):\n",
    "        \"\"\"Function returns the project length.\"\"\"\n",
    "        log = self.event_log\n",
    "        dt = (log.Timestamp.iloc[-1] - log.Timestamp.iloc[0])\n",
    "        return dt.total_seconds() / (3600)"
   ]
  },
  {
   "cell_type": "code",
   "execution_count": 6,
   "metadata": {},
   "outputs": [],
   "source": [
    "class BasicActivity(plugins.HasRequestWindowPluginActivity, model.BasicActivity):\n",
    "    def __init__(self, **kwargs):\n",
    "        super().__init__(**kwargs)\n",
    "\n",
    "# Create Environment\n",
    "start_date = datetime.datetime(2021, 1, 1)\n",
    "start_utc = start_date.replace(tzinfo=dateutil.tz.UTC)\n",
    "start_epoch = start_utc.timestamp()\n",
    "env = simpy.Environment(initial_time=start_epoch)\n",
    "registry = {}\n",
    "\n",
    "# Create offshore env\n",
    "oe = plugins.OffshoreEnvironment()\n",
    "oe.store_information(var='hs', filename='test.csv')\n",
    "oe.store_information(var='tp', filename='test.csv')\n",
    "\n",
    "# Define activity\n",
    "activity = BasicActivity(\n",
    "    env=env, \n",
    "    registry=registry,\n",
    "    name=\"A basic activity\",\n",
    "    limit_expr=lambda hs, tp: hs > 0.5,\n",
    "    offshore_environment=oe,\n",
    "    duration=3600\n",
    ")\n",
    "\n",
    "# Register activity\n",
    "model.register_processes([activity])\n",
    "\n",
    "# Run sim\n",
    "env.run()"
   ]
  },
  {
   "cell_type": "code",
   "execution_count": 7,
   "metadata": {},
   "outputs": [
    {
     "output_type": "execute_result",
     "data": {
      "text/plain": [
       "            Timestamp ActivityState       Description  \\\n",
       "0 2021-01-01 00:00:00    WAIT_START  A basic activity   \n",
       "1 2021-01-01 01:00:00     WAIT_STOP  A basic activity   \n",
       "2 2021-01-01 01:00:00         START  A basic activity   \n",
       "3 2021-01-01 02:00:00          STOP  A basic activity   \n",
       "\n",
       "                             ActivityID  \n",
       "0  42c8f990-cfd9-457a-9a56-e49f9db3a8cc  \n",
       "1  42c8f990-cfd9-457a-9a56-e49f9db3a8cc  \n",
       "2  42c8f990-cfd9-457a-9a56-e49f9db3a8cc  \n",
       "3  42c8f990-cfd9-457a-9a56-e49f9db3a8cc  "
      ],
      "text/html": "<div>\n<style scoped>\n    .dataframe tbody tr th:only-of-type {\n        vertical-align: middle;\n    }\n\n    .dataframe tbody tr th {\n        vertical-align: top;\n    }\n\n    .dataframe thead th {\n        text-align: right;\n    }\n</style>\n<table border=\"1\" class=\"dataframe\">\n  <thead>\n    <tr style=\"text-align: right;\">\n      <th></th>\n      <th>Timestamp</th>\n      <th>ActivityState</th>\n      <th>Description</th>\n      <th>ActivityID</th>\n    </tr>\n  </thead>\n  <tbody>\n    <tr>\n      <th>0</th>\n      <td>2021-01-01 00:00:00</td>\n      <td>WAIT_START</td>\n      <td>A basic activity</td>\n      <td>42c8f990-cfd9-457a-9a56-e49f9db3a8cc</td>\n    </tr>\n    <tr>\n      <th>1</th>\n      <td>2021-01-01 01:00:00</td>\n      <td>WAIT_STOP</td>\n      <td>A basic activity</td>\n      <td>42c8f990-cfd9-457a-9a56-e49f9db3a8cc</td>\n    </tr>\n    <tr>\n      <th>2</th>\n      <td>2021-01-01 01:00:00</td>\n      <td>START</td>\n      <td>A basic activity</td>\n      <td>42c8f990-cfd9-457a-9a56-e49f9db3a8cc</td>\n    </tr>\n    <tr>\n      <th>3</th>\n      <td>2021-01-01 02:00:00</td>\n      <td>STOP</td>\n      <td>A basic activity</td>\n      <td>42c8f990-cfd9-457a-9a56-e49f9db3a8cc</td>\n    </tr>\n  </tbody>\n</table>\n</div>"
     },
     "metadata": {},
     "execution_count": 7
    }
   ],
   "source": [
    "get_event_log(activity_list=[activity])"
   ]
  },
  {
   "cell_type": "code",
   "execution_count": 8,
   "metadata": {},
   "outputs": [
    {
     "output_type": "execute_result",
     "data": {
      "text/plain": [
       "                  hs        tp  limit_exceeded  block\n",
       "date                                                 \n",
       "2021-01-01  0.551281  0.551281            True      1\n",
       "2021-01-02  0.405864  0.405864           False      2\n",
       "2021-01-03  0.415363  0.415363           False      2\n",
       "2021-01-04  0.041528  0.041528           False      2\n",
       "2021-01-05  0.444675  0.444675           False      2\n",
       "...              ...       ...             ...    ...\n",
       "2021-12-27  0.994670  0.994670            True    183\n",
       "2021-12-28  0.123720  0.123720           False    184\n",
       "2021-12-29  0.610298  0.610298            True    185\n",
       "2021-12-30  0.235019  0.235019           False    186\n",
       "2021-12-31  0.877336  0.877336            True    187\n",
       "\n",
       "[365 rows x 4 columns]"
      ],
      "text/html": "<div>\n<style scoped>\n    .dataframe tbody tr th:only-of-type {\n        vertical-align: middle;\n    }\n\n    .dataframe tbody tr th {\n        vertical-align: top;\n    }\n\n    .dataframe thead th {\n        text-align: right;\n    }\n</style>\n<table border=\"1\" class=\"dataframe\">\n  <thead>\n    <tr style=\"text-align: right;\">\n      <th></th>\n      <th>hs</th>\n      <th>tp</th>\n      <th>limit_exceeded</th>\n      <th>block</th>\n    </tr>\n    <tr>\n      <th>date</th>\n      <th></th>\n      <th></th>\n      <th></th>\n      <th></th>\n    </tr>\n  </thead>\n  <tbody>\n    <tr>\n      <th>2021-01-01</th>\n      <td>0.551281</td>\n      <td>0.551281</td>\n      <td>True</td>\n      <td>1</td>\n    </tr>\n    <tr>\n      <th>2021-01-02</th>\n      <td>0.405864</td>\n      <td>0.405864</td>\n      <td>False</td>\n      <td>2</td>\n    </tr>\n    <tr>\n      <th>2021-01-03</th>\n      <td>0.415363</td>\n      <td>0.415363</td>\n      <td>False</td>\n      <td>2</td>\n    </tr>\n    <tr>\n      <th>2021-01-04</th>\n      <td>0.041528</td>\n      <td>0.041528</td>\n      <td>False</td>\n      <td>2</td>\n    </tr>\n    <tr>\n      <th>2021-01-05</th>\n      <td>0.444675</td>\n      <td>0.444675</td>\n      <td>False</td>\n      <td>2</td>\n    </tr>\n    <tr>\n      <th>...</th>\n      <td>...</td>\n      <td>...</td>\n      <td>...</td>\n      <td>...</td>\n    </tr>\n    <tr>\n      <th>2021-12-27</th>\n      <td>0.994670</td>\n      <td>0.994670</td>\n      <td>True</td>\n      <td>183</td>\n    </tr>\n    <tr>\n      <th>2021-12-28</th>\n      <td>0.123720</td>\n      <td>0.123720</td>\n      <td>False</td>\n      <td>184</td>\n    </tr>\n    <tr>\n      <th>2021-12-29</th>\n      <td>0.610298</td>\n      <td>0.610298</td>\n      <td>True</td>\n      <td>185</td>\n    </tr>\n    <tr>\n      <th>2021-12-30</th>\n      <td>0.235019</td>\n      <td>0.235019</td>\n      <td>False</td>\n      <td>186</td>\n    </tr>\n    <tr>\n      <th>2021-12-31</th>\n      <td>0.877336</td>\n      <td>0.877336</td>\n      <td>True</td>\n      <td>187</td>\n    </tr>\n  </tbody>\n</table>\n<p>365 rows × 4 columns</p>\n</div>"
     },
     "metadata": {},
     "execution_count": 8
    }
   ],
   "source": [
    "oe.df"
   ]
  },
  {
   "cell_type": "code",
   "execution_count": null,
   "metadata": {},
   "outputs": [],
   "source": []
  }
 ]
}
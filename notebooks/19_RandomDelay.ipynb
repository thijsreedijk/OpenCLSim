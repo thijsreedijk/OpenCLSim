{
 "metadata": {
  "language_info": {
   "codemirror_mode": {
    "name": "ipython",
    "version": 3
   },
   "file_extension": ".py",
   "mimetype": "text/x-python",
   "name": "python",
   "nbconvert_exporter": "python",
   "pygments_lexer": "ipython3",
   "version": "3.8.5-final"
  },
  "orig_nbformat": 2,
  "kernelspec": {
   "name": "python3",
   "display_name": "Python 3",
   "language": "python"
  }
 },
 "nbformat": 4,
 "nbformat_minor": 2,
 "cells": [
  {
   "source": [
    "# PROVIDE A RANDOM DELAY TO ACTIVITIES"
   ],
   "cell_type": "markdown",
   "metadata": {}
  },
  {
   "cell_type": "code",
   "execution_count": 48,
   "metadata": {},
   "outputs": [],
   "source": [
    "# Import dependencies\n",
    "import datetime\n",
    "import dateutil\n",
    "import openclsim.model as model\n",
    "import openclsim.plugins as plugins\n",
    "import pandas as pd\n",
    "import scipy.stats as st\n",
    "import simpy"
   ]
  },
  {
   "cell_type": "code",
   "execution_count": 63,
   "metadata": {},
   "outputs": [],
   "source": [
    "# Create a simulation environment\n",
    "class SimulationEnvironment(object):\n",
    "    \"\"\" A OpenCLSim simulation object.\n",
    "\n",
    "    Use the class methods to define the activities and start the\n",
    "    simulation. In this example, a basic activity is modelled using \n",
    "    the `model.BasicActivity` class and the length of the activity is\n",
    "    extended using a random delay with the `model.HasDelayPlugin`. For\n",
    "    further reference, check the `DelayBasicActivity` class below.\n",
    "\n",
    "    Parameters\n",
    "    ----------\n",
    "        start_date: datetime.datetime\n",
    "            A datetime object specifying the simulation start date.\n",
    "\n",
    "    \"\"\"\n",
    "\n",
    "\n",
    "    def __init__(self, start_date: datetime.datetime):\n",
    "\n",
    "        # Define start date and time of simulation\n",
    "        self.start_date = start_date\n",
    "        start_utc = start_date.replace(tzinfo=dateutil.tz.UTC)\n",
    "        start_epoch = start_utc.timestamp()\n",
    "\n",
    "        # Initialise a SimPy simulation environment\n",
    "        self.env = simpy.Environment(initial_time=start_epoch)\n",
    "\n",
    "    def define_activities(self):\n",
    "        \"\"\" Use this function to define your activities. \"\"\"\n",
    "\n",
    "        # In this example we define a basic activity\n",
    "        delay_by = st.uniform(loc=0, scale=1)  # The delay as RANDOM variable.\n",
    "        activity = DelayedBasicActivity(\n",
    "            env=self.env,  # The SimPy environment\n",
    "            duration=3600,  # The activity takes an hour\n",
    "            registry={} ,  # \n",
    "            name='delayed basic activity',  # Description\n",
    "            delay_percentage=delay_by,  # The delay in percentages\n",
    "            postpone_start=True  # For sequential or while activities \n",
    "        )\n",
    "\n",
    "        # We simply repeat the activity for demonstration purposes\n",
    "        sequence = model.SequentialActivity(\n",
    "            env=self.env,\n",
    "            name='sequential activity',\n",
    "            sub_processes=[activity, activity, activity],\n",
    "            registry={}\n",
    "        )\n",
    "\n",
    "        return [activity]\n",
    "\n",
    "    def execute_simulation(self):\n",
    "        \"\"\" Function starts the simulation. \"\"\"\n",
    "\n",
    "        self.activities = self.define_activities()\n",
    "        self.env.run()\n",
    "        return 'SUCCESSFUL'\n",
    "\n",
    "    @property\n",
    "    def event_log(self):\n",
    "        \"\"\" Function returns the event log \"\"\"\n",
    "        pass\n",
    "\n",
    "\n",
    "# Define the delayed basic activity using inheritance.\n",
    "class DelayedBasicActivity(plugins.HasDelayPlugin, model.BasicActivity):\n",
    "    def __init__(self, **kwargs):\n",
    "        super().__init__(**kwargs)"
   ]
  },
  {
   "cell_type": "code",
   "execution_count": 66,
   "metadata": {},
   "outputs": [
    {
     "output_type": "execute_result",
     "data": {
      "text/plain": [
       "                    Timestamp                            ActivityID  \\\n",
       "0  2021-01-01 00:00:00.000000  62fe0daf-a456-4aa3-bcbc-9d0b6a2a5c99   \n",
       "1  2021-01-01 01:00:00.000000  62fe0daf-a456-4aa3-bcbc-9d0b6a2a5c99   \n",
       "2  2021-01-01 01:00:00.000000  62fe0daf-a456-4aa3-bcbc-9d0b6a2a5c99   \n",
       "3  2021-01-01 01:00:21.362473  62fe0daf-a456-4aa3-bcbc-9d0b6a2a5c99   \n",
       "4  2021-01-01 01:00:21.362473  62fe0daf-a456-4aa3-bcbc-9d0b6a2a5c99   \n",
       "5  2021-01-01 02:00:21.362473  62fe0daf-a456-4aa3-bcbc-9d0b6a2a5c99   \n",
       "6  2021-01-01 02:00:21.362473  62fe0daf-a456-4aa3-bcbc-9d0b6a2a5c99   \n",
       "7  2021-01-01 02:00:32.394759  62fe0daf-a456-4aa3-bcbc-9d0b6a2a5c99   \n",
       "8  2021-01-01 02:00:32.394759  62fe0daf-a456-4aa3-bcbc-9d0b6a2a5c99   \n",
       "9  2021-01-01 03:00:32.394759  62fe0daf-a456-4aa3-bcbc-9d0b6a2a5c99   \n",
       "10 2021-01-01 03:00:32.394759  62fe0daf-a456-4aa3-bcbc-9d0b6a2a5c99   \n",
       "11 2021-01-01 03:00:42.006642  62fe0daf-a456-4aa3-bcbc-9d0b6a2a5c99   \n",
       "\n",
       "   ActivityState ObjectState                       ActivityLabel  \n",
       "0          START          {}                                  {}  \n",
       "1           STOP          {}                                  {}  \n",
       "2     WAIT_START          {}  {'type': 'plugin', 'ref': 'delay'}  \n",
       "3      WAIT_STOP          {}  {'type': 'plugin', 'ref': 'delay'}  \n",
       "4          START          {}                                  {}  \n",
       "5           STOP          {}                                  {}  \n",
       "6     WAIT_START          {}  {'type': 'plugin', 'ref': 'delay'}  \n",
       "7      WAIT_STOP          {}  {'type': 'plugin', 'ref': 'delay'}  \n",
       "8          START          {}                                  {}  \n",
       "9           STOP          {}                                  {}  \n",
       "10    WAIT_START          {}  {'type': 'plugin', 'ref': 'delay'}  \n",
       "11     WAIT_STOP          {}  {'type': 'plugin', 'ref': 'delay'}  "
      ],
      "text/html": "<div>\n<style scoped>\n    .dataframe tbody tr th:only-of-type {\n        vertical-align: middle;\n    }\n\n    .dataframe tbody tr th {\n        vertical-align: top;\n    }\n\n    .dataframe thead th {\n        text-align: right;\n    }\n</style>\n<table border=\"1\" class=\"dataframe\">\n  <thead>\n    <tr style=\"text-align: right;\">\n      <th></th>\n      <th>Timestamp</th>\n      <th>ActivityID</th>\n      <th>ActivityState</th>\n      <th>ObjectState</th>\n      <th>ActivityLabel</th>\n    </tr>\n  </thead>\n  <tbody>\n    <tr>\n      <th>0</th>\n      <td>2021-01-01 00:00:00.000000</td>\n      <td>62fe0daf-a456-4aa3-bcbc-9d0b6a2a5c99</td>\n      <td>START</td>\n      <td>{}</td>\n      <td>{}</td>\n    </tr>\n    <tr>\n      <th>1</th>\n      <td>2021-01-01 01:00:00.000000</td>\n      <td>62fe0daf-a456-4aa3-bcbc-9d0b6a2a5c99</td>\n      <td>STOP</td>\n      <td>{}</td>\n      <td>{}</td>\n    </tr>\n    <tr>\n      <th>2</th>\n      <td>2021-01-01 01:00:00.000000</td>\n      <td>62fe0daf-a456-4aa3-bcbc-9d0b6a2a5c99</td>\n      <td>WAIT_START</td>\n      <td>{}</td>\n      <td>{'type': 'plugin', 'ref': 'delay'}</td>\n    </tr>\n    <tr>\n      <th>3</th>\n      <td>2021-01-01 01:00:21.362473</td>\n      <td>62fe0daf-a456-4aa3-bcbc-9d0b6a2a5c99</td>\n      <td>WAIT_STOP</td>\n      <td>{}</td>\n      <td>{'type': 'plugin', 'ref': 'delay'}</td>\n    </tr>\n    <tr>\n      <th>4</th>\n      <td>2021-01-01 01:00:21.362473</td>\n      <td>62fe0daf-a456-4aa3-bcbc-9d0b6a2a5c99</td>\n      <td>START</td>\n      <td>{}</td>\n      <td>{}</td>\n    </tr>\n    <tr>\n      <th>5</th>\n      <td>2021-01-01 02:00:21.362473</td>\n      <td>62fe0daf-a456-4aa3-bcbc-9d0b6a2a5c99</td>\n      <td>STOP</td>\n      <td>{}</td>\n      <td>{}</td>\n    </tr>\n    <tr>\n      <th>6</th>\n      <td>2021-01-01 02:00:21.362473</td>\n      <td>62fe0daf-a456-4aa3-bcbc-9d0b6a2a5c99</td>\n      <td>WAIT_START</td>\n      <td>{}</td>\n      <td>{'type': 'plugin', 'ref': 'delay'}</td>\n    </tr>\n    <tr>\n      <th>7</th>\n      <td>2021-01-01 02:00:32.394759</td>\n      <td>62fe0daf-a456-4aa3-bcbc-9d0b6a2a5c99</td>\n      <td>WAIT_STOP</td>\n      <td>{}</td>\n      <td>{'type': 'plugin', 'ref': 'delay'}</td>\n    </tr>\n    <tr>\n      <th>8</th>\n      <td>2021-01-01 02:00:32.394759</td>\n      <td>62fe0daf-a456-4aa3-bcbc-9d0b6a2a5c99</td>\n      <td>START</td>\n      <td>{}</td>\n      <td>{}</td>\n    </tr>\n    <tr>\n      <th>9</th>\n      <td>2021-01-01 03:00:32.394759</td>\n      <td>62fe0daf-a456-4aa3-bcbc-9d0b6a2a5c99</td>\n      <td>STOP</td>\n      <td>{}</td>\n      <td>{}</td>\n    </tr>\n    <tr>\n      <th>10</th>\n      <td>2021-01-01 03:00:32.394759</td>\n      <td>62fe0daf-a456-4aa3-bcbc-9d0b6a2a5c99</td>\n      <td>WAIT_START</td>\n      <td>{}</td>\n      <td>{'type': 'plugin', 'ref': 'delay'}</td>\n    </tr>\n    <tr>\n      <th>11</th>\n      <td>2021-01-01 03:00:42.006642</td>\n      <td>62fe0daf-a456-4aa3-bcbc-9d0b6a2a5c99</td>\n      <td>WAIT_STOP</td>\n      <td>{}</td>\n      <td>{'type': 'plugin', 'ref': 'delay'}</td>\n    </tr>\n  </tbody>\n</table>\n</div>"
     },
     "metadata": {},
     "execution_count": 66
    }
   ],
   "source": [
    "sim = SimulationEnvironment(datetime.datetime(2021, 1, 1))\n",
    "res = sim.execute_simulation()\n",
    "pd.DataFrame(sim.activities[0].log)"
   ]
  },
  {
   "cell_type": "code",
   "execution_count": null,
   "metadata": {},
   "outputs": [],
   "source": []
  }
 ]
}
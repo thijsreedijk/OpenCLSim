{
 "cells": [
  {
   "cell_type": "markdown",
   "metadata": {},
   "source": [
    "# Demo MultiContainer with ShiftAmount Activity\n",
    "In certain scenarios it is important to distinguish which types of objects are available in a container. HasContainer does not provide this capability, while MultiContainer do. A MultiContainer represents a named set of containers. The number of allowed containers is limited by parameter **store_capacity**.\n",
    "For each container a name (**id_** property), a **capacity** and **level** is specified. \n",
    "A MultiContainer can be initialized with parameter **initials** as provided in the example for site and vessel configuration below."
   ]
  },
  {
   "cell_type": "code",
   "execution_count": 1,
   "metadata": {},
   "outputs": [],
   "source": [
    "import datetime, time\n",
    "import simpy\n",
    "\n",
    "import shapely.geometry\n",
    "\n",
    "import pandas as pd\n",
    "import openclsim.core as core\n",
    "import openclsim.model as model\n",
    "import openclsim.plot as plot\n",
    "\n",
    "# setup environment\n",
    "simulation_start = 0\n",
    "my_env = simpy.Environment(initial_time=simulation_start)\n",
    "registry = {}"
   ]
  },
  {
   "cell_type": "code",
   "execution_count": 2,
   "metadata": {},
   "outputs": [],
   "source": [
    "Site = type(\n",
    "    \"Site\",\n",
    "    (\n",
    "        core.Identifiable,\n",
    "        core.Log,\n",
    "        core.Locatable,\n",
    "        core.HasMultiContainer,\n",
    "        core.HasResource,\n",
    "    ),\n",
    "    {},\n",
    ")\n",
    "\n",
    "TransportProcessingResource = type(\n",
    "    \"TransportProcessingResource\",\n",
    "    (\n",
    "        core.Identifiable,\n",
    "        core.Log,\n",
    "        core.MultiContainerDependentMovable,\n",
    "        core.Processor,\n",
    "        core.HasResource,\n",
    "        core.LoadingFunction,\n",
    "        core.UnloadingFunction,\n",
    "    ),\n",
    "    {},\n",
    ")\n",
    "\n",
    "location_from_site = shapely.geometry.Point(4.18055556, 52.18664444)"
   ]
  },
  {
   "cell_type": "markdown",
   "metadata": {},
   "source": [
    "## Definition of Site with MultiContainer\n",
    "The clas HasContainer has now been replaced with HasMultiContainer. The **from_site** can contain four different container types, but right now contains only two: One called MP with a capacity of 10 and a level of 2 and one called TP with a capacity of 2 and a level of 0."
   ]
  },
  {
   "cell_type": "code",
   "execution_count": 3,
   "metadata": {},
   "outputs": [],
   "source": [
    "from_site = Site(\n",
    "    env=my_env,\n",
    "    name=\"Winlocatie\",\n",
    "    ID=\"6dbbbdf4-4589-11e9-a501-b469212bff5d\",\n",
    "    geometry=location_from_site,\n",
    "    store_capacity=4,\n",
    "    initials=[\n",
    "        {\"id\": \"MP\", \"level\": 2, \"capacity\": 10},\n",
    "        {\"id\": \"TP\", \"level\": 0, \"capacity\": 2},\n",
    "    ],\n",
    ")"
   ]
  },
  {
   "cell_type": "markdown",
   "metadata": {},
   "source": [
    "## Creation of Vessel with MultiContainer\n",
    "The class ContainerDependentMovable has been replaced with MultiContainerDependentMovable. The vessel has two containers, one for MPs and one for TPs, each with a capacity of two and a current level of zero."
   ]
  },
  {
   "cell_type": "code",
   "execution_count": 4,
   "metadata": {},
   "outputs": [],
   "source": [
    "hopper = TransportProcessingResource(\n",
    "    env=my_env,\n",
    "    name=\"Hopper 01\",\n",
    "    ID=\"6dbbbdf6-4589-11e9-95a2-b469212bff5b\",\n",
    "    geometry=location_from_site,\n",
    "    loading_rate=1,\n",
    "    unloading_rate=1,\n",
    "    store_capacity=4,\n",
    "    compute_v=lambda x: 10,\n",
    "    initials=[\n",
    "        {\"id\": \"MP\", \"level\": 0, \"capacity\": 2},\n",
    "        {\"id\": \"TP\", \"level\": 0, \"capacity\": 2},\n",
    "    ],\n",
    ")"
   ]
  },
  {
   "cell_type": "markdown",
   "metadata": {},
   "source": [
    "## ShiftAmount Activity for MultiContainer\n",
    "The **amount** specifies the objects to be transfered and the **id_** parameter specifies to which container this activity relates."
   ]
  },
  {
   "cell_type": "code",
   "execution_count": 5,
   "metadata": {},
   "outputs": [],
   "source": [
    "activity = model.ShiftAmountActivity(\n",
    "    env=my_env,\n",
    "    name=\"Transfer MP\",\n",
    "    ID=\"6dbbbdf7-4589-11e9-bf3b-b469212bff52\",\n",
    "    registry=registry,\n",
    "    processor=hopper,\n",
    "    origin=from_site,\n",
    "    destination=hopper,\n",
    "    amount=1,\n",
    "    id_=\"MP\",\n",
    "    duration=20,\n",
    ")"
   ]
  },
  {
   "cell_type": "markdown",
   "metadata": {},
   "source": [
    "## Run simulation"
   ]
  },
  {
   "cell_type": "code",
   "execution_count": 6,
   "metadata": {},
   "outputs": [],
   "source": [
    "model.register_processes([activity])\n",
    "my_env.run()"
   ]
  },
  {
   "cell_type": "code",
   "execution_count": 7,
   "metadata": {},
   "outputs": [
    {
     "data": {
      "text/html": [
       "<div>\n",
       "<style scoped>\n",
       "    .dataframe tbody tr th:only-of-type {\n",
       "        vertical-align: middle;\n",
       "    }\n",
       "\n",
       "    .dataframe tbody tr th {\n",
       "        vertical-align: top;\n",
       "    }\n",
       "\n",
       "    .dataframe thead th {\n",
       "        text-align: right;\n",
       "    }\n",
       "</style>\n",
       "<table border=\"1\" class=\"dataframe\">\n",
       "  <thead>\n",
       "    <tr style=\"text-align: right;\">\n",
       "      <th></th>\n",
       "      <th>Activity</th>\n",
       "      <th>Timestamp</th>\n",
       "      <th>ActivityState</th>\n",
       "      <th>geometry</th>\n",
       "      <th>container level</th>\n",
       "    </tr>\n",
       "  </thead>\n",
       "  <tbody>\n",
       "    <tr>\n",
       "      <th>0</th>\n",
       "      <td>Transfer MP</td>\n",
       "      <td>1970-01-01 00:00:00</td>\n",
       "      <td>START</td>\n",
       "      <td>POINT (4.18055556 52.18664444)</td>\n",
       "      <td>{'MP': 0, 'TP': 0}</td>\n",
       "    </tr>\n",
       "    <tr>\n",
       "      <th>1</th>\n",
       "      <td>Transfer MP</td>\n",
       "      <td>1970-01-01 00:00:00</td>\n",
       "      <td>START</td>\n",
       "      <td>POINT (4.18055556 52.18664444)</td>\n",
       "      <td>{'MP': 0, 'TP': 0}</td>\n",
       "    </tr>\n",
       "    <tr>\n",
       "      <th>2</th>\n",
       "      <td>Transfer MP</td>\n",
       "      <td>1970-01-01 00:00:20</td>\n",
       "      <td>STOP</td>\n",
       "      <td>POINT (4.18055556 52.18664444)</td>\n",
       "      <td>{'TP': 0, 'MP': 1}</td>\n",
       "    </tr>\n",
       "    <tr>\n",
       "      <th>3</th>\n",
       "      <td>Transfer MP</td>\n",
       "      <td>1970-01-01 00:00:20</td>\n",
       "      <td>STOP</td>\n",
       "      <td>POINT (4.18055556 52.18664444)</td>\n",
       "      <td>{'TP': 0, 'MP': 1}</td>\n",
       "    </tr>\n",
       "  </tbody>\n",
       "</table>\n",
       "</div>"
      ],
      "text/plain": [
       "      Activity           Timestamp ActivityState  \\\n",
       "0  Transfer MP 1970-01-01 00:00:00         START   \n",
       "1  Transfer MP 1970-01-01 00:00:00         START   \n",
       "2  Transfer MP 1970-01-01 00:00:20          STOP   \n",
       "3  Transfer MP 1970-01-01 00:00:20          STOP   \n",
       "\n",
       "                         geometry     container level  \n",
       "0  POINT (4.18055556 52.18664444)  {'MP': 0, 'TP': 0}  \n",
       "1  POINT (4.18055556 52.18664444)  {'MP': 0, 'TP': 0}  \n",
       "2  POINT (4.18055556 52.18664444)  {'TP': 0, 'MP': 1}  \n",
       "3  POINT (4.18055556 52.18664444)  {'TP': 0, 'MP': 1}  "
      ]
     },
     "metadata": {},
     "output_type": "display_data"
    },
    {
     "data": {
      "text/html": [
       "<div>\n",
       "<style scoped>\n",
       "    .dataframe tbody tr th:only-of-type {\n",
       "        vertical-align: middle;\n",
       "    }\n",
       "\n",
       "    .dataframe tbody tr th {\n",
       "        vertical-align: top;\n",
       "    }\n",
       "\n",
       "    .dataframe thead th {\n",
       "        text-align: right;\n",
       "    }\n",
       "</style>\n",
       "<table border=\"1\" class=\"dataframe\">\n",
       "  <thead>\n",
       "    <tr style=\"text-align: right;\">\n",
       "      <th></th>\n",
       "      <th>Activity</th>\n",
       "      <th>Timestamp</th>\n",
       "      <th>ActivityState</th>\n",
       "    </tr>\n",
       "  </thead>\n",
       "  <tbody>\n",
       "    <tr>\n",
       "      <th>0</th>\n",
       "      <td>Transfer MP</td>\n",
       "      <td>1970-01-01 00:00:00</td>\n",
       "      <td>START</td>\n",
       "    </tr>\n",
       "    <tr>\n",
       "      <th>1</th>\n",
       "      <td>Transfer MP</td>\n",
       "      <td>1970-01-01 00:00:20</td>\n",
       "      <td>STOP</td>\n",
       "    </tr>\n",
       "  </tbody>\n",
       "</table>\n",
       "</div>"
      ],
      "text/plain": [
       "      Activity           Timestamp ActivityState\n",
       "0  Transfer MP 1970-01-01 00:00:00         START\n",
       "1  Transfer MP 1970-01-01 00:00:20          STOP"
      ]
     },
     "metadata": {},
     "output_type": "display_data"
    }
   ],
   "source": [
    "display(plot.get_log_dataframe(hopper, [activity]))\n",
    "display(plot.get_log_dataframe(activity, [activity]))"
   ]
  }
 ],
 "metadata": {
  "kernelspec": {
   "display_name": "Python 3",
   "language": "python",
   "name": "python3"
  },
  "language_info": {
   "codemirror_mode": {
    "name": "ipython",
    "version": 3
   },
   "file_extension": ".py",
   "mimetype": "text/x-python",
   "name": "python",
   "nbconvert_exporter": "python",
   "pygments_lexer": "ipython3",
   "version": "3.7.3"
  }
 },
 "nbformat": 4,
 "nbformat_minor": 2
}

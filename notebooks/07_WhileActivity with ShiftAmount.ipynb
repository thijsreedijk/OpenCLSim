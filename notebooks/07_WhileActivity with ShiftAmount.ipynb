{
 "cells": [
  {
   "cell_type": "markdown",
   "metadata": {},
   "source": [
    "# Demo While Activity with ShiftAmount Activity\n",
    "The combination of a while activity with a shift amount activity can be used to represent the loading or unloading of a vessel, where coordination of the process is represented on the granularity of the amount shifted in one iteration."
   ]
  },
  {
   "cell_type": "code",
   "execution_count": 1,
   "metadata": {},
   "outputs": [],
   "source": [
    "import datetime, time\n",
    "import simpy\n",
    "\n",
    "import shapely.geometry\n",
    "\n",
    "import pandas as pd\n",
    "import openclsim.core as core\n",
    "import openclsim.model as model\n",
    "import openclsim.plot as plot\n",
    "\n",
    "# setup environment\n",
    "simulation_start = 0\n",
    "my_env = simpy.Environment(initial_time=simulation_start)\n",
    "registry = {}"
   ]
  },
  {
   "cell_type": "markdown",
   "metadata": {},
   "source": [
    "## Definition of Sites"
   ]
  },
  {
   "cell_type": "code",
   "execution_count": 2,
   "metadata": {},
   "outputs": [],
   "source": [
    "# The generic site class\n",
    "Site = type(\n",
    "    \"Site\",\n",
    "    (\n",
    "        core.Identifiable,\n",
    "        core.Log,\n",
    "        core.Locatable,\n",
    "        core.HasContainer,\n",
    "        core.HasResource,\n",
    "    ),\n",
    "    {},\n",
    ")\n",
    "\n",
    "location_from_site = shapely.geometry.Point(4.18055556, 52.18664444)\n",
    "\n",
    "data_from_site = {\n",
    "    \"env\": my_env,\n",
    "    \"name\": \"Winlocatie\",\n",
    "    \"ID\": \"6dbbbdf4-4589-11e9-a501-b469212bff5b\",\n",
    "    \"geometry\": location_from_site,\n",
    "    \"capacity\": 10,\n",
    "    \"level\": 10,\n",
    "}\n",
    "\n",
    "location_to_site = shapely.geometry.Point(4.25222222, 52.11428333)\n",
    "\n",
    "data_to_site = {\n",
    "    \"env\": my_env,\n",
    "    \"name\": \"Dumplocatie\",\n",
    "    \"ID\": \"6dbbbdf5-4589-11e9-82b2-b469212bff5b\",\n",
    "    \"geometry\": location_to_site,\n",
    "    \"capacity\": 10,\n",
    "    \"level\": 0,\n",
    "}\n",
    "\n",
    "from_site = Site(**data_from_site)\n",
    "to_site = Site(**data_to_site)"
   ]
  },
  {
   "cell_type": "markdown",
   "metadata": {},
   "source": [
    "## Creation of Vessel"
   ]
  },
  {
   "cell_type": "code",
   "execution_count": 3,
   "metadata": {},
   "outputs": [],
   "source": [
    "TransportProcessingResource = type(\n",
    "    \"TransportProcessingResource\",\n",
    "    (\n",
    "        core.Identifiable,\n",
    "        core.Log,\n",
    "        core.ContainerDependentMovable,\n",
    "        core.Processor,\n",
    "        core.HasResource,\n",
    "        core.LoadingFunction,\n",
    "        core.UnloadingFunction,\n",
    "    ),\n",
    "    {},\n",
    ")\n",
    "\n",
    "def compute_v_provider(v_empty, v_full):\n",
    "    return lambda x: 10\n",
    "\n",
    "# TSHD variables\n",
    "data_hopper = {\n",
    "    \"env\": my_env,\n",
    "    \"name\": \"Hopper 01\",\n",
    "    \"ID\": \"6dbbbdf6-4589-11e9-95a2-b469212bff5b\",\n",
    "    \"geometry\": location_from_site,\n",
    "    \"loading_rate\": 1,\n",
    "    \"unloading_rate\": 1,\n",
    "    \"capacity\": 5,\n",
    "    \"compute_v\": compute_v_provider(5, 4.5),\n",
    "}\n",
    "\n",
    "hopper = TransportProcessingResource(**data_hopper)"
   ]
  },
  {
   "cell_type": "markdown",
   "metadata": {},
   "source": [
    "## Definition of Shift Amount activity"
   ]
  },
  {
   "cell_type": "code",
   "execution_count": 4,
   "metadata": {},
   "outputs": [],
   "source": [
    "shift_amount_activity_loading_data = {\n",
    "    \"env\": my_env,\n",
    "    \"name\": \"Transfer MP\",\n",
    "    \"ID\": \"6dbbbdf7-4589-11e9-bf3b-b469212bff52\",\n",
    "    \"registry\": registry,\n",
    "    \"processor\": hopper,\n",
    "    \"origin\": from_site,\n",
    "    \"destination\": hopper,\n",
    "    \"amount\": 1,\n",
    "    \"duration\": 20,\n",
    "    \"postpone_start\": True,\n",
    "}\n",
    "activity = model.ShiftAmountActivity(**shift_amount_activity_loading_data)\n",
    "\n",
    "while_data = {\n",
    "    \"env\": my_env,\n",
    "    \"name\": \"while\",\n",
    "    \"registry\": registry,\n",
    "    \"sub_processes\": [activity],\n",
    "    \"condition_event\": [{\"type\":\"container\", \"concept\": hopper, \"state\":\"full\"}],\n",
    "    \"postpone_start\": False,\n",
    "}\n",
    "while_activity = model.WhileActivity(**while_data)\n"
   ]
  },
  {
   "cell_type": "markdown",
   "metadata": {},
   "source": [
    "## Run simulation"
   ]
  },
  {
   "cell_type": "code",
   "execution_count": 5,
   "metadata": {},
   "outputs": [],
   "source": [
    "my_env.run()"
   ]
  },
  {
   "cell_type": "code",
   "execution_count": 6,
   "metadata": {},
   "outputs": [
    {
     "data": {
      "text/html": [
       "<div>\n",
       "<style scoped>\n",
       "    .dataframe tbody tr th:only-of-type {\n",
       "        vertical-align: middle;\n",
       "    }\n",
       "\n",
       "    .dataframe tbody tr th {\n",
       "        vertical-align: top;\n",
       "    }\n",
       "\n",
       "    .dataframe thead th {\n",
       "        text-align: right;\n",
       "    }\n",
       "</style>\n",
       "<table border=\"1\" class=\"dataframe\">\n",
       "  <thead>\n",
       "    <tr style=\"text-align: right;\">\n",
       "      <th></th>\n",
       "      <th>Activity</th>\n",
       "      <th>Timestamp</th>\n",
       "      <th>ActivityState</th>\n",
       "      <th>type</th>\n",
       "      <th>ref</th>\n",
       "    </tr>\n",
       "  </thead>\n",
       "  <tbody>\n",
       "    <tr>\n",
       "      <th>0</th>\n",
       "      <td>while</td>\n",
       "      <td>1970-01-01 00:00:00</td>\n",
       "      <td>START</td>\n",
       "      <td>NaN</td>\n",
       "      <td>NaN</td>\n",
       "    </tr>\n",
       "    <tr>\n",
       "      <th>1</th>\n",
       "      <td>while</td>\n",
       "      <td>1970-01-01 00:00:00</td>\n",
       "      <td>START</td>\n",
       "      <td>subprocess</td>\n",
       "      <td>5e5ddf8e-d6f0-4a8d-9ed9-ea2c61e1beda</td>\n",
       "    </tr>\n",
       "    <tr>\n",
       "      <th>2</th>\n",
       "      <td>while</td>\n",
       "      <td>1970-01-01 00:00:20</td>\n",
       "      <td>STOP</td>\n",
       "      <td>subprocess</td>\n",
       "      <td>5e5ddf8e-d6f0-4a8d-9ed9-ea2c61e1beda</td>\n",
       "    </tr>\n",
       "    <tr>\n",
       "      <th>3</th>\n",
       "      <td>while</td>\n",
       "      <td>1970-01-01 00:00:20</td>\n",
       "      <td>START</td>\n",
       "      <td>subprocess</td>\n",
       "      <td>5e5ddf8e-d6f0-4a8d-9ed9-ea2c61e1beda</td>\n",
       "    </tr>\n",
       "    <tr>\n",
       "      <th>4</th>\n",
       "      <td>while</td>\n",
       "      <td>1970-01-01 00:00:40</td>\n",
       "      <td>STOP</td>\n",
       "      <td>subprocess</td>\n",
       "      <td>5e5ddf8e-d6f0-4a8d-9ed9-ea2c61e1beda</td>\n",
       "    </tr>\n",
       "    <tr>\n",
       "      <th>5</th>\n",
       "      <td>while</td>\n",
       "      <td>1970-01-01 00:00:40</td>\n",
       "      <td>START</td>\n",
       "      <td>subprocess</td>\n",
       "      <td>5e5ddf8e-d6f0-4a8d-9ed9-ea2c61e1beda</td>\n",
       "    </tr>\n",
       "    <tr>\n",
       "      <th>6</th>\n",
       "      <td>while</td>\n",
       "      <td>1970-01-01 00:01:00</td>\n",
       "      <td>STOP</td>\n",
       "      <td>subprocess</td>\n",
       "      <td>5e5ddf8e-d6f0-4a8d-9ed9-ea2c61e1beda</td>\n",
       "    </tr>\n",
       "    <tr>\n",
       "      <th>7</th>\n",
       "      <td>while</td>\n",
       "      <td>1970-01-01 00:01:00</td>\n",
       "      <td>START</td>\n",
       "      <td>subprocess</td>\n",
       "      <td>5e5ddf8e-d6f0-4a8d-9ed9-ea2c61e1beda</td>\n",
       "    </tr>\n",
       "    <tr>\n",
       "      <th>8</th>\n",
       "      <td>while</td>\n",
       "      <td>1970-01-01 00:01:20</td>\n",
       "      <td>STOP</td>\n",
       "      <td>subprocess</td>\n",
       "      <td>5e5ddf8e-d6f0-4a8d-9ed9-ea2c61e1beda</td>\n",
       "    </tr>\n",
       "    <tr>\n",
       "      <th>9</th>\n",
       "      <td>while</td>\n",
       "      <td>1970-01-01 00:01:20</td>\n",
       "      <td>START</td>\n",
       "      <td>subprocess</td>\n",
       "      <td>5e5ddf8e-d6f0-4a8d-9ed9-ea2c61e1beda</td>\n",
       "    </tr>\n",
       "    <tr>\n",
       "      <th>10</th>\n",
       "      <td>while</td>\n",
       "      <td>1970-01-01 00:01:40</td>\n",
       "      <td>STOP</td>\n",
       "      <td>subprocess</td>\n",
       "      <td>5e5ddf8e-d6f0-4a8d-9ed9-ea2c61e1beda</td>\n",
       "    </tr>\n",
       "    <tr>\n",
       "      <th>11</th>\n",
       "      <td>while</td>\n",
       "      <td>1970-01-01 00:01:40</td>\n",
       "      <td>STOP</td>\n",
       "      <td>NaN</td>\n",
       "      <td>NaN</td>\n",
       "    </tr>\n",
       "  </tbody>\n",
       "</table>\n",
       "</div>"
      ],
      "text/plain": [
       "   Activity           Timestamp ActivityState        type  \\\n",
       "0     while 1970-01-01 00:00:00         START         NaN   \n",
       "1     while 1970-01-01 00:00:00         START  subprocess   \n",
       "2     while 1970-01-01 00:00:20          STOP  subprocess   \n",
       "3     while 1970-01-01 00:00:20         START  subprocess   \n",
       "4     while 1970-01-01 00:00:40          STOP  subprocess   \n",
       "5     while 1970-01-01 00:00:40         START  subprocess   \n",
       "6     while 1970-01-01 00:01:00          STOP  subprocess   \n",
       "7     while 1970-01-01 00:01:00         START  subprocess   \n",
       "8     while 1970-01-01 00:01:20          STOP  subprocess   \n",
       "9     while 1970-01-01 00:01:20         START  subprocess   \n",
       "10    while 1970-01-01 00:01:40          STOP  subprocess   \n",
       "11    while 1970-01-01 00:01:40          STOP         NaN   \n",
       "\n",
       "                                     ref  \n",
       "0                                    NaN  \n",
       "1   5e5ddf8e-d6f0-4a8d-9ed9-ea2c61e1beda  \n",
       "2   5e5ddf8e-d6f0-4a8d-9ed9-ea2c61e1beda  \n",
       "3   5e5ddf8e-d6f0-4a8d-9ed9-ea2c61e1beda  \n",
       "4   5e5ddf8e-d6f0-4a8d-9ed9-ea2c61e1beda  \n",
       "5   5e5ddf8e-d6f0-4a8d-9ed9-ea2c61e1beda  \n",
       "6   5e5ddf8e-d6f0-4a8d-9ed9-ea2c61e1beda  \n",
       "7   5e5ddf8e-d6f0-4a8d-9ed9-ea2c61e1beda  \n",
       "8   5e5ddf8e-d6f0-4a8d-9ed9-ea2c61e1beda  \n",
       "9   5e5ddf8e-d6f0-4a8d-9ed9-ea2c61e1beda  \n",
       "10  5e5ddf8e-d6f0-4a8d-9ed9-ea2c61e1beda  \n",
       "11                                   NaN  "
      ]
     },
     "metadata": {},
     "output_type": "display_data"
    }
   ],
   "source": [
    "display(plot.get_log_dataframe(while_activity, [activity, while_activity]))"
   ]
  },
  {
   "cell_type": "markdown",
   "metadata": {},
   "source": [
    "The resulting levels of objects in the hopper and the from_site are requested below. "
   ]
  },
  {
   "cell_type": "code",
   "execution_count": 7,
   "metadata": {},
   "outputs": [
    {
     "data": {
      "text/plain": [
       "5.0"
      ]
     },
     "execution_count": 7,
     "metadata": {},
     "output_type": "execute_result"
    }
   ],
   "source": [
    "hopper.container.get_level()"
   ]
  },
  {
   "cell_type": "code",
   "execution_count": 8,
   "metadata": {},
   "outputs": [
    {
     "data": {
      "text/plain": [
       "5.0"
      ]
     },
     "execution_count": 8,
     "metadata": {},
     "output_type": "execute_result"
    }
   ],
   "source": [
    "from_site.container.get_level()"
   ]
  },
  {
   "cell_type": "code",
   "execution_count": null,
   "metadata": {},
   "outputs": [],
   "source": []
  },
  {
   "cell_type": "code",
   "execution_count": null,
   "metadata": {},
   "outputs": [],
   "source": []
  },
  {
   "cell_type": "code",
   "execution_count": null,
   "metadata": {},
   "outputs": [],
   "source": []
  }
 ],
 "metadata": {
  "kernelspec": {
   "display_name": "Python 3",
   "language": "python",
   "name": "python3"
  },
  "language_info": {
   "codemirror_mode": {
    "name": "ipython",
    "version": 3
   },
   "file_extension": ".py",
   "mimetype": "text/x-python",
   "name": "python",
   "nbconvert_exporter": "python",
   "pygments_lexer": "ipython3",
   "version": "3.7.3"
  }
 },
 "nbformat": 4,
 "nbformat_minor": 2
}
